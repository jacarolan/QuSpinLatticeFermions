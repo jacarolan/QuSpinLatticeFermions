{
 "cells": [
  {
   "cell_type": "markdown",
   "metadata": {},
   "source": [
    "## Import Libraries"
   ]
  },
  {
   "cell_type": "code",
   "execution_count": 1,
   "metadata": {},
   "outputs": [],
   "source": [
    "from quspin.operators import hamiltonian\n",
    "from quspin.basis import spinless_fermion_basis_1d\n",
    "import numpy as np\n",
    "import matplotlib.pyplot as plt\n",
    "import itertools\n",
    "from quspin.tools.evolution import expm_multiply_parallel\n",
    "from quspin.operators import quantum_LinearOperator\n",
    "from quspin.operators import quantum_operator\n",
    "plt.rcParams['figure.figsize'] = [10, 8]"
   ]
  },
  {
   "cell_type": "markdown",
   "metadata": {},
   "source": [
    "## Define Constants/Helpers"
   ]
  },
  {
   "cell_type": "code",
   "execution_count": 2,
   "metadata": {},
   "outputs": [],
   "source": [
    "N_group = 1000\n",
    "N = 8\n",
    "N_filled = N // 2\n",
    "P_neg1 = 1\n",
    "t = -0.5\n",
    "g = 0#1e-3\n",
    "g_corrected = g / (4 * np.pi ** 2) * N_group ** 2\n",
    "m = 1\n",
    "PBC = True"
   ]
  },
  {
   "cell_type": "code",
   "execution_count": 3,
   "metadata": {},
   "outputs": [],
   "source": [
    "def stringbox(lst, caption):\n",
    "    return caption + \"-\" * (100 - len(caption))+\"\\n\" + str(lst) + \"\\n\" + \"-\" * 100"
   ]
  },
  {
   "cell_type": "markdown",
   "metadata": {},
   "source": [
    "## Fermion Basis"
   ]
  },
  {
   "cell_type": "code",
   "execution_count": 4,
   "metadata": {},
   "outputs": [
    {
     "name": "stdout",
     "output_type": "stream",
     "text": [
      "Static couplings:-----------------------------------------------------------------------------------\n",
      "[['+-', [[0.5, 0, 1], [0.5, 1, 2], [0.5, 2, 3], [0.5, 3, 4], [0.5, 4, 5], [0.5, 5, 6], [0.5, 6, 7], [0.5, 7, 0]]], ['+-', [[0.5, 1, 0], [0.5, 2, 1], [0.5, 3, 2], [0.5, 4, 3], [0.5, 5, 4], [0.5, 6, 5], [0.5, 7, 6], [0.5, 0, 7]]], ['+-', [[1, 0, 0], [-1, 1, 1], [1, 2, 2], [-1, 3, 3], [1, 4, 4], [-1, 5, 5], [1, 6, 6], [-1, 7, 7]]], ['z', [[0, 0]]], ['zz', [[0, 0, 1]]], ['zzz', [[0, 0, 1, 2]]], ['zzzz', [[0, 0, 1, 2, 3]]], ['zzzzz', [[0, 0, 1, 2, 3, 4]]], ['zzzzzz', [[0, 0, 1, 2, 3, 4, 5]]], ['zzzzzzz', [[0, 0, 1, 2, 3, 4, 5, 6]]], ['zzzzzzzz', [[0, 0, 1, 2, 3, 4, 5, 6, 7]]]]\n",
      "----------------------------------------------------------------------------------------------------\n",
      "Hermiticity check passed!\n",
      "Symmetry checks passed!\n",
      "Particle conservation check passed!\n"
     ]
    },
    {
     "data": {
      "image/png": "[encoded data removed]",
      "text/plain": [
       "<Figure size 720x576 with 1 Axes>"
      ]
     },
     "metadata": {
      "needs_background": "light"
     },
     "output_type": "display_data"
    },
    {
     "name": "stdout",
     "output_type": "stream",
     "text": [
      "Hermiticity check passed!\n",
      "Symmetry checks passed!\n",
      "Particle conservation check passed!\n"
     ]
    }
   ],
   "source": [
    "fermion_basis = spinless_fermion_basis_1d(L=N, Nf=N_filled)\n",
    "fermion_basis_m1 = spinless_fermion_basis_1d(L=N, Nf=N_filled-1)\n",
    "basis_full = spinless_fermion_basis_1d(L=N)\n",
    "static_terms = []\n",
    "dynamic_terms = []\n",
    "\n",
    "### Hopping term\n",
    "L = (N if PBC else N-1)\n",
    "hop_coupling = [[-t, i, (i+1) % N] for i in range(L)]\n",
    "hop_coupling_dag = [[-t, (i+1) % N, i] for i in range(L)]\n",
    "static_terms += [[\"+-\", hop_coupling]]\n",
    "static_terms += [[\"+-\", hop_coupling_dag]]\n",
    "\n",
    "### Mass term\n",
    "mass_coupling = [[m * (-1) ** i, i, i] for i in range(N)]\n",
    "static_terms += [[\"+-\", mass_coupling]]\n",
    "\n",
    "### E-field term\n",
    "E_link_parity = lambda x : -1 if (x % 4) < 2 else 1\n",
    "for i in range(N):\n",
    "    E_coupling = [P_neg1 * g * E_link_parity(i) * 2 ** (i+1)] + list(range(i+1))\n",
    "    static_terms += [[\"z\" * (i+1), [E_coupling]]]\n",
    "\n",
    "print(stringbox(static_terms, \"Static couplings:\"))\n",
    "### Plotting spectrum\n",
    "H = hamiltonian(static_terms, dynamic_terms, basis=fermion_basis, dtype=np.float64)\n",
    "fermion_eigvals = H.eigvalsh()\n",
    "plt.plot(fermion_eigvals, \".\")\n",
    "plt.show()\n",
    "\n",
    "### Save a hamiltonian for RTD\n",
    "H_init = hamiltonian(static_terms, dynamic_terms, basis=fermion_basis, dtype=np.float64)"
   ]
  },
  {
   "cell_type": "markdown",
   "metadata": {},
   "source": [
    "## Real-time Dynamics"
   ]
  },
  {
   "cell_type": "code",
   "execution_count": 5,
   "metadata": {},
   "outputs": [
    {
     "name": "stdout",
     "output_type": "stream",
     "text": [
      "Hermiticity check passed!\n",
      "Symmetry checks passed!\n",
      "Particle conservation check passed!\n"
     ]
    }
   ],
   "source": [
    "### Defining time-evolution hamiltonian\n",
    "dtype_real = np.float64\n",
    "dtype_cmplx = np.result_type(dtype_real,np.complex64)\n",
    "static_terms = []\n",
    "dynamic_terms = []\n",
    "\n",
    "### Hopping term\n",
    "L = (N if PBC else N-1)\n",
    "hop_coupling = [[-t, i, (i+1) % N] for i in range(L)]\n",
    "hop_coupling_dag = [[-t, (i+1) % N, i] for i in range(L)]\n",
    "if PBC and N_filled % 2 == 0:\n",
    "    hop_coupling[-1][0] = -hop_coupling[-1][0]\n",
    "    hop_coupling_dag[-1][0] = -hop_coupling_dag[-1][0]\n",
    "static_terms += [[\"+-\", hop_coupling]]\n",
    "static_terms += [[\"+-\", hop_coupling_dag]]\n",
    "\n",
    "### Mass term\n",
    "mass_coupling = [[-m * (-1) ** i, i, i] for i in range(N)]\n",
    "static_terms += [[\"+-\", mass_coupling]]\n",
    "\n",
    "### E-field term\n",
    "E_link_parity = lambda x : -1 if (x % 4) < 2 else 1\n",
    "for i in range(N):\n",
    "    E_coupling = [P_neg1 * g * E_link_parity(i) * 2 ** (i+1)] + list(range(i+1))\n",
    "    static_terms += [[\"z\" * (i+1), [E_coupling]]]\n",
    "\n",
    "H = hamiltonian(static_terms, dynamic_terms, basis=fermion_basis, dtype=np.complex64)"
   ]
  },
  {
   "cell_type": "code",
   "execution_count": 6,
   "metadata": {},
   "outputs": [],
   "source": [
    "E_init,V_init=H_init.eigsh(k=1,which='SA',maxiter=1e8)\n",
    "psi_i=V_init[:,0]\n",
    "psi_i = psi_i.reshape((-1,))\n",
    "del H_init"
   ]
  },
  {
   "cell_type": "code",
   "execution_count": 7,
   "metadata": {},
   "outputs": [
    {
     "name": "stdout",
     "output_type": "stream",
     "text": [
      "# T =  0.0\n",
      "0.0\t 8.326672684688677e-17\n",
      "0.1\t 0.00267784001837681\n",
      "0.2\t 0.01077577254157275\n",
      "# T =  0.30000000000000004\n",
      "0.30000000000000004\t 0.024494936474845706\n",
      "0.4\t 0.04419898804358686\n",
      "0.5\t 0.07046498952987797\n",
      "# T =  0.6000000000000001\n",
      "0.6000000000000001\t 0.104175261128261\n",
      "0.7000000000000001\t 0.14668379578590507\n",
      "0.8\t 0.2001337606969799\n",
      "# T =  0.9\n",
      "0.9\t 0.268137278220474\n",
      "1.0\t 0.35764229892471927\n",
      "1.1\t 0.4836645559571571\n",
      "# T =  1.2000000000000002\n",
      "1.2000000000000002\t 0.5090661493542981\n",
      "1.3\t 0.3991794217101152\n",
      "1.4000000000000001\t 0.3178942235546811\n",
      "# T =  1.5\n",
      "1.5\t 0.25383606827443794\n",
      "1.6\t 0.2015852971657898\n",
      "1.7000000000000002\t 0.15807615981942516\n",
      "# T =  1.8\n",
      "1.8\t 0.12152970987860771\n",
      "1.9000000000000001\t 0.0909740604477453\n",
      "2.0\t 0.06589622382549326\n",
      "# T =  2.1\n",
      "2.1\t 0.04602939177781505\n",
      "2.2\t 0.03124461450559591\n",
      "2.3000000000000003\t 0.021505477862754308\n",
      "# T =  2.4000000000000004\n",
      "2.4000000000000004\t 0.016856158604871333\n",
      "2.5\t 0.017427336915573487\n",
      "2.6\t 0.02345448871339183\n",
      "# T =  2.7\n",
      "2.7\t 0.03530967900307949\n",
      "2.8000000000000003\t 0.053553719690103405\n",
      "2.9000000000000004\t 0.0790239552547269\n"
     ]
    }
   ],
   "source": [
    "T = 3\n",
    "dt = T / 30\n",
    "\n",
    "##### define data type for the simulation\n",
    "dtype_real = np.float64\n",
    "dtype_cmplx = np.result_type(dtype_real,np.complex64)\n",
    "# pre assign arrays\n",
    "times = np.arange(0,T,dt)                               # times\n",
    "Lt = np.zeros(len(times),dtype=dtype_real)              # Lohschmidt echo\n",
    "# construct piece-wise constant unitaries\n",
    "expH = expm_multiply_parallel(H.tocsr(),a=-1j*dt,dtype=dtype_cmplx)\n",
    "# auxiliary array for memory efficiency\n",
    "psi=psi_i.copy().astype(np.complex128)\n",
    "work_array=np.zeros((2*len(psi),), dtype=psi.dtype) # twice as long because complex_valued\n",
    "# prepare output\n",
    "# file_Loschmidt = open(folder_save+'/Loschmidt_rate',\"w\")\n",
    "# file_Loschmidt.close\n",
    "loschmidt = []\n",
    "for i in range(len(times)):\n",
    "    if i % (len(times)//10) == 0:\n",
    "        print(\"# T = \",times[i])\n",
    "    Lt[i]=-np.log(np.abs(np.vdot(psi_i,psi)))/N\n",
    "#     file_Loschmidtfile = open(folder_save+'/Loschmidt_rate',\"a\")\n",
    "    print(f\"{times[i]}\\t {Lt[i]}\")#file_Loschmidtfile.write(f\"{times[i]}\\t {Lt[i]} \\n\")\n",
    "    loschmidt += [Lt[i]]\n",
    "#     file_Loschmidtfile.close()\n",
    "    expH.dot(psi,work_array=work_array,overwrite_v=True)\n",
    "# END of time evolution"
   ]
  },
  {
   "cell_type": "code",
   "execution_count": 8,
   "metadata": {},
   "outputs": [
    {
     "data": {
      "text/plain": [
       "Text(0.5, 1.0, 'Non-analycities in Lohscmidt Echo Rate')"
      ]
     },
     "execution_count": 8,
     "metadata": {},
     "output_type": "execute_result"
    },
    {
     "data": {
      "image/png": "[encoded data removed]",
      "text/plain": [
       "<Figure size 720x576 with 1 Axes>"
      ]
     },
     "metadata": {
      "needs_background": "light"
     },
     "output_type": "display_data"
    }
   ],
   "source": [
    "plt.plot(times, loschmidt)\n",
    "plt.xlabel(\"Normalized Time\")\n",
    "plt.ylabel(\"Lohschmidt Rate\")\n",
    "plt.title(\"Non-analycities in Lohscmidt Echo Rate\")"
   ]
  },
  {
   "cell_type": "markdown",
   "metadata": {},
   "source": [
    "## OTOC Calculations"
   ]
  },
  {
   "cell_type": "code",
   "execution_count": 9,
   "metadata": {},
   "outputs": [],
   "source": [
    "def c_operator(n):\n",
    "    cdag_static = [[\"-\",[[1.0,n]]]]\n",
    "    cdagn = quantum_LinearOperator(cdag_static,basis=basis_full,dtype=np.complex128,check_herm=False,check_pcon=False,check_symm=False)\n",
    "    return(cdagn)\n",
    "annihilators = [c_operator(n) for n in range(N)]"
   ]
  },
  {
   "cell_type": "code",
   "execution_count": 10,
   "metadata": {},
   "outputs": [
    {
     "name": "stdout",
     "output_type": "stream",
     "text": [
      "Hermiticity check passed!\n",
      "Symmetry checks passed!\n",
      "Particle conservation check passed!\n",
      "Hermiticity check passed!\n",
      "Symmetry checks passed!\n",
      "Particle conservation check passed!\n"
     ]
    }
   ],
   "source": [
    "##### define data type for the simulation\n",
    "dtype_real = np.float64\n",
    "dtype_cmplx = np.result_type(dtype_real,np.complex64)\n",
    "# pre assign arrays\n",
    "times = np.arange(0,T,dt)                               # times\n",
    "\n",
    "# array to store correlators expectations from psi(t,n) to psi(0,0)\n",
    "correlators = np.zeros((N,len(times)),dtype=np.complex128)\n",
    "\n",
    "P_Nhalf = fermion_basis.get_proj(dtype=np.float64)\n",
    "P_Nhalfminus1 = fermion_basis_m1.get_proj(dtype=np.float64)\n",
    "\n",
    "H_NHalf_m1 = hamiltonian(static_terms, dynamic_terms, basis=fermion_basis_m1, dtype=np.float64).tocsr()\n",
    "H_NHalf = hamiltonian(static_terms, dynamic_terms, basis=fermion_basis, dtype=np.float64).tocsr()\n",
    "\n",
    "for n in range(0, N, 2): #loop over all site pairings\n",
    "    for i in range(len(times)): #loop over times (for annhilator location)\n",
    "        # Even Correlators\n",
    "        leftPsi=psi_i.copy().astype(np.complex128) #state for left-half of inner product\n",
    "        rightPsi=psi_i.copy().astype(np.complex128) #state for right-half\n",
    "\n",
    "        expmiH = expm_multiply_parallel(H_NHalf_m1,a=1j*dt*i,dtype=dtype_cmplx)\n",
    "        expiH = expm_multiply_parallel(H_NHalf,a=-1j*dt*i,dtype=dtype_cmplx)\n",
    "\n",
    "        expiH.dot(leftPsi,overwrite_v=True)\n",
    "        tempLpsi = np.transpose(P_Nhalfminus1).dot(annihilators[n].dot(P_Nhalf.dot(leftPsi)))\n",
    "        expmiH.dot(tempLpsi,overwrite_v=True)\n",
    "\n",
    "        tempRpsi = np.transpose(P_Nhalfminus1).dot(annihilators[0].dot(P_Nhalf.dot(rightPsi)))\n",
    "\n",
    "        correlators[n,i] = np.vdot(tempLpsi, tempRpsi) # (<a|b>) <0| . e^(-iHt) . psi\\dagger_n . e^(iHt) . psi(0,0) . |0>\n",
    "        \n",
    "        # Odd Correlators\n",
    "        leftPsi=psi_i.copy().astype(np.complex128) #state for left-half of inner product\n",
    "        rightPsi=psi_i.copy().astype(np.complex128) #state for right-half\n",
    "\n",
    "        expiH.dot(leftPsi,overwrite_v=True) \n",
    "        tempLpsi = np.transpose(P_Nhalfminus1).dot(annihilators[n+1].dot(P_Nhalf.dot(leftPsi)))\n",
    "        expmiH.dot(tempLpsi,overwrite_v=True)\n",
    "\n",
    "        tempRpsi = np.transpose(P_Nhalfminus1).dot(annihilators[1].dot(P_Nhalf.dot(rightPsi)))\n",
    "\n",
    "        correlators[n+1,i] = np.vdot(tempLpsi, tempRpsi) # (<a|b>) <0| . e^(-iHt) . psi\\dagger_n . e^(iHt) . psi(0,0) . |0>\n",
    "    \n",
    "correlatorfft = []\n",
    "for i in range(len(correlators[0, :])):\n",
    "    fftsum = np.fft.fft(correlators[::2,i]) + np.fft.fft(correlators[1::2,i])\n",
    "    correlatorfft.append(fftsum)\n",
    "    \n",
    "correlatorfft = np.array(correlatorfft)"
   ]
  },
  {
   "cell_type": "code",
   "execution_count": 11,
   "metadata": {},
   "outputs": [
    {
     "data": {
      "text/plain": [
       "<matplotlib.image.AxesImage at 0x17d456cc048>"
      ]
     },
     "execution_count": 11,
     "metadata": {},
     "output_type": "execute_result"
    },
    {
     "data": {
      "image/png": "[encoded data removed]",
      "text/plain": [
       "<Figure size 720x576 with 1 Axes>"
      ]
     },
     "metadata": {
      "needs_background": "light"
     },
     "output_type": "display_data"
    }
   ],
   "source": [
    "# plt.plot(np.arctan2(np.imag(correlatorfft), np.real(correlatorfft)))\n",
    "plt.xlabel(\"momentum mode\")\n",
    "plt.ylabel(\"time\")\n",
    "plt.title(\"Time evolution of momentum phase\")\n",
    "step_x = 1 # step between consecutive labels\n",
    "x_positions = np.arange(0,N//2,step_x) # pixel count at label position\n",
    "x_labels = np.arange(N//4-N//2+1, N//4+1) # labels you want to see\n",
    "plt.xticks(x_positions, x_labels)\n",
    "y_tickcount = 10 # How many labels on y axis\n",
    "y_positions = np.arange(0,int(T/dt), int((T/dt)/y_tickcount)) # pixel count at label position\n",
    "y_labels = np.round(np.linspace(0,abs(T*m),y_tickcount), 3) # labels you want to see\n",
    "plt.yticks(y_positions, y_labels)\n",
    "plt.imshow(np.arctan2(np.imag(correlatorfft), np.real(correlatorfft)), aspect='auto', origin='lower')"
   ]
  },
  {
   "cell_type": "markdown",
   "metadata": {},
   "source": [
    "## Order Parameter Calculation"
   ]
  },
  {
   "cell_type": "code",
   "execution_count": 12,
   "metadata": {},
   "outputs": [],
   "source": [
    "t_slices, k_modes = np.shape(correlatorfft)\n",
    "dphi_k = np.zeros((t_slices-1, k_modes))\n",
    "dphi_t = np.zeros((t_slices-1, k_modes))\n",
    "for t in range(t_slices-1):\n",
    "    for k in range(k_modes):\n",
    "        dphi_k[t, k] = np.angle(correlatorfft[t, (k+1)%k_modes]/correlatorfft[t, k])\n",
    "        dphi_t[t, k] = np.angle(correlatorfft[t + 1, k]/correlatorfft[t, k])\n",
    "        \n",
    "finite_full = np.zeros((t_slices - 2, k_modes))\n",
    "for t in range(t_slices-2):\n",
    "    for k in range(k_modes):\n",
    "        finite_full[t, k] = (dphi_k[t, k] + dphi_t[t, (k+1)%k_modes]) - (dphi_k[t+1, k] + dphi_t[t, k])\n",
    "finite_left = np.zeros(t_slices-2)\n",
    "finite_right = np.zeros(t_slices-2)\n",
    "for k in range(k_modes//2):\n",
    "    finite_left += finite_full[:,k]/2/np.pi\n",
    "    finite_right += finite_full[:,k+k_modes//2]/2/np.pi\n",
    "n_left = []\n",
    "n_right = []\n",
    "for t in range(t_slices-2):\n",
    "    ntau_left = 0\n",
    "    ntau_right = 0\n",
    "    for tau in range(0,t):\n",
    "        ntau_left += finite_left[tau]\n",
    "        ntau_right += finite_right[tau]\n",
    "    n_left.append(ntau_left)\n",
    "    n_right.append(ntau_right)\n",
    "n_left = np.array(n_left)\n",
    "n_right = np.array(n_right)"
   ]
  },
  {
   "cell_type": "code",
   "execution_count": 13,
   "metadata": {},
   "outputs": [
    {
     "data": {
      "image/png": "[encoded data removed]",
      "text/plain": [
       "<Figure size 720x576 with 1 Axes>"
      ]
     },
     "metadata": {
      "needs_background": "light"
     },
     "output_type": "display_data"
    }
   ],
   "source": [
    "plt.plot(np.linspace(0, T * m, len(n_left)), (n_left-n_right))\n",
    "plt.show()"
   ]
  }
 ],
 "metadata": {
  "kernelspec": {
   "display_name": "Python 3",
   "language": "python",
   "name": "python3"
  },
  "language_info": {
   "codemirror_mode": {
    "name": "ipython",
    "version": 3
   },
   "file_extension": ".py",
   "mimetype": "text/x-python",
   "name": "python",
   "nbconvert_exporter": "python",
   "pygments_lexer": "ipython3",
   "version": "3.7.4"
  }
 },
 "nbformat": 4,
 "nbformat_minor": 4
}
