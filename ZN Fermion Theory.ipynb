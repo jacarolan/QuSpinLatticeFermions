{
 "cells": [
  {
   "cell_type": "markdown",
   "metadata": {},
   "source": [
    "## Import Libraries"
   ]
  },
  {
   "cell_type": "code",
   "execution_count": 1,
   "metadata": {},
   "outputs": [],
   "source": [
    "from quspin.operators import hamiltonian\n",
    "from quspin.basis import spinless_fermion_basis_1d\n",
    "import numpy as np\n",
    "import matplotlib.pyplot as plt\n",
    "import itertools\n",
    "from quspin.tools.evolution import expm_multiply_parallel\n",
    "from quspin.operators import quantum_LinearOperator\n",
    "from quspin.operators import quantum_operator\n",
    "plt.rcParams['figure.figsize'] = [10, 8]"
   ]
  },
  {
   "cell_type": "markdown",
   "metadata": {},
   "source": [
    "## Define Constants/Helpers"
   ]
  },
  {
   "cell_type": "code",
   "execution_count": 2,
   "metadata": {},
   "outputs": [],
   "source": [
    "N_group = 2\n",
    "N = 4\n",
    "N_filled = N // 2\n",
    "P_neg1 = 1\n",
    "t = -0.5\n",
    "g = 0.4#1.2\n",
    "g_corrected = g / (4 * np.pi ** 2) * N_group ** 2\n",
    "m = 0.8\n",
    "PBC = True"
   ]
  },
  {
   "cell_type": "code",
   "execution_count": 3,
   "metadata": {},
   "outputs": [],
   "source": [
    "def stringbox(lst, caption):\n",
    "    return caption + \"-\" * (100 - len(caption))+\"\\n\" + str(lst) + \"\\n\" + \"-\" * 100"
   ]
  },
  {
   "cell_type": "markdown",
   "metadata": {},
   "source": [
    "## Fermion Basis"
   ]
  },
  {
   "cell_type": "code",
   "execution_count": 4,
   "metadata": {},
   "outputs": [
    {
     "name": "stdout",
     "output_type": "stream",
     "text": [
      "Static couplings:-----------------------------------------------------------------------------------\n",
      "[['+-', [[0.5, 0, 1], [0.5, 1, 2], [0.5, 2, 3], [0.5, 3, 0]]], ['+-', [[0.5, 1, 0], [0.5, 2, 1], [0.5, 3, 2], [0.5, 0, 3]]], ['+-', [[0.8, 0, 0], [-0.8, 1, 1], [0.8, 2, 2], [-0.8, 3, 3]]], ['z', [[-0.08105694691387022, 0]]], ['zz', [[-0.16211389382774044, 0, 1]]], ['zzz', [[0.3242277876554809, 0, 1, 2]]], ['zzzz', [[0.6484555753109618, 0, 1, 2, 3]]]]\n",
      "----------------------------------------------------------------------------------------------------\n",
      "Hermiticity check passed!\n",
      "Symmetry checks passed!\n",
      "Particle conservation check passed!\n"
     ]
    },
    {
     "data": {
      "image/png": "[encoded data removed]",
      "text/plain": [
       "<Figure size 720x576 with 1 Axes>"
      ]
     },
     "metadata": {
      "needs_background": "light"
     },
     "output_type": "display_data"
    },
    {
     "name": "stdout",
     "output_type": "stream",
     "text": [
      "Hermiticity check passed!\n",
      "Symmetry checks passed!\n",
      "Particle conservation check passed!\n"
     ]
    }
   ],
   "source": [
    "fermion_basis = spinless_fermion_basis_1d(L=N, Nf=N_filled)\n",
    "fermion_basis_m1 = spinless_fermion_basis_1d(L=N, Nf=N_filled-1)\n",
    "basis_full = spinless_fermion_basis_1d(L=N)\n",
    "static_terms = []\n",
    "dynamic_terms = []\n",
    "\n",
    "### Hopping term\n",
    "L = (N if PBC else N-1)\n",
    "hop_coupling = [[-t, i, (i+1) % N] for i in range(L)]\n",
    "hop_coupling_dag = [[-t, (i+1) % N, i] for i in range(L)]\n",
    "static_terms += [[\"+-\", hop_coupling]]\n",
    "static_terms += [[\"+-\", hop_coupling_dag]]\n",
    "\n",
    "### TODO: Figure out when antiperiodic BCs apply, why they mess things up\n",
    "# if PBC and N_filled % 2 == 0:\n",
    "#     hop_coupling[-1][0] = -hop_coupling[-1][0]\n",
    "#     hop_coupling_dag[-1][0] = -hop_coupling_dag[-1][0]\n",
    "\n",
    "### Mass term\n",
    "mass_coupling = [[m * (-1) ** i, i, i] for i in range(N)]\n",
    "static_terms += [[\"+-\", mass_coupling]]\n",
    "\n",
    "### E-field term\n",
    "E_link_parity = lambda x : -1 if (x % 4) < 2 else 1\n",
    "for i in range(N):\n",
    "    E_coupling = [P_neg1 * g_corrected * E_link_parity(i) * 2 ** (i+1)] + list(range(i+1))\n",
    "    static_terms += [[\"z\" * (i+1), [E_coupling]]]\n",
    "\n",
    "print(stringbox(static_terms, \"Static couplings:\"))\n",
    "### Plotting spectrum\n",
    "H = hamiltonian(static_terms, dynamic_terms, basis=fermion_basis, dtype=np.float64)\n",
    "fermion_eigvals = H.eigvalsh()\n",
    "plt.plot(fermion_eigvals, \".\")\n",
    "plt.show()\n",
    "\n",
    "### Save a hamiltonian for RTD\n",
    "H_init = hamiltonian(static_terms, dynamic_terms, basis=fermion_basis, dtype=np.float64)"
   ]
  },
  {
   "cell_type": "markdown",
   "metadata": {},
   "source": [
    "## Real-time Dynamics"
   ]
  },
  {
   "cell_type": "code",
   "execution_count": 5,
   "metadata": {},
   "outputs": [
    {
     "name": "stdout",
     "output_type": "stream",
     "text": [
      "Hermiticity check passed!\n",
      "Symmetry checks passed!\n",
      "Particle conservation check passed!\n",
      "[['+-', [[0.5, 0, 1], [0.5, 1, 2], [0.5, 2, 3], [0.5, 3, 0]]], ['+-', [[0.5, 1, 0], [0.5, 2, 1], [0.5, 3, 2], [0.5, 0, 3]]], ['+-', [[-0.8, 0, 0], [0.8, 1, 1], [-0.8, 2, 2], [0.8, 3, 3]]], ['z', [[-0.08105694691387022, 0]]], ['zz', [[-0.16211389382774044, 0, 1]]], ['zzz', [[0.3242277876554809, 0, 1, 2]]], ['zzzz', [[0.6484555753109618, 0, 1, 2, 3]]]]\n"
     ]
    }
   ],
   "source": [
    "### Defining time-evolution hamiltonian\n",
    "dtype_real = np.float64\n",
    "dtype_cmplx = np.result_type(dtype_real,np.complex64)\n",
    "static_terms = []\n",
    "dynamic_terms = []\n",
    "\n",
    "### Hopping term\n",
    "L = (N if PBC else N-1)\n",
    "hop_coupling = [[-t, i, (i+1) % N] for i in range(L)]\n",
    "hop_coupling_dag = [[-t, (i+1) % N, i] for i in range(L)]\n",
    "\n",
    "### TODO: Figure out when antiperiodic BCs apply, why they mess things up\n",
    "# if PBC and N_filled % 2 == 0:\n",
    "#     hop_coupling[-1][0] = -hop_coupling[-1][0]\n",
    "#     hop_coupling_dag[-1][0] = -hop_coupling_dag[-1][0]\n",
    "static_terms += [[\"+-\", hop_coupling]]\n",
    "static_terms += [[\"+-\", hop_coupling_dag]]\n",
    "\n",
    "### Mass term\n",
    "mass_coupling = [[-m * (-1) ** i, i, i] for i in range(N)]\n",
    "static_terms += [[\"+-\", mass_coupling]]\n",
    "\n",
    "### E-field term\n",
    "E_link_parity = lambda x : -1 if (x % 4) < 2 else 1\n",
    "for i in range(N):\n",
    "    E_coupling = [P_neg1 * g_corrected * E_link_parity(i) * 2 ** (i+1)] + list(range(i+1))\n",
    "    static_terms += [[\"z\" * (i+1), [E_coupling]]]\n",
    "\n",
    "H = hamiltonian(static_terms, dynamic_terms, basis=fermion_basis, dtype=np.complex64)\n",
    "\n",
    "print(static_terms)\n",
    "# print(H)"
   ]
  },
  {
   "cell_type": "code",
   "execution_count": 6,
   "metadata": {},
   "outputs": [],
   "source": [
    "E_init,V_init=H_init.eigsh(k=1,which='SA',maxiter=1e8)\n",
    "psi_i=V_init[:,0]\n",
    "psi_i = psi_i.reshape((-1,))\n",
    "del H_init"
   ]
  },
  {
   "cell_type": "code",
   "execution_count": 7,
   "metadata": {},
   "outputs": [
    {
     "name": "stdout",
     "output_type": "stream",
     "text": [
      "# T =  0.0\n",
      "0.0\t -1.1102230246251563e-16\n",
      "0.05\t 0.0005188885252852968\n",
      "0.1\t 0.0020794175254427133\n",
      "0.15000000000000002\t 0.004693280671848982\n",
      "0.2\t 0.008380316860962305\n",
      "0.25\t 0.013169051305669897\n",
      "0.30000000000000004\t 0.019097487528806675\n",
      "0.35000000000000003\t 0.026214185919460255\n",
      "0.4\t 0.034579675608101025\n",
      "0.45\t 0.04426825618016714\n",
      "0.5\t 0.055370250016702816\n",
      "0.55\t 0.0679947548574166\n",
      "0.6000000000000001\t 0.08227289660638337\n",
      "0.65\t 0.0983614423576927\n",
      "0.7000000000000001\t 0.11644628442231247\n",
      "0.75\t 0.1367444745625883\n",
      "0.8\t 0.1595015367081265\n",
      "0.8500000000000001\t 0.18497621869635578\n",
      "0.9\t 0.21339416912894943\n",
      "0.9500000000000001\t 0.24482756548338763\n",
      "# T =  1.0\n",
      "1.0\t 0.27890593216840315\n",
      "1.05\t 0.3141814867171622\n",
      "1.1\t 0.3469946519039311\n",
      "1.1500000000000001\t 0.3704804625122711\n",
      "1.2000000000000002\t 0.3765849575212776\n",
      "1.25\t 0.3626751313900026\n",
      "1.3\t 0.3344364939868678\n",
      "1.35\t 0.3000361906015378\n",
      "1.4000000000000001\t 0.2650156674536444\n",
      "1.4500000000000002\t 0.23197244609026527\n",
      "1.5\t 0.2018083475607208\n",
      "1.55\t 0.17466182394451774\n",
      "1.6\t 0.1503759679674688\n",
      "1.6500000000000001\t 0.12870275574514045\n",
      "1.7000000000000002\t 0.10938561509267893\n",
      "1.75\t 0.09218975875105427\n",
      "1.8\t 0.07691089858081368\n",
      "1.85\t 0.06337541404563506\n",
      "1.9000000000000001\t 0.051437483037587536\n",
      "1.9500000000000002\t 0.04097545114862041\n",
      "# T =  2.0\n",
      "2.0\t 0.03188833520774598\n",
      "2.0500000000000003\t 0.024092770776693317\n",
      "2.1\t 0.017520470463792598\n",
      "2.15\t 0.012116166002864706\n",
      "2.2\t 0.007835977218234699\n",
      "2.25\t 0.0046461479454933076\n",
      "2.3000000000000003\t 0.002522096325780559\n",
      "2.35\t 0.0014477376059279113\n",
      "2.4000000000000004\t 0.0014150488212675385\n",
      "2.45\t 0.0024238555611607988\n",
      "2.5\t 0.00448183130824152\n",
      "2.5500000000000003\t 0.007604709857025872\n",
      "2.6\t 0.01181672146242731\n",
      "2.6500000000000004\t 0.01715127408759493\n",
      "2.7\t 0.023651912794243873\n",
      "2.75\t 0.03137360309388923\n",
      "2.8000000000000003\t 0.040384397492036365\n",
      "2.85\t 0.05076755658668307\n",
      "2.9000000000000004\t 0.0626242016236278\n",
      "2.95\t 0.07607656132206203\n",
      "# T =  3.0\n",
      "3.0\t 0.09127181130280482\n",
      "3.0500000000000003\t 0.10838631786645256\n",
      "3.1\t 0.1276296214385215\n",
      "3.1500000000000004\t 0.1492463319425424\n",
      "3.2\t 0.17351130767032974\n",
      "3.25\t 0.2007067552136428\n",
      "3.3000000000000003\t 0.2310537636393427\n",
      "3.35\t 0.2645333287431121\n",
      "3.4000000000000004\t 0.30045459781074363\n",
      "3.45\t 0.33653113271382495\n",
      "3.5\t 0.3674429251159365\n",
      "3.5500000000000003\t 0.38454812418549655\n",
      "3.6\t 0.3807539752952078\n",
      "3.6500000000000004\t 0.35781996408105265\n",
      "3.7\t 0.3243242566549872\n",
      "3.75\t 0.28795557306649816\n",
      "3.8000000000000003\t 0.25280954437440645\n",
      "3.85\t 0.2204686958269404\n",
      "3.9000000000000004\t 0.19131458133275897\n",
      "3.95\t 0.16525034051144058\n",
      "# T =  4.0\n",
      "4.0\t 0.1420209730913729\n",
      "4.05\t 0.12134243460318439\n",
      "4.1000000000000005\t 0.10294932539508335\n",
      "4.15\t 0.08660945544235235\n",
      "4.2\t 0.07212549227122776\n",
      "4.25\t 0.05933200549537203\n",
      "4.3\t 0.0480912684550553\n",
      "4.3500000000000005\t 0.038289117545956826\n",
      "4.4\t 0.029831316681357446\n",
      "4.45\t 0.02264052861839779\n",
      "4.5\t 0.016653863528098018\n",
      "4.55\t 0.01182093375406361\n",
      "4.6000000000000005\t 0.008102338861282676\n",
      "4.65\t 0.005468513998545462\n",
      "4.7\t 0.0038988877131288426\n",
      "4.75\t 0.003381308890894715\n",
      "4.800000000000001\t 0.003911715208542286\n",
      "4.8500000000000005\t 0.005494027230358796\n",
      "4.9\t 0.00814026337364214\n",
      "4.95\t 0.011870881907745528\n",
      "# T =  5.0\n",
      "5.0\t 0.016715367513644677\n",
      "5.050000000000001\t 0.02271309228555199\n",
      "5.1000000000000005\t 0.02991449487793353\n",
      "5.15\t 0.038382636950044055\n",
      "5.2\t 0.04819521245964377\n",
      "5.25\t 0.05944709997270175\n",
      "5.300000000000001\t 0.07225355335287811\n",
      "5.3500000000000005\t 0.08675410283511563\n",
      "5.4\t 0.10311714038606168\n",
      "5.45\t 0.12154487997244644\n",
      "5.5\t 0.14227764935829695\n",
      "5.550000000000001\t 0.16559463867830151\n",
      "5.6000000000000005\t 0.19180370664410754\n",
      "5.65\t 0.22120167911341046\n",
      "5.7\t 0.25395930056980776\n",
      "5.75\t 0.28982195390902715\n",
      "5.800000000000001\t 0.3273996068333903\n",
      "5.8500000000000005\t 0.3627743776557498\n",
      "5.9\t 0.3880593622555417\n",
      "5.95\t 0.39369729350814614\n",
      "# T =  6.0\n",
      "6.0\t 0.37699185994145273\n",
      "6.050000000000001\t 0.34532662567543615\n",
      "6.1000000000000005\t 0.3081392277909566\n",
      "6.15\t 0.2711912258552116\n",
      "6.2\t 0.2368837085128902\n",
      "6.25\t 0.2058964727544993\n",
      "6.300000000000001\t 0.1782096871554449\n",
      "6.3500000000000005\t 0.15356574890026733\n",
      "6.4\t 0.13165421081727616\n",
      "6.45\t 0.11217960562563248\n",
      "6.5\t 0.09488251336795678\n",
      "6.550000000000001\t 0.07954274184411365\n",
      "6.6000000000000005\t 0.065976210511285\n",
      "6.65\t 0.05403011028371558\n",
      "6.7\t 0.04357806916484573\n",
      "6.75\t 0.03451590648638208\n",
      "6.800000000000001\t 0.02675810528123416\n",
      "6.8500000000000005\t 0.02023496456440091\n",
      "6.9\t 0.01489034214054385\n",
      "6.95\t 0.010679893464501664\n",
      "# T =  7.0\n",
      "7.0\t 0.007569723622972472\n",
      "7.050000000000001\t 0.005535385667528888\n",
      "7.1000000000000005\t 0.004561174719888698\n",
      "7.15\t 0.004639682048237371\n",
      "7.2\t 0.005771586545786361\n",
      "7.25\t 0.007965673118857186\n",
      "7.300000000000001\t 0.011239078994167793\n",
      "7.3500000000000005\t 0.015617780527469854\n",
      "7.4\t 0.02113734538241507\n",
      "7.45\t 0.02784398852925287\n",
      "7.5\t 0.035795985755375785\n",
      "7.550000000000001\t 0.04506551507224668\n",
      "7.6000000000000005\t 0.05574101287448679\n",
      "7.65\t 0.06793014276393178\n",
      "7.7\t 0.08176346707484819\n",
      "7.75\t 0.09739885119864833\n",
      "7.800000000000001\t 0.11502643917991337\n",
      "7.8500000000000005\t 0.13487352426381433\n",
      "7.9\t 0.1572073347866314\n",
      "7.95\t 0.18233051718045634\n",
      "# T =  8.0\n",
      "8.0\t 0.21055607217663114\n",
      "8.05\t 0.24212869068648957\n",
      "8.1\t 0.27701204034722215\n",
      "8.15\t 0.31436170269001446\n",
      "8.200000000000001\t 0.3513851587738509\n",
      "8.25\t 0.38165855165260487\n",
      "8.3\t 0.39539085026994564\n",
      "8.35\t 0.3862712504071721\n",
      "8.4\t 0.35863211701663306\n",
      "8.450000000000001\t 0.32233877025153723\n",
      "8.5\t 0.2847141413956106\n",
      "8.55\t 0.24917982259247332\n",
      "8.6\t 0.2168712737801098\n",
      "8.65\t 0.18793615082049372\n",
      "8.700000000000001\t 0.16216441787882352\n",
      "8.75\t 0.1392480147190626\n",
      "8.8\t 0.1188787833952031\n",
      "8.85\t 0.10078109030565681\n",
      "8.9\t 0.08471916795026321\n",
      "8.950000000000001\t 0.07049526986152235\n",
      "# T =  9.0\n",
      "9.0\t 0.057945007215929066\n",
      "9.05\t 0.04693231084005446\n",
      "9.1\t 0.03734488079758424\n",
      "9.15\t 0.029090357144889074\n",
      "9.200000000000001\t 0.022093207160977214\n",
      "9.25\t 0.016292245559139534\n",
      "9.3\t 0.011638689032500411\n",
      "9.35\t 0.008094655054256843\n",
      "9.4\t 0.005632030746191582\n",
      "9.450000000000001\t 0.00423165442628079\n",
      "9.5\t 0.0038827679556528733\n",
      "9.55\t 0.004582711794897442\n",
      "9.600000000000001\t 0.006336847020807597\n",
      "9.65\t 0.009158699974846658\n",
      "9.700000000000001\t 0.013070336314621902\n",
      "9.75\t 0.01810298261079582\n",
      "9.8\t 0.024297925788356885\n",
      "9.850000000000001\t 0.03170773396109963\n",
      "9.9\t 0.04039785634984413\n",
      "9.950000000000001\t 0.0504486735879169\n"
     ]
    }
   ],
   "source": [
    "T = 10\n",
    "dt = T/200\n",
    "\n",
    "##### define data type for the simulation\n",
    "dtype_real = np.float64\n",
    "dtype_cmplx = np.result_type(dtype_real,np.complex64)\n",
    "# pre assign arrays\n",
    "times = np.arange(0,T,dt)                               # times\n",
    "Lt = np.zeros(len(times),dtype=dtype_real)              # Lohschmidt echo\n",
    "# construct piece-wise constant unitaries\n",
    "expH = expm_multiply_parallel(H.tocsr(),a=-1j*dt,dtype=dtype_cmplx)\n",
    "# auxiliary array for memory efficiency\n",
    "psi=psi_i.copy().astype(np.complex128)\n",
    "work_array=np.zeros((2*len(psi),), dtype=psi.dtype) # twice as long because complex_valued\n",
    "# prepare output\n",
    "# file_Loschmidt = open(folder_save+'/Loschmidt_rate',\"w\")\n",
    "# file_Loschmidt.close\n",
    "loschmidt = []\n",
    "for i in range(len(times)):\n",
    "    if i % (len(times)//10) == 0:\n",
    "        print(\"# T = \",times[i])\n",
    "    Lt[i]=-np.log(np.abs(np.vdot(psi_i,psi)))/N\n",
    "#     file_Loschmidtfile = open(folder_save+'/Loschmidt_rate',\"a\")\n",
    "    print(f\"{times[i]}\\t {Lt[i]}\")#file_Loschmidtfile.write(f\"{times[i]}\\t {Lt[i]} \\n\")\n",
    "    loschmidt += [Lt[i]]\n",
    "#     file_Loschmidtfile.close()\n",
    "    expH.dot(psi,work_array=work_array,overwrite_v=True)\n",
    "# END of time evolution"
   ]
  },
  {
   "cell_type": "code",
   "execution_count": 8,
   "metadata": {},
   "outputs": [
    {
     "data": {
      "text/plain": [
       "Text(0.5, 1.0, 'Non-analycities in Lohscmidt Echo Rate')"
      ]
     },
     "execution_count": 8,
     "metadata": {},
     "output_type": "execute_result"
    },
    {
     "data": {
      "image/png": "[encoded data removed]",
      "text/plain": [
       "<Figure size 720x576 with 1 Axes>"
      ]
     },
     "metadata": {
      "needs_background": "light"
     },
     "output_type": "display_data"
    }
   ],
   "source": [
    "plt.plot(times, loschmidt)\n",
    "plt.xlabel(\"Normalized Time\")\n",
    "plt.ylabel(\"Lohschmidt Rate\")\n",
    "plt.title(\"Non-analycities in Lohscmidt Echo Rate\")"
   ]
  },
  {
   "cell_type": "markdown",
   "metadata": {},
   "source": [
    "## OTOC Calculations"
   ]
  },
  {
   "cell_type": "code",
   "execution_count": 9,
   "metadata": {},
   "outputs": [],
   "source": [
    "def c_operator(n):\n",
    "    cdag_static = [[\"-\",[[1.0,n]]]]\n",
    "    cdagn = quantum_LinearOperator(cdag_static,basis=basis_full,dtype=np.complex128,check_herm=False,check_pcon=False,check_symm=False)\n",
    "    return(cdagn)\n",
    "annihilators = [c_operator(n) for n in range(N)]"
   ]
  },
  {
   "cell_type": "code",
   "execution_count": 10,
   "metadata": {},
   "outputs": [
    {
     "name": "stdout",
     "output_type": "stream",
     "text": [
      "Hermiticity check passed!\n",
      "Symmetry checks passed!\n",
      "Particle conservation check passed!\n",
      "Hermiticity check passed!\n",
      "Symmetry checks passed!\n",
      "Particle conservation check passed!\n"
     ]
    }
   ],
   "source": [
    "##### define data type for the simulation\n",
    "dtype_real = np.float64\n",
    "dtype_cmplx = np.result_type(dtype_real,np.complex64)\n",
    "# pre assign arrays\n",
    "times = np.arange(0,T,dt)                               # times\n",
    "\n",
    "# array to store correlators expectations from psi(t,n) to psi(0,0)\n",
    "correlators = np.zeros((N,len(times)),dtype=np.complex128)\n",
    "\n",
    "P_Nhalf = fermion_basis.get_proj(dtype=np.float64)\n",
    "P_Nhalfminus1 = fermion_basis_m1.get_proj(dtype=np.float64)\n",
    "\n",
    "H_NHalf_m1 = hamiltonian(static_terms, dynamic_terms, basis=fermion_basis_m1, dtype=np.float64).tocsr()\n",
    "H_NHalf = hamiltonian(static_terms, dynamic_terms, basis=fermion_basis, dtype=np.float64).tocsr()\n",
    "\n",
    "for n in range(0, N, 2): #loop over all site pairings\n",
    "    for i in range(len(times)): #loop over times (for annhilator location)\n",
    "        # Even Correlators\n",
    "        leftPsi=psi_i.copy().astype(np.complex128) #state for left-half of inner product\n",
    "        rightPsi=psi_i.copy().astype(np.complex128) #state for right-half\n",
    "\n",
    "        expmiH = expm_multiply_parallel(H_NHalf_m1,a=1j*dt*i,dtype=dtype_cmplx)\n",
    "        expiH = expm_multiply_parallel(H_NHalf,a=-1j*dt*i,dtype=dtype_cmplx)\n",
    "\n",
    "        expiH.dot(leftPsi,overwrite_v=True)\n",
    "        tempLpsi = np.transpose(P_Nhalfminus1).dot(annihilators[n].dot(P_Nhalf.dot(leftPsi)))\n",
    "        expmiH.dot(tempLpsi,overwrite_v=True)\n",
    "\n",
    "        tempRpsi = np.transpose(P_Nhalfminus1).dot(annihilators[0].dot(P_Nhalf.dot(rightPsi)))\n",
    "\n",
    "        correlators[n,i] = np.vdot(tempLpsi, tempRpsi) # (<a|b>) <0| . e^(-iHt) . psi\\dagger_n . e^(iHt) . psi(0,0) . |0>\n",
    "        \n",
    "        # Odd Correlators\n",
    "        leftPsi=psi_i.copy().astype(np.complex128) #state for left-half of inner product\n",
    "        rightPsi=psi_i.copy().astype(np.complex128) #state for right-half\n",
    "\n",
    "        expiH.dot(leftPsi,overwrite_v=True) \n",
    "        tempLpsi = np.transpose(P_Nhalfminus1).dot(annihilators[n+1].dot(P_Nhalf.dot(leftPsi)))\n",
    "        expmiH.dot(tempLpsi,overwrite_v=True)\n",
    "\n",
    "        tempRpsi = np.transpose(P_Nhalfminus1).dot(annihilators[1].dot(P_Nhalf.dot(rightPsi)))\n",
    "\n",
    "        correlators[n+1,i] = np.vdot(tempLpsi, tempRpsi) # (<a|b>) <0| . e^(-iHt) . psi\\dagger_n . e^(iHt) . psi(0,0) . |0>\n",
    "    \n",
    "correlatorfft = []\n",
    "for i in range(len(correlators[0, :])):\n",
    "    fftsum = np.fft.fft(correlators[::2,i]) + np.fft.fft(correlators[1::2,i])\n",
    "    correlatorfft.append(fftsum)\n",
    "    \n",
    "correlatorfft = np.array(correlatorfft)"
   ]
  },
  {
   "cell_type": "code",
   "execution_count": 11,
   "metadata": {},
   "outputs": [
    {
     "data": {
      "text/plain": [
       "<matplotlib.image.AxesImage at 0x24cb2d2d288>"
      ]
     },
     "execution_count": 11,
     "metadata": {},
     "output_type": "execute_result"
    },
    {
     "data": {
      "image/png": "[encoded data removed]",
      "text/plain": [
       "<Figure size 720x576 with 1 Axes>"
      ]
     },
     "metadata": {
      "needs_background": "light"
     },
     "output_type": "display_data"
    }
   ],
   "source": [
    "# plt.plot(np.arctan2(np.imag(correlatorfft), np.real(correlatorfft)))\n",
    "plt.xlabel(\"momentum mode\")\n",
    "plt.ylabel(\"time\")\n",
    "plt.title(\"Time evolution of momentum phase\")\n",
    "step_x = 1 # step between consecutive labels\n",
    "x_positions = np.arange(0,N//2,step_x) # pixel count at label position\n",
    "x_labels = np.arange(N//4-N//2+1, N//4+1) # labels you want to see\n",
    "plt.xticks(x_positions, x_labels)\n",
    "y_tickcount = 10 # How many labels on y axis\n",
    "y_positions = np.arange(0,int(T/dt), int((T/dt)/y_tickcount)) # pixel count at label position\n",
    "y_labels = np.round(np.linspace(0,abs(T*m),y_tickcount), 3) # labels you want to see\n",
    "plt.yticks(y_positions, y_labels)\n",
    "plt.imshow(np.angle(correlatorfft), aspect='auto', origin='lower')"
   ]
  },
  {
   "cell_type": "markdown",
   "metadata": {},
   "source": [
    "## Order Parameter Calculation"
   ]
  },
  {
   "cell_type": "code",
   "execution_count": 12,
   "metadata": {},
   "outputs": [],
   "source": [
    "t_slices, k_modes = np.shape(correlatorfft)\n",
    "dphi_k = np.zeros((t_slices-1, k_modes))\n",
    "dphi_t = np.zeros((t_slices-1, k_modes))\n",
    "for t in range(t_slices-1):\n",
    "    for k in range(k_modes):\n",
    "        dphi_k[t, k] = np.angle(correlatorfft[t, (k+1)%k_modes]/correlatorfft[t, k])\n",
    "        dphi_t[t, k] = np.angle(correlatorfft[t + 1, k]/correlatorfft[t, k])\n",
    "        \n",
    "finite_full = np.zeros((t_slices - 2, k_modes))\n",
    "for t in range(t_slices-2):\n",
    "    for k in range(k_modes):\n",
    "        finite_full[t, k] = (dphi_k[t, k] + dphi_t[t, (k+1)%k_modes]) - (dphi_k[t+1, k] + dphi_t[t, k])\n",
    "finite_left = np.zeros(t_slices-2)\n",
    "finite_right = np.zeros(t_slices-2)\n",
    "for k in range(k_modes//2):\n",
    "    finite_left += finite_full[:,k]/2/np.pi\n",
    "    finite_right += finite_full[:,k+k_modes//2]/2/np.pi\n",
    "n_left = []\n",
    "n_right = []\n",
    "for t in range(t_slices-2):\n",
    "    ntau_left = 0\n",
    "    ntau_right = 0\n",
    "    for tau in range(0,t):\n",
    "        ntau_left += finite_left[tau]\n",
    "        ntau_right += finite_right[tau]\n",
    "    n_left.append(ntau_left)\n",
    "    n_right.append(ntau_right)\n",
    "n_left = np.array(n_left)\n",
    "n_right = np.array(n_right)"
   ]
  },
  {
   "cell_type": "code",
   "execution_count": 13,
   "metadata": {},
   "outputs": [
    {
     "data": {
      "image/png": "[encoded data removed]",
      "text/plain": [
       "<Figure size 720x576 with 1 Axes>"
      ]
     },
     "metadata": {
      "needs_background": "light"
     },
     "output_type": "display_data"
    }
   ],
   "source": [
    "plt.plot(np.linspace(0, T * m, len(n_left)), (n_left-n_right))\n",
    "plt.show()"
   ]
  }
 ],
 "metadata": {
  "kernelspec": {
   "display_name": "Python 3",
   "language": "python",
   "name": "python3"
  },
  "language_info": {
   "codemirror_mode": {
    "name": "ipython",
    "version": 3
   },
   "file_extension": ".py",
   "mimetype": "text/x-python",
   "name": "python",
   "nbconvert_exporter": "python",
   "pygments_lexer": "ipython3",
   "version": "3.7.4"
  }
 },
 "nbformat": 4,
 "nbformat_minor": 4
}
