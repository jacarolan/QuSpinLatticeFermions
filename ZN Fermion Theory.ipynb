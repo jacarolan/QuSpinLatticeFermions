{
 "cells": [
  {
   "cell_type": "markdown",
   "metadata": {},
   "source": [
    "## Import Libraries"
   ]
  },
  {
   "cell_type": "code",
   "execution_count": 1,
   "metadata": {},
   "outputs": [],
   "source": [
    "from quspin.operators import hamiltonian\n",
    "from quspin.basis import spinless_fermion_basis_1d\n",
    "import numpy as np\n",
    "import matplotlib.pyplot as plt\n",
    "import itertools\n",
    "from quspin.tools.evolution import expm_multiply_parallel\n",
    "from quspin.operators import quantum_LinearOperator\n",
    "from quspin.operators import quantum_operator\n",
    "plt.rcParams['figure.figsize'] = [10, 8]"
   ]
  },
  {
   "cell_type": "markdown",
   "metadata": {},
   "source": [
    "## Define Constants/Helpers"
   ]
  },
  {
   "cell_type": "code",
   "execution_count": 2,
   "metadata": {},
   "outputs": [],
   "source": [
    "N_group = 4\n",
    "N = 4\n",
    "N_filled = N // 2\n",
    "P_neg1 = 1\n",
    "t = -0.5\n",
    "g = 1.2\n",
    "g_corrected = g / (4 * np.pi ** 2) * N_group ** 2\n",
    "m = 0.8\n",
    "PBC = True"
   ]
  },
  {
   "cell_type": "code",
   "execution_count": 3,
   "metadata": {},
   "outputs": [],
   "source": [
    "def stringbox(lst, caption):\n",
    "    return caption + \"-\" * (100 - len(caption))+\"\\n\" + str(lst) + \"\\n\" + \"-\" * 100"
   ]
  },
  {
   "cell_type": "markdown",
   "metadata": {},
   "source": [
    "## Fermion Basis"
   ]
  },
  {
   "cell_type": "code",
   "execution_count": 4,
   "metadata": {},
   "outputs": [
    {
     "name": "stdout",
     "output_type": "stream",
     "text": [
      "Static couplings:-----------------------------------------------------------------------------------\n",
      "[['+-', [[0.5, 0, 1], [0.5, 1, 2], [0.5, 2, 3], [0.5, 3, 0]]], ['+-', [[0.5, 1, 0], [0.5, 2, 1], [0.5, 3, 2], [0.5, 0, 3]]], ['+-', [[0.8, 0, 0], [-0.8, 1, 1], [0.8, 2, 2], [-0.8, 3, 3]]], ['z', [[-0.9726833629664426, 0]]], ['zz', [[-1.9453667259328853, 0, 1]]], ['zzz', [[3.8907334518657706, 0, 1, 2]]], ['zzzz', [[7.781466903731541, 0, 1, 2, 3]]]]\n",
      "----------------------------------------------------------------------------------------------------\n",
      "Hermiticity check passed!\n",
      "Symmetry checks passed!\n",
      "Particle conservation check passed!\n"
     ]
    },
    {
     "data": {
      "image/png": "[encoded data removed]",
      "text/plain": [
       "<Figure size 720x576 with 1 Axes>"
      ]
     },
     "metadata": {
      "needs_background": "light"
     },
     "output_type": "display_data"
    },
    {
     "name": "stdout",
     "output_type": "stream",
     "text": [
      "Hermiticity check passed!\n",
      "Symmetry checks passed!\n",
      "Particle conservation check passed!\n"
     ]
    }
   ],
   "source": [
    "fermion_basis = spinless_fermion_basis_1d(L=N, Nf=N_filled)\n",
    "fermion_basis_m1 = spinless_fermion_basis_1d(L=N, Nf=N_filled-1)\n",
    "basis_full = spinless_fermion_basis_1d(L=N)\n",
    "static_terms = []\n",
    "dynamic_terms = []\n",
    "\n",
    "### Hopping term\n",
    "L = (N if PBC else N-1)\n",
    "hop_coupling = [[-t, i, (i+1) % N] for i in range(L)]\n",
    "hop_coupling_dag = [[-t, (i+1) % N, i] for i in range(L)]\n",
    "static_terms += [[\"+-\", hop_coupling]]\n",
    "static_terms += [[\"+-\", hop_coupling_dag]]\n",
    "\n",
    "### TODO: Figure out when antiperiodic BCs apply, why they mess things up\n",
    "# if PBC and N_filled % 2 == 0:\n",
    "#     hop_coupling[-1][0] = -hop_coupling[-1][0]\n",
    "#     hop_coupling_dag[-1][0] = -hop_coupling_dag[-1][0]\n",
    "\n",
    "### Mass term\n",
    "mass_coupling = [[m * (-1) ** i, i, i] for i in range(N)]\n",
    "static_terms += [[\"+-\", mass_coupling]]\n",
    "\n",
    "### E-field term\n",
    "E_link_parity = lambda x : -1 if (x % 4) < 2 else 1\n",
    "for i in range(N):\n",
    "    E_coupling = [P_neg1 * g_corrected * E_link_parity(i) * 2 ** (i+1)] + list(range(i+1))\n",
    "    static_terms += [[\"z\" * (i+1), [E_coupling]]]\n",
    "\n",
    "print(stringbox(static_terms, \"Static couplings:\"))\n",
    "### Plotting spectrum\n",
    "H = hamiltonian(static_terms, dynamic_terms, basis=fermion_basis, dtype=np.float64)\n",
    "fermion_eigvals = H.eigvalsh()\n",
    "plt.plot(fermion_eigvals, \".\")\n",
    "plt.show()\n",
    "\n",
    "### Save a hamiltonian for RTD\n",
    "H_init = hamiltonian(static_terms, dynamic_terms, basis=fermion_basis, dtype=np.float64)"
   ]
  },
  {
   "cell_type": "markdown",
   "metadata": {},
   "source": [
    "## Real-time Dynamics"
   ]
  },
  {
   "cell_type": "code",
   "execution_count": 5,
   "metadata": {},
   "outputs": [
    {
     "name": "stdout",
     "output_type": "stream",
     "text": [
      "Hermiticity check passed!\n",
      "Symmetry checks passed!\n",
      "Particle conservation check passed!\n",
      "[['+-', [[0.5, 0, 1], [0.5, 1, 2], [0.5, 2, 3], [0.5, 3, 0]]], ['+-', [[0.5, 1, 0], [0.5, 2, 1], [0.5, 3, 2], [0.5, 0, 3]]], ['+-', [[-0.8, 0, 0], [0.8, 1, 1], [-0.8, 2, 2], [0.8, 3, 3]]], ['z', [[-0.9726833629664426, 0]]], ['zz', [[-1.9453667259328853, 0, 1]]], ['zzz', [[3.8907334518657706, 0, 1, 2]]], ['zzzz', [[7.781466903731541, 0, 1, 2, 3]]]]\n"
     ]
    }
   ],
   "source": [
    "### Defining time-evolution hamiltonian\n",
    "dtype_real = np.float64\n",
    "dtype_cmplx = np.result_type(dtype_real,np.complex64)\n",
    "static_terms = []\n",
    "dynamic_terms = []\n",
    "\n",
    "### Hopping term\n",
    "L = (N if PBC else N-1)\n",
    "hop_coupling = [[-t, i, (i+1) % N] for i in range(L)]\n",
    "hop_coupling_dag = [[-t, (i+1) % N, i] for i in range(L)]\n",
    "\n",
    "### TODO: Figure out when antiperiodic BCs apply, why they mess things up\n",
    "# if PBC and N_filled % 2 == 0:\n",
    "#     hop_coupling[-1][0] = -hop_coupling[-1][0]\n",
    "#     hop_coupling_dag[-1][0] = -hop_coupling_dag[-1][0]\n",
    "static_terms += [[\"+-\", hop_coupling]]\n",
    "static_terms += [[\"+-\", hop_coupling_dag]]\n",
    "\n",
    "### Mass term\n",
    "mass_coupling = [[-m * (-1) ** i, i, i] for i in range(N)]\n",
    "static_terms += [[\"+-\", mass_coupling]]\n",
    "\n",
    "### E-field term\n",
    "E_link_parity = lambda x : -1 if (x % 4) < 2 else 1\n",
    "for i in range(N):\n",
    "    E_coupling = [P_neg1 * g_corrected * E_link_parity(i) * 2 ** (i+1)] + list(range(i+1))\n",
    "    static_terms += [[\"z\" * (i+1), [E_coupling]]]\n",
    "\n",
    "H = hamiltonian(static_terms, dynamic_terms, basis=fermion_basis, dtype=np.complex64)\n",
    "\n",
    "print(static_terms)\n",
    "# print(H)"
   ]
  },
  {
   "cell_type": "code",
   "execution_count": 6,
   "metadata": {},
   "outputs": [],
   "source": [
    "E_init,V_init=H_init.eigsh(k=1,which='SA',maxiter=1e8)\n",
    "psi_i=V_init[:,0]\n",
    "psi_i = psi_i.reshape((-1,))\n",
    "del H_init"
   ]
  },
  {
   "cell_type": "code",
   "execution_count": 7,
   "metadata": {},
   "outputs": [
    {
     "name": "stdout",
     "output_type": "stream",
     "text": [
      "# T =  0.0\n",
      "0.0\t 5.551115123125784e-17\n",
      "0.05\t 0.0004453701015347445\n",
      "0.1\t 0.001767615328835223\n",
      "0.15000000000000002\t 0.00392499354851549\n",
      "0.2\t 0.006847559691372663\n",
      "0.25\t 0.010437010226330583\n",
      "0.30000000000000004\t 0.014567287560819374\n",
      "0.35000000000000003\t 0.019086753922135973\n",
      "0.4\t 0.023822874863265366\n",
      "0.45\t 0.028590276976396756\n",
      "0.5\t 0.03320262511030598\n",
      "0.55\t 0.037487920112411297\n",
      "0.6000000000000001\t 0.041305641900608696\n",
      "0.65\t 0.04456300973918073\n",
      "0.7000000000000001\t 0.04722705647250721\n",
      "0.75\t 0.0493296913093878\n",
      "0.8\t 0.05096448787039586\n",
      "0.8500000000000001\t 0.052276022243250085\n",
      "0.9\t 0.05344432596225935\n",
      "0.9500000000000001\t 0.05466774725681974\n",
      "# T =  1.0\n",
      "1.0\t 0.05614713319958161\n",
      "1.05\t 0.05807316284768297\n",
      "1.1\t 0.06061744408903449\n",
      "1.1500000000000001\t 0.06392704491239111\n",
      "1.2000000000000002\t 0.06812160782258053\n",
      "1.25\t 0.07329203915979958\n",
      "1.3\t 0.07949983900666577\n",
      "1.35\t 0.08677631826510554\n",
      "1.4000000000000001\t 0.09512116194602864\n",
      "1.4500000000000002\t 0.10450001816413491\n",
      "1.5\t 0.11484103827451939\n",
      "1.55\t 0.12603060977804686\n",
      "1.6\t 0.1379089644389395\n",
      "1.6500000000000001\t 0.15026694222629727\n",
      "1.7000000000000002\t 0.1628458998298301\n",
      "1.75\t 0.17534335548335875\n",
      "1.8\t 0.1874270020569996\n",
      "1.85\t 0.19875855904021017\n",
      "1.9000000000000001\t 0.20902612047519717\n",
      "1.9500000000000002\t 0.21797960975047065\n",
      "# T =  2.0\n",
      "2.0\t 0.22546045912185336\n",
      "2.0500000000000003\t 0.23141624139248249\n",
      "2.1\t 0.23589506697574464\n",
      "2.15\t 0.23902159045171034\n",
      "2.2\t 0.240962671390854\n",
      "2.25\t 0.24189296300136265\n",
      "2.3000000000000003\t 0.24196866469531284\n",
      "2.35\t 0.24131343920276116\n",
      "2.4000000000000004\t 0.24001641515254268\n",
      "2.45\t 0.23813949185081257\n",
      "2.5\t 0.23572991710798868\n",
      "2.5500000000000003\t 0.23283394335845845\n",
      "2.6\t 0.22950794847539327\n",
      "2.6500000000000004\t 0.225824530796521\n",
      "2.7\t 0.22187253500475457\n",
      "2.75\t 0.21775141147426547\n",
      "2.8000000000000003\t 0.2135613992235624\n",
      "2.85\t 0.20939153251818135\n",
      "2.9000000000000004\t 0.20530742990521272\n",
      "2.95\t 0.20134046403611622\n",
      "# T =  3.0\n",
      "3.0\t 0.19747952456844758\n",
      "3.0500000000000003\t 0.19366638341270073\n",
      "3.1\t 0.18979569040462782\n",
      "3.1500000000000004\t 0.18572071615462626\n",
      "3.2\t 0.18126580539288883\n",
      "3.25\t 0.17624573965861798\n",
      "3.3000000000000003\t 0.17049062399430606\n",
      "3.35\t 0.16387276024542693\n",
      "3.4000000000000004\t 0.15633012976960473\n",
      "3.45\t 0.14788079351607156\n",
      "3.5\t 0.13862445282823882\n",
      "3.5500000000000003\t 0.12873106504785786\n",
      "3.6\t 0.118420094876211\n",
      "3.6500000000000004\t 0.10793599276015643\n",
      "3.7\t 0.09752522058771755\n",
      "3.75\t 0.08741826999596729\n",
      "3.8000000000000003\t 0.07781785558250555\n",
      "3.85\t 0.06889273801872879\n",
      "3.9000000000000004\t 0.06077575364367005\n",
      "3.95\t 0.05356445610514661\n",
      "# T =  4.0\n",
      "4.0\t 0.04732301095872946\n",
      "4.05\t 0.04208436638178555\n",
      "4.1000000000000005\t 0.03785210109363379\n",
      "4.15\t 0.03460166749949745\n",
      "4.2\t 0.03228100432559646\n",
      "4.25\t 0.030810712955039187\n",
      "4.3\t 0.03008420103396809\n",
      "4.3500000000000005\t 0.02996840649201207\n",
      "4.4\t 0.03030590625420255\n",
      "4.45\t 0.030919325670478653\n",
      "4.5\t 0.03161889094068417\n",
      "4.55\t 0.03221358059973914\n",
      "4.6000000000000005\t 0.03252555454094226\n",
      "4.65\t 0.03240644578952791\n",
      "4.7\t 0.03175300490829697\n",
      "4.75\t 0.030518994032814616\n",
      "4.800000000000001\t 0.028720590560926018\n",
      "4.8500000000000005\t 0.026433948461615436\n",
      "4.9\t 0.023785505126072342\n",
      "4.95\t 0.020937316326711267\n",
      "# T =  5.0\n",
      "5.0\t 0.018070500356470207\n",
      "5.050000000000001\t 0.015369625008073342\n",
      "5.1000000000000005\t 0.01300991342843329\n",
      "5.15\t 0.01114800032234005\n",
      "5.2\t 0.009916046270809846\n",
      "5.25\t 0.009418482578281366\n",
      "5.300000000000001\t 0.009730483640882337\n",
      "5.3500000000000005\t 0.01089733214957407\n",
      "5.4\t 0.012934037975288642\n",
      "5.45\t 0.0158248178407158\n",
      "5.5\t 0.019522307603695253\n",
      "5.550000000000001\t 0.023946660447564817\n",
      "5.6000000000000005\t 0.028984991029987008\n",
      "5.65\t 0.03449195249551417\n",
      "5.7\t 0.04029253369483391\n",
      "5.75\t 0.0461883243051877\n",
      "5.800000000000001\t 0.0519683305591679\n",
      "5.8500000000000005\t 0.05742472980071694\n",
      "5.9\t 0.06237264456320523\n",
      "5.95\t 0.06667132687309299\n",
      "# T =  6.0\n",
      "6.0\t 0.0702427139331541\n",
      "6.050000000000001\t 0.07308299859610183\n",
      "6.1000000000000005\t 0.0752641756455287\n",
      "6.15\t 0.07692515803964524\n",
      "6.2\t 0.07825487495702023\n",
      "6.25\t 0.0794715141289329\n",
      "6.300000000000001\t 0.08080217697862446\n",
      "6.3500000000000005\t 0.08246600502798958\n",
      "6.4\t 0.08466213286804253\n",
      "6.45\t 0.08756236246326121\n",
      "6.5\t 0.09130757748870365\n",
      "6.550000000000001\t 0.0960066065405669\n",
      "6.6000000000000005\t 0.1017363093827497\n",
      "6.65\t 0.10854189938472708\n",
      "6.7\t 0.1164367918662694\n",
      "6.75\t 0.12540152092985943\n",
      "6.800000000000001\t 0.13538149157932675\n",
      "6.8500000000000005\t 0.1462835594355115\n",
      "6.9\t 0.15797170552451847\n",
      "6.95\t 0.17026244996280043\n",
      "# T =  7.0\n",
      "7.0\t 0.18292115673759438\n",
      "7.050000000000001\t 0.1956609887949876\n",
      "7.1000000000000005\t 0.2081468157345778\n",
      "7.15\t 0.22000650703941094\n",
      "7.2\t 0.23085126468920567\n",
      "7.25\t 0.24030456833375682\n",
      "7.300000000000001\t 0.2480361282380079\n",
      "7.3500000000000005\t 0.253794178529971\n",
      "7.4\t 0.25742841072689066\n",
      "7.45\t 0.2588981451216232\n",
      "7.5\t 0.2582652350342321\n",
      "7.550000000000001\t 0.2556760507030638\n",
      "7.6000000000000005\t 0.2513390936132928\n",
      "7.65\t 0.24550374846987646\n",
      "7.7\t 0.23844286192446007\n",
      "7.75\t 0.23043925072159338\n",
      "7.800000000000001\t 0.22177499470149978\n",
      "7.8500000000000005\t 0.21272238654065878\n",
      "7.9\t 0.20353600422843196\n",
      "7.95\t 0.19444590841869766\n",
      "# T =  8.0\n",
      "8.0\t 0.18565216669319493\n",
      "8.05\t 0.17732080921349141\n",
      "8.1\t 0.1695810989726498\n",
      "8.15\t 0.1625238129806799\n",
      "8.200000000000001\t 0.1562001613627567\n",
      "8.25\t 0.1506210370894058\n",
      "8.3\t 0.14575647471102018\n",
      "8.35\t 0.1415354785140286\n",
      "8.4\t 0.13784673102977957\n",
      "8.450000000000001\t 0.13454106334529795\n",
      "8.5\t 0.1314368619052868\n",
      "8.55\t 0.12832963426874117\n",
      "8.6\t 0.12500653785396768\n",
      "8.65\t 0.12126561851056188\n",
      "8.700000000000001\t 0.11693787487826725\n",
      "8.75\t 0.11190854185860247\n",
      "8.8\t 0.10613302504262537\n",
      "8.85\t 0.09964351097276859\n",
      "8.9\t 0.09254452865718736\n",
      "8.950000000000001\t 0.08499877545802581\n",
      "# T =  9.0\n",
      "9.0\t 0.07720696303583846\n",
      "9.05\t 0.06938629296633832\n",
      "9.1\t 0.06175139677230538\n",
      "9.15\t 0.05449989993894239\n",
      "9.200000000000001\t 0.04780307294747023\n",
      "9.25\t 0.041800860977282146\n",
      "9.3\t 0.036600054039829834\n",
      "9.35\t 0.0322743188767667\n",
      "9.4\t 0.028865041516677258\n",
      "9.450000000000001\t 0.026382251737927773\n",
      "9.5\t 0.02480522440564682\n",
      "9.55\t 0.024082648850228653\n",
      "9.600000000000001\t 0.0241325334233846\n",
      "9.65\t 0.024842284869784934\n",
      "9.700000000000001\t 0.026069674036684084\n",
      "9.75\t 0.027645637530826647\n",
      "9.8\t 0.029379981722769403\n",
      "9.850000000000001\t 0.031070908301140315\n",
      "9.9\t 0.032518713063744195\n",
      "9.950000000000001\t 0.0335429561076781\n"
     ]
    }
   ],
   "source": [
    "T = 10\n",
    "dt = T/200\n",
    "\n",
    "##### define data type for the simulation\n",
    "dtype_real = np.float64\n",
    "dtype_cmplx = np.result_type(dtype_real,np.complex64)\n",
    "# pre assign arrays\n",
    "times = np.arange(0,T,dt)                               # times\n",
    "Lt = np.zeros(len(times),dtype=dtype_real)              # Lohschmidt echo\n",
    "# construct piece-wise constant unitaries\n",
    "expH = expm_multiply_parallel(H.tocsr(),a=-1j*dt,dtype=dtype_cmplx)\n",
    "# auxiliary array for memory efficiency\n",
    "psi=psi_i.copy().astype(np.complex128)\n",
    "work_array=np.zeros((2*len(psi),), dtype=psi.dtype) # twice as long because complex_valued\n",
    "# prepare output\n",
    "# file_Loschmidt = open(folder_save+'/Loschmidt_rate',\"w\")\n",
    "# file_Loschmidt.close\n",
    "loschmidt = []\n",
    "for i in range(len(times)):\n",
    "    if i % (len(times)//10) == 0:\n",
    "        print(\"# T = \",times[i])\n",
    "    Lt[i]=-np.log(np.abs(np.vdot(psi_i,psi)))/N\n",
    "#     file_Loschmidtfile = open(folder_save+'/Loschmidt_rate',\"a\")\n",
    "    print(f\"{times[i]}\\t {Lt[i]}\")#file_Loschmidtfile.write(f\"{times[i]}\\t {Lt[i]} \\n\")\n",
    "    loschmidt += [Lt[i]]\n",
    "#     file_Loschmidtfile.close()\n",
    "    expH.dot(psi,work_array=work_array,overwrite_v=True)\n",
    "# END of time evolution"
   ]
  },
  {
   "cell_type": "code",
   "execution_count": 8,
   "metadata": {},
   "outputs": [
    {
     "data": {
      "text/plain": [
       "Text(0.5, 1.0, 'Non-analycities in Lohscmidt Echo Rate')"
      ]
     },
     "execution_count": 8,
     "metadata": {},
     "output_type": "execute_result"
    },
    {
     "data": {
      "image/png": "[encoded data removed]",
      "text/plain": [
       "<Figure size 720x576 with 1 Axes>"
      ]
     },
     "metadata": {
      "needs_background": "light"
     },
     "output_type": "display_data"
    }
   ],
   "source": [
    "plt.plot(times, loschmidt)\n",
    "plt.xlabel(\"Normalized Time\")\n",
    "plt.ylabel(\"Lohschmidt Rate\")\n",
    "plt.title(\"Non-analycities in Lohscmidt Echo Rate\")"
   ]
  },
  {
   "cell_type": "markdown",
   "metadata": {},
   "source": [
    "## OTOC Calculations"
   ]
  },
  {
   "cell_type": "code",
   "execution_count": 9,
   "metadata": {},
   "outputs": [],
   "source": [
    "def c_operator(n):\n",
    "    cdag_static = [[\"-\",[[1.0,n]]]]\n",
    "    cdagn = quantum_LinearOperator(cdag_static,basis=basis_full,dtype=np.complex128,check_herm=False,check_pcon=False,check_symm=False)\n",
    "    return(cdagn)\n",
    "annihilators = [c_operator(n) for n in range(N)]"
   ]
  },
  {
   "cell_type": "code",
   "execution_count": 10,
   "metadata": {},
   "outputs": [
    {
     "name": "stdout",
     "output_type": "stream",
     "text": [
      "Hermiticity check passed!\n",
      "Symmetry checks passed!\n",
      "Particle conservation check passed!\n",
      "Hermiticity check passed!\n",
      "Symmetry checks passed!\n",
      "Particle conservation check passed!\n"
     ]
    }
   ],
   "source": [
    "##### define data type for the simulation\n",
    "dtype_real = np.float64\n",
    "dtype_cmplx = np.result_type(dtype_real,np.complex64)\n",
    "# pre assign arrays\n",
    "times = np.arange(0,T,dt)                               # times\n",
    "\n",
    "# array to store correlators expectations from psi(t,n) to psi(0,0)\n",
    "correlators = np.zeros((N,len(times)),dtype=np.complex128)\n",
    "\n",
    "P_Nhalf = fermion_basis.get_proj(dtype=np.float64)\n",
    "P_Nhalfminus1 = fermion_basis_m1.get_proj(dtype=np.float64)\n",
    "\n",
    "H_NHalf_m1 = hamiltonian(static_terms, dynamic_terms, basis=fermion_basis_m1, dtype=np.float64).tocsr()\n",
    "H_NHalf = hamiltonian(static_terms, dynamic_terms, basis=fermion_basis, dtype=np.float64).tocsr()\n",
    "\n",
    "for n in range(0, N, 2): #loop over all site pairings\n",
    "    for i in range(len(times)): #loop over times (for annhilator location)\n",
    "        # Even Correlators\n",
    "        leftPsi=psi_i.copy().astype(np.complex128) #state for left-half of inner product\n",
    "        rightPsi=psi_i.copy().astype(np.complex128) #state for right-half\n",
    "\n",
    "        expmiH = expm_multiply_parallel(H_NHalf_m1,a=1j*dt*i,dtype=dtype_cmplx)\n",
    "        expiH = expm_multiply_parallel(H_NHalf,a=-1j*dt*i,dtype=dtype_cmplx)\n",
    "\n",
    "        expiH.dot(leftPsi,overwrite_v=True)\n",
    "        tempLpsi = np.transpose(P_Nhalfminus1).dot(annihilators[n].dot(P_Nhalf.dot(leftPsi)))\n",
    "        expmiH.dot(tempLpsi,overwrite_v=True)\n",
    "\n",
    "        tempRpsi = np.transpose(P_Nhalfminus1).dot(annihilators[0].dot(P_Nhalf.dot(rightPsi)))\n",
    "\n",
    "        correlators[n,i] = np.vdot(tempLpsi, tempRpsi) # (<a|b>) <0| . e^(-iHt) . psi\\dagger_n . e^(iHt) . psi(0,0) . |0>\n",
    "        \n",
    "        # Odd Correlators\n",
    "        leftPsi=psi_i.copy().astype(np.complex128) #state for left-half of inner product\n",
    "        rightPsi=psi_i.copy().astype(np.complex128) #state for right-half\n",
    "\n",
    "        expiH.dot(leftPsi,overwrite_v=True) \n",
    "        tempLpsi = np.transpose(P_Nhalfminus1).dot(annihilators[n+1].dot(P_Nhalf.dot(leftPsi)))\n",
    "        expmiH.dot(tempLpsi,overwrite_v=True)\n",
    "\n",
    "        tempRpsi = np.transpose(P_Nhalfminus1).dot(annihilators[1].dot(P_Nhalf.dot(rightPsi)))\n",
    "\n",
    "        correlators[n+1,i] = np.vdot(tempLpsi, tempRpsi) # (<a|b>) <0| . e^(-iHt) . psi\\dagger_n . e^(iHt) . psi(0,0) . |0>\n",
    "    \n",
    "correlatorfft = []\n",
    "for i in range(len(correlators[0, :])):\n",
    "    fftsum = np.fft.fft(correlators[::2,i]) + np.fft.fft(correlators[1::2,i])\n",
    "    correlatorfft.append(fftsum)\n",
    "    \n",
    "correlatorfft = np.array(correlatorfft)"
   ]
  },
  {
   "cell_type": "code",
   "execution_count": 11,
   "metadata": {},
   "outputs": [
    {
     "data": {
      "text/plain": [
       "<matplotlib.image.AxesImage at 0x222dc55c8c8>"
      ]
     },
     "execution_count": 11,
     "metadata": {},
     "output_type": "execute_result"
    },
    {
     "data": {
      "image/png": "[encoded data removed]",
      "text/plain": [
       "<Figure size 720x576 with 1 Axes>"
      ]
     },
     "metadata": {
      "needs_background": "light"
     },
     "output_type": "display_data"
    }
   ],
   "source": [
    "# plt.plot(np.arctan2(np.imag(correlatorfft), np.real(correlatorfft)))\n",
    "plt.xlabel(\"momentum mode\")\n",
    "plt.ylabel(\"time\")\n",
    "plt.title(\"Time evolution of momentum phase\")\n",
    "step_x = 1 # step between consecutive labels\n",
    "x_positions = np.arange(0,N//2,step_x) # pixel count at label position\n",
    "x_labels = np.arange(N//4-N//2+1, N//4+1) # labels you want to see\n",
    "plt.xticks(x_positions, x_labels)\n",
    "y_tickcount = 10 # How many labels on y axis\n",
    "y_positions = np.arange(0,int(T/dt), int((T/dt)/y_tickcount)) # pixel count at label position\n",
    "y_labels = np.round(np.linspace(0,abs(T*m),y_tickcount), 3) # labels you want to see\n",
    "plt.yticks(y_positions, y_labels)\n",
    "plt.imshow(np.angle(correlatorfft), aspect='auto', origin='lower')"
   ]
  },
  {
   "cell_type": "markdown",
   "metadata": {},
   "source": [
    "## Order Parameter Calculation"
   ]
  },
  {
   "cell_type": "code",
   "execution_count": 12,
   "metadata": {},
   "outputs": [],
   "source": [
    "t_slices, k_modes = np.shape(correlatorfft)\n",
    "dphi_k = np.zeros((t_slices-1, k_modes))\n",
    "dphi_t = np.zeros((t_slices-1, k_modes))\n",
    "for t in range(t_slices-1):\n",
    "    for k in range(k_modes):\n",
    "        dphi_k[t, k] = np.angle(correlatorfft[t, (k+1)%k_modes]/correlatorfft[t, k])\n",
    "        dphi_t[t, k] = np.angle(correlatorfft[t + 1, k]/correlatorfft[t, k])\n",
    "        \n",
    "finite_full = np.zeros((t_slices - 2, k_modes))\n",
    "for t in range(t_slices-2):\n",
    "    for k in range(k_modes):\n",
    "        finite_full[t, k] = (dphi_k[t, k] + dphi_t[t, (k+1)%k_modes]) - (dphi_k[t+1, k] + dphi_t[t, k])\n",
    "finite_left = np.zeros(t_slices-2)\n",
    "finite_right = np.zeros(t_slices-2)\n",
    "for k in range(k_modes//2):\n",
    "    finite_left += finite_full[:,k]/2/np.pi\n",
    "    finite_right += finite_full[:,k+k_modes//2]/2/np.pi\n",
    "n_left = []\n",
    "n_right = []\n",
    "for t in range(t_slices-2):\n",
    "    ntau_left = 0\n",
    "    ntau_right = 0\n",
    "    for tau in range(0,t):\n",
    "        ntau_left += finite_left[tau]\n",
    "        ntau_right += finite_right[tau]\n",
    "    n_left.append(ntau_left)\n",
    "    n_right.append(ntau_right)\n",
    "n_left = np.array(n_left)\n",
    "n_right = np.array(n_right)"
   ]
  },
  {
   "cell_type": "code",
   "execution_count": 13,
   "metadata": {},
   "outputs": [
    {
     "data": {
      "image/png": "[encoded data removed]",
      "text/plain": [
       "<Figure size 720x576 with 1 Axes>"
      ]
     },
     "metadata": {
      "needs_background": "light"
     },
     "output_type": "display_data"
    }
   ],
   "source": [
    "plt.plot(np.linspace(0, T * m, len(n_left)), (n_left-n_right))\n",
    "plt.show()"
   ]
  }
 ],
 "metadata": {
  "kernelspec": {
   "display_name": "Python 3",
   "language": "python",
   "name": "python3"
  },
  "language_info": {
   "codemirror_mode": {
    "name": "ipython",
    "version": 3
   },
   "file_extension": ".py",
   "mimetype": "text/x-python",
   "name": "python",
   "nbconvert_exporter": "python",
   "pygments_lexer": "ipython3",
   "version": "3.7.4"
  }
 },
 "nbformat": 4,
 "nbformat_minor": 4
}
