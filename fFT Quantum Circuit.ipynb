{
 "cells": [
  {
   "cell_type": "code",
   "execution_count": 1,
   "metadata": {},
   "outputs": [
    {
     "output_type": "execute_result",
     "data": {
      "text/plain": [
       "[<IBMQBackend('ibmqx2') from IBMQ(hub='ibm-q', group='open', project='main')>,\n",
       " <IBMQBackend('ibmq_athens') from IBMQ(hub='ibm-q', group='open', project='main')>,\n",
       " <IBMQBackend('ibmq_santiago') from IBMQ(hub='ibm-q', group='open', project='main')>,\n",
       " <IBMQBackend('ibmq_lima') from IBMQ(hub='ibm-q', group='open', project='main')>,\n",
       " <IBMQBackend('ibmq_belem') from IBMQ(hub='ibm-q', group='open', project='main')>,\n",
       " <IBMQBackend('ibmq_quito') from IBMQ(hub='ibm-q', group='open', project='main')>,\n",
       " <IBMQBackend('ibmq_manila') from IBMQ(hub='ibm-q', group='open', project='main')>]"
      ]
     },
     "metadata": {},
     "execution_count": 1
    }
   ],
   "source": [
    "from qiskit import *\n",
    "from qiskit import Aer\n",
    "from qiskit.circuit.library.standard_gates import HGate\n",
    "import numpy as np\n",
    "import matplotlib.pyplot as plt\n",
    "import itertools\n",
    "import matplotlib.ticker as ticker\n",
    "from qiskit.visualization import plot_state_city\n",
    "from qiskit.providers.ibmq import least_busy\n",
    "%matplotlib inline\n",
    "plt.rcParams['figure.figsize'] = [10, 8]\n",
    "simulator = Aer.get_backend('statevector_simulator')\n",
    "from qiskit import IBMQ, assemble, transpile\n",
    "import qiskit.quantum_info as qi\n",
    "\n",
    "provider = IBMQ.load_account()\n",
    "provider.backends(simulator=False, operational=True)\n",
    "small_devices = provider.backends(filters=lambda x: x.configuration().n_qubits == 5\n",
    "                                   and not x.configuration().simulator)\n",
    "small_devices"
   ]
  },
  {
   "cell_type": "code",
   "execution_count": 11,
   "metadata": {},
   "outputs": [],
   "source": [
    "def Fgate(k):\n",
    "    qcirc = QuantumCircuit(2,name=\"F_{:}\".format(k))\n",
    "    qcirc.rz(2*np.pi*k/N,1)\n",
    "    qcirc.cx(1,0)\n",
    "    qcirc.ch(0,1)\n",
    "    qcirc.cx(1,0)\n",
    "    qcirc.cz(1,0)\n",
    "    return(qcirc.to_instruction())\n",
    "\n",
    "def Fdgate(k):\n",
    "    qcirc = QuantumCircuit(2,name=\"F+_{:}\".format(k))\n",
    "    qcirc.cz(1,0)\n",
    "    qcirc.cx(1,0)\n",
    "    qcirc.ch(0,1)\n",
    "    qcirc.cx(1,0)\n",
    "    qcirc.rz(-2*np.pi*k/N,1)\n",
    "    return(qcirc.to_instruction())\n",
    "\n",
    "def fSWAP():\n",
    "    qcirc = QuantumCircuit(2,name=\"fSWAP\")\n",
    "    qcirc.cx(0,1)\n",
    "    qcirc.cx(1,0)\n",
    "    qcirc.cx(0,1)\n",
    "    qcirc.h(1)\n",
    "    qcirc.cx(0,1)\n",
    "    qcirc.h(1)\n",
    "    return(qcirc.to_instruction())\n",
    "\n",
    "# fSWAP = [\"s\",q1,q2]\n",
    "# F-Gate = [\"f\",q1,q2,k]\n",
    "# Fdagger-Gate = [\"fd\",q1,q2,k]\n",
    "def listAppend(orderedlist,qc):\n",
    "    for i in orderedlist:\n",
    "        if(i[0] == \"s\" and len(i) == 3):\n",
    "            qc.append(fSWAP(),[i[1],i[2]])\n",
    "        elif(i[0] == \"f\" and len(i) == 4):\n",
    "            qc.append(Fgate(i[3]),[i[1],i[2]])\n",
    "        elif(i[0] == \"fd\" and len(i) == 4):\n",
    "            qc.append(Fdgate(i[3]),[i[1],i[2]])\n",
    "        else:\n",
    "            print(\"Failed circuit instruction: {:}\".format(i))\n",
    "\n",
    "# fFT methods assume qubits come in like ++-- (N=4) or ++++---- (N=8) and return qubits like +-+- (N=4) or +-+-+-+- (N=8). #\n",
    "def fFT4():\n",
    "    qcirc = QuantumCircuit(4,name=\"U+_fFT\")\n",
    "    list = [[\"fd\",0,1,0],[\"fd\",2,3,0],[\"s\",1,2]]\n",
    "    listAppend(list,qcirc)\n",
    "    qcirc.draw()\n",
    "    return(qcirc.to_instruction())\n",
    "\n",
    "def fFT8():\n",
    "    qcirc = QuantumCircuit(8,name=\"U+_fFT\")\n",
    "    list = [[\"fd\",0,1,1],[\"fd\",2,3,0],[\"s\",1,2],[\"fd\",0,1,0],[\"fd\",2,3,0],[\"fd\",4,5,1],[\"fd\",6,7,0],[\"s\",5,6],[\"fd\",4,5,0],[\"fd\",6,7,0],[\"s\",3,4],[\"s\",2,3],[\"s\",4,5],[\"s\",1,2],[\"s\",3,4],[\"s\",5,6]]\n",
    "    listAppend(list,qcirc)\n",
    "    qcirc.draw()\n",
    "    return(qcirc.to_instruction())"
   ]
  },
  {
   "source": [
    "## Check U_fFT Gate Compositions"
   ],
   "cell_type": "markdown",
   "metadata": {}
  },
  {
   "cell_type": "code",
   "execution_count": 3,
   "metadata": {},
   "outputs": [
    {
     "output_type": "execute_result",
     "data": {
      "text/plain": [
       "     ┌─────────┐\n",
       "q_0: ┤0        ├\n",
       "     │         │\n",
       "q_1: ┤1        ├\n",
       "     │  U+_fFT │\n",
       "q_2: ┤2        ├\n",
       "     │         │\n",
       "q_3: ┤3        ├\n",
       "     └─────────┘"
      ],
      "text/html": "<pre style=\"word-wrap: normal;white-space: pre;background: #fff0;line-height: 1.1;font-family: &quot;Courier New&quot;,Courier,monospace\">     ┌─────────┐\nq_0: ┤0        ├\n     │         │\nq_1: ┤1        ├\n     │  U+_fFT │\nq_2: ┤2        ├\n     │         │\nq_3: ┤3        ├\n     └─────────┘</pre>"
     },
     "metadata": {},
     "execution_count": 3
    }
   ],
   "source": [
    "qc = QuantumCircuit(4)\n",
    "qr = QuantumRegister(4)\n",
    "qc.append(fFT4(),[0,1,2,3])\n",
    "qc.draw()"
   ]
  },
  {
   "cell_type": "code",
   "execution_count": 4,
   "metadata": {},
   "outputs": [
    {
     "output_type": "execute_result",
     "data": {
      "text/plain": [
       "     ┌───────┐          \n",
       "q_0: ┤0      ├──────────\n",
       "     │  F+_0 │┌────────┐\n",
       "q_1: ┤1      ├┤0       ├\n",
       "     ├───────┤│  fSWAP │\n",
       "q_2: ┤0      ├┤1       ├\n",
       "     │  F+_0 │└────────┘\n",
       "q_3: ┤1      ├──────────\n",
       "     └───────┘          "
      ],
      "text/html": "<pre style=\"word-wrap: normal;white-space: pre;background: #fff0;line-height: 1.1;font-family: &quot;Courier New&quot;,Courier,monospace\">     ┌───────┐          \nq_0: ┤0      ├──────────\n     │  F+_0 │┌────────┐\nq_1: ┤1      ├┤0       ├\n     ├───────┤│  fSWAP │\nq_2: ┤0      ├┤1       ├\n     │  F+_0 │└────────┘\nq_3: ┤1      ├──────────\n     └───────┘          </pre>"
     },
     "metadata": {},
     "execution_count": 4
    }
   ],
   "source": [
    "qcirc = QuantumCircuit(4,name=\"U+_fFT\")\n",
    "list = [[\"fd\",0,1,0],[\"fd\",2,3,0],[\"s\",1,2]]\n",
    "listAppend(list,qcirc)\n",
    "qcirc.draw()"
   ]
  },
  {
   "cell_type": "code",
   "execution_count": 5,
   "metadata": {},
   "outputs": [
    {
     "output_type": "execute_result",
     "data": {
      "text/plain": [
       "     ┌─────────┐\n",
       "q_0: ┤0        ├\n",
       "     │         │\n",
       "q_1: ┤1        ├\n",
       "     │         │\n",
       "q_2: ┤2        ├\n",
       "     │         │\n",
       "q_3: ┤3        ├\n",
       "     │  U+_fFT │\n",
       "q_4: ┤4        ├\n",
       "     │         │\n",
       "q_5: ┤5        ├\n",
       "     │         │\n",
       "q_6: ┤6        ├\n",
       "     │         │\n",
       "q_7: ┤7        ├\n",
       "     └─────────┘"
      ],
      "text/html": "<pre style=\"word-wrap: normal;white-space: pre;background: #fff0;line-height: 1.1;font-family: &quot;Courier New&quot;,Courier,monospace\">     ┌─────────┐\nq_0: ┤0        ├\n     │         │\nq_1: ┤1        ├\n     │         │\nq_2: ┤2        ├\n     │         │\nq_3: ┤3        ├\n     │  U+_fFT │\nq_4: ┤4        ├\n     │         │\nq_5: ┤5        ├\n     │         │\nq_6: ┤6        ├\n     │         │\nq_7: ┤7        ├\n     └─────────┘</pre>"
     },
     "metadata": {},
     "execution_count": 5
    }
   ],
   "source": [
    "qc = QuantumCircuit(8)\n",
    "qr = QuantumRegister(8)\n",
    "qc.append(fFT8(),[0,1,2,3,4,5,6,7])\n",
    "qc.draw()"
   ]
  },
  {
   "cell_type": "code",
   "execution_count": 6,
   "metadata": {},
   "outputs": [
    {
     "output_type": "execute_result",
     "data": {
      "text/plain": [
       "     ┌───────┐          ┌───────┐                              \n",
       "q_0: ┤0      ├──────────┤0      ├──────────────────────────────\n",
       "     │  F+_1 │┌────────┐│  F+_0 │                    ┌────────┐\n",
       "q_1: ┤1      ├┤0       ├┤1      ├────────────────────┤0       ├\n",
       "     ├───────┤│  fSWAP │├───────┤          ┌────────┐│  fSWAP │\n",
       "q_2: ┤0      ├┤1       ├┤0      ├──────────┤0       ├┤1       ├\n",
       "     │  F+_0 │└────────┘│  F+_0 │┌────────┐│  fSWAP │├────────┤\n",
       "q_3: ┤1      ├──────────┤1      ├┤0       ├┤1       ├┤0       ├\n",
       "     ├───────┤          ├───────┤│  fSWAP │├────────┤│  fSWAP │\n",
       "q_4: ┤0      ├──────────┤0      ├┤1       ├┤0       ├┤1       ├\n",
       "     │  F+_1 │┌────────┐│  F+_0 │└────────┘│  fSWAP │├────────┤\n",
       "q_5: ┤1      ├┤0       ├┤1      ├──────────┤1       ├┤0       ├\n",
       "     ├───────┤│  fSWAP │├───────┤          └────────┘│  fSWAP │\n",
       "q_6: ┤0      ├┤1       ├┤0      ├────────────────────┤1       ├\n",
       "     │  F+_0 │└────────┘│  F+_0 │                    └────────┘\n",
       "q_7: ┤1      ├──────────┤1      ├──────────────────────────────\n",
       "     └───────┘          └───────┘                              "
      ],
      "text/html": "<pre style=\"word-wrap: normal;white-space: pre;background: #fff0;line-height: 1.1;font-family: &quot;Courier New&quot;,Courier,monospace\">     ┌───────┐          ┌───────┐                              \nq_0: ┤0      ├──────────┤0      ├──────────────────────────────\n     │  F+_1 │┌────────┐│  F+_0 │                    ┌────────┐\nq_1: ┤1      ├┤0       ├┤1      ├────────────────────┤0       ├\n     ├───────┤│  fSWAP │├───────┤          ┌────────┐│  fSWAP │\nq_2: ┤0      ├┤1       ├┤0      ├──────────┤0       ├┤1       ├\n     │  F+_0 │└────────┘│  F+_0 │┌────────┐│  fSWAP │├────────┤\nq_3: ┤1      ├──────────┤1      ├┤0       ├┤1       ├┤0       ├\n     ├───────┤          ├───────┤│  fSWAP │├────────┤│  fSWAP │\nq_4: ┤0      ├──────────┤0      ├┤1       ├┤0       ├┤1       ├\n     │  F+_1 │┌────────┐│  F+_0 │└────────┘│  fSWAP │├────────┤\nq_5: ┤1      ├┤0       ├┤1      ├──────────┤1       ├┤0       ├\n     ├───────┤│  fSWAP │├───────┤          └────────┘│  fSWAP │\nq_6: ┤0      ├┤1       ├┤0      ├────────────────────┤1       ├\n     │  F+_0 │└────────┘│  F+_0 │                    └────────┘\nq_7: ┤1      ├──────────┤1      ├──────────────────────────────\n     └───────┘          └───────┘                              </pre>"
     },
     "metadata": {},
     "execution_count": 6
    }
   ],
   "source": [
    "qcirc = QuantumCircuit(8,name=\"U+_fFT\")\n",
    "list = [[\"fd\",0,1,1],[\"fd\",2,3,0],[\"s\",1,2],[\"fd\",0,1,0],[\"fd\",2,3,0],[\"fd\",4,5,1],[\"fd\",6,7,0],[\"s\",5,6],[\"fd\",4,5,0],[\"fd\",6,7,0],[\"s\",3,4],[\"s\",2,3],[\"s\",4,5],[\"s\",1,2],[\"s\",3,4],[\"s\",5,6]]\n",
    "listAppend(list,qcirc)\n",
    "qcirc.draw()"
   ]
  },
  {
   "source": [
    "result=job.result()\n",
    "outputstate = result.get_statevector(qcirc, decimals=3)\n",
    "print(outputstate)\n",
    "plot_state_city(outputstate)\n",
    "#print(result.get_unitary(qcirc,decimals=3))"
   ],
   "cell_type": "markdown",
   "metadata": {}
  },
  {
   "cell_type": "code",
   "execution_count": null,
   "metadata": {},
   "outputs": [],
   "source": [
    "## Run on a Simulator"
   ]
  },
  {
   "cell_type": "code",
   "execution_count": null,
   "metadata": {},
   "outputs": [],
   "source": [
    "job = execute(qc, simulator)"
   ]
  }
 ],
 "metadata": {
  "kernelspec": {
   "name": "python3",
   "display_name": "Python 3.7.6 64-bit ('base': conda)"
  },
  "language_info": {
   "codemirror_mode": {
    "name": "ipython",
    "version": 3
   },
   "file_extension": ".py",
   "mimetype": "text/x-python",
   "name": "python",
   "nbconvert_exporter": "python",
   "pygments_lexer": "ipython3",
   "version": "3.7.6"
  },
  "interpreter": {
   "hash": "152cfe25893dc717ce9af840a4cd5b70e2db3512806c6eb4e5109030e55f5679"
  }
 },
 "nbformat": 4,
 "nbformat_minor": 4
}