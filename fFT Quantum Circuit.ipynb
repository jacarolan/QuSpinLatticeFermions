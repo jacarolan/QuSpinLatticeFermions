{
 "cells": [
  {
   "cell_type": "markdown",
   "metadata": {},
   "source": [
    "## Import Statements"
   ]
  },
  {
   "cell_type": "code",
   "execution_count": 11,
   "metadata": {},
   "outputs": [
    {
     "name": "stderr",
     "output_type": "stream",
     "text": [
      "ibmqfactory.load_account:WARNING:2021-07-06 14:43:06,072: Credentials are already in use. The existing account in the session will be replaced.\n"
     ]
    },
    {
     "data": {
      "text/plain": [
       "[<IBMQBackend('ibmqx2') from IBMQ(hub='ibm-q', group='open', project='main')>,\n",
       " <IBMQBackend('ibmq_santiago') from IBMQ(hub='ibm-q', group='open', project='main')>,\n",
       " <IBMQBackend('ibmq_lima') from IBMQ(hub='ibm-q', group='open', project='main')>,\n",
       " <IBMQBackend('ibmq_belem') from IBMQ(hub='ibm-q', group='open', project='main')>,\n",
       " <IBMQBackend('ibmq_quito') from IBMQ(hub='ibm-q', group='open', project='main')>,\n",
       " <IBMQBackend('ibmq_manila') from IBMQ(hub='ibm-q', group='open', project='main')>]"
      ]
     },
     "execution_count": 11,
     "metadata": {},
     "output_type": "execute_result"
    }
   ],
   "source": [
    "from qiskit import *\r\n",
    "from qiskit import Aer\r\n",
    "from qiskit.circuit.library.standard_gates import HGate\r\n",
    "import numpy as np\r\n",
    "import matplotlib.pyplot as plt\r\n",
    "import itertools\r\n",
    "import matplotlib.ticker as ticker\r\n",
    "from qiskit.visualization import plot_state_city\r\n",
    "from qiskit.providers.ibmq import least_busy\r\n",
    "from qiskit.circuit import Parameter\r\n",
    "%matplotlib inline\r\n",
    "plt.rcParams['figure.figsize'] = [10, 8]\r\n",
    "simulator = Aer.get_backend('statevector_simulator')\r\n",
    "from qiskit import IBMQ, assemble, transpile\r\n",
    "import qiskit.quantum_info as qi\r\n",
    "\r\n",
    "provider = IBMQ.load_account()\r\n",
    "provider.backends(simulator=False, operational=True)\r\n",
    "small_devices = provider.backends(filters=lambda x: x.configuration().n_qubits == 5\r\n",
    "                                   and not x.configuration().simulator)\r\n",
    "small_devices"
   ]
  },
  {
   "cell_type": "markdown",
   "metadata": {},
   "source": [
    "## Function Definitions"
   ]
  },
  {
   "cell_type": "code",
   "execution_count": 62,
   "metadata": {},
   "outputs": [],
   "source": [
    "def Fgate(k,N):\r\n",
    "    qcirc = QuantumCircuit(2,name=\"F_{:}\".format(k))\r\n",
    "    qcirc.rz(2*np.pi*k/N,1)\r\n",
    "    qcirc.cx(1,0)\r\n",
    "    qcirc.ch(0,1)\r\n",
    "    qcirc.cx(1,0)\r\n",
    "    qcirc.cz(1,0)\r\n",
    "    return(qcirc.to_instruction())\r\n",
    "\r\n",
    "def Fdgate(k,N):\r\n",
    "    qcirc = QuantumCircuit(2,name=\"F+_{:}\".format(k))\r\n",
    "    qcirc.cz(1,0)\r\n",
    "    qcirc.cx(1,0)\r\n",
    "    qcirc.ch(0,1)\r\n",
    "    qcirc.cx(1,0)\r\n",
    "    qcirc.rz(-2*np.pi*k/N,1)\r\n",
    "    return(qcirc.to_instruction())\r\n",
    "\r\n",
    "def fSWAP():\r\n",
    "    qcirc = QuantumCircuit(2,name=\"fSWAP\")\r\n",
    "    qcirc.cx(0,1)\r\n",
    "    qcirc.cx(1,0)\r\n",
    "    qcirc.cx(0,1)\r\n",
    "    qcirc.h(1)\r\n",
    "    qcirc.cx(0,1)\r\n",
    "    qcirc.h(1)\r\n",
    "    return(qcirc.to_instruction())\r\n",
    "\r\n",
    "# fSWAP = [\"s\",q1,q2]\r\n",
    "# F-Gate = [\"f\",q1,q2,k]\r\n",
    "# Fdagger-Gate = [\"fd\",q1,q2,k]\r\n",
    "def listAppend(orderedlist,qc):\r\n",
    "    N = len(qc.qubits)\r\n",
    "    for i in orderedlist:\r\n",
    "        if(i[0] == \"s\" and len(i) == 3):\r\n",
    "            qc.append(fSWAP(),[i[1],i[2]])\r\n",
    "        elif(i[0] == \"f\" and len(i) == 4):\r\n",
    "            qc.append(Fgate(i[3],N),[i[1],i[2]])\r\n",
    "        elif(i[0] == \"fd\" and len(i) == 4):\r\n",
    "            qc.append(Fdgate(i[3],N),[i[1],i[2]])\r\n",
    "        else:\r\n",
    "            print(\"Failed circuit instruction: {:}\".format(i))\r\n",
    "\r\n",
    "# fFT methods assume qubits come in like ++-- (N=4) or ++++---- (N=8) and return qubits like +-+- (N=4) or +-+-+-+- (N=8). #\r\n",
    "def fFT4():\r\n",
    "    N=4\r\n",
    "    qcirc = QuantumCircuit(4,name=\"U+_fFT\")\r\n",
    "    list = [[\"fd\",0,1,0],[\"fd\",2,3,0],[\"s\",1,2]]\r\n",
    "    listAppend(list,qcirc)\r\n",
    "    qcirc.draw()\r\n",
    "    return(qcirc.to_instruction())\r\n",
    "\r\n",
    "def fFT8():\r\n",
    "    N=8\r\n",
    "    qcirc = QuantumCircuit(8,name=\"U+_fFT\")\r\n",
    "    list = [[\"fd\",0,1,1],[\"fd\",2,3,0],[\"s\",1,2],[\"fd\",0,1,0],[\"fd\",2,3,0],[\"fd\",4,5,1],[\"fd\",6,7,0],[\"s\",5,6],[\"fd\",4,5,0],[\"fd\",6,7,0],[\"s\",3,4],[\"s\",2,3],[\"s\",4,5],[\"s\",1,2],[\"s\",3,4],[\"s\",5,6]]\r\n",
    "    listAppend(list,qcirc)\r\n",
    "    qcirc.draw()\r\n",
    "    return(qcirc.to_instruction())\r\n",
    "\r\n",
    "## Implements exp( -i/2*(thetax XX + thetay YY + thetaz ZZ))\r\n",
    "def pauliExp(thetax = 0,thetay = 0,thetaz = 0):\r\n",
    "    qcirc = QuantumCircuit(2,name=\"XX: {:}, YY: {:}, ZZ: {:}\".format(thetax,thetay,thetaz))\r\n",
    "    qcirc.cx(0,1)\r\n",
    "    if(thetax != 0):\r\n",
    "        qcirc.rx(thetax,0)\r\n",
    "    if(thetaz != 0):\r\n",
    "        qcirc.rz(thetaz,1)\r\n",
    "    qcirc.h(0)\r\n",
    "    qcirc.cx(0,1)\r\n",
    "    if(thetaz != 0):\r\n",
    "        qcirc.rz(-thetay,1)\r\n",
    "    qcirc.s(0)\r\n",
    "    qcirc.h(0)\r\n",
    "    qcirc.cx(0,1)\r\n",
    "    qcirc.rx(-np.pi/2,0)\r\n",
    "    qcirc.rx(np.pi/2,1)\r\n",
    "    return(qcirc.to_instruction())\r\n",
    "\r\n",
    "def bogT(q,N,m):\r\n",
    "    alpha = -2.0*np.pi*q/N\r\n",
    "    omega = np.sqrt(m**2 + np.cos(-alpha)**2)\r\n",
    "    beta = np.arctan( np.sqrt( (omega-m)/(omega+m) ) )\r\n",
    "    theta2 = -alpha - np.pi/2\r\n",
    "    theta3 = alpha/2\r\n",
    "    theta4 = beta\r\n",
    "    theta5 = -alpha/2\r\n",
    "    theta6 = 1/2*(np.pi - alpha)\r\n",
    "    qcirc = QuantumCircuit(2,name=\"B\")\r\n",
    "    qcirc.rz(theta6,0)\r\n",
    "    qcirc.rz(theta5,1)\r\n",
    "    qcirc.append(pauliExp(theta4,theta4,theta3),[0,1])\r\n",
    "    qcirc.rz(theta2,1)\r\n",
    "    qcirc.draw(\"mpl\")\r\n",
    "    return(qcirc.to_instruction())"
   ]
  },
  {
   "cell_type": "code",
   "execution_count": 84,
   "metadata": {},
   "outputs": [],
   "source": [
    "def swapladder(qubits):\n",
    "    N = len(qubits)\n",
    "    qcirc = QuantumCircuit(N,name=\"SwapLadder({:})\".format(N))\n",
    "    for i in range(int(N/2)-1):\n",
    "        orderedlist = []\n",
    "        for k in range(i+1):\n",
    "            orderedlist = orderedlist + [[\"s\",int(N/2) - 1 + i - 2*k,int(N/2) + i - 2*k]]\n",
    "        listAppend(orderedlist,qcirc)\n",
    "    return(qcirc.to_instruction())\n",
    "\n",
    "def FFT(qubits,N):\n",
    "    n = len(qubits)\n",
    "    qcirc = QuantumCircuit(n,name=\"U+_fFT\")\n",
    "    if n % 2 > 0:\n",
    "        print(\"Number of particle or antiparticle qubits must be a power of 2\")\n",
    "    elif n==2: #IF N=2, DFT\n",
    "        qcirc.append(Fgate(0),qubits)\n",
    "    else:\n",
    "        1\n",
    "\n",
    "def CRZD(theta,control_qubit,target_qubit,circuit):\n",
    "    circuit.rz(theta/2,target_qubit)\n",
    "    circuit.cx(control_qubit,target_qubit)\n",
    "    circuit.rz(-theta/2,target_qubit)\n",
    "    circuit.cx(control_qubit,target_qubit)\n",
    "\n",
    "    ###################### WIP ######################\n",
    "def fFT(circuit, qubits):\n",
    "    qcirc = QuantumCircuit(len(qubits),name=\"U+_fFT\")\n",
    "    N = len(qubits)\n",
    "    if N % 2 > 0:\n",
    "        print(\"N must be divisible by 2 for fFT\")\n",
    "    particles = qubits[:int(N/2)]\n",
    "    antiparticles = qubits[int(N/2):]\n",
    "    qcirc.append(FFT(particles),particles)\n",
    "    qcirc.append(FFT(antiparticles),antiparticles)\n",
    "        "
   ]
  },
  {
   "cell_type": "markdown",
   "metadata": {},
   "source": [
    "## Check U_fFT Gate Compositions"
   ]
  },
  {
   "cell_type": "code",
   "execution_count": 11,
   "metadata": {},
   "outputs": [
    {
     "data": {
      "text/html": [
       "<pre style=\"word-wrap: normal;white-space: pre;background: #fff0;line-height: 1.1;font-family: &quot;Courier New&quot;,Courier,monospace\">     ┌────────────────┐\n",
       "q_0: ┤0               ├\n",
       "     │                │\n",
       "q_1: ┤1               ├\n",
       "     │                │\n",
       "q_2: ┤2               ├\n",
       "     │                │\n",
       "q_3: ┤3               ├\n",
       "     │  SwapLadder(8) │\n",
       "q_4: ┤4               ├\n",
       "     │                │\n",
       "q_5: ┤5               ├\n",
       "     │                │\n",
       "q_6: ┤6               ├\n",
       "     │                │\n",
       "q_7: ┤7               ├\n",
       "     └────────────────┘</pre>"
      ],
      "text/plain": [
       "     ┌────────────────┐\n",
       "q_0: ┤0               ├\n",
       "     │                │\n",
       "q_1: ┤1               ├\n",
       "     │                │\n",
       "q_2: ┤2               ├\n",
       "     │                │\n",
       "q_3: ┤3               ├\n",
       "     │  SwapLadder(8) │\n",
       "q_4: ┤4               ├\n",
       "     │                │\n",
       "q_5: ┤5               ├\n",
       "     │                │\n",
       "q_6: ┤6               ├\n",
       "     │                │\n",
       "q_7: ┤7               ├\n",
       "     └────────────────┘"
      ]
     },
     "execution_count": 11,
     "metadata": {},
     "output_type": "execute_result"
    }
   ],
   "source": [
    "qc = QuantumCircuit(8)\n",
    "qr = QuantumRegister(8)\n",
    "qc.append(swapladder([0,1,2,3,4,5,6,7]),[0,1,2,3,4,5,6,7])\n",
    "qc.draw()"
   ]
  },
  {
   "cell_type": "code",
   "execution_count": 12,
   "metadata": {},
   "outputs": [
    {
     "data": {
      "text/html": [
       "<pre style=\"word-wrap: normal;white-space: pre;background: #fff0;line-height: 1.1;font-family: &quot;Courier New&quot;,Courier,monospace\">     ┌───────┐          \n",
       "q_0: ┤0      ├──────────\n",
       "     │  F+_0 │┌────────┐\n",
       "q_1: ┤1      ├┤0       ├\n",
       "     ├───────┤│  fSWAP │\n",
       "q_2: ┤0      ├┤1       ├\n",
       "     │  F+_0 │└────────┘\n",
       "q_3: ┤1      ├──────────\n",
       "     └───────┘          </pre>"
      ],
      "text/plain": [
       "     ┌───────┐          \n",
       "q_0: ┤0      ├──────────\n",
       "     │  F+_0 │┌────────┐\n",
       "q_1: ┤1      ├┤0       ├\n",
       "     ├───────┤│  fSWAP │\n",
       "q_2: ┤0      ├┤1       ├\n",
       "     │  F+_0 │└────────┘\n",
       "q_3: ┤1      ├──────────\n",
       "     └───────┘          "
      ]
     },
     "execution_count": 12,
     "metadata": {},
     "output_type": "execute_result"
    }
   ],
   "source": [
    "qcirc = QuantumCircuit(4,name=\"U+_fFT\")\n",
    "list = [[\"fd\",0,1,0],[\"fd\",2,3,0],[\"s\",1,2]]\n",
    "listAppend(list,qcirc)\n",
    "qcirc.draw()"
   ]
  },
  {
   "cell_type": "code",
   "execution_count": 15,
   "metadata": {},
   "outputs": [
    {
     "data": {
      "text/html": [
       "<pre style=\"word-wrap: normal;white-space: pre;background: #fff0;line-height: 1.1;font-family: &quot;Courier New&quot;,Courier,monospace\">     ┌─────────┐\n",
       "q_0: ┤0        ├\n",
       "     │         │\n",
       "q_1: ┤1        ├\n",
       "     │         │\n",
       "q_2: ┤2        ├\n",
       "     │         │\n",
       "q_3: ┤3        ├\n",
       "     │  U+_fFT │\n",
       "q_4: ┤4        ├\n",
       "     │         │\n",
       "q_5: ┤5        ├\n",
       "     │         │\n",
       "q_6: ┤6        ├\n",
       "     │         │\n",
       "q_7: ┤7        ├\n",
       "     └─────────┘</pre>"
      ],
      "text/plain": [
       "     ┌─────────┐\n",
       "q_0: ┤0        ├\n",
       "     │         │\n",
       "q_1: ┤1        ├\n",
       "     │         │\n",
       "q_2: ┤2        ├\n",
       "     │         │\n",
       "q_3: ┤3        ├\n",
       "     │  U+_fFT │\n",
       "q_4: ┤4        ├\n",
       "     │         │\n",
       "q_5: ┤5        ├\n",
       "     │         │\n",
       "q_6: ┤6        ├\n",
       "     │         │\n",
       "q_7: ┤7        ├\n",
       "     └─────────┘"
      ]
     },
     "execution_count": 15,
     "metadata": {},
     "output_type": "execute_result"
    }
   ],
   "source": [
    "qc = QuantumCircuit(8)\n",
    "qr = QuantumRegister(8)\n",
    "qc.append(fFT8(),[0,1,2,3,4,5,6,7])\n",
    "qc.draw()"
   ]
  },
  {
   "cell_type": "markdown",
   "metadata": {},
   "source": [
    "## Decomposition"
   ]
  },
  {
   "cell_type": "code",
   "execution_count": 90,
   "metadata": {},
   "outputs": [
    {
     "data": {
      "image/png": "[encoded data removed]",
      "image/svg+xml": "<?xml version=\"1.0\" encoding=\"utf-8\" standalone=\"no\"?>\r\n<!DOCTYPE svg PUBLIC \"-//W3C//DTD SVG 1.1//EN\"\r\n  \"http://www.w3.org/Graphics/SVG/1.1/DTD/svg11.dtd\">\r\n<!-- Created with matplotlib (https://matplotlib.org/) -->\r\n<svg height=\"123.4824pt\" version=\"1.1\" viewBox=\"0 0 967.05296 123.4824\" width=\"967.05296pt\" xmlns=\"http://www.w3.org/2000/svg\" xmlns:xlink=\"http://www.w3.org/1999/xlink\">\r\n <defs>\r\n  <style type=\"text/css\">\r\n*{stroke-linecap:butt;stroke-linejoin:round;}\r\n  </style>\r\n </defs>\r\n <g id=\"figure_1\">\r\n  <g id=\"patch_1\">\r\n   <path d=\"M 0 123.4824 \r\nL 967.05296 123.4824 \r\nL 967.05296 0 \r\nL 0 0 \r\nz\r\n\" style=\"fill:#ffffff;\"/>\r\n  </g>\r\n  <g id=\"axes_1\">\r\n   <g id=\"line2d_1\">\r\n    <path clip-path=\"url(#pcacb445871)\" d=\"M 100.82906 43.5608 \r\nL 955.30786 43.5608 \r\n\" style=\"fill:none;stroke:#000000;stroke-linecap:square;stroke-width:2;\"/>\r\n   </g>\r\n   <g id=\"line2d_2\">\r\n    <path clip-path=\"url(#pcacb445871)\" d=\"M 100.82906 89.0118 \r\nL 955.30786 89.0118 \r\n\" style=\"fill:none;stroke:#000000;stroke-linecap:square;stroke-width:2;\"/>\r\n   </g>\r\n   <g id=\"line2d_3\">\r\n    <path clip-path=\"url(#pcacb445871)\" d=\"M 137.18986 89.0118 \r\nL 137.18986 43.5608 \r\n\" style=\"fill:none;stroke:#6fa4ff;stroke-linecap:square;stroke-width:2;\"/>\r\n   </g>\r\n   <g id=\"line2d_4\">\r\n    <path clip-path=\"url(#pcacb445871)\" d=\"M 273.54286 89.0118 \r\nL 273.54286 43.5608 \r\n\" style=\"fill:none;stroke:#6fa4ff;stroke-linecap:square;stroke-width:2;\"/>\r\n   </g>\r\n   <g id=\"line2d_5\">\r\n    <path clip-path=\"url(#pcacb445871)\" d=\"M 364.44486 89.0118 \r\nL 364.44486 43.5608 \r\n\" style=\"fill:none;stroke:#6fa4ff;stroke-linecap:square;stroke-width:2;\"/>\r\n   </g>\r\n   <g id=\"line2d_6\">\r\n    <path clip-path=\"url(#pcacb445871)\" d=\"M 500.79786 89.0118 \r\nL 500.79786 43.5608 \r\n\" style=\"fill:none;stroke:#6fa4ff;stroke-linecap:square;stroke-width:2;\"/>\r\n   </g>\r\n   <g id=\"line2d_7\">\r\n    <path clip-path=\"url(#pcacb445871)\" d=\"M 591.69986 89.0118 \r\nL 591.69986 43.5608 \r\n\" style=\"fill:none;stroke:#6fa4ff;stroke-linecap:square;stroke-width:2;\"/>\r\n   </g>\r\n   <g id=\"line2d_8\">\r\n    <path clip-path=\"url(#pcacb445871)\" d=\"M 728.05286 89.0118 \r\nL 728.05286 43.5608 \r\n\" style=\"fill:none;stroke:#6fa4ff;stroke-linecap:square;stroke-width:2;\"/>\r\n   </g>\r\n   <g id=\"line2d_9\">\r\n    <path clip-path=\"url(#pcacb445871)\" d=\"M 818.95486 89.0118 \r\nL 818.95486 43.5608 \r\n\" style=\"fill:none;stroke:#6fa4ff;stroke-linecap:square;stroke-width:2;\"/>\r\n   </g>\r\n   <g id=\"line2d_10\">\r\n    <path clip-path=\"url(#pcacb445871)\" d=\"M 909.85686 89.0118 \r\nL 909.85686 43.5608 \r\n\" style=\"fill:none;stroke:#6fa4ff;stroke-linecap:square;stroke-width:2;\"/>\r\n   </g>\r\n   <g id=\"patch_2\">\r\n    <path clip-path=\"url(#pcacb445871)\" d=\"M 137.18986 47.992273 \r\nC 138.3651 47.992273 139.492364 47.525345 140.323384 46.694324 \r\nC 141.154405 45.863304 141.621333 44.73604 141.621333 43.5608 \r\nC 141.621333 42.38556 141.154405 41.258296 140.323384 40.427276 \r\nC 139.492364 39.596255 138.3651 39.129328 137.18986 39.129328 \r\nC 136.01462 39.129328 134.887356 39.596255 134.056336 40.427276 \r\nC 133.225315 41.258296 132.758387 42.38556 132.758387 43.5608 \r\nC 132.758387 44.73604 133.225315 45.863304 134.056336 46.694324 \r\nC 134.887356 47.525345 136.01462 47.992273 137.18986 47.992273 \r\nz\r\n\" style=\"fill:#6fa4ff;stroke:#6fa4ff;stroke-linejoin:miter;stroke-width:1.5;\"/>\r\n   </g>\r\n   <g id=\"patch_3\">\r\n    <path clip-path=\"url(#pcacb445871)\" d=\"M 137.18986 99.351903 \r\nC 139.932087 99.351903 142.562369 98.262404 144.501417 96.323357 \r\nC 146.440464 94.384309 147.529963 91.754027 147.529963 89.0118 \r\nC 147.529963 86.269573 146.440464 83.639291 144.501417 81.700243 \r\nC 142.562369 79.761196 139.932087 78.671698 137.18986 78.671698 \r\nC 134.447633 78.671698 131.817351 79.761196 129.878303 81.700243 \r\nC 127.939256 83.639291 126.849758 86.269573 126.849758 89.0118 \r\nC 126.849758 91.754027 127.939256 94.384309 129.878303 96.323357 \r\nC 131.817351 98.262404 134.447633 99.351903 137.18986 99.351903 \r\nz\r\n\" style=\"fill:#6fa4ff;stroke:#6fa4ff;stroke-linejoin:miter;stroke-width:2;\"/>\r\n   </g>\r\n   <g id=\"patch_4\">\r\n    <path clip-path=\"url(#pcacb445871)\" d=\"M 167.869285 58.332375 \r\nL 197.412435 58.332375 \r\nL 197.412435 28.789225 \r\nL 167.869285 28.789225 \r\nz\r\n\" style=\"fill:#05bab6;\"/>\r\n   </g>\r\n   <g id=\"patch_5\">\r\n    <path clip-path=\"url(#pcacb445871)\" d=\"M 213.320285 58.332375 \r\nL 242.863435 58.332375 \r\nL 242.863435 28.789225 \r\nL 213.320285 28.789225 \r\nz\r\n\" style=\"fill:#bb8bff;\"/>\r\n   </g>\r\n   <g id=\"patch_6\">\r\n    <path clip-path=\"url(#pcacb445871)\" d=\"M 273.54286 93.443273 \r\nC 274.7181 93.443273 275.845364 92.976345 276.676384 92.145324 \r\nC 277.507405 91.314304 277.974332 90.18704 277.974332 89.0118 \r\nC 277.974332 87.83656 277.507405 86.709296 276.676384 85.878276 \r\nC 275.845364 85.047255 274.7181 84.580328 273.54286 84.580328 \r\nC 272.36762 84.580328 271.240356 85.047255 270.409336 85.878276 \r\nC 269.578315 86.709296 269.111387 87.83656 269.111387 89.0118 \r\nC 269.111387 90.18704 269.578315 91.314304 270.409336 92.145324 \r\nC 271.240356 92.976345 272.36762 93.443273 273.54286 93.443273 \r\nz\r\n\" style=\"fill:#6fa4ff;stroke:#6fa4ff;stroke-linejoin:miter;stroke-width:1.5;\"/>\r\n   </g>\r\n   <g id=\"patch_7\">\r\n    <path clip-path=\"url(#pcacb445871)\" d=\"M 273.54286 53.900903 \r\nC 276.285087 53.900903 278.915369 52.811404 280.854417 50.872357 \r\nC 282.793464 48.933309 283.882962 46.303027 283.882962 43.5608 \r\nC 283.882962 40.818573 282.793464 38.188291 280.854417 36.249243 \r\nC 278.915369 34.310196 276.285087 33.220698 273.54286 33.220698 \r\nC 270.800633 33.220698 268.170351 34.310196 266.231303 36.249243 \r\nC 264.292256 38.188291 263.202757 40.818573 263.202757 43.5608 \r\nC 263.202757 46.303027 264.292256 48.933309 266.231303 50.872357 \r\nC 268.170351 52.811404 270.800633 53.900903 273.54286 53.900903 \r\nz\r\n\" style=\"fill:#6fa4ff;stroke:#6fa4ff;stroke-linejoin:miter;stroke-width:2;\"/>\r\n   </g>\r\n   <g id=\"patch_8\">\r\n    <path clip-path=\"url(#pcacb445871)\" d=\"M 304.222285 58.332375 \r\nL 333.765435 58.332375 \r\nL 333.765435 28.789225 \r\nL 304.222285 28.789225 \r\nz\r\n\" style=\"fill:#bb8bff;\"/>\r\n   </g>\r\n   <g id=\"patch_9\">\r\n    <path clip-path=\"url(#pcacb445871)\" d=\"M 364.44486 93.443273 \r\nC 365.6201 93.443273 366.747364 92.976345 367.578384 92.145324 \r\nC 368.409405 91.314304 368.876332 90.18704 368.876332 89.0118 \r\nC 368.876332 87.83656 368.409405 86.709296 367.578384 85.878276 \r\nC 366.747364 85.047255 365.6201 84.580328 364.44486 84.580328 \r\nC 363.26962 84.580328 362.142356 85.047255 361.311336 85.878276 \r\nC 360.480315 86.709296 360.013387 87.83656 360.013387 89.0118 \r\nC 360.013387 90.18704 360.480315 91.314304 361.311336 92.145324 \r\nC 362.142356 92.976345 363.26962 93.443273 364.44486 93.443273 \r\nz\r\n\" style=\"fill:#6fa4ff;stroke:#6fa4ff;stroke-linejoin:miter;stroke-width:1.5;\"/>\r\n   </g>\r\n   <g id=\"patch_10\">\r\n    <path clip-path=\"url(#pcacb445871)\" d=\"M 364.44486 53.900903 \r\nC 367.187087 53.900903 369.817369 52.811404 371.756417 50.872357 \r\nC 373.695464 48.933309 374.784962 46.303027 374.784962 43.5608 \r\nC 374.784962 40.818573 373.695464 38.188291 371.756417 36.249243 \r\nC 369.817369 34.310196 367.187087 33.220698 364.44486 33.220698 \r\nC 361.702633 33.220698 359.072351 34.310196 357.133303 36.249243 \r\nC 355.194256 38.188291 354.104757 40.818573 354.104757 43.5608 \r\nC 354.104757 46.303027 355.194256 48.933309 357.133303 50.872357 \r\nC 359.072351 52.811404 361.702633 53.900903 364.44486 53.900903 \r\nz\r\n\" style=\"fill:#6fa4ff;stroke:#6fa4ff;stroke-linejoin:miter;stroke-width:2;\"/>\r\n   </g>\r\n   <g id=\"patch_11\">\r\n    <path clip-path=\"url(#pcacb445871)\" d=\"M 395.124285 58.332375 \r\nL 424.667435 58.332375 \r\nL 424.667435 28.789225 \r\nL 395.124285 28.789225 \r\nz\r\n\" style=\"fill:#6fa4ff;\"/>\r\n   </g>\r\n   <g id=\"patch_12\">\r\n    <path clip-path=\"url(#pcacb445871)\" d=\"M 440.575285 58.332375 \r\nL 470.118435 58.332375 \r\nL 470.118435 28.789225 \r\nL 440.575285 28.789225 \r\nz\r\n\" style=\"fill:#bb8bff;\"/>\r\n   </g>\r\n   <g id=\"patch_13\">\r\n    <path clip-path=\"url(#pcacb445871)\" d=\"M 500.79786 93.443273 \r\nC 501.9731 93.443273 503.100364 92.976345 503.931384 92.145324 \r\nC 504.762405 91.314304 505.229332 90.18704 505.229332 89.0118 \r\nC 505.229332 87.83656 504.762405 86.709296 503.931384 85.878276 \r\nC 503.100364 85.047255 501.9731 84.580328 500.79786 84.580328 \r\nC 499.62262 84.580328 498.495356 85.047255 497.664336 85.878276 \r\nC 496.833315 86.709296 496.366387 87.83656 496.366387 89.0118 \r\nC 496.366387 90.18704 496.833315 91.314304 497.664336 92.145324 \r\nC 498.495356 92.976345 499.62262 93.443273 500.79786 93.443273 \r\nz\r\n\" style=\"fill:#6fa4ff;stroke:#6fa4ff;stroke-linejoin:miter;stroke-width:1.5;\"/>\r\n   </g>\r\n   <g id=\"patch_14\">\r\n    <path clip-path=\"url(#pcacb445871)\" d=\"M 500.79786 53.900903 \r\nC 503.540087 53.900903 506.170369 52.811404 508.109417 50.872357 \r\nC 510.048464 48.933309 511.137962 46.303027 511.137962 43.5608 \r\nC 511.137962 40.818573 510.048464 38.188291 508.109417 36.249243 \r\nC 506.170369 34.310196 503.540087 33.220698 500.79786 33.220698 \r\nC 498.055633 33.220698 495.425351 34.310196 493.486303 36.249243 \r\nC 491.547256 38.188291 490.457757 40.818573 490.457757 43.5608 \r\nC 490.457757 46.303027 491.547256 48.933309 493.486303 50.872357 \r\nC 495.425351 52.811404 498.055633 53.900903 500.79786 53.900903 \r\nz\r\n\" style=\"fill:#6fa4ff;stroke:#6fa4ff;stroke-linejoin:miter;stroke-width:2;\"/>\r\n   </g>\r\n   <g id=\"patch_15\">\r\n    <path clip-path=\"url(#pcacb445871)\" d=\"M 531.477285 58.332375 \r\nL 561.020435 58.332375 \r\nL 561.020435 28.789225 \r\nL 531.477285 28.789225 \r\nz\r\n\" style=\"fill:#bb8bff;\"/>\r\n   </g>\r\n   <g id=\"patch_16\">\r\n    <path clip-path=\"url(#pcacb445871)\" d=\"M 591.69986 93.443273 \r\nC 592.8751 93.443273 594.002364 92.976345 594.833384 92.145324 \r\nC 595.664405 91.314304 596.131332 90.18704 596.131332 89.0118 \r\nC 596.131332 87.83656 595.664405 86.709296 594.833384 85.878276 \r\nC 594.002364 85.047255 592.8751 84.580328 591.69986 84.580328 \r\nC 590.52462 84.580328 589.397356 85.047255 588.566336 85.878276 \r\nC 587.735315 86.709296 587.268387 87.83656 587.268387 89.0118 \r\nC 587.268387 90.18704 587.735315 91.314304 588.566336 92.145324 \r\nC 589.397356 92.976345 590.52462 93.443273 591.69986 93.443273 \r\nz\r\n\" style=\"fill:#6fa4ff;stroke:#6fa4ff;stroke-linejoin:miter;stroke-width:1.5;\"/>\r\n   </g>\r\n   <g id=\"patch_17\">\r\n    <path clip-path=\"url(#pcacb445871)\" d=\"M 591.69986 53.900903 \r\nC 594.442087 53.900903 597.072369 52.811404 599.011417 50.872357 \r\nC 600.950464 48.933309 602.039962 46.303027 602.039962 43.5608 \r\nC 602.039962 40.818573 600.950464 38.188291 599.011417 36.249243 \r\nC 597.072369 34.310196 594.442087 33.220698 591.69986 33.220698 \r\nC 588.957633 33.220698 586.327351 34.310196 584.388303 36.249243 \r\nC 582.449256 38.188291 581.359758 40.818573 581.359758 43.5608 \r\nC 581.359758 46.303027 582.449256 48.933309 584.388303 50.872357 \r\nC 586.327351 52.811404 588.957633 53.900903 591.69986 53.900903 \r\nz\r\n\" style=\"fill:#6fa4ff;stroke:#6fa4ff;stroke-linejoin:miter;stroke-width:2;\"/>\r\n   </g>\r\n   <g id=\"patch_18\">\r\n    <path clip-path=\"url(#pcacb445871)\" d=\"M 622.379285 58.332375 \r\nL 651.922435 58.332375 \r\nL 651.922435 28.789225 \r\nL 622.379285 28.789225 \r\nz\r\n\" style=\"fill:#6fa4ff;\"/>\r\n   </g>\r\n   <g id=\"patch_19\">\r\n    <path clip-path=\"url(#pcacb445871)\" d=\"M 667.830285 58.332375 \r\nL 697.373435 58.332375 \r\nL 697.373435 28.789225 \r\nL 667.830285 28.789225 \r\nz\r\n\" style=\"fill:#bb8bff;\"/>\r\n   </g>\r\n   <g id=\"patch_20\">\r\n    <path clip-path=\"url(#pcacb445871)\" d=\"M 728.05286 93.443273 \r\nC 729.2281 93.443273 730.355364 92.976345 731.186384 92.145324 \r\nC 732.017405 91.314304 732.484332 90.18704 732.484332 89.0118 \r\nC 732.484332 87.83656 732.017405 86.709296 731.186384 85.878276 \r\nC 730.355364 85.047255 729.2281 84.580328 728.05286 84.580328 \r\nC 726.87762 84.580328 725.750356 85.047255 724.919336 85.878276 \r\nC 724.088315 86.709296 723.621387 87.83656 723.621387 89.0118 \r\nC 723.621387 90.18704 724.088315 91.314304 724.919336 92.145324 \r\nC 725.750356 92.976345 726.87762 93.443273 728.05286 93.443273 \r\nz\r\n\" style=\"fill:#6fa4ff;stroke:#6fa4ff;stroke-linejoin:miter;stroke-width:1.5;\"/>\r\n   </g>\r\n   <g id=\"patch_21\">\r\n    <path clip-path=\"url(#pcacb445871)\" d=\"M 728.05286 53.900903 \r\nC 730.795087 53.900903 733.425369 52.811404 735.364417 50.872357 \r\nC 737.303464 48.933309 738.392962 46.303027 738.392962 43.5608 \r\nC 738.392962 40.818573 737.303464 38.188291 735.364417 36.249243 \r\nC 733.425369 34.310196 730.795087 33.220698 728.05286 33.220698 \r\nC 725.310633 33.220698 722.680351 34.310196 720.741303 36.249243 \r\nC 718.802256 38.188291 717.712757 40.818573 717.712757 43.5608 \r\nC 717.712757 46.303027 718.802256 48.933309 720.741303 50.872357 \r\nC 722.680351 52.811404 725.310633 53.900903 728.05286 53.900903 \r\nz\r\n\" style=\"fill:#6fa4ff;stroke:#6fa4ff;stroke-linejoin:miter;stroke-width:2;\"/>\r\n   </g>\r\n   <g id=\"patch_22\">\r\n    <path clip-path=\"url(#pcacb445871)\" d=\"M 758.732285 58.332375 \r\nL 788.275435 58.332375 \r\nL 788.275435 28.789225 \r\nL 758.732285 28.789225 \r\nz\r\n\" style=\"fill:#bb8bff;\"/>\r\n   </g>\r\n   <g id=\"patch_23\">\r\n    <path clip-path=\"url(#pcacb445871)\" d=\"M 818.95486 93.443273 \r\nC 820.1301 93.443273 821.257364 92.976345 822.088384 92.145324 \r\nC 822.919405 91.314304 823.386332 90.18704 823.386332 89.0118 \r\nC 823.386332 87.83656 822.919405 86.709296 822.088384 85.878276 \r\nC 821.257364 85.047255 820.1301 84.580328 818.95486 84.580328 \r\nC 817.77962 84.580328 816.652356 85.047255 815.821336 85.878276 \r\nC 814.990315 86.709296 814.523387 87.83656 814.523387 89.0118 \r\nC 814.523387 90.18704 814.990315 91.314304 815.821336 92.145324 \r\nC 816.652356 92.976345 817.77962 93.443273 818.95486 93.443273 \r\nz\r\n\" style=\"fill:#6fa4ff;stroke:#6fa4ff;stroke-linejoin:miter;stroke-width:1.5;\"/>\r\n   </g>\r\n   <g id=\"patch_24\">\r\n    <path clip-path=\"url(#pcacb445871)\" d=\"M 818.95486 53.900903 \r\nC 821.697087 53.900903 824.327369 52.811404 826.266417 50.872357 \r\nC 828.205464 48.933309 829.294962 46.303027 829.294962 43.5608 \r\nC 829.294962 40.818573 828.205464 38.188291 826.266417 36.249243 \r\nC 824.327369 34.310196 821.697087 33.220698 818.95486 33.220698 \r\nC 816.212633 33.220698 813.582351 34.310196 811.643303 36.249243 \r\nC 809.704256 38.188291 808.614757 40.818573 808.614757 43.5608 \r\nC 808.614757 46.303027 809.704256 48.933309 811.643303 50.872357 \r\nC 813.582351 52.811404 816.212633 53.900903 818.95486 53.900903 \r\nz\r\n\" style=\"fill:#6fa4ff;stroke:#6fa4ff;stroke-linejoin:miter;stroke-width:2;\"/>\r\n   </g>\r\n   <g id=\"patch_25\">\r\n    <path clip-path=\"url(#pcacb445871)\" d=\"M 849.634285 103.783375 \r\nL 879.177435 103.783375 \r\nL 879.177435 74.240225 \r\nL 849.634285 74.240225 \r\nz\r\n\" style=\"fill:#bb8bff;\"/>\r\n   </g>\r\n   <g id=\"patch_26\">\r\n    <path clip-path=\"url(#pcacb445871)\" d=\"M 849.634285 58.332375 \r\nL 879.177435 58.332375 \r\nL 879.177435 28.789225 \r\nL 849.634285 28.789225 \r\nz\r\n\" style=\"fill:#05bab6;\"/>\r\n   </g>\r\n   <g id=\"patch_27\">\r\n    <path clip-path=\"url(#pcacb445871)\" d=\"M 909.85686 47.992273 \r\nC 911.0321 47.992273 912.159364 47.525345 912.990384 46.694324 \r\nC 913.821405 45.863304 914.288332 44.73604 914.288332 43.5608 \r\nC 914.288332 42.38556 913.821405 41.258296 912.990384 40.427276 \r\nC 912.159364 39.596255 911.0321 39.129328 909.85686 39.129328 \r\nC 908.68162 39.129328 907.554356 39.596255 906.723336 40.427276 \r\nC 905.892315 41.258296 905.425387 42.38556 905.425387 43.5608 \r\nC 905.425387 44.73604 905.892315 45.863304 906.723336 46.694324 \r\nC 907.554356 47.525345 908.68162 47.992273 909.85686 47.992273 \r\nz\r\n\" style=\"fill:#6fa4ff;stroke:#6fa4ff;stroke-linejoin:miter;stroke-width:1.5;\"/>\r\n   </g>\r\n   <g id=\"patch_28\">\r\n    <path clip-path=\"url(#pcacb445871)\" d=\"M 909.85686 99.351903 \r\nC 912.599087 99.351903 915.229369 98.262404 917.168417 96.323357 \r\nC 919.107464 94.384309 920.196962 91.754027 920.196962 89.0118 \r\nC 920.196962 86.269573 919.107464 83.639291 917.168417 81.700243 \r\nC 915.229369 79.761196 912.599087 78.671698 909.85686 78.671698 \r\nC 907.114633 78.671698 904.484351 79.761196 902.545303 81.700243 \r\nC 900.606256 83.639291 899.516757 86.269573 899.516757 89.0118 \r\nC 899.516757 91.754027 900.606256 94.384309 902.545303 96.323357 \r\nC 904.484351 98.262404 907.114633 99.351903 909.85686 99.351903 \r\nz\r\n\" style=\"fill:#6fa4ff;stroke:#6fa4ff;stroke-linejoin:miter;stroke-width:2;\"/>\r\n   </g>\r\n   <g id=\"line2d_11\">\r\n    <path clip-path=\"url(#pcacb445871)\" d=\"M 137.18986 94.92043 \r\nL 137.18986 83.10317 \r\n\" style=\"fill:none;stroke:#ffffff;stroke-linecap:square;stroke-width:2;\"/>\r\n   </g>\r\n   <g id=\"line2d_12\">\r\n    <path clip-path=\"url(#pcacb445871)\" d=\"M 131.28123 89.0118 \r\nL 143.09849 89.0118 \r\n\" style=\"fill:none;stroke:#ffffff;stroke-linecap:square;stroke-width:2;\"/>\r\n   </g>\r\n   <g id=\"line2d_13\">\r\n    <path clip-path=\"url(#pcacb445871)\" d=\"M 273.54286 49.46943 \r\nL 273.54286 37.65217 \r\n\" style=\"fill:none;stroke:#ffffff;stroke-linecap:square;stroke-width:2;\"/>\r\n   </g>\r\n   <g id=\"line2d_14\">\r\n    <path clip-path=\"url(#pcacb445871)\" d=\"M 267.63423 43.5608 \r\nL 279.45149 43.5608 \r\n\" style=\"fill:none;stroke:#ffffff;stroke-linecap:square;stroke-width:2;\"/>\r\n   </g>\r\n   <g id=\"line2d_15\">\r\n    <path clip-path=\"url(#pcacb445871)\" d=\"M 364.44486 49.46943 \r\nL 364.44486 37.65217 \r\n\" style=\"fill:none;stroke:#ffffff;stroke-linecap:square;stroke-width:2;\"/>\r\n   </g>\r\n   <g id=\"line2d_16\">\r\n    <path clip-path=\"url(#pcacb445871)\" d=\"M 358.53623 43.5608 \r\nL 370.35349 43.5608 \r\n\" style=\"fill:none;stroke:#ffffff;stroke-linecap:square;stroke-width:2;\"/>\r\n   </g>\r\n   <g id=\"line2d_17\">\r\n    <path clip-path=\"url(#pcacb445871)\" d=\"M 500.79786 49.46943 \r\nL 500.79786 37.65217 \r\n\" style=\"fill:none;stroke:#ffffff;stroke-linecap:square;stroke-width:2;\"/>\r\n   </g>\r\n   <g id=\"line2d_18\">\r\n    <path clip-path=\"url(#pcacb445871)\" d=\"M 494.88923 43.5608 \r\nL 506.70649 43.5608 \r\n\" style=\"fill:none;stroke:#ffffff;stroke-linecap:square;stroke-width:2;\"/>\r\n   </g>\r\n   <g id=\"line2d_19\">\r\n    <path clip-path=\"url(#pcacb445871)\" d=\"M 591.69986 49.46943 \r\nL 591.69986 37.65217 \r\n\" style=\"fill:none;stroke:#ffffff;stroke-linecap:square;stroke-width:2;\"/>\r\n   </g>\r\n   <g id=\"line2d_20\">\r\n    <path clip-path=\"url(#pcacb445871)\" d=\"M 585.79123 43.5608 \r\nL 597.60849 43.5608 \r\n\" style=\"fill:none;stroke:#ffffff;stroke-linecap:square;stroke-width:2;\"/>\r\n   </g>\r\n   <g id=\"line2d_21\">\r\n    <path clip-path=\"url(#pcacb445871)\" d=\"M 728.05286 49.46943 \r\nL 728.05286 37.65217 \r\n\" style=\"fill:none;stroke:#ffffff;stroke-linecap:square;stroke-width:2;\"/>\r\n   </g>\r\n   <g id=\"line2d_22\">\r\n    <path clip-path=\"url(#pcacb445871)\" d=\"M 722.14423 43.5608 \r\nL 733.96149 43.5608 \r\n\" style=\"fill:none;stroke:#ffffff;stroke-linecap:square;stroke-width:2;\"/>\r\n   </g>\r\n   <g id=\"line2d_23\">\r\n    <path clip-path=\"url(#pcacb445871)\" d=\"M 818.95486 49.46943 \r\nL 818.95486 37.65217 \r\n\" style=\"fill:none;stroke:#ffffff;stroke-linecap:square;stroke-width:2;\"/>\r\n   </g>\r\n   <g id=\"line2d_24\">\r\n    <path clip-path=\"url(#pcacb445871)\" d=\"M 813.04623 43.5608 \r\nL 824.86349 43.5608 \r\n\" style=\"fill:none;stroke:#ffffff;stroke-linecap:square;stroke-width:2;\"/>\r\n   </g>\r\n   <g id=\"line2d_25\">\r\n    <path clip-path=\"url(#pcacb445871)\" d=\"M 909.85686 94.92043 \r\nL 909.85686 83.10317 \r\n\" style=\"fill:none;stroke:#ffffff;stroke-linecap:square;stroke-width:2;\"/>\r\n   </g>\r\n   <g id=\"line2d_26\">\r\n    <path clip-path=\"url(#pcacb445871)\" d=\"M 903.94823 89.0118 \r\nL 915.76549 89.0118 \r\n\" style=\"fill:none;stroke:#ffffff;stroke-linecap:square;stroke-width:2;\"/>\r\n   </g>\r\n   <g id=\"text_1\">\r\n    <g clip-path=\"url(#pcacb445871)\">\r\n     <!-- $X$ -->\r\n     <defs>\r\n      <path d=\"M 13.71875 72.90625 \r\nL 23.6875 72.90625 \r\nL 36.1875 46.578125 \r\nL 58.796875 72.90625 \r\nL 70.3125 72.90625 \r\nL 40.28125 38.09375 \r\nL 58.40625 0 \r\nL 48.484375 0 \r\nL 33.796875 30.71875 \r\nL 7.171875 0 \r\nL -4.296875 0 \r\nL 29.78125 39.203125 \r\nz\r\n\" id=\"DejaVuSans-Oblique-88\"/>\r\n     </defs>\r\n     <g transform=\"translate(178.15586 47.147988)scale(0.13 -0.13)\">\r\n      <use transform=\"translate(0 0.09375)\" xlink:href=\"#DejaVuSans-Oblique-88\"/>\r\n     </g>\r\n    </g>\r\n   </g>\r\n   <g id=\"text_2\">\r\n    <g clip-path=\"url(#pcacb445871)\">\r\n     <!-- $R_z$ -->\r\n     <defs>\r\n      <path d=\"M 25.203125 64.796875 \r\nL 20.21875 38.921875 \r\nL 32.90625 38.921875 \r\nQ 40.375 38.921875 44.984375 43.046875 \r\nQ 49.609375 47.171875 49.609375 53.8125 \r\nQ 49.609375 59.125 46.5 61.953125 \r\nQ 43.40625 64.796875 37.59375 64.796875 \r\nz\r\nM 43.3125 35.015625 \r\nQ 46.4375 34.28125 48.515625 31.390625 \r\nQ 50.59375 28.515625 53.328125 19.921875 \r\nL 59.515625 0 \r\nL 49.125 0 \r\nL 43.40625 18.703125 \r\nQ 41.21875 25.921875 38.328125 28.359375 \r\nQ 35.453125 30.8125 29.5 30.8125 \r\nL 18.609375 30.8125 \r\nL 12.59375 0 \r\nL 2.6875 0 \r\nL 16.890625 72.90625 \r\nL 39.109375 72.90625 \r\nQ 49.21875 72.90625 54.609375 68.328125 \r\nQ 60.015625 63.765625 60.015625 55.171875 \r\nQ 60.015625 47.5625 55.421875 41.984375 \r\nQ 50.828125 36.421875 43.3125 35.015625 \r\nz\r\n\" id=\"DejaVuSans-Oblique-82\"/>\r\n      <path d=\"M 11.625 54.6875 \r\nL 54.296875 54.6875 \r\nL 52.6875 46.484375 \r\nL 11.53125 7.171875 \r\nL 45.515625 7.171875 \r\nL 44.09375 0 \r\nL -0.296875 0 \r\nL 1.3125 8.203125 \r\nL 42.484375 47.515625 \r\nL 10.203125 47.515625 \r\nz\r\n\" id=\"DejaVuSans-Oblique-122\"/>\r\n     </defs>\r\n     <g transform=\"translate(221.00686 42.716515)scale(0.13 -0.13)\">\r\n      <use transform=\"translate(0 0.09375)\" xlink:href=\"#DejaVuSans-Oblique-82\"/>\r\n      <use transform=\"translate(69.482422 -16.3125)scale(0.7)\" xlink:href=\"#DejaVuSans-Oblique-122\"/>\r\n     </g>\r\n    </g>\r\n   </g>\r\n   <g id=\"text_3\">\r\n    <g clip-path=\"url(#pcacb445871)\">\r\n     <!-- $\\pi$/4 -->\r\n     <defs>\r\n      <path d=\"M 9.125 54.6875 \r\nL 61.53125 54.6875 \r\nL 59.765625 45.703125 \r\nL 52.875 45.703125 \r\nL 46.34375 12.109375 \r\nQ 45.65625 8.59375 46.578125 7.03125 \r\nQ 47.46875 5.515625 50.140625 5.515625 \r\nQ 50.875 5.515625 51.953125 5.671875 \r\nQ 53.078125 5.765625 53.421875 5.8125 \r\nL 52.15625 -0.6875 \r\nQ 50.34375 -1.3125 48.484375 -1.609375 \r\nQ 46.578125 -1.90625 44.78125 -1.90625 \r\nQ 38.921875 -1.90625 37.3125 1.265625 \r\nQ 35.6875 4.5 37.359375 13.09375 \r\nL 43.703125 45.703125 \r\nL 23.53125 45.703125 \r\nL 14.65625 0 \r\nL 5.46875 0 \r\nL 14.359375 45.703125 \r\nL 7.375 45.703125 \r\nz\r\n\" id=\"DejaVuSans-Oblique-960\"/>\r\n      <path d=\"M 25.390625 72.90625 \r\nL 33.6875 72.90625 \r\nL 8.296875 -9.28125 \r\nL 0 -9.28125 \r\nz\r\n\" id=\"DejaVuSans-47\"/>\r\n      <path d=\"M 37.796875 64.3125 \r\nL 12.890625 25.390625 \r\nL 37.796875 25.390625 \r\nz\r\nM 35.203125 72.90625 \r\nL 47.609375 72.90625 \r\nL 47.609375 25.390625 \r\nL 58.015625 25.390625 \r\nL 58.015625 17.1875 \r\nL 47.609375 17.1875 \r\nL 47.609375 0 \r\nL 37.796875 0 \r\nL 37.796875 17.1875 \r\nL 4.890625 17.1875 \r\nL 4.890625 26.703125 \r\nz\r\n\" id=\"DejaVuSans-52\"/>\r\n     </defs>\r\n     <g transform=\"translate(221.77186 54.631245)scale(0.08 -0.08)\">\r\n      <use transform=\"translate(0 0.09375)\" xlink:href=\"#DejaVuSans-Oblique-960\"/>\r\n      <use transform=\"translate(60.205078 0.09375)\" xlink:href=\"#DejaVuSans-47\"/>\r\n      <use transform=\"translate(93.896484 0.09375)\" xlink:href=\"#DejaVuSans-52\"/>\r\n     </g>\r\n    </g>\r\n   </g>\r\n   <g id=\"text_4\">\r\n    <g clip-path=\"url(#pcacb445871)\">\r\n     <!-- $R_z$ -->\r\n     <g transform=\"translate(311.90886 42.716515)scale(0.13 -0.13)\">\r\n      <use transform=\"translate(0 0.09375)\" xlink:href=\"#DejaVuSans-Oblique-82\"/>\r\n      <use transform=\"translate(69.482422 -16.3125)scale(0.7)\" xlink:href=\"#DejaVuSans-Oblique-122\"/>\r\n     </g>\r\n    </g>\r\n   </g>\r\n   <g id=\"text_5\">\r\n    <g clip-path=\"url(#pcacb445871)\">\r\n     <!-- $-$$\\pi$/4 -->\r\n     <defs>\r\n      <path d=\"M 10.59375 35.5 \r\nL 73.1875 35.5 \r\nL 73.1875 27.203125 \r\nL 10.59375 27.203125 \r\nz\r\n\" id=\"DejaVuSans-8722\"/>\r\n     </defs>\r\n     <g transform=\"translate(309.31386 54.631245)scale(0.08 -0.08)\">\r\n      <use transform=\"translate(0 0.09375)\" xlink:href=\"#DejaVuSans-8722\"/>\r\n      <use transform=\"translate(83.789062 0.09375)\" xlink:href=\"#DejaVuSans-Oblique-960\"/>\r\n      <use transform=\"translate(143.994141 0.09375)\" xlink:href=\"#DejaVuSans-47\"/>\r\n      <use transform=\"translate(177.685547 0.09375)\" xlink:href=\"#DejaVuSans-52\"/>\r\n     </g>\r\n    </g>\r\n   </g>\r\n   <g id=\"text_6\">\r\n    <g clip-path=\"url(#pcacb445871)\">\r\n     <!-- $H$ -->\r\n     <defs>\r\n      <path d=\"M 16.890625 72.90625 \r\nL 26.8125 72.90625 \r\nL 21 43.015625 \r\nL 56.78125 43.015625 \r\nL 62.59375 72.90625 \r\nL 72.515625 72.90625 \r\nL 58.296875 0 \r\nL 48.390625 0 \r\nL 55.171875 34.71875 \r\nL 19.390625 34.71875 \r\nL 12.59375 0 \r\nL 2.6875 0 \r\nz\r\n\" id=\"DejaVuSans-Oblique-72\"/>\r\n     </defs>\r\n     <g transform=\"translate(404.95586 47.147988)scale(0.13 -0.13)\">\r\n      <use transform=\"translate(0 0.09375)\" xlink:href=\"#DejaVuSans-Oblique-72\"/>\r\n     </g>\r\n    </g>\r\n   </g>\r\n   <g id=\"text_7\">\r\n    <g clip-path=\"url(#pcacb445871)\">\r\n     <!-- $R_z$ -->\r\n     <g transform=\"translate(448.26186 42.716515)scale(0.13 -0.13)\">\r\n      <use transform=\"translate(0 0.09375)\" xlink:href=\"#DejaVuSans-Oblique-82\"/>\r\n      <use transform=\"translate(69.482422 -16.3125)scale(0.7)\" xlink:href=\"#DejaVuSans-Oblique-122\"/>\r\n     </g>\r\n    </g>\r\n   </g>\r\n   <g id=\"text_8\">\r\n    <g clip-path=\"url(#pcacb445871)\">\r\n     <!-- 0 -->\r\n     <defs>\r\n      <path d=\"M 31.78125 66.40625 \r\nQ 24.171875 66.40625 20.328125 58.90625 \r\nQ 16.5 51.421875 16.5 36.375 \r\nQ 16.5 21.390625 20.328125 13.890625 \r\nQ 24.171875 6.390625 31.78125 6.390625 \r\nQ 39.453125 6.390625 43.28125 13.890625 \r\nQ 47.125 21.390625 47.125 36.375 \r\nQ 47.125 51.421875 43.28125 58.90625 \r\nQ 39.453125 66.40625 31.78125 66.40625 \r\nz\r\nM 31.78125 74.21875 \r\nQ 44.046875 74.21875 50.515625 64.515625 \r\nQ 56.984375 54.828125 56.984375 36.375 \r\nQ 56.984375 17.96875 50.515625 8.265625 \r\nQ 44.046875 -1.421875 31.78125 -1.421875 \r\nQ 19.53125 -1.421875 13.0625 8.265625 \r\nQ 6.59375 17.96875 6.59375 36.375 \r\nQ 6.59375 54.828125 13.0625 64.515625 \r\nQ 19.53125 74.21875 31.78125 74.21875 \r\nz\r\n\" id=\"DejaVuSans-48\"/>\r\n     </defs>\r\n     <g transform=\"translate(452.80186 54.631245)scale(0.08 -0.08)\">\r\n      <use xlink:href=\"#DejaVuSans-48\"/>\r\n     </g>\r\n    </g>\r\n   </g>\r\n   <g id=\"text_9\">\r\n    <g clip-path=\"url(#pcacb445871)\">\r\n     <!-- $R_z$ -->\r\n     <g transform=\"translate(539.16386 42.716515)scale(0.13 -0.13)\">\r\n      <use transform=\"translate(0 0.09375)\" xlink:href=\"#DejaVuSans-Oblique-82\"/>\r\n      <use transform=\"translate(69.482422 -16.3125)scale(0.7)\" xlink:href=\"#DejaVuSans-Oblique-122\"/>\r\n     </g>\r\n    </g>\r\n   </g>\r\n   <g id=\"text_10\">\r\n    <g clip-path=\"url(#pcacb445871)\">\r\n     <!-- 0 -->\r\n     <g transform=\"translate(543.70386 54.631245)scale(0.08 -0.08)\">\r\n      <use xlink:href=\"#DejaVuSans-48\"/>\r\n     </g>\r\n    </g>\r\n   </g>\r\n   <g id=\"text_11\">\r\n    <g clip-path=\"url(#pcacb445871)\">\r\n     <!-- $H$ -->\r\n     <g transform=\"translate(632.21086 47.147988)scale(0.13 -0.13)\">\r\n      <use transform=\"translate(0 0.09375)\" xlink:href=\"#DejaVuSans-Oblique-72\"/>\r\n     </g>\r\n    </g>\r\n   </g>\r\n   <g id=\"text_12\">\r\n    <g clip-path=\"url(#pcacb445871)\">\r\n     <!-- $R_z$ -->\r\n     <g transform=\"translate(675.51686 42.716515)scale(0.13 -0.13)\">\r\n      <use transform=\"translate(0 0.09375)\" xlink:href=\"#DejaVuSans-Oblique-82\"/>\r\n      <use transform=\"translate(69.482422 -16.3125)scale(0.7)\" xlink:href=\"#DejaVuSans-Oblique-122\"/>\r\n     </g>\r\n    </g>\r\n   </g>\r\n   <g id=\"text_13\">\r\n    <g clip-path=\"url(#pcacb445871)\">\r\n     <!-- 0 -->\r\n     <g transform=\"translate(680.05686 54.631245)scale(0.08 -0.08)\">\r\n      <use xlink:href=\"#DejaVuSans-48\"/>\r\n     </g>\r\n    </g>\r\n   </g>\r\n   <g id=\"text_14\">\r\n    <g clip-path=\"url(#pcacb445871)\">\r\n     <!-- $R_z$ -->\r\n     <g transform=\"translate(766.41886 42.716515)scale(0.13 -0.13)\">\r\n      <use transform=\"translate(0 0.09375)\" xlink:href=\"#DejaVuSans-Oblique-82\"/>\r\n      <use transform=\"translate(69.482422 -16.3125)scale(0.7)\" xlink:href=\"#DejaVuSans-Oblique-122\"/>\r\n     </g>\r\n    </g>\r\n   </g>\r\n   <g id=\"text_15\">\r\n    <g clip-path=\"url(#pcacb445871)\">\r\n     <!-- 0 -->\r\n     <g transform=\"translate(770.95886 54.631245)scale(0.08 -0.08)\">\r\n      <use xlink:href=\"#DejaVuSans-48\"/>\r\n     </g>\r\n    </g>\r\n   </g>\r\n   <g id=\"text_16\">\r\n    <g clip-path=\"url(#pcacb445871)\">\r\n     <!-- $R_z$ -->\r\n     <g transform=\"translate(857.32086 88.167515)scale(0.13 -0.13)\">\r\n      <use transform=\"translate(0 0.09375)\" xlink:href=\"#DejaVuSans-Oblique-82\"/>\r\n      <use transform=\"translate(69.482422 -16.3125)scale(0.7)\" xlink:href=\"#DejaVuSans-Oblique-122\"/>\r\n     </g>\r\n    </g>\r\n   </g>\r\n   <g id=\"text_17\">\r\n    <g clip-path=\"url(#pcacb445871)\">\r\n     <!-- 0 -->\r\n     <g transform=\"translate(861.86086 100.082245)scale(0.08 -0.08)\">\r\n      <use xlink:href=\"#DejaVuSans-48\"/>\r\n     </g>\r\n    </g>\r\n   </g>\r\n   <g id=\"text_18\">\r\n    <g clip-path=\"url(#pcacb445871)\">\r\n     <!-- $X$ -->\r\n     <g transform=\"translate(859.92086 47.147988)scale(0.13 -0.13)\">\r\n      <use transform=\"translate(0 0.09375)\" xlink:href=\"#DejaVuSans-Oblique-88\"/>\r\n     </g>\r\n    </g>\r\n   </g>\r\n   <g id=\"text_19\">\r\n    <g clip-path=\"url(#pcacb445871)\">\r\n     <!-- ${q}_{0}$ -->\r\n     <defs>\r\n      <path d=\"M 41.703125 8.203125 \r\nQ 38.09375 3.46875 33.171875 1.015625 \r\nQ 28.265625 -1.421875 22.3125 -1.421875 \r\nQ 14.015625 -1.421875 9.296875 4.171875 \r\nQ 4.59375 9.765625 4.59375 19.578125 \r\nQ 4.59375 27.484375 7.5 34.859375 \r\nQ 10.40625 42.234375 15.828125 48.09375 \r\nQ 19.34375 51.90625 23.90625 53.953125 \r\nQ 28.46875 56 33.5 56 \r\nQ 39.546875 56 43.453125 53.609375 \r\nQ 47.359375 51.21875 49.125 46.390625 \r\nL 50.6875 54.59375 \r\nL 59.71875 54.59375 \r\nL 45.125 -20.609375 \r\nL 36.078125 -20.609375 \r\nz\r\nM 13.921875 20.90625 \r\nQ 13.921875 13.671875 16.9375 9.890625 \r\nQ 19.96875 6.109375 25.6875 6.109375 \r\nQ 34.1875 6.109375 40.1875 14.234375 \r\nQ 46.1875 22.359375 46.1875 33.984375 \r\nQ 46.1875 41.015625 43.078125 44.75 \r\nQ 39.984375 48.484375 34.1875 48.484375 \r\nQ 29.9375 48.484375 26.3125 46.5 \r\nQ 22.703125 44.53125 20.015625 40.71875 \r\nQ 17.1875 36.71875 15.546875 31.34375 \r\nQ 13.921875 25.984375 13.921875 20.90625 \r\nz\r\n\" id=\"DejaVuSans-Oblique-113\"/>\r\n     </defs>\r\n     <g transform=\"translate(64.61116 48.011777)scale(0.1625 -0.1625)\">\r\n      <use xlink:href=\"#DejaVuSans-Oblique-113\"/>\r\n      <use transform=\"translate(63.476562 -16.40625)scale(0.7)\" xlink:href=\"#DejaVuSans-48\"/>\r\n     </g>\r\n    </g>\r\n   </g>\r\n   <g id=\"text_20\">\r\n    <g clip-path=\"url(#pcacb445871)\">\r\n     <!-- ${q}_{1}$ -->\r\n     <defs>\r\n      <path d=\"M 12.40625 8.296875 \r\nL 28.515625 8.296875 \r\nL 28.515625 63.921875 \r\nL 10.984375 60.40625 \r\nL 10.984375 69.390625 \r\nL 28.421875 72.90625 \r\nL 38.28125 72.90625 \r\nL 38.28125 8.296875 \r\nL 54.390625 8.296875 \r\nL 54.390625 0 \r\nL 12.40625 0 \r\nz\r\n\" id=\"DejaVuSans-49\"/>\r\n     </defs>\r\n     <g transform=\"translate(64.61116 93.462777)scale(0.1625 -0.1625)\">\r\n      <use xlink:href=\"#DejaVuSans-Oblique-113\"/>\r\n      <use transform=\"translate(63.476562 -16.40625)scale(0.7)\" xlink:href=\"#DejaVuSans-49\"/>\r\n     </g>\r\n    </g>\r\n   </g>\r\n  </g>\r\n </g>\r\n <defs>\r\n  <clipPath id=\"pcacb445871\">\r\n   <rect height=\"109.0824\" width=\"952.65296\" x=\"7.2\" y=\"7.2\"/>\r\n  </clipPath>\r\n </defs>\r\n</svg>\r\n",
      "text/plain": [
       "<Figure size 1261.79x144.48 with 1 Axes>"
      ]
     },
     "execution_count": 90,
     "metadata": {},
     "output_type": "execute_result"
    }
   ],
   "source": [
    "## OLD SCHEME FOR B NOT OPTIMIZED\r\n",
    "qc = QuantumCircuit(2)\r\n",
    "qc.cx(0,1)\r\n",
    "qc.x(0)\r\n",
    "CRZD(np.pi/2,1,0,qc)\r\n",
    "qc.h(0)\r\n",
    "CRZD(0,1,0,qc)\r\n",
    "qc.h(0)\r\n",
    "CRZD(0,1,0,qc)\r\n",
    "qc.rz(0,1) #double coefficient\r\n",
    "qc.x(0)\r\n",
    "qc.cx(0,1)\r\n",
    "qc.draw(\"mpl\")"
   ]
  },
  {
   "cell_type": "code",
   "execution_count": 23,
   "metadata": {},
   "outputs": [
    {
     "data": {
      "image/png": "[encoded data removed]",
      "text/plain": [
       "<Figure size 780.192x144.48 with 1 Axes>"
      ]
     },
     "execution_count": 23,
     "metadata": {},
     "output_type": "execute_result"
    }
   ],
   "source": [
    "qcirc = QuantumCircuit(2)\r\n",
    "theta6 = Parameter('θ6')\r\n",
    "theta5 = Parameter('θ5')\r\n",
    "theta2 = Parameter('θ2')\r\n",
    "theta4 = Parameter('θ4')\r\n",
    "theta3 = Parameter('θ3')\r\n",
    "mtheta4 = Parameter('-θ4')\r\n",
    "qcirc.rz(theta6,0)\r\n",
    "qcirc.rz(theta5,1)\r\n",
    "qcirc.cx(0,1)\r\n",
    "qcirc.rx(theta4,0)\r\n",
    "qcirc.rz(theta3,1)\r\n",
    "qcirc.h(0)\r\n",
    "qcirc.cx(0,1)\r\n",
    "qcirc.rz(mtheta4,1)\r\n",
    "qcirc.s(0)\r\n",
    "qcirc.h(0)\r\n",
    "qcirc.cx(0,1)\r\n",
    "qcirc.rx(-np.pi/2,0)\r\n",
    "qcirc.rx(np.pi/2,1)\r\n",
    "\r\n",
    "qcirc.rz(theta2,1)\r\n",
    "qcirc.draw(\"mpl\")\r\n"
   ]
  },
  {
   "cell_type": "code",
   "execution_count": null,
   "metadata": {},
   "outputs": [],
   "source": []
  }
 ],
 "metadata": {
  "interpreter": {
   "hash": "152cfe25893dc717ce9af840a4cd5b70e2db3512806c6eb4e5109030e55f5679"
  },
  "kernelspec": {
   "display_name": "Python 3.7.6 64-bit ('base': conda)",
   "name": "python3"
  },
  "language_info": {
   "codemirror_mode": {
    "name": "ipython",
    "version": 3
   },
   "file_extension": ".py",
   "mimetype": "text/x-python",
   "name": "python",
   "nbconvert_exporter": "python",
   "pygments_lexer": "ipython3",
   "version": "3.7.6"
  }
 },
 "nbformat": 4,
 "nbformat_minor": 4
}