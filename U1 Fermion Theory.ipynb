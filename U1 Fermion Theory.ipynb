{
 "cells": [
  {
   "cell_type": "markdown",
   "metadata": {},
   "source": [
    "## Import Libraries"
   ]
  },
  {
   "cell_type": "code",
   "execution_count": 1,
   "metadata": {},
   "outputs": [],
   "source": [
    "from quspin.operators import hamiltonian\n",
    "from quspin.basis import spinless_fermion_basis_1d\n",
    "import numpy as np\n",
    "import matplotlib.pyplot as plt\n",
    "import itertools\n",
    "from quspin.tools.evolution import expm_multiply_parallel\n",
    "from quspin.operators import quantum_LinearOperator\n",
    "from quspin.operators import quantum_operator\n",
    "plt.rcParams['figure.figsize'] = [10, 8]"
   ]
  },
  {
   "cell_type": "markdown",
   "metadata": {},
   "source": [
    "## Define Constants/Helpers"
   ]
  },
  {
   "cell_type": "code",
   "execution_count": 2,
   "metadata": {},
   "outputs": [],
   "source": [
    "N = 8\n",
    "N_filled = N // 2\n",
    "t = -0.5\n",
    "g = 0.5\n",
    "m = 1\n",
    "PBC = True\n",
    "\n",
    "T = 4\n",
    "dt = 0.1"
   ]
  },
  {
   "cell_type": "code",
   "execution_count": 3,
   "metadata": {},
   "outputs": [],
   "source": [
    "def stringbox(lst, caption):\n",
    "    return caption + \"-\" * (100 - len(caption))+\"\\n\" + str(lst) + \"\\n\" + \"-\" * 100"
   ]
  },
  {
   "cell_type": "markdown",
   "metadata": {},
   "source": [
    "## Fermion Basis"
   ]
  },
  {
   "cell_type": "code",
   "execution_count": 4,
   "metadata": {},
   "outputs": [],
   "source": [
    "fermion_basis = spinless_fermion_basis_1d(L=N, Nf=N_filled)\n",
    "fermion_basis_m1 = spinless_fermion_basis_1d(L=N, Nf=N_filled-1)\n",
    "basis_full = spinless_fermion_basis_1d(L=N)"
   ]
  },
  {
   "cell_type": "code",
   "execution_count": 5,
   "metadata": {},
   "outputs": [],
   "source": [
    "def E_squared(n, g_in, E_neg1):\n",
    "    E_const = E_neg1 - (n + 1) // 2\n",
    "    s_coupling = []\n",
    "    d_coupling = []\n",
    "    for i in range(n + 1):\n",
    "        s_coeff = 2 * E_const * -g_in\n",
    "        s_coupling += [[s_coeff, i, i]]\n",
    "        for j in range(n + 1):\n",
    "            d_coeff = -g_in\n",
    "            d_coupling += [[d_coeff, i, i, j, j]]\n",
    "    return [[\"+-\", s_coupling], [\"+-+-\", d_coupling]]\n",
    "\n",
    "def shortest_path(n_in, l_in, N_in):\n",
    "    return np.min([np.abs(n_in - l_in), N_in - np.abs(n_in - l_in)])\n",
    "\n",
    "def coupling(distance, N_in):\n",
    "    if distance < 2:\n",
    "        return distance\n",
    "    elif distance == N_in // 2:\n",
    "        return (N_in ** 2 - 8) / (4 * (N_in - 3))\n",
    "    else:\n",
    "        return distance + (distance ** 2 - 3 * distance + 1) / (3 - N_in)\n",
    "\n",
    "def U1fermionH(g_in, t_in, m_in, N_in, N_filled_in, PBC_in, E_neg1=0, Hbasis=fermion_basis):\n",
    "    P_neg1 = np.exp(-1j * E_neg1)\n",
    "    static_terms = []\n",
    "    dynamic_terms = []\n",
    "\n",
    "    ### Hopping term\n",
    "    L = (N_in if PBC else N_in - 1)\n",
    "    hop_coupling = [[-t_in, i, (i+1) % N_in] for i in range(L)]\n",
    "    hop_coupling_dag = [[-t_in, (i+1) % N_in, i] for i in range(L)]\n",
    "    static_terms += [[\"+-\", hop_coupling]]\n",
    "    static_terms += [[\"+-\", hop_coupling_dag]]\n",
    "    print(hop_coupling)\n",
    "    print(hop_coupling_dag)\n",
    "\n",
    "    ### Mass term\n",
    "    mass_coupling = [[m_in * (-1) ** i, i] for i in range(N)]\n",
    "    static_terms += [[\"z\", mass_coupling]]\n",
    "    print(mass_coupling)\n",
    "\n",
    "    ### E-field term\n",
    "    if PBC:\n",
    "        E_longrange_general = np.zeros((N_in,N_in))\n",
    "        for n in range(N_in):\n",
    "            for k in range(N_in):\n",
    "                E_longrange_general[n,k] = coupling(shortest_path(n, k, N_in), N_in)\n",
    "        E_longrange_general = -0.25 * (N_in - 3) / (N_in - 2) * E_longrange_general\n",
    "\n",
    "        E_longrange = [[-2 * g_in * E_longrange_general[i,j],i,j] for i in range(N_in) for j in range(N_in)] # from gauss' law\n",
    "\n",
    "        E_onsite_general = np.zeros(N_in)\n",
    "        for n in range(N_in):\n",
    "            for m in range(N_in):\n",
    "                if (m%2==1):\n",
    "                    E_onsite_general[n] += coupling(shortest_path(n, m, N_in), N_in) + coupling(shortest_path(m, n, N_in), N_in)\n",
    "\n",
    "        E_onsite = [[2 * g_in * E_onsite_general[i],i] for i in range(N)]\n",
    "        print(E_onsite)\n",
    "        print(E_longrange)\n",
    "        static_terms += [[\"nn\",E_longrange],[\"n\",E_onsite]]\n",
    "    else:\n",
    "        for i in range(L):\n",
    "            static_terms += E_squared(i, g_in, E_neg1)\n",
    "\n",
    "    return hamiltonian(static_terms, dynamic_terms, basis=Hbasis, dtype=np.float64)"
   ]
  },
  {
   "cell_type": "code",
   "execution_count": 6,
   "metadata": {},
   "outputs": [
    {
     "name": "stdout",
     "output_type": "stream",
     "text": [
      "[[0.5, 0, 1], [0.5, 1, 2], [0.5, 2, 3], [0.5, 3, 4], [0.5, 4, 5], [0.5, 5, 6], [0.5, 6, 7], [0.5, 7, 0]]\n",
      "[[0.5, 1, 0], [0.5, 2, 1], [0.5, 3, 2], [0.5, 4, 3], [0.5, 5, 4], [0.5, 6, 5], [0.5, 7, 6], [0.5, 0, 7]]\n",
      "[[1, 0], [-1, 1], [1, 2], [-1, 3], [1, 4], [-1, 5], [1, 6], [-1, 7]]\n",
      "[[-15.2, 0], [-14.4, 1], [-15.2, 2], [-14.4, 3], [-15.2, 4], [-14.4, 5], [-15.2, 6], [-14.4, 7]]\n",
      "[[-0.0, 0, 0], [-0.20833333333333334, 0, 1], [-0.45833333333333337, 0, 2], [-0.5833333333333334, 0, 3], [-0.5833333333333334, 0, 4], [-0.5833333333333334, 0, 5], [-0.45833333333333337, 0, 6], [-0.20833333333333334, 0, 7], [-0.20833333333333334, 1, 0], [-0.0, 1, 1], [-0.20833333333333334, 1, 2], [-0.45833333333333337, 1, 3], [-0.5833333333333334, 1, 4], [-0.5833333333333334, 1, 5], [-0.5833333333333334, 1, 6], [-0.45833333333333337, 1, 7], [-0.45833333333333337, 2, 0], [-0.20833333333333334, 2, 1], [-0.0, 2, 2], [-0.20833333333333334, 2, 3], [-0.45833333333333337, 2, 4], [-0.5833333333333334, 2, 5], [-0.5833333333333334, 2, 6], [-0.5833333333333334, 2, 7], [-0.5833333333333334, 3, 0], [-0.45833333333333337, 3, 1], [-0.20833333333333334, 3, 2], [-0.0, 3, 3], [-0.20833333333333334, 3, 4], [-0.45833333333333337, 3, 5], [-0.5833333333333334, 3, 6], [-0.5833333333333334, 3, 7], [-0.5833333333333334, 4, 0], [-0.5833333333333334, 4, 1], [-0.45833333333333337, 4, 2], [-0.20833333333333334, 4, 3], [-0.0, 4, 4], [-0.20833333333333334, 4, 5], [-0.45833333333333337, 4, 6], [-0.5833333333333334, 4, 7], [-0.5833333333333334, 5, 0], [-0.5833333333333334, 5, 1], [-0.5833333333333334, 5, 2], [-0.45833333333333337, 5, 3], [-0.20833333333333334, 5, 4], [-0.0, 5, 5], [-0.20833333333333334, 5, 6], [-0.45833333333333337, 5, 7], [-0.45833333333333337, 6, 0], [-0.5833333333333334, 6, 1], [-0.5833333333333334, 6, 2], [-0.5833333333333334, 6, 3], [-0.45833333333333337, 6, 4], [-0.20833333333333334, 6, 5], [-0.0, 6, 6], [-0.20833333333333334, 6, 7], [-0.20833333333333334, 7, 0], [-0.45833333333333337, 7, 1], [-0.5833333333333334, 7, 2], [-0.5833333333333334, 7, 3], [-0.5833333333333334, 7, 4], [-0.45833333333333337, 7, 5], [-0.20833333333333334, 7, 6], [-0.0, 7, 7]]\n",
      "Hermiticity check passed!\n",
      "Symmetry checks passed!\n"
     ]
    },
    {
     "data": {
      "image/png": "[encoded data removed]",
      "text/plain": [
       "<Figure size 720x576 with 1 Axes>"
      ]
     },
     "metadata": {
      "needs_background": "light"
     },
     "output_type": "display_data"
    }
   ],
   "source": [
    "### Plotting spectrum\n",
    "H = U1fermionH(g, t, m, N, N_filled, PBC, Hbasis=basis_full)\n",
    "fermion_eigvals = H.eigvalsh()\n",
    "plt.plot(fermion_eigvals, \".\")\n",
    "plt.show()"
   ]
  },
  {
   "cell_type": "markdown",
   "metadata": {},
   "source": [
    "## Real-time Dynamics"
   ]
  },
  {
   "cell_type": "code",
   "execution_count": 7,
   "metadata": {},
   "outputs": [
    {
     "name": "stdout",
     "output_type": "stream",
     "text": [
      "[[0.5, 0, 1], [0.5, 1, 2], [0.5, 2, 3], [0.5, 3, 4], [0.5, 4, 5], [0.5, 5, 6], [0.5, 6, 7], [0.5, 7, 0]]\n",
      "[[0.5, 1, 0], [0.5, 2, 1], [0.5, 3, 2], [0.5, 4, 3], [0.5, 5, 4], [0.5, 6, 5], [0.5, 7, 6], [0.5, 0, 7]]\n",
      "[[1, 0], [-1, 1], [1, 2], [-1, 3], [1, 4], [-1, 5], [1, 6], [-1, 7]]\n",
      "[[-15.2, 0], [-14.4, 1], [-15.2, 2], [-14.4, 3], [-15.2, 4], [-14.4, 5], [-15.2, 6], [-14.4, 7]]\n",
      "[[-0.0, 0, 0], [-0.20833333333333334, 0, 1], [-0.45833333333333337, 0, 2], [-0.5833333333333334, 0, 3], [-0.5833333333333334, 0, 4], [-0.5833333333333334, 0, 5], [-0.45833333333333337, 0, 6], [-0.20833333333333334, 0, 7], [-0.20833333333333334, 1, 0], [-0.0, 1, 1], [-0.20833333333333334, 1, 2], [-0.45833333333333337, 1, 3], [-0.5833333333333334, 1, 4], [-0.5833333333333334, 1, 5], [-0.5833333333333334, 1, 6], [-0.45833333333333337, 1, 7], [-0.45833333333333337, 2, 0], [-0.20833333333333334, 2, 1], [-0.0, 2, 2], [-0.20833333333333334, 2, 3], [-0.45833333333333337, 2, 4], [-0.5833333333333334, 2, 5], [-0.5833333333333334, 2, 6], [-0.5833333333333334, 2, 7], [-0.5833333333333334, 3, 0], [-0.45833333333333337, 3, 1], [-0.20833333333333334, 3, 2], [-0.0, 3, 3], [-0.20833333333333334, 3, 4], [-0.45833333333333337, 3, 5], [-0.5833333333333334, 3, 6], [-0.5833333333333334, 3, 7], [-0.5833333333333334, 4, 0], [-0.5833333333333334, 4, 1], [-0.45833333333333337, 4, 2], [-0.20833333333333334, 4, 3], [-0.0, 4, 4], [-0.20833333333333334, 4, 5], [-0.45833333333333337, 4, 6], [-0.5833333333333334, 4, 7], [-0.5833333333333334, 5, 0], [-0.5833333333333334, 5, 1], [-0.5833333333333334, 5, 2], [-0.45833333333333337, 5, 3], [-0.20833333333333334, 5, 4], [-0.0, 5, 5], [-0.20833333333333334, 5, 6], [-0.45833333333333337, 5, 7], [-0.45833333333333337, 6, 0], [-0.5833333333333334, 6, 1], [-0.5833333333333334, 6, 2], [-0.5833333333333334, 6, 3], [-0.45833333333333337, 6, 4], [-0.20833333333333334, 6, 5], [-0.0, 6, 6], [-0.20833333333333334, 6, 7], [-0.20833333333333334, 7, 0], [-0.45833333333333337, 7, 1], [-0.5833333333333334, 7, 2], [-0.5833333333333334, 7, 3], [-0.5833333333333334, 7, 4], [-0.45833333333333337, 7, 5], [-0.20833333333333334, 7, 6], [-0.0, 7, 7]]\n",
      "Hermiticity check passed!\n",
      "Symmetry checks passed!\n",
      "Particle conservation check passed!\n",
      "[[0.5, 0, 1], [0.5, 1, 2], [0.5, 2, 3], [0.5, 3, 4], [0.5, 4, 5], [0.5, 5, 6], [0.5, 6, 7], [0.5, 7, 0]]\n",
      "[[0.5, 1, 0], [0.5, 2, 1], [0.5, 3, 2], [0.5, 4, 3], [0.5, 5, 4], [0.5, 6, 5], [0.5, 7, 6], [0.5, 0, 7]]\n",
      "[[-1, 0], [1, 1], [-1, 2], [1, 3], [-1, 4], [1, 5], [-1, 6], [1, 7]]\n",
      "[[-15.2, 0], [-14.4, 1], [-15.2, 2], [-14.4, 3], [-15.2, 4], [-14.4, 5], [-15.2, 6], [-14.4, 7]]\n",
      "[[-0.0, 0, 0], [-0.20833333333333334, 0, 1], [-0.45833333333333337, 0, 2], [-0.5833333333333334, 0, 3], [-0.5833333333333334, 0, 4], [-0.5833333333333334, 0, 5], [-0.45833333333333337, 0, 6], [-0.20833333333333334, 0, 7], [-0.20833333333333334, 1, 0], [-0.0, 1, 1], [-0.20833333333333334, 1, 2], [-0.45833333333333337, 1, 3], [-0.5833333333333334, 1, 4], [-0.5833333333333334, 1, 5], [-0.5833333333333334, 1, 6], [-0.45833333333333337, 1, 7], [-0.45833333333333337, 2, 0], [-0.20833333333333334, 2, 1], [-0.0, 2, 2], [-0.20833333333333334, 2, 3], [-0.45833333333333337, 2, 4], [-0.5833333333333334, 2, 5], [-0.5833333333333334, 2, 6], [-0.5833333333333334, 2, 7], [-0.5833333333333334, 3, 0], [-0.45833333333333337, 3, 1], [-0.20833333333333334, 3, 2], [-0.0, 3, 3], [-0.20833333333333334, 3, 4], [-0.45833333333333337, 3, 5], [-0.5833333333333334, 3, 6], [-0.5833333333333334, 3, 7], [-0.5833333333333334, 4, 0], [-0.5833333333333334, 4, 1], [-0.45833333333333337, 4, 2], [-0.20833333333333334, 4, 3], [-0.0, 4, 4], [-0.20833333333333334, 4, 5], [-0.45833333333333337, 4, 6], [-0.5833333333333334, 4, 7], [-0.5833333333333334, 5, 0], [-0.5833333333333334, 5, 1], [-0.5833333333333334, 5, 2], [-0.45833333333333337, 5, 3], [-0.20833333333333334, 5, 4], [-0.0, 5, 5], [-0.20833333333333334, 5, 6], [-0.45833333333333337, 5, 7], [-0.45833333333333337, 6, 0], [-0.5833333333333334, 6, 1], [-0.5833333333333334, 6, 2], [-0.5833333333333334, 6, 3], [-0.45833333333333337, 6, 4], [-0.20833333333333334, 6, 5], [-0.0, 6, 6], [-0.20833333333333334, 6, 7], [-0.20833333333333334, 7, 0], [-0.45833333333333337, 7, 1], [-0.5833333333333334, 7, 2], [-0.5833333333333334, 7, 3], [-0.5833333333333334, 7, 4], [-0.45833333333333337, 7, 5], [-0.20833333333333334, 7, 6], [-0.0, 7, 7]]\n",
      "Hermiticity check passed!\n",
      "Symmetry checks passed!\n",
      "Particle conservation check passed!\n"
     ]
    }
   ],
   "source": [
    "H_init = U1fermionH(g, t, m, N, N_filled, PBC)\n",
    "H = U1fermionH(g, t, -m, N, N_filled, PBC)\n",
    "E_init,V_init=H_init.eigsh(k=1,which='SA',maxiter=1e8)\n",
    "psi_i = V_init[:,0]\n",
    "psi_i = psi_i.reshape((-1,))\n",
    "del H_init"
   ]
  },
  {
   "cell_type": "code",
   "execution_count": 8,
   "metadata": {},
   "outputs": [
    {
     "data": {
      "text/plain": [
       "[<matplotlib.lines.Line2D at 0x1157c0545c8>]"
      ]
     },
     "execution_count": 8,
     "metadata": {},
     "output_type": "execute_result"
    },
    {
     "data": {
      "image/png": "[encoded data removed]",
      "text/plain": [
       "<Figure size 720x576 with 1 Axes>"
      ]
     },
     "metadata": {
      "needs_background": "light"
     },
     "output_type": "display_data"
    }
   ],
   "source": [
    "##### define data type for the simulation\n",
    "dtype_real = np.float64\n",
    "dtype_cmplx = np.result_type(dtype_real,np.complex64)\n",
    "# pre assign arrays\n",
    "times = np.arange(0,T,dt)                               # times\n",
    "Lt = np.zeros(len(times),dtype=dtype_real)              # Lohschmidt echo\n",
    "# construct piece-wise constant unitaries\n",
    "expH = expm_multiply_parallel(H.tocsr(),a=-1j*dt,dtype=dtype_cmplx)\n",
    "# auxiliary array for memory efficiency\n",
    "psi=psi_i.copy().astype(np.complex128)\n",
    "work_array=np.zeros((2*len(psi),), dtype=psi.dtype) # twice as long because complex_valued\n",
    "# prepare output\n",
    "loschmidt = []\n",
    "for i in range(len(times)):\n",
    "#     if i % (len(times)//10) == 0:\n",
    "#         print(\"# T = \",times[i])\n",
    "    Lt[i]=-np.log(np.abs(np.vdot(psi_i,psi)))/N\n",
    "#     print(f\"{times[i]}\\t {Lt[i]}\")\n",
    "    loschmidt += [Lt[i]]\n",
    "    expH.dot(psi,work_array=work_array,overwrite_v=True)\n",
    "# END of time evolution\n",
    "plt.plot(times, loschmidt)"
   ]
  },
  {
   "cell_type": "markdown",
   "metadata": {},
   "source": [
    "## Correlator calculation"
   ]
  },
  {
   "cell_type": "code",
   "execution_count": 9,
   "metadata": {},
   "outputs": [],
   "source": [
    "def c_operator(n):\n",
    "    cdag_static = [[\"-\",[[1.0,n]]]]\n",
    "    cdagn = quantum_LinearOperator(cdag_static,basis=basis_full,dtype=np.complex128,check_herm=False,check_pcon=False,check_symm=False)\n",
    "    return(cdagn)\n",
    "annihilators = [c_operator(n) for n in range(N)]"
   ]
  },
  {
   "cell_type": "code",
   "execution_count": 10,
   "metadata": {},
   "outputs": [
    {
     "name": "stdout",
     "output_type": "stream",
     "text": [
      "[[0.5, 0, 1], [0.5, 1, 2], [0.5, 2, 3], [0.5, 3, 4], [0.5, 4, 5], [0.5, 5, 6], [0.5, 6, 7], [0.5, 7, 0]]\n",
      "[[0.5, 1, 0], [0.5, 2, 1], [0.5, 3, 2], [0.5, 4, 3], [0.5, 5, 4], [0.5, 6, 5], [0.5, 7, 6], [0.5, 0, 7]]\n",
      "[[-1, 0], [1, 1], [-1, 2], [1, 3], [-1, 4], [1, 5], [-1, 6], [1, 7]]\n",
      "[[-15.2, 0], [-14.4, 1], [-15.2, 2], [-14.4, 3], [-15.2, 4], [-14.4, 5], [-15.2, 6], [-14.4, 7]]\n",
      "[[-0.0, 0, 0], [-0.20833333333333334, 0, 1], [-0.45833333333333337, 0, 2], [-0.5833333333333334, 0, 3], [-0.5833333333333334, 0, 4], [-0.5833333333333334, 0, 5], [-0.45833333333333337, 0, 6], [-0.20833333333333334, 0, 7], [-0.20833333333333334, 1, 0], [-0.0, 1, 1], [-0.20833333333333334, 1, 2], [-0.45833333333333337, 1, 3], [-0.5833333333333334, 1, 4], [-0.5833333333333334, 1, 5], [-0.5833333333333334, 1, 6], [-0.45833333333333337, 1, 7], [-0.45833333333333337, 2, 0], [-0.20833333333333334, 2, 1], [-0.0, 2, 2], [-0.20833333333333334, 2, 3], [-0.45833333333333337, 2, 4], [-0.5833333333333334, 2, 5], [-0.5833333333333334, 2, 6], [-0.5833333333333334, 2, 7], [-0.5833333333333334, 3, 0], [-0.45833333333333337, 3, 1], [-0.20833333333333334, 3, 2], [-0.0, 3, 3], [-0.20833333333333334, 3, 4], [-0.45833333333333337, 3, 5], [-0.5833333333333334, 3, 6], [-0.5833333333333334, 3, 7], [-0.5833333333333334, 4, 0], [-0.5833333333333334, 4, 1], [-0.45833333333333337, 4, 2], [-0.20833333333333334, 4, 3], [-0.0, 4, 4], [-0.20833333333333334, 4, 5], [-0.45833333333333337, 4, 6], [-0.5833333333333334, 4, 7], [-0.5833333333333334, 5, 0], [-0.5833333333333334, 5, 1], [-0.5833333333333334, 5, 2], [-0.45833333333333337, 5, 3], [-0.20833333333333334, 5, 4], [-0.0, 5, 5], [-0.20833333333333334, 5, 6], [-0.45833333333333337, 5, 7], [-0.45833333333333337, 6, 0], [-0.5833333333333334, 6, 1], [-0.5833333333333334, 6, 2], [-0.5833333333333334, 6, 3], [-0.45833333333333337, 6, 4], [-0.20833333333333334, 6, 5], [-0.0, 6, 6], [-0.20833333333333334, 6, 7], [-0.20833333333333334, 7, 0], [-0.45833333333333337, 7, 1], [-0.5833333333333334, 7, 2], [-0.5833333333333334, 7, 3], [-0.5833333333333334, 7, 4], [-0.45833333333333337, 7, 5], [-0.20833333333333334, 7, 6], [-0.0, 7, 7]]\n",
      "Hermiticity check passed!\n",
      "Symmetry checks passed!\n",
      "Particle conservation check passed!\n",
      "[[0.5, 0, 1], [0.5, 1, 2], [0.5, 2, 3], [0.5, 3, 4], [0.5, 4, 5], [0.5, 5, 6], [0.5, 6, 7], [0.5, 7, 0]]\n",
      "[[0.5, 1, 0], [0.5, 2, 1], [0.5, 3, 2], [0.5, 4, 3], [0.5, 5, 4], [0.5, 6, 5], [0.5, 7, 6], [0.5, 0, 7]]\n",
      "[[-1, 0], [1, 1], [-1, 2], [1, 3], [-1, 4], [1, 5], [-1, 6], [1, 7]]\n",
      "[[-15.2, 0], [-14.4, 1], [-15.2, 2], [-14.4, 3], [-15.2, 4], [-14.4, 5], [-15.2, 6], [-14.4, 7]]\n",
      "[[-0.0, 0, 0], [-0.20833333333333334, 0, 1], [-0.45833333333333337, 0, 2], [-0.5833333333333334, 0, 3], [-0.5833333333333334, 0, 4], [-0.5833333333333334, 0, 5], [-0.45833333333333337, 0, 6], [-0.20833333333333334, 0, 7], [-0.20833333333333334, 1, 0], [-0.0, 1, 1], [-0.20833333333333334, 1, 2], [-0.45833333333333337, 1, 3], [-0.5833333333333334, 1, 4], [-0.5833333333333334, 1, 5], [-0.5833333333333334, 1, 6], [-0.45833333333333337, 1, 7], [-0.45833333333333337, 2, 0], [-0.20833333333333334, 2, 1], [-0.0, 2, 2], [-0.20833333333333334, 2, 3], [-0.45833333333333337, 2, 4], [-0.5833333333333334, 2, 5], [-0.5833333333333334, 2, 6], [-0.5833333333333334, 2, 7], [-0.5833333333333334, 3, 0], [-0.45833333333333337, 3, 1], [-0.20833333333333334, 3, 2], [-0.0, 3, 3], [-0.20833333333333334, 3, 4], [-0.45833333333333337, 3, 5], [-0.5833333333333334, 3, 6], [-0.5833333333333334, 3, 7], [-0.5833333333333334, 4, 0], [-0.5833333333333334, 4, 1], [-0.45833333333333337, 4, 2], [-0.20833333333333334, 4, 3], [-0.0, 4, 4], [-0.20833333333333334, 4, 5], [-0.45833333333333337, 4, 6], [-0.5833333333333334, 4, 7], [-0.5833333333333334, 5, 0], [-0.5833333333333334, 5, 1], [-0.5833333333333334, 5, 2], [-0.45833333333333337, 5, 3], [-0.20833333333333334, 5, 4], [-0.0, 5, 5], [-0.20833333333333334, 5, 6], [-0.45833333333333337, 5, 7], [-0.45833333333333337, 6, 0], [-0.5833333333333334, 6, 1], [-0.5833333333333334, 6, 2], [-0.5833333333333334, 6, 3], [-0.45833333333333337, 6, 4], [-0.20833333333333334, 6, 5], [-0.0, 6, 6], [-0.20833333333333334, 6, 7], [-0.20833333333333334, 7, 0], [-0.45833333333333337, 7, 1], [-0.5833333333333334, 7, 2], [-0.5833333333333334, 7, 3], [-0.5833333333333334, 7, 4], [-0.45833333333333337, 7, 5], [-0.20833333333333334, 7, 6], [-0.0, 7, 7]]\n",
      "Hermiticity check passed!\n",
      "Symmetry checks passed!\n",
      "Particle conservation check passed!\n"
     ]
    }
   ],
   "source": [
    "##### define data type for the simulation\n",
    "dtype_real = np.float64\n",
    "dtype_cmplx = np.result_type(dtype_real,np.complex64)\n",
    "# pre assign arrays\n",
    "times = np.arange(0,T,dt)                               # times\n",
    "\n",
    "# array to store correlators expectations from psi(t,n) to psi(0,0)\n",
    "correlators = np.zeros((N,len(times)),dtype=np.complex128)\n",
    "\n",
    "P_Nhalf = fermion_basis.get_proj(dtype=np.float64)\n",
    "P_Nhalfminus1 = fermion_basis_m1.get_proj(dtype=np.float64)\n",
    "\n",
    "H_NHalf_m1 = U1fermionH(g, t, -m, N, N_filled, PBC, Hbasis=fermion_basis_m1).tocsr()\n",
    "H_NHalf = U1fermionH(g, t, -m, N, N_filled, PBC, Hbasis=fermion_basis).tocsr()\n",
    "\n",
    "for n in range(0, N, 2): #loop over all site pairings\n",
    "    for i in range(len(times)): #loop over times (for annhilator location)\n",
    "        # Even Correlators\n",
    "        leftPsi=psi_i.copy().astype(np.complex128) #state for left-half of inner product\n",
    "        rightPsi=psi_i.copy().astype(np.complex128) #state for right-half\n",
    "\n",
    "        expmiH = expm_multiply_parallel(H_NHalf_m1,a=1j*dt*i,dtype=dtype_cmplx)\n",
    "        expiH = expm_multiply_parallel(H_NHalf,a=-1j*dt*i,dtype=dtype_cmplx)\n",
    "\n",
    "        expiH.dot(leftPsi,overwrite_v=True)\n",
    "        tempLpsi = np.transpose(P_Nhalfminus1).dot(annihilators[n].dot(P_Nhalf.dot(leftPsi)))\n",
    "        expmiH.dot(tempLpsi,overwrite_v=True)\n",
    "\n",
    "        tempRpsi = np.transpose(P_Nhalfminus1).dot(annihilators[0].dot(P_Nhalf.dot(rightPsi)))\n",
    "\n",
    "        correlators[n,i] = np.vdot(tempLpsi, tempRpsi) # (<a|b>) <0| . e^(-iHt) . psi\\dagger_n . e^(iHt) . psi(0,0) . |0>\n",
    "        \n",
    "        # Odd Correlators\n",
    "        leftPsi=psi_i.copy().astype(np.complex128) #state for left-half of inner product\n",
    "        rightPsi=psi_i.copy().astype(np.complex128) #state for right-half\n",
    "\n",
    "        expiH.dot(leftPsi,overwrite_v=True) \n",
    "        tempLpsi = np.transpose(P_Nhalfminus1).dot(annihilators[n+1].dot(P_Nhalf.dot(leftPsi)))\n",
    "        expmiH.dot(tempLpsi,overwrite_v=True)\n",
    "\n",
    "        tempRpsi = np.transpose(P_Nhalfminus1).dot(annihilators[1].dot(P_Nhalf.dot(rightPsi)))\n",
    "\n",
    "        correlators[n+1,i] = np.vdot(tempLpsi, tempRpsi) # (<a|b>) <0| . e^(-iHt) . psi\\dagger_n . e^(iHt) . psi(0,0) . |0>\n",
    "    \n",
    "# correlators = correlators#/(len(times)/dt) # Averaging over N so that it is actually an expectation value\n",
    "# END of time evolution"
   ]
  },
  {
   "cell_type": "code",
   "execution_count": 11,
   "metadata": {},
   "outputs": [],
   "source": [
    "correlatorfft = []\n",
    "for i in range(len(correlators[0, :])):\n",
    "    fftsum = np.fft.fft(correlators[::2,i]) + np.fft.fft(correlators[1::2,i])\n",
    "    correlatorfft.append(fftsum)\n",
    "    \n",
    "correlatorfft = np.array(correlatorfft)"
   ]
  },
  {
   "cell_type": "code",
   "execution_count": 12,
   "metadata": {},
   "outputs": [
    {
     "data": {
      "text/plain": [
       "<matplotlib.image.AxesImage at 0x1157c396588>"
      ]
     },
     "execution_count": 12,
     "metadata": {},
     "output_type": "execute_result"
    },
    {
     "data": {
      "image/png": "[encoded data removed]",
      "text/plain": [
       "<Figure size 720x576 with 1 Axes>"
      ]
     },
     "metadata": {
      "needs_background": "light"
     },
     "output_type": "display_data"
    }
   ],
   "source": [
    "# plt.plot(np.arctan2(np.imag(correlatorfft), np.real(correlatorfft)))\n",
    "plt.xlabel(\"momentum mode\")\n",
    "plt.ylabel(\"time\")\n",
    "plt.title(\"Time evolution of momentum phase\")\n",
    "step_x = 1 # step between consecutive labels\n",
    "x_positions = np.arange(0,N//2,step_x) # pixel count at label position\n",
    "x_labels = np.arange(N//4-N//2+1, N//4+1) # labels you want to see\n",
    "plt.xticks(x_positions, x_labels)\n",
    "y_tickcount = 10 # How many labels on y axis\n",
    "y_positions = np.arange(0,int(T/dt), int((T/dt)/y_tickcount)) # pixel count at label position\n",
    "y_labels = np.round(np.linspace(0,abs(T*m),y_tickcount), 3) # labels you want to see\n",
    "plt.yticks(y_positions, y_labels)\n",
    "plt.imshow(np.arctan2(np.imag(correlatorfft), np.real(correlatorfft)), aspect='auto', origin='lower')"
   ]
  },
  {
   "cell_type": "markdown",
   "metadata": {},
   "source": [
    "## Topological Order Parameter Calculation"
   ]
  },
  {
   "cell_type": "code",
   "execution_count": 13,
   "metadata": {},
   "outputs": [],
   "source": [
    "t_slices, k_modes = np.shape(correlatorfft)\n",
    "dphi_k = np.zeros((t_slices-1, k_modes))\n",
    "dphi_t = np.zeros((t_slices-1, k_modes))\n",
    "for t in range(t_slices-1):\n",
    "    for k in range(k_modes):\n",
    "        dphi_k[t, k] = np.angle(correlatorfft[t, (k+1)%k_modes]/correlatorfft[t, k])\n",
    "        dphi_t[t, k] = np.angle(correlatorfft[t + 1, k]/correlatorfft[t, k])\n",
    "        \n",
    "finite_full = np.zeros((t_slices - 2, k_modes))\n",
    "for t in range(t_slices-2):\n",
    "    for k in range(k_modes):\n",
    "        finite_full[t, k] = (dphi_k[t, k] + dphi_t[t, (k+1)%k_modes]) - (dphi_k[t+1, k] + dphi_t[t, k])\n",
    "finite_left = np.zeros(t_slices-2)\n",
    "finite_right = np.zeros(t_slices-2)\n",
    "for k in range(k_modes//2):\n",
    "    finite_left += finite_full[:,k]/2/np.pi\n",
    "    finite_right += finite_full[:,k+k_modes//2]/2/np.pi\n",
    "n_left = []\n",
    "n_right = []\n",
    "for t in range(t_slices-2):\n",
    "    ntau_left = 0\n",
    "    ntau_right = 0\n",
    "    for tau in range(0,t):\n",
    "        ntau_left += finite_left[tau]\n",
    "        ntau_right += finite_right[tau]\n",
    "    n_left.append(ntau_left)\n",
    "    n_right.append(ntau_right)\n",
    "n_left = np.array(n_left)\n",
    "n_right = np.array(n_right)"
   ]
  },
  {
   "cell_type": "code",
   "execution_count": 14,
   "metadata": {},
   "outputs": [
    {
     "data": {
      "image/png": "[encoded data removed]",
      "text/plain": [
       "<Figure size 720x576 with 1 Axes>"
      ]
     },
     "metadata": {
      "needs_background": "light"
     },
     "output_type": "display_data"
    }
   ],
   "source": [
    "plt.scatter(np.linspace(0, T * m, len(n_left)), (n_left-n_right))\n",
    "plt.xlabel(\"Time tm\")\n",
    "plt.ylabel(\"Order parameter nu\")\n",
    "plt.title(\"Evolution of topological order parameter\")\n",
    "plt.show()"
   ]
  }
 ],
 "metadata": {
  "kernelspec": {
   "display_name": "Python 3",
   "language": "python",
   "name": "python3"
  },
  "language_info": {
   "codemirror_mode": {
    "name": "ipython",
    "version": 3
   },
   "file_extension": ".py",
   "mimetype": "text/x-python",
   "name": "python",
   "nbconvert_exporter": "python",
   "pygments_lexer": "ipython3",
   "version": "3.7.4"
  }
 },
 "nbformat": 4,
 "nbformat_minor": 4
}
