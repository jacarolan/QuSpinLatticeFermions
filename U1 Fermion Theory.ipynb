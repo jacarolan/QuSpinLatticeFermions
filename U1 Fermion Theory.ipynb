{
 "cells": [
  {
   "cell_type": "markdown",
   "source": [
    "## Import Libraries"
   ],
   "metadata": {}
  },
  {
   "cell_type": "code",
   "execution_count": 1,
   "source": [
    "import numpy as np\r\n",
    "import matplotlib.pyplot as plt\r\n",
    "import itertools\r\n",
    "from quspin.operators import hamiltonian\r\n",
    "from quspin.basis import spinless_fermion_basis_1d\r\n",
    "from quspin.tools.evolution import expm_multiply_parallel\r\n",
    "from quspin.operators import quantum_LinearOperator\r\n",
    "from quspin.operators import quantum_operator\r\n",
    "plt.rcParams['figure.figsize'] = [10, 8]"
   ],
   "outputs": [],
   "metadata": {}
  },
  {
   "cell_type": "markdown",
   "source": [
    "## Define Constants/Helpers"
   ],
   "metadata": {}
  },
  {
   "cell_type": "code",
   "execution_count": 9,
   "source": [
    "N = 4\r\n",
    "N_filled = N // 2\r\n",
    "t = -0.5\r\n",
    "g = 0\r\n",
    "m = -0.5\r\n",
    "PBC = True\r\n",
    "\r\n",
    "T = 4\r\n",
    "dt = 0.1"
   ],
   "outputs": [],
   "metadata": {}
  },
  {
   "cell_type": "code",
   "execution_count": 38,
   "source": [
    "def stringbox(lst, caption):\r\n",
    "    return caption + \"-\" * (100 - len(caption))+\"\\n\" + str(lst) + \"\\n\" + \"-\" * 100"
   ],
   "outputs": [],
   "metadata": {}
  },
  {
   "cell_type": "markdown",
   "source": [
    "## Fermion Basis"
   ],
   "metadata": {}
  },
  {
   "cell_type": "code",
   "execution_count": 10,
   "source": [
    "fermion_basis = spinless_fermion_basis_1d(L=N, Nf=N_filled)\r\n",
    "fermion_basis_m1 = spinless_fermion_basis_1d(L=N, Nf=N_filled-1)\r\n",
    "basis_full = spinless_fermion_basis_1d(L=N)"
   ],
   "outputs": [],
   "metadata": {}
  },
  {
   "cell_type": "code",
   "execution_count": 12,
   "source": [
    "def E_squared(n, g_in, E_neg1):\r\n",
    "    E_const = (E_neg1 / max(1e-8, np.sqrt(g_in * 2))) - (n + 1) // 2\r\n",
    "    s_coupling = []\r\n",
    "    d_coupling = []\r\n",
    "    for i in range(n + 1):\r\n",
    "        s_coeff = 4 * E_const * g_in\r\n",
    "        s_coupling += [[s_coeff, i]]\r\n",
    "        for j in range(n + 1):\r\n",
    "            d_coeff = 2 * g_in\r\n",
    "            d_coupling += [[d_coeff, i, j]]\r\n",
    "    return [[\"n\", s_coupling], [\"nn\", d_coupling]]\r\n",
    "\r\n",
    "def shortest_path(n_in, l_in, N_in):\r\n",
    "    return np.min([np.abs(n_in - l_in), N_in - np.abs(n_in - l_in)])\r\n",
    "\r\n",
    "def coupling(distance, N_in):\r\n",
    "    if distance < 2:\r\n",
    "        return distance\r\n",
    "    elif distance == N_in // 2:\r\n",
    "        return (N_in ** 2 - 8) / (4 * (N_in - 3))\r\n",
    "    else:\r\n",
    "        return distance + (distance ** 2 - 3 * distance + 1) / (3 - N_in)\r\n",
    "\r\n",
    "\r\n",
    "def U1fermionH(g_in, t_in, m_in, N_in, N_filled_in, PBC_in, E_neg1=0, Hbasis=fermion_basis):\r\n",
    "    P_neg1 = np.exp(-1j * E_neg1)\r\n",
    "    static_terms = []\r\n",
    "    dynamic_terms = []\r\n",
    "\r\n",
    "    ### Hopping term\r\n",
    "    L = (N_in if PBC else N_in - 1)\r\n",
    "    hop_coupling = [[t_in, i, (i+1) % N_in] for i in range(L)]\r\n",
    "    hop_coupling_dag = [[-t_in, i, (i+1) % N_in] for i in range(L)]\r\n",
    "    static_terms += [[\"+-\", hop_coupling]]\r\n",
    "    static_terms += [[\"-+\", hop_coupling_dag]]\r\n",
    "\r\n",
    "    ### Mass term\r\n",
    "    mass_coupling = [[-m_in * (-1) ** i, i] for i in range(N)]\r\n",
    "    static_terms += [[\"z\", mass_coupling]]\r\n",
    "\r\n",
    "    ### E-field term\r\n",
    "    if PBC:\r\n",
    "        E_longrange_general = np.zeros((N_in,N_in))\r\n",
    "        for n in range(N_in):\r\n",
    "            for k in range(N_in):\r\n",
    "                E_longrange_general[n,k] = coupling(shortest_path(n, k, N_in), N_in)\r\n",
    "        E_longrange_general = -0.25 * (N_in - 3) / (N_in - 2) * E_longrange_general\r\n",
    "\r\n",
    "        E_longrange = [[2 * g_in * E_longrange_general[i,j],i,j] for i in range(N_in) for j in range(N_in)] # from gauss' law\r\n",
    "\r\n",
    "        E_onsite_general = np.zeros(N_in)\r\n",
    "        for n in range(N_in):\r\n",
    "            for m in range(N_in):\r\n",
    "                if (m%2==1):\r\n",
    "                    E_onsite_general[n] += coupling(shortest_path(n, m, N_in), N_in) + coupling(shortest_path(m, n, N_in), N_in)\r\n",
    "\r\n",
    "        E_onsite = [[-2 * g_in * E_onsite_general[i],i] for i in range(N)]\r\n",
    "        static_terms += [[\"nn\",E_longrange],[\"n\",E_onsite]]\r\n",
    "    else:\r\n",
    "        for i in range(L):\r\n",
    "            static_terms += E_squared(i, -g_in, E_neg1)\r\n",
    "\r\n",
    "    return hamiltonian(static_terms, dynamic_terms, basis=Hbasis, dtype=np.float64)"
   ],
   "outputs": [],
   "metadata": {}
  },
  {
   "cell_type": "code",
   "execution_count": 13,
   "source": [
    "### Plotting spectrum\r\n",
    "H = U1fermionH(g, t, m, N, N_filled, PBC, Hbasis=basis_full)\r\n",
    "fermion_eigvals = H.eigvalsh()\r\n",
    "plt.plot(fermion_eigvals, \".\")\r\n",
    "plt.show()"
   ],
   "outputs": [
    {
     "output_type": "stream",
     "name": "stdout",
     "text": [
      "Hermiticity check passed!\n",
      "Symmetry checks passed!\n"
     ]
    },
    {
     "output_type": "display_data",
     "data": {
      "text/plain": [
       "<Figure size 720x576 with 1 Axes>"
      ],
      "image/png": "[encoded data removed]"
     },
     "metadata": {
      "needs_background": "light"
     }
    }
   ],
   "metadata": {}
  },
  {
   "cell_type": "markdown",
   "source": [
    "## Real-time Dynamics"
   ],
   "metadata": {}
  },
  {
   "cell_type": "code",
   "execution_count": 14,
   "source": [
    "H_init = U1fermionH(g, t, m, N, N_filled, PBC)\r\n",
    "H = U1fermionH(g, t, -m, N, N_filled, PBC)\r\n",
    "E_init,V_init=H_init.eigsh(k=1,which='SA',maxiter=1e8)\r\n",
    "psi_i = V_init[:,0]\r\n",
    "psi_i = psi_i.reshape((-1,))\r\n",
    "del H_init"
   ],
   "outputs": [
    {
     "output_type": "stream",
     "name": "stdout",
     "text": [
      "Hermiticity check passed!\n",
      "Symmetry checks passed!\n",
      "Particle conservation check passed!\n",
      "Hermiticity check passed!\n",
      "Symmetry checks passed!\n",
      "Particle conservation check passed!\n"
     ]
    }
   ],
   "metadata": {}
  },
  {
   "cell_type": "code",
   "execution_count": 28,
   "source": [
    "##### define data type for the simulation\r\n",
    "dtype_real = np.float64\r\n",
    "dtype_cmplx = np.result_type(dtype_real,np.complex64)\r\n",
    "# pre assign arrays\r\n",
    "times = np.arange(0,T,dt)                               # times\r\n",
    "Lt = np.zeros(len(times),dtype=dtype_real)              # Lohschmidt echo\r\n",
    "# construct piece-wise constant unitaries\r\n",
    "expH = expm_multiply_parallel(H.tocsr(),a=-1j*dt,dtype=dtype_cmplx)\r\n",
    "# auxiliary array for memory efficiency\r\n",
    "psi=psi_i.copy().astype(np.complex128)\r\n",
    "work_array=np.zeros((2*len(psi),), dtype=psi.dtype) # twice as long because complex_valued\r\n",
    "# prepare output\r\n",
    "loschmidt = []\r\n",
    "for i in range(len(times)):\r\n",
    "#     if i % (len(times)//10) == 0:\r\n",
    "#         print(\"# T = \",times[i])\r\n",
    "    Lt[i]=-np.log(np.abs(np.vdot(psi_i,psi)))/N\r\n",
    "#     print(f\"{times[i]}\\t {Lt[i]}\")\r\n",
    "    loschmidt += [Lt[i]]\r\n",
    "    expH.dot(psi,work_array=work_array,overwrite_v=True)\r\n",
    "# END of time evolution\r\n",
    "plt.plot(times, loschmidt)"
   ],
   "outputs": [
    {
     "output_type": "execute_result",
     "data": {
      "text/plain": [
       "[<matplotlib.lines.Line2D at 0x25a2b8e0f88>]"
      ]
     },
     "metadata": {},
     "execution_count": 28
    },
    {
     "output_type": "display_data",
     "data": {
      "text/plain": [
       "<Figure size 720x576 with 1 Axes>"
      ],
      "image/png": "[encoded data removed]"
     },
     "metadata": {
      "needs_background": "light"
     }
    }
   ],
   "metadata": {}
  },
  {
   "cell_type": "markdown",
   "source": [
    "## Correlator calculation"
   ],
   "metadata": {}
  },
  {
   "cell_type": "code",
   "execution_count": 29,
   "source": [
    "def c_operator(n):\r\n",
    "    cdag_static = [[\"-\",[[1.0,n]]]]\r\n",
    "    cdagn = quantum_LinearOperator(cdag_static,basis=basis_full,dtype=np.complex128,check_herm=False,check_pcon=False,check_symm=False)\r\n",
    "    return(cdagn)\r\n",
    "annihilators = [c_operator(n) for n in range(N)]"
   ],
   "outputs": [],
   "metadata": {}
  },
  {
   "cell_type": "code",
   "execution_count": 16,
   "source": [
    "##### define data type for the simulation\r\n",
    "dtype_real = np.float64\r\n",
    "dtype_cmplx = np.result_type(dtype_real,np.complex64)\r\n",
    "# pre assign arrays\r\n",
    "times = np.arange(0,T,dt)                               # times\r\n",
    "\r\n",
    "# array to store correlators expectations from psi(t,n) to psi(0,0)\r\n",
    "correlators = np.zeros((N,len(times)),dtype=np.complex128)\r\n",
    "\r\n",
    "P_Nhalf = fermion_basis.get_proj(dtype=np.float64)\r\n",
    "P_Nhalfminus1 = fermion_basis_m1.get_proj(dtype=np.float64)\r\n",
    "\r\n",
    "H_NHalf_m1 = U1fermionH(g, t, -m, N, N_filled, PBC, Hbasis=fermion_basis_m1).tocsr()\r\n",
    "H_NHalf = U1fermionH(g, t, -m, N, N_filled, PBC, Hbasis=fermion_basis).tocsr()\r\n",
    "\r\n",
    "for n in range(0, N, 2): #loop over all site pairings\r\n",
    "    for i in range(len(times)): #loop over times (for annhilator location)\r\n",
    "        # Even Correlators\r\n",
    "        leftPsi=psi_i.copy().astype(np.complex128) #state for left-half of inner product\r\n",
    "        rightPsi=psi_i.copy().astype(np.complex128) #state for right-half\r\n",
    "\r\n",
    "        expmiH = expm_multiply_parallel(H_NHalf_m1,a=1j*dt*i,dtype=dtype_cmplx)\r\n",
    "        expiH = expm_multiply_parallel(H_NHalf,a=-1j*dt*i,dtype=dtype_cmplx)\r\n",
    "\r\n",
    "        expiH.dot(leftPsi,overwrite_v=True)\r\n",
    "        tempLpsi = np.transpose(P_Nhalfminus1).dot(annihilators[n].dot(P_Nhalf.dot(leftPsi)))\r\n",
    "        expmiH.dot(tempLpsi,overwrite_v=True)\r\n",
    "\r\n",
    "        tempRpsi = np.transpose(P_Nhalfminus1).dot(annihilators[0].dot(P_Nhalf.dot(rightPsi)))\r\n",
    "\r\n",
    "        correlators[n,i] = np.vdot(tempLpsi, tempRpsi) # (<a|b>) <0| . e^(-iHt) . psi\\dagger_n . e^(iHt) . psi(0,0) . |0>\r\n",
    "        \r\n",
    "        # Odd Correlators\r\n",
    "        leftPsi=psi_i.copy().astype(np.complex128) #state for left-half of inner product\r\n",
    "        rightPsi=psi_i.copy().astype(np.complex128) #state for right-half\r\n",
    "\r\n",
    "        expiH.dot(leftPsi,overwrite_v=True) \r\n",
    "        tempLpsi = np.transpose(P_Nhalfminus1).dot(annihilators[n+1].dot(P_Nhalf.dot(leftPsi)))\r\n",
    "        expmiH.dot(tempLpsi,overwrite_v=True)\r\n",
    "\r\n",
    "        tempRpsi = np.transpose(P_Nhalfminus1).dot(annihilators[1].dot(P_Nhalf.dot(rightPsi)))\r\n",
    "\r\n",
    "        correlators[n+1,i] = np.vdot(tempLpsi, tempRpsi) # (<a|b>) <0| . e^(-iHt) . psi\\dagger_n . e^(iHt) . psi(0,0) . |0>\r\n",
    "    \r\n",
    "# correlators = correlators#/(len(times)/dt) # Averaging over N so that it is actually an expectation value\r\n",
    "# END of time evolution"
   ],
   "outputs": [
    {
     "output_type": "stream",
     "name": "stdout",
     "text": [
      "[['+-', [[0.5, 0, 1], [0.5, 1, 2], [0.5, 2, 3], [0.5, 3, 0]]], ['+-', [[0.5, 1, 0], [0.5, 2, 1], [0.5, 3, 2], [0.5, 0, 3]]], ['z', [[-1, 0], [1, 1], [-1, 2], [1, 3]]], ['nn', [[0.0, 0, 0], [0.125, 0, 1], [0.25, 0, 2], [0.125, 0, 3], [0.125, 1, 0], [0.0, 1, 1], [0.125, 1, 2], [0.25, 1, 3], [0.25, 2, 0], [0.125, 2, 1], [0.0, 2, 2], [0.125, 2, 3], [0.125, 3, 0], [0.25, 3, 1], [0.125, 3, 2], [0.0, 3, 3]]], ['n', [[4.0, 0], [4.0, 1], [4.0, 2], [4.0, 3]]]]\n",
      "Hermiticity check passed!\n",
      "Symmetry checks passed!\n",
      "Particle conservation check passed!\n",
      "[['+-', [[0.5, 0, 1], [0.5, 1, 2], [0.5, 2, 3], [0.5, 3, 0]]], ['+-', [[0.5, 1, 0], [0.5, 2, 1], [0.5, 3, 2], [0.5, 0, 3]]], ['z', [[-1, 0], [1, 1], [-1, 2], [1, 3]]], ['nn', [[0.0, 0, 0], [0.125, 0, 1], [0.25, 0, 2], [0.125, 0, 3], [0.125, 1, 0], [0.0, 1, 1], [0.125, 1, 2], [0.25, 1, 3], [0.25, 2, 0], [0.125, 2, 1], [0.0, 2, 2], [0.125, 2, 3], [0.125, 3, 0], [0.25, 3, 1], [0.125, 3, 2], [0.0, 3, 3]]], ['n', [[4.0, 0], [4.0, 1], [4.0, 2], [4.0, 3]]]]\n",
      "Hermiticity check passed!\n",
      "Symmetry checks passed!\n",
      "Particle conservation check passed!\n"
     ]
    }
   ],
   "metadata": {}
  },
  {
   "cell_type": "code",
   "execution_count": 17,
   "source": [
    "correlatorfft = []\r\n",
    "for i in range(len(correlators[0, :])):\r\n",
    "    fftsum = np.fft.fft(correlators[::2,i]) + np.fft.fft(correlators[1::2,i])\r\n",
    "    correlatorfft.append(fftsum)\r\n",
    "    \r\n",
    "correlatorfft = np.array(correlatorfft)"
   ],
   "outputs": [],
   "metadata": {}
  },
  {
   "cell_type": "code",
   "execution_count": 18,
   "source": [
    "# plt.plot(np.arctan2(np.imag(correlatorfft), np.real(correlatorfft)))\r\n",
    "plt.xlabel(\"momentum mode\")\r\n",
    "plt.ylabel(\"time\")\r\n",
    "plt.title(\"Time evolution of momentum phase\")\r\n",
    "step_x = 1 # step between consecutive labels\r\n",
    "x_positions = np.arange(0,N//2,step_x) # pixel count at label position\r\n",
    "x_labels = np.arange(N//4-N//2+1, N//4+1) # labels you want to see\r\n",
    "plt.xticks(x_positions, x_labels)\r\n",
    "y_tickcount = 10 # How many labels on y axis\r\n",
    "y_positions = np.arange(0,int(T/dt), int((T/dt)/y_tickcount)) # pixel count at label position\r\n",
    "y_labels = np.round(np.linspace(0,abs(T*m),y_tickcount), 3) # labels you want to see\r\n",
    "plt.yticks(y_positions, y_labels)\r\n",
    "plt.imshow(np.arctan2(np.imag(correlatorfft), np.real(correlatorfft)), aspect='auto', origin='lower')"
   ],
   "outputs": [
    {
     "output_type": "execute_result",
     "data": {
      "text/plain": [
       "<matplotlib.image.AxesImage at 0x2acf6ad6dc8>"
      ]
     },
     "metadata": {},
     "execution_count": 18
    },
    {
     "output_type": "display_data",
     "data": {
      "text/plain": [
       "<Figure size 720x576 with 1 Axes>"
      ],
      "image/png": "[encoded data removed]"
     },
     "metadata": {
      "needs_background": "light"
     }
    }
   ],
   "metadata": {}
  },
  {
   "cell_type": "markdown",
   "source": [
    "## Topological Order Parameter Calculation"
   ],
   "metadata": {}
  },
  {
   "cell_type": "code",
   "execution_count": 19,
   "source": [
    "t_slices, k_modes = np.shape(correlatorfft)\r\n",
    "dphi_k = np.zeros((t_slices-1, k_modes))\r\n",
    "dphi_t = np.zeros((t_slices-1, k_modes))\r\n",
    "for t in range(t_slices-1):\r\n",
    "    for k in range(k_modes):\r\n",
    "        dphi_k[t, k] = np.angle(correlatorfft[t, (k+1)%k_modes]/correlatorfft[t, k])\r\n",
    "        dphi_t[t, k] = np.angle(correlatorfft[t + 1, k]/correlatorfft[t, k])\r\n",
    "        \r\n",
    "finite_full = np.zeros((t_slices - 2, k_modes))\r\n",
    "for t in range(t_slices-2):\r\n",
    "    for k in range(k_modes):\r\n",
    "        finite_full[t, k] = (dphi_k[t, k] + dphi_t[t, (k+1)%k_modes]) - (dphi_k[t+1, k] + dphi_t[t, k])\r\n",
    "finite_left = np.zeros(t_slices-2)\r\n",
    "finite_right = np.zeros(t_slices-2)\r\n",
    "for k in range(k_modes//2):\r\n",
    "    finite_left += finite_full[:,k]/2/np.pi\r\n",
    "    finite_right += finite_full[:,k+k_modes//2]/2/np.pi\r\n",
    "n_left = []\r\n",
    "n_right = []\r\n",
    "for t in range(t_slices-2):\r\n",
    "    ntau_left = 0\r\n",
    "    ntau_right = 0\r\n",
    "    for tau in range(0,t):\r\n",
    "        ntau_left += finite_left[tau]\r\n",
    "        ntau_right += finite_right[tau]\r\n",
    "    n_left.append(ntau_left)\r\n",
    "    n_right.append(ntau_right)\r\n",
    "n_left = np.array(n_left)\r\n",
    "n_right = np.array(n_right)"
   ],
   "outputs": [],
   "metadata": {}
  },
  {
   "cell_type": "code",
   "execution_count": 20,
   "source": [
    "plt.scatter(np.linspace(0, T * m, len(n_left)), (n_left-n_right))\r\n",
    "plt.xlabel(\"Time tm\")\r\n",
    "plt.ylabel(\"Order parameter nu\")\r\n",
    "plt.title(\"Evolution of topological order parameter\")\r\n",
    "plt.show()"
   ],
   "outputs": [
    {
     "output_type": "display_data",
     "data": {
      "text/plain": [
       "<Figure size 720x576 with 1 Axes>"
      ],
      "image/png": "[encoded data removed]"
     },
     "metadata": {
      "needs_background": "light"
     }
    }
   ],
   "metadata": {}
  },
  {
   "cell_type": "code",
   "execution_count": 15,
   "source": [
    "testH=hamiltonian([[\"n\",[[1.0,0]]]], [],basis=fermion_basis, dtype=np.float64)\r\n",
    "psi2 = psi_i\r\n",
    "testH.expt_value(psi_i)"
   ],
   "outputs": [
    {
     "output_type": "stream",
     "name": "stdout",
     "text": [
      "Hermiticity check passed!\n",
      "Symmetry checks passed!\n",
      "Particle conservation check passed!\n"
     ]
    },
    {
     "output_type": "execute_result",
     "data": {
      "text/plain": [
       "0.13819660112501048"
      ]
     },
     "metadata": {},
     "execution_count": 15
    }
   ],
   "metadata": {}
  },
  {
   "cell_type": "code",
   "execution_count": 55,
   "source": [],
   "outputs": [
    {
     "output_type": "execute_result",
     "data": {
      "text/plain": [
       "0.07322330470336315"
      ]
     },
     "metadata": {},
     "execution_count": 55
    }
   ],
   "metadata": {}
  },
  {
   "cell_type": "code",
   "execution_count": null,
   "source": [],
   "outputs": [],
   "metadata": {}
  }
 ],
 "metadata": {
  "kernelspec": {
   "display_name": "Python 3",
   "language": "python",
   "name": "python3"
  },
  "language_info": {
   "codemirror_mode": {
    "name": "ipython",
    "version": 3
   },
   "file_extension": ".py",
   "mimetype": "text/x-python",
   "name": "python",
   "nbconvert_exporter": "python",
   "pygments_lexer": "ipython3",
   "version": "3.7.4"
  }
 },
 "nbformat": 4,
 "nbformat_minor": 4
}