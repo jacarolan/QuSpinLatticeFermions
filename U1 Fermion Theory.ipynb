{
 "cells": [
  {
   "cell_type": "markdown",
   "metadata": {},
   "source": [
    "## Import Libraries"
   ]
  },
  {
   "cell_type": "code",
   "execution_count": 1,
   "metadata": {},
   "outputs": [],
   "source": [
    "from quspin.operators import hamiltonian\n",
    "from quspin.basis import spinless_fermion_basis_1d\n",
    "import numpy as np\n",
    "import matplotlib.pyplot as plt\n",
    "import itertools\n",
    "from quspin.tools.evolution import expm_multiply_parallel\n",
    "from quspin.operators import quantum_LinearOperator\n",
    "from quspin.operators import quantum_operator\n",
    "plt.rcParams['figure.figsize'] = [10, 8]"
   ]
  },
  {
   "cell_type": "markdown",
   "metadata": {},
   "source": [
    "## Define Constants/Helpers"
   ]
  },
  {
   "cell_type": "code",
   "execution_count": 2,
   "metadata": {},
   "outputs": [],
   "source": [
    "N = 4\n",
    "N_filled = N // 2\n",
    "E_neg1 = 0\n",
    "P_neg1 = np.exp(-1j * E_neg1)\n",
    "t = -0.5\n",
    "g = 0#1e-3\n",
    "m = 0.8\n",
    "PBC = True"
   ]
  },
  {
   "cell_type": "code",
   "execution_count": 3,
   "metadata": {},
   "outputs": [],
   "source": [
    "def stringbox(lst, caption):\n",
    "    return caption + \"-\" * (100 - len(caption))+\"\\n\" + str(lst) + \"\\n\" + \"-\" * 100"
   ]
  },
  {
   "cell_type": "markdown",
   "metadata": {},
   "source": [
    "## Fermion Basis"
   ]
  },
  {
   "cell_type": "code",
   "execution_count": 4,
   "metadata": {},
   "outputs": [
    {
     "name": "stdout",
     "output_type": "stream",
     "text": [
      "Hermiticity check passed!\n",
      "Symmetry checks passed!\n",
      "Particle conservation check passed!\n",
      "Hermiticity check passed!\n",
      "Symmetry checks passed!\n",
      "Particle conservation check passed!\n"
     ]
    },
    {
     "data": {
      "image/png": "[encoded data removed]",
      "text/plain": [
       "<Figure size 720x576 with 1 Axes>"
      ]
     },
     "metadata": {
      "needs_background": "light"
     },
     "output_type": "display_data"
    }
   ],
   "source": [
    "fermion_basis = spinless_fermion_basis_1d(L=N, Nf=N_filled)\n",
    "fermion_basis_m1 = spinless_fermion_basis_1d(L=N, Nf=N_filled-1)\n",
    "basis_full = spinless_fermion_basis_1d(L=N)\n",
    "static_terms = []\n",
    "dynamic_terms = []\n",
    "\n",
    "### Hopping term\n",
    "L = (N if PBC else N-1)\n",
    "hop_coupling = [[-t, i, (i+1) % N] for i in range(L)]\n",
    "hop_coupling_dag = [[-t, (i+1) % N, i] for i in range(L)]\n",
    "static_terms += [[\"+-\", hop_coupling]]\n",
    "static_terms += [[\"+-\", hop_coupling_dag]]\n",
    "\n",
    "### Mass term\n",
    "mass_coupling = [[m * (-1) ** i, i, i] for i in range(N)]\n",
    "static_terms += [[\"+-\", mass_coupling]]\n",
    "\n",
    "### E-field term\n",
    "# E_link_parity = lambda x : -1 if (x % 4) < 2 else 1\n",
    "# for i in range(N):\n",
    "#     E_coupling = [P_neg1 * -g * E_link_parity(i) * 2 ** (i+1)] + list(range(i+1))\n",
    "#     static_terms += [[\"z\" * (i+1), [E_coupling]]]\n",
    "def E_squared(n):\n",
    "    E_const = E_neg1 + (n + 1) // 2\n",
    "    s_coupling = []\n",
    "    d_coupling = []\n",
    "    for i in range(n + 1):\n",
    "        s_coeff = 2 * E_const * -g\n",
    "        s_coupling += [[s_coeff, i, i]]\n",
    "        for j in range(n + 1):\n",
    "            d_coeff = -g\n",
    "            d_coupling += [[d_coeff, i, i, j, j]]\n",
    "    return [[\"+-\", s_coupling], [\"+-+-\", d_coupling]]\n",
    "for i in range(N):\n",
    "    static_terms += E_squared(i)\n",
    "\n",
    "### Save a copy for preparing ground state\n",
    "H_init = hamiltonian(static_terms, dynamic_terms, basis=fermion_basis, dtype=np.float64)\n",
    "    \n",
    "### Plotting spectrum\n",
    "H = hamiltonian(static_terms, dynamic_terms, basis=fermion_basis, dtype=np.float64)\n",
    "fermion_eigvals = H.eigvalsh()\n",
    "plt.plot(fermion_eigvals, \".\")\n",
    "plt.show()"
   ]
  },
  {
   "cell_type": "markdown",
   "metadata": {},
   "source": [
    "## Real-time Dynamics"
   ]
  },
  {
   "cell_type": "code",
   "execution_count": 5,
   "metadata": {},
   "outputs": [
    {
     "name": "stdout",
     "output_type": "stream",
     "text": [
      "Hermiticity check passed!\n",
      "Symmetry checks passed!\n",
      "Particle conservation check passed!\n"
     ]
    }
   ],
   "source": [
    "### Defining time-evolution hamiltonian\n",
    "static_terms = []\n",
    "dynamic_terms = []\n",
    "\n",
    "### Hopping term\n",
    "L = (N if PBC else N-1)\n",
    "hop_coupling = [[-t, i, (i+1) % N] for i in range(L)]\n",
    "hop_coupling_dag = [[-t, (i+1) % N, i] for i in range(L)]\n",
    "static_terms += [[\"+-\", hop_coupling]]\n",
    "static_terms += [[\"+-\", hop_coupling_dag]]\n",
    "\n",
    "### Mass term\n",
    "mass_coupling = [[-m * (-1) ** i, i, i] for i in range(N)]\n",
    "static_terms += [[\"+-\", mass_coupling]]\n",
    "\n",
    "### E-field term\n",
    "for i in range(N):\n",
    "    static_terms += E_squared(i)\n",
    "\n",
    "H = hamiltonian(static_terms, dynamic_terms, basis=fermion_basis, dtype=np.complex64)"
   ]
  },
  {
   "cell_type": "code",
   "execution_count": 6,
   "metadata": {},
   "outputs": [],
   "source": [
    "E_init,V_init=H_init.eigsh(k=1,which='SA',maxiter=1e8)\n",
    "psi_i = V_init[:,0]\n",
    "psi_i = psi_i.reshape((-1,))\n",
    "del H_init"
   ]
  },
  {
   "cell_type": "code",
   "execution_count": 7,
   "metadata": {},
   "outputs": [
    {
     "name": "stdout",
     "output_type": "stream",
     "text": [
      "# T =  0.0\n",
      "0.0\t -0.0\n",
      "0.1\t 0.001955797254729506\n",
      "0.2\t 0.007878867699706705\n",
      "# T =  0.30000000000000004\n",
      "0.30000000000000004\t 0.017942003375528863\n",
      "0.4\t 0.03245339852165077\n",
      "0.5\t 0.051890629752091744\n",
      "# T =  0.6000000000000001\n",
      "0.6000000000000001\t 0.07695554385604135\n",
      "0.7000000000000001\t 0.10865482544494066\n",
      "0.8\t 0.148394583590778\n",
      "# T =  0.9\n",
      "0.9\t 0.1979757078766872\n",
      "1.0\t 0.2588313674910662\n",
      "1.1\t 0.32719572248631135\n",
      "# T =  1.2000000000000002\n",
      "1.2000000000000002\t 0.3762581028186966\n",
      "1.3\t 0.35902586473451764\n",
      "1.4000000000000001\t 0.2950779894326098\n",
      "# T =  1.5\n",
      "1.5\t 0.2289279684648389\n",
      "1.6\t 0.1734111245279769\n",
      "1.7000000000000002\t 0.12867675555135658\n",
      "# T =  1.8\n",
      "1.8\t 0.09290558293669746\n",
      "1.9000000000000001\t 0.06446169647133569\n",
      "2.0\t 0.04213669476270868\n",
      "# T =  2.1\n",
      "2.1\t 0.025078290884953305\n",
      "2.2\t 0.012698065686036899\n",
      "2.3000000000000003\t 0.004603179765043158\n",
      "# T =  2.4000000000000004\n",
      "2.4000000000000004\t 0.0005520196249913514\n",
      "2.5\t 0.00042810045811695886\n",
      "2.6\t 0.004227905198132254\n",
      "# T =  2.7\n",
      "2.7\t 0.012060522042463957\n",
      "2.8000000000000003\t 0.024159016015710678\n",
      "2.9000000000000004\t 0.04090553669746308\n"
     ]
    }
   ],
   "source": [
    "T = 3#g ** (-1)\n",
    "dt = T / 30\n",
    "\n",
    "##### define data type for the simulation\n",
    "dtype_real = np.float64\n",
    "dtype_cmplx = np.result_type(dtype_real,np.complex64)\n",
    "# pre assign arrays\n",
    "times = np.arange(0,T,dt)                               # times\n",
    "Lt = np.zeros(len(times),dtype=dtype_real)              # Lohschmidt echo\n",
    "# construct piece-wise constant unitaries\n",
    "expH = expm_multiply_parallel(H.tocsr(),a=-1j*dt,dtype=dtype_cmplx)\n",
    "# auxiliary array for memory efficiency\n",
    "psi=psi_i.copy().astype(np.complex128)\n",
    "work_array=np.zeros((2*len(psi),), dtype=psi.dtype) # twice as long because complex_valued\n",
    "# prepare output\n",
    "loschmidt = []\n",
    "for i in range(len(times)):\n",
    "    if i % (len(times)//10) == 0:\n",
    "        print(\"# T = \",times[i])\n",
    "    Lt[i]=-np.log(np.abs(np.vdot(psi_i,psi)))/N\n",
    "    print(f\"{times[i]}\\t {Lt[i]}\")\n",
    "    loschmidt += [Lt[i]]\n",
    "    expH.dot(psi,work_array=work_array,overwrite_v=True)\n",
    "# END of time evolution"
   ]
  },
  {
   "cell_type": "markdown",
   "metadata": {},
   "source": [
    "## Correlator calculation"
   ]
  },
  {
   "cell_type": "code",
   "execution_count": 8,
   "metadata": {},
   "outputs": [],
   "source": [
    "def c_operator(n):\n",
    "    cdag_static = [[\"-\",[[1.0,n]]]]\n",
    "    cdagn = quantum_LinearOperator(cdag_static,basis=basis_full,dtype=np.complex128,check_herm=False,check_pcon=False,check_symm=False)\n",
    "    return(cdagn)\n",
    "annihilators = [c_operator(n) for n in range(N)]"
   ]
  },
  {
   "cell_type": "code",
   "execution_count": 9,
   "metadata": {},
   "outputs": [
    {
     "name": "stdout",
     "output_type": "stream",
     "text": [
      "Hermiticity check passed!\n",
      "Symmetry checks passed!\n",
      "Particle conservation check passed!\n"
     ]
    }
   ],
   "source": [
    "##### define data type for the simulation\n",
    "dtype_real = np.float64\n",
    "dtype_cmplx = np.result_type(dtype_real,np.complex64)\n",
    "# pre assign arrays\n",
    "times = np.arange(0,T,dt)                               # times\n",
    "H = hamiltonian(static_terms, dynamic_terms, basis=fermion_basis, dtype=np.float64)\n",
    "\n",
    "# array to store correlators expectations from psi(t,n) to psi(0,0)\n",
    "correlators = np.zeros((N,len(times)),dtype=np.complex128)\n",
    "\n",
    "P_Nhalf = fermion_basis.get_proj(dtype=np.float64)\n",
    "P_Nhalfminus1 = fermion_basis_m1.get_proj(dtype=np.float64)\n",
    "\n",
    "H_NHalf_m1 = np.transpose(P_Nhalfminus1).dot(P_Nhalf.dot(H.tocsr().dot(np.transpose(P_Nhalf)))).dot(P_Nhalfminus1)\n",
    "H_NHalf = H.tocsr()\n",
    "# Hf = H\n",
    "# Hr = -H\n",
    "\n",
    "for n in range(0, N, 2): #loop over all site pairings\n",
    "    for i in range(len(times)): #loop over times (for annhilator location)\n",
    "        # Even Correlators\n",
    "        leftPsi=psi_i.copy().astype(np.complex128) #state for left-half of inner product\n",
    "        rightPsi=psi_i.copy().astype(np.complex128) #state for right-half\n",
    "\n",
    "        expmiH = expm_multiply_parallel(H_NHalf_m1,a=-1j*dt*i,dtype=dtype_cmplx)\n",
    "        expiH = expm_multiply_parallel(H_NHalf,a=1j*dt*i,dtype=dtype_cmplx)\n",
    "\n",
    "        expiH.dot(leftPsi,overwrite_v=True) \n",
    "#         leftPsi = Hf.evolve(leftPsi, 0, dt * i)\n",
    "        tempLpsi = np.transpose(P_Nhalfminus1).dot(annihilators[n].dot(P_Nhalf.dot(leftPsi)))\n",
    "        expmiH.dot(tempLpsi,overwrite_v=True)\n",
    "#         leftPsi = Hr.evolve(leftPsi, 0, dt * i)\n",
    "\n",
    "        tempRpsi = np.transpose(P_Nhalfminus1).dot(annihilators[0].dot(P_Nhalf.dot(rightPsi)))\n",
    "\n",
    "        correlators[n,i] = np.vdot(tempLpsi, tempRpsi) # (<a|b>) <0| . e^(-iHt) . psi\\dagger_n . e^(iHt) . psi(0,0) . |0>\n",
    "        \n",
    "        # Odd Correlators\n",
    "        leftPsi=psi_i.copy().astype(np.complex128) #state for left-half of inner product\n",
    "        rightPsi=psi_i.copy().astype(np.complex128) #state for right-half\n",
    "\n",
    "        expiH.dot(leftPsi,overwrite_v=True) \n",
    "#         leftPsi = Hf.evolve(leftPsi, 0, dt * i)\n",
    "        tempLpsi = np.transpose(P_Nhalfminus1).dot(annihilators[n+1].dot(P_Nhalf.dot(leftPsi)))\n",
    "        expmiH.dot(tempLpsi,overwrite_v=True)\n",
    "#         leftPsi = Hr.evolve(leftPsi, 0, dt * i)\n",
    "\n",
    "        tempRpsi = np.transpose(P_Nhalfminus1).dot(annihilators[1].dot(P_Nhalf.dot(rightPsi)))\n",
    "\n",
    "        correlators[n+1,i] = np.vdot(tempLpsi, tempRpsi) # (<a|b>) <0| . e^(-iHt) . psi\\dagger_n . e^(iHt) . psi(0,0) . |0>\n",
    "    \n",
    "# correlators = correlators#/(len(times)/dt) # Averaging over N so that it is actually an expectation value\n",
    "# END of time evolution"
   ]
  },
  {
   "cell_type": "code",
   "execution_count": 10,
   "metadata": {},
   "outputs": [
    {
     "name": "stdout",
     "output_type": "stream",
     "text": [
      "[ 0.09382624+0.j  0.90617376+0.j  0.09382624+0.j -0.09382624+0.j]\n"
     ]
    }
   ],
   "source": [
    "print(correlators[:,0])"
   ]
  },
  {
   "cell_type": "code",
   "execution_count": 11,
   "metadata": {},
   "outputs": [],
   "source": [
    "correlatorfft = []\n",
    "for i in range(len(correlators[0, :])):\n",
    "    fftsum = np.fft.fft(correlators[::2,i]) + np.fft.fft(correlators[1::2,i])\n",
    "    correlatorfft.append(fftsum)\n",
    "    \n",
    "correlatorfft = np.array(correlatorfft)"
   ]
  },
  {
   "cell_type": "code",
   "execution_count": 12,
   "metadata": {},
   "outputs": [
    {
     "data": {
      "text/plain": [
       "<matplotlib.image.AxesImage at 0x1fee933ec88>"
      ]
     },
     "execution_count": 12,
     "metadata": {},
     "output_type": "execute_result"
    },
    {
     "data": {
      "image/png": "[encoded data removed]",
      "text/plain": [
       "<Figure size 720x576 with 1 Axes>"
      ]
     },
     "metadata": {
      "needs_background": "light"
     },
     "output_type": "display_data"
    }
   ],
   "source": [
    "# plt.plot(np.arctan2(np.imag(correlatorfft), np.real(correlatorfft)))\n",
    "plt.xlabel(\"momentum mode\")\n",
    "plt.ylabel(\"time\")\n",
    "plt.title(\"Time evolution of momentum phase\")\n",
    "step_x = 1 # step between consecutive labels\n",
    "x_positions = np.arange(0,N//2,step_x) # pixel count at label position\n",
    "x_labels = np.arange(N//4-N//2+1, N//4+1) # labels you want to see\n",
    "plt.xticks(x_positions, x_labels)\n",
    "y_tickcount = 10 # How many labels on y axis\n",
    "y_positions = np.arange(0,int(T/dt), int((T/dt)/y_tickcount)) # pixel count at label position\n",
    "y_labels = np.round(np.linspace(0,abs(T*m),y_tickcount), 3) # labels you want to see\n",
    "plt.yticks(y_positions, y_labels)\n",
    "plt.imshow(np.arctan2(np.imag(correlatorfft), np.real(correlatorfft)), aspect='auto', origin='lower')"
   ]
  },
  {
   "cell_type": "code",
   "execution_count": 13,
   "metadata": {},
   "outputs": [
    {
     "data": {
      "image/png": "[encoded data removed]",
      "text/plain": [
       "<Figure size 720x576 with 1 Axes>"
      ]
     },
     "metadata": {
      "needs_background": "light"
     },
     "output_type": "display_data"
    }
   ],
   "source": [
    "phases = np.arctan2(np.imag(correlatorfft), np.real(correlatorfft))\n",
    "plt.plot(phases[:,0])\n",
    "plt.show()"
   ]
  },
  {
   "cell_type": "code",
   "execution_count": 14,
   "metadata": {},
   "outputs": [
    {
     "data": {
      "text/plain": [
       "Text(0.5, 0, 'Time Slice')"
      ]
     },
     "execution_count": 14,
     "metadata": {},
     "output_type": "execute_result"
    },
    {
     "data": {
      "image/png": "[encoded data removed]",
      "text/plain": [
       "<Figure size 720x576 with 1 Axes>"
      ]
     },
     "metadata": {
      "needs_background": "light"
     },
     "output_type": "display_data"
    }
   ],
   "source": [
    "plt.plot(np.imag(correlators[2, :]),color='red',label=\"Imaginary Part\")\n",
    "plt.plot(np.real(correlators[2, :]),color='blue',label=\"Real Part\")\n",
    "plt.title(\"creation-annihilation correlator e-value\")\n",
    "plt.ylabel(\"correlator expectation value\")\n",
    "plt.xlabel(\"Time Slice\")\n",
    "# plt.figlegend()"
   ]
  },
  {
   "cell_type": "markdown",
   "metadata": {},
   "source": [
    "## Niklas Code"
   ]
  },
  {
   "cell_type": "code",
   "execution_count": 15,
   "metadata": {},
   "outputs": [
    {
     "name": "stdout",
     "output_type": "stream",
     "text": [
      "Symmetry checks passed!\n",
      "Symmetry checks passed!\n",
      "Hermiticity check passed!\n",
      "Symmetry checks passed!\n",
      "Particle conservation check passed!\n",
      "Hermiticity check passed!\n",
      "Symmetry checks passed!\n",
      "Particle conservation check passed!\n",
      "Symmetry checks passed!\n",
      "N4_Gt_n0_done\n",
      "Symmetry checks passed!\n",
      "N4_Gt_n1_done\n",
      "Symmetry checks passed!\n",
      "N4_Gt_n2_done\n",
      "Symmetry checks passed!\n",
      "N4_Gt_n3_done\n"
     ]
    },
    {
     "data": {
      "image/png": "[encoded data removed]",
      "text/plain": [
       "<Figure size 720x576 with 1 Axes>"
      ]
     },
     "metadata": {
      "needs_background": "light"
     },
     "output_type": "display_data"
    }
   ],
   "source": [
    "psi_init = psi_i.copy().astype(np.complex128)\n",
    "\n",
    "# apply c_0 & c_1 to initial state\n",
    "c0_static = [[\"-\",[[1.0,0]]]]\n",
    "c0 = quantum_LinearOperator(c0_static,basis=basis_full,dtype=np.float64,check_herm=False,check_pcon=False)\n",
    "psi_init_c0 = np.transpose(P_Nhalfminus1).dot(c0.dot(P_Nhalf.dot(psi_init)))\n",
    "# del c0\n",
    "c1_static = [[\"-\",[[1.0,1]]]]\n",
    "c1 = quantum_LinearOperator(c1_static,basis=basis_full,dtype=np.float64,check_herm=False,check_pcon=False)\n",
    "psi_init_c1 = np.transpose(P_Nhalfminus1).dot(c1.dot(P_Nhalf.dot(psi_init)))\n",
    "# del c1\n",
    "H_quenched = hamiltonian(static_terms, dynamic_terms, basis=fermion_basis_m1, dtype=np.float64)\n",
    "# evolving in time (forward)\n",
    "psi_t_c0 = H_quenched.evolve(psi_init_c0,0,times)#,solver_name='dopri5',atol=1e-16,rtol=1e-16)\n",
    "psi_t_c1 = H_quenched.evolve(psi_init_c1,0,times)#,solver_name='dopri5',atol=1e-16,rtol=1e-16)\n",
    "# del H_quenched\n",
    "#print(np.shape(psi_t))\n",
    "H_quenched_r =  -hamiltonian(static_terms,dynamic_terms,basis=fermion_basis,dtype=np.float64)\n",
    "Gnt_all = []\n",
    "for n in range(N):\n",
    "    Gnt = np.zeros(len(times),dtype=np.complex128)\n",
    "    # apply c_n^\\dagger to evolved states\n",
    "    psi_t_cn = []\n",
    "    cn_static = [[\"+\",[[1.0,n]]]]\n",
    "    cn = quantum_LinearOperator(cn_static,basis=basis_full,dtype=np.float64,check_herm=False,check_pcon=False)\n",
    "    for t in range(len(times)):\n",
    "        if n%2 == 0:\n",
    "            psi_t_cn.append( np.transpose(P_Nhalf).dot(cn.dot(P_Nhalfminus1.dot(psi_t_c0[:,t]))) )\n",
    "        if n%2 == 1:\n",
    "            psi_t_cn.append( np.transpose(P_Nhalf).dot(cn.dot(P_Nhalfminus1.dot(psi_t_c1[:,t]))) )\n",
    "    del cn\n",
    "    psi_t_cn = np.array(psi_t_cn)\n",
    "    #print(np.shape(psi_t_cn))\n",
    "    # evolve backwards in time & get the correlators\n",
    "    for t in range(len(times)):\n",
    "        psi_t_cn[t,:] = H_quenched_r.evolve(psi_t_cn[t,:],0,times[t])\n",
    "        Gnt[t] = np.vdot(psi_init,psi_t_cn[t,:])\n",
    "    print('N'+str(N)+'_Gt_n'+str(n)+'_done')\n",
    "    Gnt_all.append(Gnt)\n",
    "Gnt_all = np.array(Gnt_all)\n",
    "#np.save(folder_save+'/TwoTime_correlators',Gnt_all)\n",
    "Nt = len(times)\n",
    "Gnt_half = np.zeros((N//2,Nt),dtype=np.complex128)\n",
    "for n in range(N//2):\n",
    "    Gnt_half[n,:] = Gnt_all[2*n,:] + Gnt_all[2*n+1,:]\n",
    "Gkt = np.fft.fft(Gnt_half,axis=0)\n",
    "\n",
    "#Plot FFT\n",
    "correlatorfft = Gkt.T\n",
    "step_x = 1 # step between consecutive labels\n",
    "x_positions = np.arange(0,N//2,step_x) # pixel count at label position\n",
    "x_labels = np.arange(N//4-N//2+1, N//4+1) # labels you want to see\n",
    "plt.xticks(x_positions, x_labels)\n",
    "y_tickcount = 10 # How many labels on y axis\n",
    "y_positions = np.arange(0,int(T/dt), int((T/dt)/y_tickcount)) # pixel count at label position\n",
    "y_labels = np.round(np.linspace(0,abs(T*m),y_tickcount), 3) # labels you want to see\n",
    "plt.yticks(y_positions, y_labels)\n",
    "plt.imshow(np.arctan2(np.imag(correlatorfft), np.real(correlatorfft)), aspect='auto', origin='lower')\n",
    "plt.show()\n",
    "\n",
    "Lt_from_Gkt = -np.sum(np.log(np.abs(Gkt)),axis=0)/N\n",
    "Nk, Nt = np.shape(Gkt)\n",
    "dphi_kt_k = np.zeros((Nk,Nt-1))\n",
    "dphi_kt_t = np.zeros((Nk,Nt-1))\n",
    "Fkt = np.zeros((Nk,Nt-2))\n",
    "for k in range(Nk):\n",
    "    for t in range(Nt-1):\n",
    "        dphi_kt_k[k,t] = np.angle(Gkt[(k+1)%Nk,t]/Gkt[k,t])\n",
    "        dphi_kt_t[k,t] = np.angle(Gkt[k,t+1]/Gkt[k,t])\n",
    "for k in range(Nk):\n",
    "    for t in range(Nt-2):\n",
    "        Fkt[k,t] = (dphi_kt_k[k,t] + dphi_kt_t[(k+1)%Nk,t]) - (dphi_kt_k[k,t+1] + dphi_kt_t[k,t])\n",
    "Fkt_ksum1 = np.zeros(Nt-2)\n",
    "Fkt_ksum2 = np.zeros(Nt-2)\n",
    "for k in range(Nk//2):\n",
    "    Fkt_ksum1 += Fkt[(k),:]/2/np.pi\n",
    "    Fkt_ksum2 += Fkt[(k+Nk//2),:]/2/np.pi\n",
    "n1 = []\n",
    "n2 = []\n",
    "for t in range(Nt-2):\n",
    "    ntau1 = 0\n",
    "    ntau2 = 0\n",
    "    for tau in range(0,t):\n",
    "        ntau1 += Fkt_ksum1[tau]\n",
    "        ntau2 += Fkt_ksum2[tau]\n",
    "    n1.append(ntau1)\n",
    "    n2.append(ntau2)\n",
    "n1 = np.array(n1)\n",
    "n2 = np.array(n2)"
   ]
  },
  {
   "cell_type": "code",
   "execution_count": 16,
   "metadata": {},
   "outputs": [
    {
     "data": {
      "image/png": "[encoded data removed]",
      "text/plain": [
       "<Figure size 720x576 with 1 Axes>"
      ]
     },
     "metadata": {
      "needs_background": "light"
     },
     "output_type": "display_data"
    }
   ],
   "source": [
    "diff_corr = np.array(Gnt_all) - correlators\n",
    "plt.plot(np.linspace(0, T * m, len(n1)), (n1-n2))\n",
    "plt.show()"
   ]
  },
  {
   "cell_type": "code",
   "execution_count": 17,
   "metadata": {},
   "outputs": [
    {
     "data": {
      "text/plain": [
       "<matplotlib.image.AxesImage at 0x1fee88c7a88>"
      ]
     },
     "execution_count": 17,
     "metadata": {},
     "output_type": "execute_result"
    },
    {
     "data": {
      "image/png": "[encoded data removed]",
      "text/plain": [
       "<Figure size 720x576 with 1 Axes>"
      ]
     },
     "metadata": {
      "needs_background": "light"
     },
     "output_type": "display_data"
    }
   ],
   "source": [
    "plt.imshow(np.abs(correlators - Gnt_all))"
   ]
  }
 ],
 "metadata": {
  "kernelspec": {
   "display_name": "Python 3",
   "language": "python",
   "name": "python3"
  },
  "language_info": {
   "codemirror_mode": {
    "name": "ipython",
    "version": 3
   },
   "file_extension": ".py",
   "mimetype": "text/x-python",
   "name": "python",
   "nbconvert_exporter": "python",
   "pygments_lexer": "ipython3",
   "version": "3.7.4"
  }
 },
 "nbformat": 4,
 "nbformat_minor": 4
}
