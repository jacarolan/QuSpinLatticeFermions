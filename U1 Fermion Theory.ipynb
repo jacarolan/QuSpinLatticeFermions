{
 "cells": [
  {
   "cell_type": "markdown",
   "metadata": {},
   "source": [
    "## Import Libraries"
   ]
  },
  {
   "cell_type": "code",
   "execution_count": 1,
   "metadata": {},
   "outputs": [],
   "source": [
    "from quspin.operators import hamiltonian\n",
    "from quspin.basis import spinless_fermion_basis_1d\n",
    "import numpy as np\n",
    "import matplotlib.pyplot as plt\n",
    "import itertools\n",
    "from quspin.tools.evolution import expm_multiply_parallel\n",
    "from quspin.operators import quantum_LinearOperator\n",
    "from quspin.operators import quantum_operator\n",
    "plt.rcParams['figure.figsize'] = [10, 8]"
   ]
  },
  {
   "cell_type": "markdown",
   "metadata": {},
   "source": [
    "## Define Constants/Helpers"
   ]
  },
  {
   "cell_type": "code",
   "execution_count": 2,
   "metadata": {},
   "outputs": [],
   "source": [
    "N = 12\n",
    "N_filled = N // 2\n",
    "E_neg1 = 0\n",
    "P_neg1 = np.exp(-1j * E_neg1)\n",
    "t = -0.5\n",
    "g = 0#-0.5\n",
    "m = 1\n",
    "PBC = True"
   ]
  },
  {
   "cell_type": "code",
   "execution_count": 3,
   "metadata": {},
   "outputs": [],
   "source": [
    "def stringbox(lst, caption):\n",
    "    return caption + \"-\" * (100 - len(caption))+\"\\n\" + str(lst) + \"\\n\" + \"-\" * 100"
   ]
  },
  {
   "cell_type": "markdown",
   "metadata": {},
   "source": [
    "## Fermion Basis"
   ]
  },
  {
   "cell_type": "code",
   "execution_count": 4,
   "metadata": {},
   "outputs": [
    {
     "name": "stdout",
     "output_type": "stream",
     "text": [
      "Hermiticity check passed!\n",
      "Symmetry checks passed!\n",
      "Particle conservation check passed!\n",
      "Hermiticity check passed!\n",
      "Symmetry checks passed!\n",
      "Particle conservation check passed!\n"
     ]
    },
    {
     "data": {
      "image/png": "[encoded data removed]",
      "text/plain": [
       "<Figure size 720x576 with 1 Axes>"
      ]
     },
     "metadata": {
      "needs_background": "light"
     },
     "output_type": "display_data"
    }
   ],
   "source": [
    "fermion_basis = spinless_fermion_basis_1d(L=N, Nf=N_filled)\n",
    "fermion_basis_m1 = spinless_fermion_basis_1d(L=N, Nf=N_filled-1)\n",
    "basis_full = spinless_fermion_basis_1d(L=N)\n",
    "static_terms = []\n",
    "dynamic_terms = []\n",
    "\n",
    "### Hopping term\n",
    "L = (N if PBC else N-1)\n",
    "hop_coupling = [[-t, i, (i+1) % N] for i in range(L)]\n",
    "hop_coupling_dag = [[-t, (i+1) % N, i] for i in range(L)]\n",
    "static_terms += [[\"+-\", hop_coupling]]\n",
    "static_terms += [[\"+-\", hop_coupling_dag]]\n",
    "\n",
    "### Mass term\n",
    "mass_coupling = [[m * (-1) ** i, i, i] for i in range(N)]\n",
    "static_terms += [[\"+-\", mass_coupling]]\n",
    "\n",
    "### E-field term\n",
    "# E_link_parity = lambda x : -1 if (x % 4) < 2 else 1\n",
    "# for i in range(N):\n",
    "#     E_coupling = [P_neg1 * -g * E_link_parity(i) * 2 ** (i+1)] + list(range(i+1))\n",
    "#     static_terms += [[\"z\" * (i+1), [E_coupling]]]\n",
    "def E_squared(n):\n",
    "    E_const = E_neg1 + (n + 1) // 2\n",
    "    s_coupling = []\n",
    "    d_coupling = []\n",
    "    for i in range(n + 1):\n",
    "        s_coeff = 2 * E_const * -g\n",
    "        s_coupling += [[s_coeff, i, i]]\n",
    "        for j in range(n + 1):\n",
    "            d_coeff = -g\n",
    "            d_coupling += [[d_coeff, i, i, j, j]]\n",
    "    return [[\"+-\", s_coupling], [\"+-+-\", d_coupling]]\n",
    "for i in range(N):\n",
    "    static_terms += E_squared(i)\n",
    "\n",
    "### Save a copy for preparing ground state\n",
    "H_init = hamiltonian(static_terms, dynamic_terms, basis=fermion_basis, dtype=np.float64)\n",
    "    \n",
    "### Plotting spectrum\n",
    "H = hamiltonian(static_terms, dynamic_terms, basis=fermion_basis, dtype=np.float64)\n",
    "fermion_eigvals = H.eigvalsh()\n",
    "plt.plot(fermion_eigvals, \".\")\n",
    "plt.show()\n",
    "\n",
    "# print(static_terms)\n",
    "# print(H)"
   ]
  },
  {
   "cell_type": "markdown",
   "metadata": {},
   "source": [
    "## Real-time Dynamics"
   ]
  },
  {
   "cell_type": "code",
   "execution_count": 5,
   "metadata": {},
   "outputs": [
    {
     "name": "stdout",
     "output_type": "stream",
     "text": [
      "Hermiticity check passed!\n",
      "Symmetry checks passed!\n",
      "Particle conservation check passed!\n"
     ]
    }
   ],
   "source": [
    "### Defining time-evolution hamiltonian\n",
    "static_terms = []\n",
    "dynamic_terms = []\n",
    "\n",
    "### Hopping term\n",
    "L = (N if PBC else N-1)\n",
    "hop_coupling = [[-t, i, (i+1) % N] for i in range(L)]\n",
    "hop_coupling_dag = [[-t, (i+1) % N, i] for i in range(L)]\n",
    "static_terms += [[\"+-\", hop_coupling]]\n",
    "static_terms += [[\"+-\", hop_coupling_dag]]\n",
    "\n",
    "### Mass term\n",
    "mass_coupling = [[-m * (-1) ** i, i, i] for i in range(N)]\n",
    "static_terms += [[\"+-\", mass_coupling]]\n",
    "\n",
    "### E-field term\n",
    "for i in range(N):\n",
    "    static_terms += E_squared(i)\n",
    "\n",
    "H = hamiltonian(static_terms, dynamic_terms, basis=fermion_basis, dtype=np.complex64)\n",
    "# print(static_terms)\n",
    "# print(H)"
   ]
  },
  {
   "cell_type": "code",
   "execution_count": 6,
   "metadata": {},
   "outputs": [],
   "source": [
    "E_init,V_init=H_init.eigsh(k=1,which='SA',maxiter=1e8)\n",
    "psi_i = V_init[:,0]\n",
    "psi_i = psi_i.reshape((-1,))\n",
    "del H_init"
   ]
  },
  {
   "cell_type": "code",
   "execution_count": 7,
   "metadata": {},
   "outputs": [
    {
     "name": "stdout",
     "output_type": "stream",
     "text": [
      "# T =  0.0\n",
      "0.0\t -5.551115123125781e-17\n",
      "0.04\t 0.00046873994597188755\n",
      "0.08\t 0.0018769875166031278\n",
      "0.12\t 0.004230867667911386\n",
      "0.16\t 0.007540729928765173\n",
      "0.2\t 0.011821367752600329\n",
      "0.24\t 0.01709234118861595\n",
      "0.28\t 0.023378420135872557\n",
      "0.32\t 0.03071017304139843\n",
      "0.36\t 0.03912473600722101\n",
      "0.4\t 0.04866681112610033\n",
      "0.44\t 0.059389962343902536\n",
      "0.48\t 0.07135830513956955\n",
      "0.52\t 0.08464872740128171\n",
      "0.56\t 0.09935384050579615\n",
      "0.6\t 0.11558595423799632\n",
      "0.64\t 0.13348251837168168\n",
      "0.68\t 0.1532137162147406\n",
      "0.72\t 0.17499330413587835\n",
      "0.76\t 0.19909451121558142\n",
      "# T =  0.8\n",
      "0.8\t 0.22587415421828805\n",
      "0.84\t 0.2558108036512646\n",
      "0.88\t 0.2895687127759469\n",
      "0.92\t 0.32811377506860834\n",
      "0.96\t 0.37295020668166434\n",
      "1.0\t 0.4267010268838225\n",
      "1.04\t 0.49502855632932086\n",
      "1.08\t 0.5977672245569622\n",
      "1.12\t 0.7302939310587911\n",
      "1.16\t 0.6162104526052635\n",
      "1.2\t 0.5737126447545925\n",
      "1.24\t 0.5292994469317608\n",
      "1.28\t 0.48153973889304336\n",
      "1.32\t 0.43574432958739356\n",
      "1.36\t 0.39428637206235884\n",
      "1.4000000000000001\t 0.3573559799222201\n",
      "1.44\t 0.3244081378476318\n",
      "1.48\t 0.2947870862231521\n",
      "1.52\t 0.26791754200639556\n",
      "1.56\t 0.24334198036719\n",
      "# T =  1.6\n",
      "1.6\t 0.2207112806134444\n",
      "1.6400000000000001\t 0.19976446563343217\n",
      "1.68\t 0.1803085842852585\n",
      "1.72\t 0.16220171024171878\n",
      "1.76\t 0.14533946629404562\n",
      "1.8\t 0.12964471614229564\n",
      "1.84\t 0.11505988081897774\n",
      "1.8800000000000001\t 0.10154133985593512\n",
      "1.92\t 0.08905543997050815\n",
      "1.96\t 0.07757571302591983\n",
      "2.0\t 0.06708098385986004\n",
      "2.04\t 0.057554120113952494\n",
      "2.08\t 0.0489812373297527\n",
      "2.12\t 0.04135122249269146\n",
      "2.16\t 0.03465547849765798\n",
      "2.2\t 0.028887822046074953\n",
      "2.24\t 0.02404448994070747\n",
      "2.2800000000000002\t 0.020124225301437513\n",
      "2.32\t 0.017128427400943214\n",
      "2.36\t 0.015061357906128532\n",
      "# T =  2.4\n",
      "2.4\t 0.013930403379283987\n",
      "2.44\t 0.013746399831602826\n",
      "2.48\t 0.014524030702480527\n",
      "2.52\t 0.01628231559284072\n",
      "2.56\t 0.019045214196903783\n",
      "2.6\t 0.02284237912252715\n",
      "2.64\t 0.027710103996097066\n",
      "2.68\t 0.033692531393325995\n",
      "2.72\t 0.040843211832611186\n",
      "2.7600000000000002\t 0.04922714540779374\n",
      "2.8000000000000003\t 0.058923500278191404\n",
      "2.84\t 0.0700293024265221\n",
      "2.88\t 0.08266455678276631\n",
      "2.92\t 0.09697954448404196\n",
      "2.96\t 0.1131655523504715\n",
      "3.0\t 0.13147125825380873\n",
      "3.04\t 0.1522289446788833\n",
      "3.08\t 0.17589894470437742\n",
      "3.12\t 0.20315081788014513\n",
      "3.16\t 0.2350268966499446\n",
      "# T =  3.2\n",
      "3.2\t 0.27331960902540675\n",
      "3.24\t 0.32163618321347803\n",
      "3.2800000000000002\t 0.3896367278385313\n",
      "3.3200000000000003\t 0.5341515230569863\n",
      "3.36\t 0.49127557339193556\n",
      "3.4\t 0.4463699963002381\n",
      "3.44\t 0.44004092401574274\n",
      "3.48\t 0.4473303211285226\n",
      "3.52\t 0.4569527185662839\n",
      "3.56\t 0.45652119040660694\n",
      "3.6\t 0.4379399424880326\n",
      "3.64\t 0.40611198798458853\n",
      "3.68\t 0.3707124167790714\n",
      "3.72\t 0.3372237534321536\n",
      "3.7600000000000002\t 0.30735118122901484\n",
      "3.8000000000000003\t 0.2812001921213065\n",
      "3.84\t 0.2583812309345987\n",
      "3.88\t 0.2384085267980689\n",
      "3.92\t 0.22082336273260303\n",
      "3.96\t 0.20522392233262196\n",
      "# T =  4.0\n",
      "4.0\t 0.19126625215210058\n",
      "4.04\t 0.17865807339030637\n",
      "4.08\t 0.16715238148550038\n",
      "4.12\t 0.15654265357255218\n",
      "4.16\t 0.1466596958019003\n",
      "4.2\t 0.13736955977473503\n",
      "4.24\t 0.12857182147889182\n",
      "4.28\t 0.12019760530715241\n",
      "4.32\t 0.11220695100053286\n",
      "4.36\t 0.10458539157575943\n",
      "4.4\t 0.0973398654577543\n",
      "4.44\t 0.09049426711334983\n",
      "4.48\t 0.08408501667899126\n",
      "4.5200000000000005\t 0.07815700477891416\n",
      "4.5600000000000005\t 0.0727601754019661\n",
      "4.6000000000000005\t 0.06794688893323982\n",
      "4.64\t 0.06377009498880694\n",
      "4.68\t 0.060282262001858135\n",
      "4.72\t 0.057534964182496685\n",
      "4.76\t 0.055579012817995786\n",
      "# T =  4.8\n",
      "4.8\t 0.054465029508848316\n",
      "4.84\t 0.05424438522948533\n",
      "4.88\t 0.05497046477332675\n",
      "4.92\t 0.056700258298470814\n",
      "4.96\t 0.059496331197991074\n",
      "5.0\t 0.06342928548021216\n",
      "5.04\t 0.06858091105359822\n",
      "5.08\t 0.07504835388937556\n",
      "5.12\t 0.08294983763644906\n",
      "5.16\t 0.09243283938676079\n",
      "5.2\t 0.10368629063592254\n",
      "5.24\t 0.11695968500472069\n",
      "5.28\t 0.13259471740330783\n",
      "5.32\t 0.15108131288147736\n",
      "5.36\t 0.17316560764932643\n",
      "5.4\t 0.20008273357914108\n",
      "5.44\t 0.23414485411426347\n",
      "5.48\t 0.2806459909832479\n",
      "5.5200000000000005\t 0.3578670409424283\n",
      "5.5600000000000005\t 0.5097151912033203\n",
      "# T =  5.6000000000000005\n",
      "5.6000000000000005\t 0.36013067930710196\n",
      "5.64\t 0.326053455889735\n",
      "5.68\t 0.31458108933156403\n",
      "5.72\t 0.3147466100018225\n",
      "5.76\t 0.32302384268365614\n",
      "5.8\t 0.3376744033452277\n",
      "5.84\t 0.3567824881279347\n",
      "5.88\t 0.37611916091637254\n",
      "5.92\t 0.3868539632469877\n",
      "5.96\t 0.3791991642569745\n",
      "6.0\t 0.35396557395877676\n",
      "6.04\t 0.32107364541111666\n",
      "6.08\t 0.2881373179749701\n",
      "6.12\t 0.2581658649907677\n",
      "6.16\t 0.23182010314037801\n",
      "6.2\t 0.2089429547692863\n",
      "6.24\t 0.1891644582533246\n",
      "6.28\t 0.17210178453355598\n",
      "6.32\t 0.1574153410462238\n",
      "6.36\t 0.14481747033117623\n",
      "# T =  6.4\n",
      "6.4\t 0.13406691620550576\n",
      "6.44\t 0.12496013311824418\n",
      "6.48\t 0.1173229376520374\n",
      "6.5200000000000005\t 0.11100343064859981\n",
      "6.5600000000000005\t 0.10586628766541624\n",
      "6.6000000000000005\t 0.1017882922316109\n",
      "6.640000000000001\t 0.09865497046531163\n",
      "6.68\t 0.09635823243521228\n",
      "6.72\t 0.09479498048459793\n",
      "6.76\t 0.09386668370587996\n",
      "6.8\t 0.09347992709806756\n",
      "6.84\t 0.09354791448888615\n",
      "6.88\t 0.09399283292108729\n",
      "6.92\t 0.09474888033440344\n",
      "6.96\t 0.09576564012508043\n",
      "7.0\t 0.09701139170458044\n",
      "7.04\t 0.09847591720045396\n",
      "7.08\t 0.10017243234643818\n",
      "7.12\t 0.10213843902279258\n",
      "7.16\t 0.10443553876273881\n",
      "# T =  7.2\n",
      "7.2\t 0.10714850782442253\n",
      "7.24\t 0.1103841622819123\n",
      "7.28\t 0.11427071050758092\n",
      "7.32\t 0.11895842090453379\n",
      "7.36\t 0.12462259964454687\n",
      "7.4\t 0.13147021718461344\n",
      "7.44\t 0.13975229681107262\n",
      "7.48\t 0.14978590058558058\n",
      "7.5200000000000005\t 0.16199344483000475\n",
      "7.5600000000000005\t 0.1769764685818689\n",
      "7.6000000000000005\t 0.19566613700260418\n",
      "7.640000000000001\t 0.21967131073114063\n",
      "7.68\t 0.25225204256785033\n",
      "7.72\t 0.3020847390807776\n",
      "7.76\t 0.4155909931759081\n",
      "7.8\t 0.38004002812371346\n",
      "7.84\t 0.308259841132959\n",
      "7.88\t 0.2776741707264893\n",
      "7.92\t 0.26179767454200736\n",
      "7.96\t 0.2543545655047446\n"
     ]
    },
    {
     "data": {
      "text/plain": [
       "[<matplotlib.lines.Line2D at 0x288a16f16c8>]"
      ]
     },
     "execution_count": 7,
     "metadata": {},
     "output_type": "execute_result"
    },
    {
     "data": {
      "image/png": "[encoded data removed]",
      "text/plain": [
       "<Figure size 720x576 with 1 Axes>"
      ]
     },
     "metadata": {
      "needs_background": "light"
     },
     "output_type": "display_data"
    }
   ],
   "source": [
    "T = 8#g ** (-1)\n",
    "dt = T / 200\n",
    "\n",
    "##### define data type for the simulation\n",
    "dtype_real = np.float64\n",
    "dtype_cmplx = np.result_type(dtype_real,np.complex64)\n",
    "# pre assign arrays\n",
    "times = np.arange(0,T,dt)                               # times\n",
    "Lt = np.zeros(len(times),dtype=dtype_real)              # Lohschmidt echo\n",
    "# construct piece-wise constant unitaries\n",
    "expH = expm_multiply_parallel(H.tocsr(),a=-1j*dt,dtype=dtype_cmplx)\n",
    "# auxiliary array for memory efficiency\n",
    "psi=psi_i.copy().astype(np.complex128)\n",
    "work_array=np.zeros((2*len(psi),), dtype=psi.dtype) # twice as long because complex_valued\n",
    "# prepare output\n",
    "loschmidt = []\n",
    "for i in range(len(times)):\n",
    "    if i % (len(times)//10) == 0:\n",
    "        print(\"# T = \",times[i])\n",
    "    Lt[i]=-np.log(np.abs(np.vdot(psi_i,psi)))/N\n",
    "    print(f\"{times[i]}\\t {Lt[i]}\")\n",
    "    loschmidt += [Lt[i]]\n",
    "    expH.dot(psi,work_array=work_array,overwrite_v=True)\n",
    "# END of time evolution\n",
    "plt.plot(times, loschmidt)"
   ]
  },
  {
   "cell_type": "markdown",
   "metadata": {},
   "source": [
    "## Correlator calculation"
   ]
  },
  {
   "cell_type": "code",
   "execution_count": 8,
   "metadata": {},
   "outputs": [],
   "source": [
    "def c_operator(n):\n",
    "    cdag_static = [[\"-\",[[1.0,n]]]]\n",
    "    cdagn = quantum_LinearOperator(cdag_static,basis=basis_full,dtype=np.complex128,check_herm=False,check_pcon=False,check_symm=False)\n",
    "    return(cdagn)\n",
    "annihilators = [c_operator(n) for n in range(N)]"
   ]
  },
  {
   "cell_type": "code",
   "execution_count": 9,
   "metadata": {},
   "outputs": [
    {
     "name": "stdout",
     "output_type": "stream",
     "text": [
      "Hermiticity check passed!\n",
      "Symmetry checks passed!\n",
      "Particle conservation check passed!\n",
      "Hermiticity check passed!\n",
      "Symmetry checks passed!\n",
      "Particle conservation check passed!\n"
     ]
    }
   ],
   "source": [
    "##### define data type for the simulation\n",
    "dtype_real = np.float64\n",
    "dtype_cmplx = np.result_type(dtype_real,np.complex64)\n",
    "# pre assign arrays\n",
    "times = np.arange(0,T,dt)                               # times\n",
    "\n",
    "# array to store correlators expectations from psi(t,n) to psi(0,0)\n",
    "correlators = np.zeros((N,len(times)),dtype=np.complex128)\n",
    "\n",
    "P_Nhalf = fermion_basis.get_proj(dtype=np.float64)\n",
    "P_Nhalfminus1 = fermion_basis_m1.get_proj(dtype=np.float64)\n",
    "\n",
    "H_NHalf_m1 = hamiltonian(static_terms, dynamic_terms, basis=fermion_basis_m1, dtype=np.float64).tocsr()\n",
    "H_NHalf = hamiltonian(static_terms, dynamic_terms, basis=fermion_basis, dtype=np.float64).tocsr()\n",
    "\n",
    "for n in range(0, N, 2): #loop over all site pairings\n",
    "    for i in range(len(times)): #loop over times (for annhilator location)\n",
    "        # Even Correlators\n",
    "        leftPsi=psi_i.copy().astype(np.complex128) #state for left-half of inner product\n",
    "        rightPsi=psi_i.copy().astype(np.complex128) #state for right-half\n",
    "\n",
    "        expmiH = expm_multiply_parallel(H_NHalf_m1,a=1j*dt*i,dtype=dtype_cmplx)\n",
    "        expiH = expm_multiply_parallel(H_NHalf,a=-1j*dt*i,dtype=dtype_cmplx)\n",
    "\n",
    "        expiH.dot(leftPsi,overwrite_v=True)\n",
    "        tempLpsi = np.transpose(P_Nhalfminus1).dot(annihilators[n].dot(P_Nhalf.dot(leftPsi)))\n",
    "        expmiH.dot(tempLpsi,overwrite_v=True)\n",
    "\n",
    "        tempRpsi = np.transpose(P_Nhalfminus1).dot(annihilators[0].dot(P_Nhalf.dot(rightPsi)))\n",
    "\n",
    "        correlators[n,i] = np.vdot(tempLpsi, tempRpsi) # (<a|b>) <0| . e^(-iHt) . psi\\dagger_n . e^(iHt) . psi(0,0) . |0>\n",
    "        \n",
    "        # Odd Correlators\n",
    "        leftPsi=psi_i.copy().astype(np.complex128) #state for left-half of inner product\n",
    "        rightPsi=psi_i.copy().astype(np.complex128) #state for right-half\n",
    "\n",
    "        expiH.dot(leftPsi,overwrite_v=True) \n",
    "        tempLpsi = np.transpose(P_Nhalfminus1).dot(annihilators[n+1].dot(P_Nhalf.dot(leftPsi)))\n",
    "        expmiH.dot(tempLpsi,overwrite_v=True)\n",
    "\n",
    "        tempRpsi = np.transpose(P_Nhalfminus1).dot(annihilators[1].dot(P_Nhalf.dot(rightPsi)))\n",
    "\n",
    "        correlators[n+1,i] = np.vdot(tempLpsi, tempRpsi) # (<a|b>) <0| . e^(-iHt) . psi\\dagger_n . e^(iHt) . psi(0,0) . |0>\n",
    "    \n",
    "# correlators = correlators#/(len(times)/dt) # Averaging over N so that it is actually an expectation value\n",
    "# END of time evolution"
   ]
  },
  {
   "cell_type": "code",
   "execution_count": 10,
   "metadata": {},
   "outputs": [],
   "source": [
    "correlatorfft = []\n",
    "for i in range(len(correlators[0, :])):\n",
    "    fftsum = np.fft.fft(correlators[::2,i]) + np.fft.fft(correlators[1::2,i])\n",
    "    correlatorfft.append(fftsum)\n",
    "    \n",
    "correlatorfft = np.array(correlatorfft)"
   ]
  },
  {
   "cell_type": "code",
   "execution_count": 11,
   "metadata": {},
   "outputs": [
    {
     "data": {
      "text/plain": [
       "<matplotlib.image.AxesImage at 0x288a1cd9848>"
      ]
     },
     "execution_count": 11,
     "metadata": {},
     "output_type": "execute_result"
    },
    {
     "data": {
      "image/png": "[encoded data removed]",
      "text/plain": [
       "<Figure size 720x576 with 1 Axes>"
      ]
     },
     "metadata": {
      "needs_background": "light"
     },
     "output_type": "display_data"
    }
   ],
   "source": [
    "# plt.plot(np.arctan2(np.imag(correlatorfft), np.real(correlatorfft)))\n",
    "plt.xlabel(\"momentum mode\")\n",
    "plt.ylabel(\"time\")\n",
    "plt.title(\"Time evolution of momentum phase\")\n",
    "step_x = 1 # step between consecutive labels\n",
    "x_positions = np.arange(0,N//2,step_x) # pixel count at label position\n",
    "x_labels = np.arange(N//4-N//2+1, N//4+1) # labels you want to see\n",
    "plt.xticks(x_positions, x_labels)\n",
    "y_tickcount = 10 # How many labels on y axis\n",
    "y_positions = np.arange(0,int(T/dt), int((T/dt)/y_tickcount)) # pixel count at label position\n",
    "y_labels = np.round(np.linspace(0,abs(T*m),y_tickcount), 3) # labels you want to see\n",
    "plt.yticks(y_positions, y_labels)\n",
    "plt.imshow(np.arctan2(np.imag(correlatorfft), np.real(correlatorfft)), aspect='auto', origin='lower')"
   ]
  },
  {
   "cell_type": "markdown",
   "metadata": {},
   "source": [
    "## Topological Order Parameter Calculation"
   ]
  },
  {
   "cell_type": "code",
   "execution_count": 12,
   "metadata": {},
   "outputs": [],
   "source": [
    "t_slices, k_modes = np.shape(correlatorfft)\n",
    "dphi_k = np.zeros((t_slices-1, k_modes))\n",
    "dphi_t = np.zeros((t_slices-1, k_modes))\n",
    "for t in range(t_slices-1):\n",
    "    for k in range(k_modes):\n",
    "        dphi_k[t, k] = np.angle(correlatorfft[t, (k+1)%k_modes]/correlatorfft[t, k])\n",
    "        dphi_t[t, k] = np.angle(correlatorfft[t + 1, k]/correlatorfft[t, k])\n",
    "        \n",
    "finite_full = np.zeros((t_slices - 2, k_modes))\n",
    "for t in range(t_slices-2):\n",
    "    for k in range(k_modes):\n",
    "        finite_full[t, k] = (dphi_k[t, k] + dphi_t[t, (k+1)%k_modes]) - (dphi_k[t+1, k] + dphi_t[t, k])\n",
    "finite_left = np.zeros(t_slices-2)\n",
    "finite_right = np.zeros(t_slices-2)\n",
    "for k in range(k_modes//2):\n",
    "    finite_left += finite_full[:,k]/2/np.pi\n",
    "    finite_right += finite_full[:,k+k_modes//2]/2/np.pi\n",
    "n_left = []\n",
    "n_right = []\n",
    "for t in range(t_slices-2):\n",
    "    ntau_left = 0\n",
    "    ntau_right = 0\n",
    "    for tau in range(0,t):\n",
    "        ntau_left += finite_left[tau]\n",
    "        ntau_right += finite_right[tau]\n",
    "    n_left.append(ntau_left)\n",
    "    n_right.append(ntau_right)\n",
    "n_left = np.array(n_left)\n",
    "n_right = np.array(n_right)"
   ]
  },
  {
   "cell_type": "code",
   "execution_count": 13,
   "metadata": {},
   "outputs": [
    {
     "data": {
      "image/png": "[encoded data removed]",
      "text/plain": [
       "<Figure size 720x576 with 1 Axes>"
      ]
     },
     "metadata": {
      "needs_background": "light"
     },
     "output_type": "display_data"
    }
   ],
   "source": [
    "plt.scatter(np.linspace(0, T * m, len(n_left)), (n_left-n_right))\n",
    "plt.xlabel(\"Time tm\")\n",
    "plt.ylabel(\"Order parameter nu\")\n",
    "plt.title(\"Evolution of topological order parameter\")\n",
    "plt.show()"
   ]
  }
 ],
 "metadata": {
  "kernelspec": {
   "display_name": "Python 3",
   "language": "python",
   "name": "python3"
  },
  "language_info": {
   "codemirror_mode": {
    "name": "ipython",
    "version": 3
   },
   "file_extension": ".py",
   "mimetype": "text/x-python",
   "name": "python",
   "nbconvert_exporter": "python",
   "pygments_lexer": "ipython3",
   "version": "3.7.4"
  }
 },
 "nbformat": 4,
 "nbformat_minor": 4
}
