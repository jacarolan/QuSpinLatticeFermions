{
 "cells": [
  {
   "cell_type": "code",
   "execution_count": 1,
   "metadata": {},
   "outputs": [],
   "source": [
    "from __future__ import print_function, division\n",
    "import sys,os\n",
    "from quspin.operators import hamiltonian # Hamiltonians and operators\n",
    "from quspin.basis import spin_basis_1d # Hilbert space spin basis\n",
    "from quspin.basis import spinless_fermion_basis_1d # fermion basis for comparison\n",
    "import numpy as np # generic math functions\n",
    "import matplotlib.pyplot as plt\n",
    "from itertools import chain, combinations\n",
    "plt.rcParams['figure.figsize'] = [10, 8] # changes default figure size in jupyter notebook"
   ]
  },
  {
   "cell_type": "markdown",
   "metadata": {},
   "source": [
    " ## Coupling & Option initialization"
   ]
  },
  {
   "cell_type": "code",
   "execution_count": 20,
   "metadata": {},
   "outputs": [],
   "source": [
    "NN = 2 #Z_NN model\n",
    "N=12 # number of sites (NOT STAGGERED SITES!!)\n",
    "Pinit=1 # P_{-1}\n",
    "g = 1 # E-field coupling constant\n",
    "t = -.5 # coupling constant for hopping term\n",
    "m = 1 # mass\n",
    "\n",
    "half_filling = 1 # options: 1 for half filling, 0 for not half-filling\n",
    "single_filling = 0 # options: 1 for single-filling, 0 else\n",
    "\n",
    "PBC = 1 # options: 1 for periodic boundary conditions, 0 for fixed\n",
    "\n",
    "if(N % 4 < 2): # Checks if N is even for anti- or periodic boundary conditions\n",
    "    Neven = 1\n",
    "else:\n",
    "    Neven = 0"
   ]
  },
  {
   "cell_type": "code",
   "execution_count": 21,
   "metadata": {},
   "outputs": [],
   "source": [
    "def arrayn(n): ## returns an array of length n with values 0,...,n-1\n",
    "    return([i for i in range(n)])\n",
    "\n",
    "if(half_filling): # sets filling to N//2 if half filling is turned on, else it does not specify\n",
    "    basis = spin_basis_1d(N,pauli=-1,Nup=N//2)\n",
    "elif(single_filling):\n",
    "    basis = spin_basis_1d(N,pauli=-1,Nup=1)\n",
    "else:\n",
    "    basis = spin_basis_1d(N,pauli=-1)\n",
    "    \n",
    "def powerset(seq): #used in the powerarray function below for creating powersets\n",
    "    if len(seq) == 1:\n",
    "        yield seq\n",
    "        yield []\n",
    "    else:\n",
    "        for item in powerset(seq[1:]):\n",
    "            yield [seq[0]]+item\n",
    "            yield item\n",
    "            \n",
    "def powerarray(array): #makes an array containing the powerset of the array taken as input\n",
    "    return [i for i in powerset(array)]"
   ]
  },
  {
   "cell_type": "code",
   "execution_count": 22,
   "metadata": {},
   "outputs": [],
   "source": [
    "###### Hopping terms\n",
    "if(PBC):\n",
    "    \n",
    "    if(Neven): # Anti-Periodic\n",
    "        J2 = [[-t,i,(i+1)%N] for i in range(N-1)] # The final boundary term must be added with negative coupling\n",
    "        J3 = [[-t,(i+1)%N,i] for i in range(N-1)] \n",
    "        J2.append([t,N-1,0]) # The negatively-coupled (anti-periodic) final boundary terms\n",
    "        J3.append([t,0,N-1])\n",
    "    \n",
    "    else: # Periodic \n",
    "        J2 = [[-t,i,(i+1)%N] for i in range(N)] # %N and range increased by 1 adds the final boundary term making it periodic\n",
    "        J3=[[-t,(i+1)%N,i] for i in range(N)]\n",
    "    \n",
    "else: # Fixed boundary conditions\n",
    "    J2 = [[-t,i,i+1] for i in range(N-1)] # we need to append \"+-\" for signs of sigmas\n",
    "    J3=[[-t,i+1,i] for i in range(N-1)] # append \"+-\" for signs of sigmas, i+1,i since this is h.c. term\n",
    "\n",
    "###### mass term (unchanged by PBC)\n",
    "J4 = [[m*(-1.0)**i,i,i] for i in range(N)] # append  \"+-\" for signs of sigmas"
   ]
  },
  {
   "cell_type": "code",
   "execution_count": 23,
   "metadata": {},
   "outputs": [],
   "source": [
    "staticpart=[[\"+-\",J4],[\"+-\",J2],[\"+-\",J3]] # Defining static and dynamic parts of H and filling with hopping and mass terms\n",
    "dynamicpart=[]"
   ]
  },
  {
   "cell_type": "code",
   "execution_count": 24,
   "metadata": {},
   "outputs": [],
   "source": [
    "###### E-field interaction term\n",
    "\n",
    "zstring = \"z\"\n",
    "def upperindices(n): # Creating a function to make the right length string of \"z\"\n",
    "    a = \"\"\n",
    "    for i in range(n):\n",
    "        a = a + zstring\n",
    "    return(a)\n",
    "\n",
    "def summandJ1(indices,n): # Creating a function to generate coupling lists for the E-field product term\n",
    "    #n is the site to which we have summed so far in the outermost sum,\n",
    "    #indices is an array of lower indices for sigma_n^z matrices which are interacting in this particular term of the expanded product\n",
    "    \n",
    "    coupling = -Pinit*g*(-1.0)**(n*(n+1.0)*.5) #Initial coupling parameters which are independent of indices input\n",
    "    \n",
    "    for k in range(n+1):\n",
    "        coupling = coupling*(np.exp((-1.0**k)*1j*np.pi/NN)) #Exponential product term\n",
    "        \n",
    "    coupling = coupling*(np.cos(np.pi/NN))**(n-len(indices)+1)*(-1.0j*np.sin(np.pi/NN))**len(indices) #Cosine & Sine terms\n",
    "    # This is kinda just the binomial expansion formula\n",
    "    \n",
    "    indices.insert(0,coupling) #insert coupling into the list for quspin\n",
    "    operatorlist=[upperindices(len(indices)-1),[indices]] #insert the string of \"z\" indicators of proper length\n",
    "    return(operatorlist) \n",
    "\n",
    "for i in range(0,N): # Piecemeal inserting the E-field product term into the hamiltonian\n",
    "    summandindices = arrayn(i+1) #creates a list of indices 0,i for our current i\n",
    "    for k in powerarray(summandindices): #every term in this power set corresponds to exactly one term in the expansion of the\n",
    "                                         #product term, so we take each combination of indices of sigma^z matrices from this powerset\n",
    "        if(k ==[]): #skip over the empty set\n",
    "            continue\n",
    "        else:\n",
    "            staticpart.insert(0,summandJ1(k,i)) #insert the completed coupling & index list"
   ]
  },
  {
   "cell_type": "markdown",
   "metadata": {},
   "source": [
    "## Plot"
   ]
  },
  {
   "cell_type": "code",
   "execution_count": 25,
   "metadata": {},
   "outputs": [
    {
     "name": "stdout",
     "output_type": "stream",
     "text": [
      "Symmetry checks passed!\n",
      "Particle conservation check passed!\n",
      "# of eigenvalues: 924\n"
     ]
    },
    {
     "data": {
      "image/png": "[encoded data removed]",
      "text/plain": [
       "<Figure size 720x576 with 1 Axes>"
      ]
     },
     "metadata": {
      "needs_background": "light"
     },
     "output_type": "display_data"
    }
   ],
   "source": [
    "H1 = hamiltonian(staticpart,dynamicpart,basis=basis,dtype=np.complex64,check_herm=False) # Creating the hamiltonian with proper basis\n",
    "\n",
    "eigenvalues1 = H1.eigvalsh() # Getting and plotting eigenvalues\n",
    "plt.plot(eigenvalues1,'+')\n",
    "\n",
    "print(\"# of eigenvalues: \" + str(len(eigenvalues1))) # Printing number of eigenvalues for comparison"
   ]
  },
  {
   "cell_type": "code",
   "execution_count": null,
   "metadata": {},
   "outputs": [],
   "source": []
  }
 ],
 "metadata": {
  "kernelspec": {
   "display_name": "Python 3",
   "language": "python",
   "name": "python3"
  },
  "language_info": {
   "codemirror_mode": {
    "name": "ipython",
    "version": 3
   },
   "file_extension": ".py",
   "mimetype": "text/x-python",
   "name": "python",
   "nbconvert_exporter": "python",
   "pygments_lexer": "ipython3",
   "version": "3.7.6"
  }
 },
 "nbformat": 4,
 "nbformat_minor": 4
}
