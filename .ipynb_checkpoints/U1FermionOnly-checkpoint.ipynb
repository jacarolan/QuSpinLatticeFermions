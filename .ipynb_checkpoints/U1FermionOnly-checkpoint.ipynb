{
 "cells": [
  {
   "cell_type": "code",
   "execution_count": 1,
   "metadata": {},
   "outputs": [],
   "source": [
    "from quspin.operators import hamiltonian\n",
    "from quspin.basis import spin_basis_1d\n",
    "from quspin.basis import spinless_fermion_basis_1d\n",
    "import numpy as np\n",
    "import matplotlib.pyplot as plt\n",
    "import itertools\n",
    "from quspin.tools.evolution import expm_multiply_parallel\n",
    "from quspin.operators import quantum_LinearOperator\n",
    "from quspin.operators import quantum_operator\n",
    "plt.rcParams['figure.figsize'] = [10, 8]"
   ]
  },
  {
   "cell_type": "code",
   "execution_count": 2,
   "metadata": {},
   "outputs": [],
   "source": [
    "def stringbox(lst, caption):\n",
    "    return caption + \"-\" * (100 - len(caption))+\"\\n\" + str(lst) + \"\\n\" + \"-\" * 100"
   ]
  },
  {
   "cell_type": "markdown",
   "metadata": {},
   "source": [
    "## Model parameters"
   ]
  },
  {
   "cell_type": "code",
   "execution_count": 3,
   "metadata": {},
   "outputs": [],
   "source": [
    "N = 8\n",
    "N_filled = N // 2\n",
    "E_neg1 = 0\n",
    "P_neg1 = np.exp(-1j * E_neg1)\n",
    "t = -0.5\n",
    "g = 0\n",
    "m = 0.8\n",
    "PBC = True"
   ]
  },
  {
   "cell_type": "markdown",
   "metadata": {},
   "source": [
    "## Real-Time Dynamics parameters"
   ]
  },
  {
   "cell_type": "code",
   "execution_count": 4,
   "metadata": {},
   "outputs": [],
   "source": [
    "T = 3\n",
    "timesteps = 30\n",
    "\n",
    "dt = T / timesteps"
   ]
  },
  {
   "cell_type": "markdown",
   "metadata": {},
   "source": [
    "## Creating fermion spectrum "
   ]
  },
  {
   "cell_type": "code",
   "execution_count": 5,
   "metadata": {},
   "outputs": [
    {
     "name": "stdout",
     "output_type": "stream",
     "text": [
      "Hermiticity check passed!\n",
      "Symmetry checks passed!\n",
      "Particle conservation check passed!\n"
     ]
    },
    {
     "data": {
      "image/png": "[encoded data removed]",
      "text/plain": [
       "<Figure size 720x576 with 1 Axes>"
      ]
     },
     "metadata": {
      "needs_background": "light"
     },
     "output_type": "display_data"
    },
    {
     "name": "stdout",
     "output_type": "stream",
     "text": [
      "Hermiticity check passed!\n",
      "Symmetry checks passed!\n",
      "Particle conservation check passed!\n"
     ]
    }
   ],
   "source": [
    "fermion_basis = spinless_fermion_basis_1d(L=N, Nf=N_filled)\n",
    "fermion_basis_m1 = spinless_fermion_basis_1d(L=N, Nf=N_filled-1)\n",
    "basis_full = spinless_fermion_basis_1d(L=N)\n",
    "static_terms = []\n",
    "dynamic_terms = []\n",
    "\n",
    "### Hopping term\n",
    "L = (N if PBC else N-1)\n",
    "hop_coupling = [[-t, i, (i+1) % N] for i in range(L)]\n",
    "hop_coupling_dag = [[-t, (i+1) % N, i] for i in range(L)]\n",
    "static_terms += [[\"+-\", hop_coupling]]\n",
    "static_terms += [[\"+-\", hop_coupling_dag]]\n",
    "\n",
    "### Mass term\n",
    "mass_coupling = [[m * (-1) ** i, i, i] for i in range(N)]\n",
    "static_terms += [[\"+-\", mass_coupling]]\n",
    "\n",
    "def E_squared(n):\n",
    "    E_const = E_neg1 + (n + 1) // 2\n",
    "    s_coupling = []\n",
    "    d_coupling = []\n",
    "    for i in range(n + 1):\n",
    "        s_coeff = 2 * E_const * -g\n",
    "        s_coupling += [[s_coeff, i, i]]\n",
    "        for j in range(n + 1):\n",
    "            d_coeff = -g\n",
    "            d_coupling += [[d_coeff, i, i, j, j]]\n",
    "    return [[\"+-\", s_coupling], [\"+-+-\", d_coupling]]\n",
    "for i in range(N):\n",
    "    static_terms += E_squared(i)\n",
    "\n",
    "### Plotting spectrum\n",
    "H = hamiltonian(static_terms, dynamic_terms, basis=fermion_basis, dtype=np.float64)\n",
    "fermion_eigvals = H.eigvalsh()\n",
    "plt.plot(fermion_eigvals, \".\")\n",
    "plt.show()\n",
    "\n",
    "### Take a copy for real-time dynamics later\n",
    "H_init = hamiltonian(static_terms, dynamic_terms, basis=fermion_basis, dtype=np.complex64)"
   ]
  },
  {
   "cell_type": "code",
   "execution_count": 6,
   "metadata": {},
   "outputs": [],
   "source": [
    "E_init,V_init=H_init.eigsh(k=1,which='SA',maxiter=1e8)\n",
    "psi_i = V_init[:,0]\n",
    "psi_i = psi_i.reshape((-1,))\n",
    "del H_init"
   ]
  },
  {
   "cell_type": "markdown",
   "metadata": {},
   "source": [
    "## Real-Time Dynamics"
   ]
  },
  {
   "cell_type": "code",
   "execution_count": 7,
   "metadata": {},
   "outputs": [
    {
     "name": "stdout",
     "output_type": "stream",
     "text": [
      "Hermiticity check passed!\n",
      "Symmetry checks passed!\n",
      "Particle conservation check passed!\n",
      "# T =  0.0\n",
      "0.0\t 1.991388679375239e-08\n",
      "0.1\t 0.002383980436988995\n",
      "0.2\t 0.009594691459098763\n",
      "# T =  0.30000000000000004\n",
      "0.30000000000000004\t 0.0218142299563444\n",
      "0.4\t 0.039365697104978566\n",
      "0.5\t 0.0627464203244571\n",
      "# T =  0.6000000000000001\n",
      "0.6000000000000001\t 0.09268254813474971\n",
      "0.7000000000000001\t 0.13021367798453595\n",
      "0.8\t 0.17681328926174122\n",
      "# T =  0.9\n",
      "0.9\t 0.23451029861582945\n",
      "1.0\t 0.30572436139517156\n",
      "1.1\t 0.3912344470376187\n",
      "# T =  1.2000000000000002\n",
      "1.2000000000000002\t 0.4818745766393829\n",
      "1.3\t 0.5600759301090215\n",
      "1.4000000000000001\t 0.6318785303077646\n",
      "# T =  1.5\n",
      "1.5\t 0.6312537471701718\n",
      "1.6\t 0.5108763624222147\n",
      "1.7000000000000002\t 0.39200294389678836\n",
      "# T =  1.8\n",
      "1.8\t 0.29997796151066064\n",
      "1.9000000000000001\t 0.22879921951811305\n",
      "2.0\t 0.17278370088446773\n",
      "# T =  2.1\n",
      "2.1\t 0.12826152749726458\n",
      "2.2\t 0.0928892535091333\n",
      "2.3000000000000003\t 0.0651325397708552\n",
      "# T =  2.4000000000000004\n",
      "2.4000000000000004\t 0.04396767529029932\n",
      "2.5\t 0.028712148985686713\n",
      "2.6\t 0.018927481880932313\n",
      "# T =  2.7\n",
      "2.7\t 0.01436436252754795\n",
      "2.8000000000000003\t 0.014934894430484258\n",
      "2.9000000000000004\t 0.02070484364824451\n"
     ]
    },
    {
     "data": {
      "text/plain": [
       "[<matplotlib.lines.Line2D at 0x7fccac97bb50>]"
      ]
     },
     "execution_count": 7,
     "metadata": {},
     "output_type": "execute_result"
    },
    {
     "data": {
      "image/png": "[encoded data removed]",
      "text/plain": [
       "<Figure size 720x576 with 1 Axes>"
      ]
     },
     "metadata": {
      "needs_background": "light"
     },
     "output_type": "display_data"
    }
   ],
   "source": [
    "### Defining time-evolution hamiltonian\n",
    "static_terms = []\n",
    "dynamic_terms = []\n",
    "\n",
    "### Hopping term\n",
    "L = (N if PBC else N-1)\n",
    "hop_coupling = [[-t, i, (i+1) % N] for i in range(L)]\n",
    "hop_coupling_dag = [[-t, (i+1) % N, i] for i in range(L)]\n",
    "static_terms += [[\"+-\", hop_coupling]]\n",
    "static_terms += [[\"+-\", hop_coupling_dag]]\n",
    "\n",
    "### Mass term\n",
    "mass_coupling = [[-m * (-1) ** i, i, i] for i in range(N)]\n",
    "static_terms += [[\"+-\", mass_coupling]]\n",
    "\n",
    "### E-field term\n",
    "for i in range(N):\n",
    "    static_terms += E_squared(i)\n",
    "\n",
    "H = hamiltonian(static_terms, dynamic_terms, basis=fermion_basis, dtype=np.complex64)\n",
    "\n",
    "### This is where timesteps and total time T are used\n",
    "\n",
    "##### define data type for the simulation\n",
    "dtype_real = np.float64\n",
    "dtype_cmplx = np.result_type(dtype_real,np.complex64)\n",
    "# pre assign arrays\n",
    "times = np.arange(0,T,dt)                               # times\n",
    "Lt = np.zeros(len(times),dtype=dtype_real)              # Lohschmidt echo\n",
    "# construct piece-wise constant unitaries\n",
    "expH = expm_multiply_parallel(H.tocsr(),a=-1j*dt,dtype=dtype_cmplx)\n",
    "# auxiliary array for memory efficiency\n",
    "psi=psi_i.copy().astype(np.complex128)\n",
    "work_array=np.zeros((2*len(psi),), dtype=psi.dtype) # twice as long because complex_valued\n",
    "# prepare output\n",
    "loschmidt = []\n",
    "for i in range(len(times)):\n",
    "    if i % (len(times)//10) == 0:\n",
    "        print(\"# T = \",times[i])\n",
    "    Lt[i]=-np.log(np.abs(np.vdot(psi_i,psi)))/N\n",
    "    print(f\"{times[i]}\\t {Lt[i]}\")\n",
    "    loschmidt += [Lt[i]]\n",
    "    expH.dot(psi,work_array=work_array,overwrite_v=True)\n",
    "# END of time evolution\n",
    "plt.plot(times, loschmidt)"
   ]
  },
  {
   "cell_type": "markdown",
   "metadata": {},
   "source": [
    "## Finding Correlators"
   ]
  },
  {
   "cell_type": "code",
   "execution_count": 8,
   "metadata": {},
   "outputs": [],
   "source": [
    "def c_operator(n):\n",
    "    cdag_static = [[\"-\",[[1.0,n]]]]\n",
    "    cdagn = quantum_LinearOperator(cdag_static,basis=basis_full,dtype=np.complex128,check_herm=False,check_pcon=False,check_symm=False)\n",
    "    return(cdagn)\n",
    "annihilators = [c_operator(n) for n in range(N)]"
   ]
  },
  {
   "cell_type": "code",
   "execution_count": 9,
   "metadata": {},
   "outputs": [
    {
     "name": "stdout",
     "output_type": "stream",
     "text": [
      "Hermiticity check passed!\n",
      "Symmetry checks passed!\n",
      "Particle conservation check passed!\n"
     ]
    }
   ],
   "source": [
    "##### define data type for the simulation\n",
    "dtype_real = np.float64\n",
    "dtype_cmplx = np.result_type(dtype_real,np.complex64)\n",
    "# pre assign arrays\n",
    "times = np.arange(0,T,dt)                               # times\n",
    "H = hamiltonian(static_terms, dynamic_terms, basis=fermion_basis, dtype=np.float64)\n",
    "\n",
    "# array to store correlators expectations from psi(t,n) to psi(0,0)\n",
    "correlators = np.zeros((N,len(times)),dtype=np.complex128)\n",
    "\n",
    "P_Nhalf = fermion_basis.get_proj(dtype=np.float64)\n",
    "P_Nhalfminus1 = fermion_basis_m1.get_proj(dtype=np.float64)\n",
    "\n",
    "for n in range(0, N, 2): #loop over all site pairings\n",
    "    for i in range(len(times)): #loop over times (for annhilator location)\n",
    "        # Even Correlators\n",
    "        leftPsi=psi_i.copy().astype(np.complex128) #state for left-half of inner product\n",
    "        rightPsi=psi_i.copy().astype(np.complex128) #state for right-half\n",
    "\n",
    "        expmiH = expm_multiply_parallel((np.transpose(P_Nhalfminus1).dot(P_Nhalf.dot(H.tocsr().dot(np.transpose(P_Nhalf)))).dot(P_Nhalfminus1)),a=-1j*dt*i,dtype=dtype_cmplx)\n",
    "        expiH = expm_multiply_parallel(H.tocsr(),a=1j*dt*i,dtype=dtype_cmplx)\n",
    "\n",
    "        expiH.dot(leftPsi,overwrite_v=True) \n",
    "        tempLpsi = np.transpose(P_Nhalfminus1).dot(annihilators[n].dot(P_Nhalf.dot(leftPsi)))\n",
    "        expmiH.dot(tempLpsi,overwrite_v=True)\n",
    "\n",
    "        tempRpsi = np.transpose(P_Nhalfminus1).dot(annihilators[0].dot(P_Nhalf.dot(rightPsi)))\n",
    "\n",
    "        correlators[n,i] = np.vdot(tempLpsi, tempRpsi) # (<a|b>) <0| . e^(-iHt) . psi\\dagger_n . e^(iHt) . psi(0,0) . |0>\n",
    "        \n",
    "        # Odd Correlators\n",
    "        leftPsi=psi_i.copy().astype(np.complex128) #state for left-half of inner product\n",
    "        rightPsi=psi_i.copy().astype(np.complex128) #state for right-half\n",
    "\n",
    "        expiH.dot(leftPsi,overwrite_v=True) \n",
    "        tempLpsi = np.transpose(P_Nhalfminus1).dot(annihilators[n+1].dot(P_Nhalf.dot(leftPsi)))\n",
    "        expmiH.dot(tempLpsi,overwrite_v=True)\n",
    "\n",
    "        tempRpsi = np.transpose(P_Nhalfminus1).dot(annihilators[1].dot(P_Nhalf.dot(rightPsi)))\n",
    "\n",
    "        correlators[n+1,i] = np.vdot(tempLpsi, tempRpsi) # (<a|b>) <0| . e^(-iHt) . psi\\dagger_n . e^(iHt) . psi(0,0) . |0>\n",
    "    \n",
    "# correlators = correlators#/(len(times)/dt) # Averaging over N so that it is actually an expectation value\n",
    "# END of time evolution"
   ]
  },
  {
   "cell_type": "code",
   "execution_count": 10,
   "metadata": {},
   "outputs": [
    {
     "name": "stdout",
     "output_type": "stream",
     "text": [
      "[3 0 1 2]\n"
     ]
    }
   ],
   "source": [
    "correlatorfft = []\n",
    "for i in range(len(correlators[0, :])):\n",
    "    fftsum = np.fft.fft(correlators[::2,i]) + np.fft.fft(correlators[1::2,i])\n",
    "    correlatorfft.append(fftsum)\n",
    "    \n",
    "correlatorfft = np.array(correlatorfft)\n",
    "\n",
    "# Fix the correlatorFFT to be symmetric\n",
    "mode_count = correlatorfft.shape[1]\n",
    "BZ_edge = mode_count // 2 + 1\n",
    "wrap_order = (np.arange(mode_count) + BZ_edge) % mode_count\n",
    "print(wrap_order)\n",
    "correlatorfft = correlatorfft[:, wrap_order]"
   ]
  },
  {
   "cell_type": "code",
   "execution_count": 11,
   "metadata": {
    "scrolled": false
   },
   "outputs": [
    {
     "data": {
      "text/plain": [
       "<matplotlib.image.AxesImage at 0x7fccac93b550>"
      ]
     },
     "execution_count": 11,
     "metadata": {},
     "output_type": "execute_result"
    },
    {
     "data": {
      "image/png": "[encoded data removed]",
      "text/plain": [
       "<Figure size 720x576 with 1 Axes>"
      ]
     },
     "metadata": {
      "needs_background": "light"
     },
     "output_type": "display_data"
    }
   ],
   "source": [
    "# plt.plot(np.arctan2(np.imag(correlatorfft), np.real(correlatorfft)))\n",
    "plt.xlabel(\"momentum mode\")\n",
    "plt.ylabel(\"time\")\n",
    "plt.title(\"Time evolution of momentum phase\")\n",
    "step_x = 1 # step between consecutive labels\n",
    "x_positions = np.arange(0,N//2,step_x) # pixel count at label position\n",
    "x_labels = np.arange(N//4-N//2+1, N//4+1) # labels you want to see\n",
    "plt.xticks(x_positions, x_labels)\n",
    "y_tickcount = 10 # How many labels on y axis\n",
    "y_positions = np.arange(0,int(T/dt), int((T/dt)/y_tickcount)) # pixel count at label position\n",
    "y_labels = np.round(np.linspace(0,abs(T*m),y_tickcount), 3) # labels you want to see\n",
    "plt.yticks(y_positions, y_labels)\n",
    "plt.imshow(np.arctan2(np.imag(correlatorfft), np.real(correlatorfft)), aspect='auto', origin='lower')"
   ]
  },
  {
   "cell_type": "code",
   "execution_count": 12,
   "metadata": {},
   "outputs": [
    {
     "data": {
      "image/png": "[encoded data removed]",
      "text/plain": [
       "<Figure size 720x576 with 1 Axes>"
      ]
     },
     "metadata": {
      "needs_background": "light"
     },
     "output_type": "display_data"
    }
   ],
   "source": [
    "phases = np.arctan2(np.imag(correlatorfft), np.real(correlatorfft))\n",
    "plt.plot(phases[:,0])\n",
    "plt.show()"
   ]
  },
  {
   "cell_type": "markdown",
   "metadata": {},
   "source": [
    "## Correlator code from Niklas"
   ]
  },
  {
   "cell_type": "code",
   "execution_count": 13,
   "metadata": {},
   "outputs": [
    {
     "name": "stdout",
     "output_type": "stream",
     "text": [
      "Symmetry checks passed!\n",
      "Symmetry checks passed!\n",
      "Hermiticity check passed!\n",
      "Symmetry checks passed!\n",
      "Particle conservation check passed!\n",
      "Hermiticity check passed!\n",
      "Symmetry checks passed!\n",
      "Particle conservation check passed!\n",
      "Symmetry checks passed!\n",
      "N8_Gt_n0_done\n",
      "Symmetry checks passed!\n",
      "N8_Gt_n1_done\n",
      "Symmetry checks passed!\n",
      "N8_Gt_n2_done\n",
      "Symmetry checks passed!\n",
      "N8_Gt_n3_done\n",
      "Symmetry checks passed!\n",
      "N8_Gt_n4_done\n",
      "Symmetry checks passed!\n",
      "N8_Gt_n5_done\n",
      "Symmetry checks passed!\n",
      "N8_Gt_n6_done\n",
      "Symmetry checks passed!\n",
      "N8_Gt_n7_done\n",
      "[ 0.10959597+0.00000000e+00j  0.89040388+0.00000000e+00j\n",
      "  0.04691311+2.84322665e-09j -0.04691312+4.13931327e-09j\n",
      " -0.01576973+1.59623911e-09j  0.01576972-5.24410639e-09j\n",
      "  0.04691312+9.64757532e-09j -0.04691313-5.49267215e-09j]\n"
     ]
    },
    {
     "data": {
      "image/png": "[encoded data removed]",
      "text/plain": [
       "<Figure size 720x576 with 1 Axes>"
      ]
     },
     "metadata": {
      "needs_background": "light"
     },
     "output_type": "display_data"
    },
    {
     "name": "stdout",
     "output_type": "stream",
     "text": [
      "[ 0.00000000e+00 -3.86525743e-18 -2.76089816e-18 -1.60132093e-17\n",
      " -2.04306464e-17  6.07397595e-18  6.07397595e-18  1.49088501e-17\n",
      " -2.76089816e-18  5.02483465e-17  5.02483465e-17  1.49088501e-17\n",
      "  3.25785983e-17  5.02483465e-17  1.00000000e+00  1.00000000e+00\n",
      "  1.00000000e+00  1.00000000e+00  1.00000000e+00  1.00000000e+00\n",
      "  1.00000000e+00  1.00000000e+00  1.00000000e+00  1.00000000e+00\n",
      "  1.00000000e+00  1.00000000e+00  1.00000000e+00  1.00000000e+00]\n",
      "[ 0.00000000e+00  5.79788614e-18  8.00660467e-18 -8.28269448e-19\n",
      "  3.58916761e-18 -5.24570651e-18 -1.40805806e-17 -1.40805806e-17\n",
      "  1.24240417e-17 -5.24570651e-18 -5.24570651e-18 -5.24570651e-18\n",
      "  1.24240417e-17 -5.24570651e-18 -1.00000000e+00 -1.00000000e+00\n",
      " -1.00000000e+00 -1.00000000e+00 -1.00000000e+00 -1.00000000e+00\n",
      " -1.00000000e+00 -1.00000000e+00 -1.00000000e+00 -1.00000000e+00\n",
      " -1.00000000e+00 -1.00000000e+00 -1.00000000e+00 -1.00000000e+00]\n"
     ]
    }
   ],
   "source": [
    "psi_init = psi_i.copy().astype(np.complex128)\n",
    "\n",
    "# apply c_0 & c_1 to initial state\n",
    "c0_static = [[\"-\",[[1.0,0]]]]\n",
    "c0 = quantum_LinearOperator(c0_static,basis=basis_full,dtype=np.float64,check_herm=False,check_pcon=False)\n",
    "psi_init_c0 = np.transpose(P_Nhalfminus1).dot(c0.dot(P_Nhalf.dot(psi_init)))\n",
    "# del c0\n",
    "c1_static = [[\"-\",[[1.0,1]]]]\n",
    "c1 = quantum_LinearOperator(c1_static,basis=basis_full,dtype=np.float64,check_herm=False,check_pcon=False)\n",
    "psi_init_c1 = np.transpose(P_Nhalfminus1).dot(c1.dot(P_Nhalf.dot(psi_init)))\n",
    "# del c1\n",
    "H_quenched = hamiltonian(static_terms, dynamic_terms, basis=fermion_basis_m1, dtype=np.float64)\n",
    "# evolving in time (forward)\n",
    "psi_t_c0 = H_quenched.evolve(psi_init_c0,0,times)#,solver_name='dopri5',atol=1e-16,rtol=1e-16)\n",
    "psi_t_c1 = H_quenched.evolve(psi_init_c1,0,times)#,solver_name='dopri5',atol=1e-16,rtol=1e-16)\n",
    "# del H_quenched\n",
    "#print(np.shape(psi_t))\n",
    "H_quenched_r =  -hamiltonian(static_terms,dynamic_terms,basis=fermion_basis,dtype=np.float64)\n",
    "Gnt_all = []\n",
    "for n in range(N):\n",
    "    Gnt = np.zeros(len(times),dtype=np.complex128)\n",
    "    # apply c_n^\\dagger to evolved states\n",
    "    psi_t_cn = []\n",
    "    cn_static = [[\"+\",[[1.0,n]]]]\n",
    "    cn = quantum_LinearOperator(cn_static,basis=basis_full,dtype=np.float64,check_herm=False,check_pcon=False)\n",
    "    for t in range(len(times)):\n",
    "        if n%2 == 0:\n",
    "            psi_t_cn.append( np.transpose(P_Nhalf).dot(cn.dot(P_Nhalfminus1.dot(psi_t_c0[:,t]))) )\n",
    "        if n%2 == 1:\n",
    "            psi_t_cn.append( np.transpose(P_Nhalf).dot(cn.dot(P_Nhalfminus1.dot(psi_t_c1[:,t]))) )\n",
    "    del cn\n",
    "    psi_t_cn = np.array(psi_t_cn)\n",
    "    #print(np.shape(psi_t_cn))\n",
    "    # evolve backwards in time & get the correlators\n",
    "    for t in range(len(times)):\n",
    "        psi_t_cn[t,:] = H_quenched_r.evolve(psi_t_cn[t,:],0,times[t])\n",
    "        Gnt[t] = np.vdot(psi_init,psi_t_cn[t,:])\n",
    "    print('N'+str(N)+'_Gt_n'+str(n)+'_done')\n",
    "    Gnt_all.append(Gnt)\n",
    "Gnt_all = np.array(Gnt_all)\n",
    "print(Gnt_all[:,0])\n",
    "#np.save(folder_save+'/TwoTime_correlators',Gnt_all)\n",
    "Nt = len(times)\n",
    "Gnt_half = np.zeros((N//2,Nt),dtype=np.complex128)\n",
    "for n in range(N//2):\n",
    "    Gnt_half[n,:] = Gnt_all[2*n,:] + Gnt_all[2*n+1,:]\n",
    "Gkt = np.fft.fft(Gnt_half,axis=0)\n",
    "\n",
    "# Fix the correlatorFFT to be symmetric\n",
    "diff = correlatorfft - Gkt.T\n",
    "correlatorfft = Gkt.T\n",
    "# mode_count = correlatorfft.shape[1]\n",
    "# BZ_edge = mode_count // 2 + 1\n",
    "# wrap_order = (np.arange(mode_count) + BZ_edge) % mode_count\n",
    "# print(wrap_order)\n",
    "# correlatorfft = correlatorfft[:, wrap_order]\n",
    "# plt.xlabel(\"momentum mode\")\n",
    "# plt.ylabel(\"time\")\n",
    "# plt.title(\"Time evolution of momentum phase\")\n",
    "\n",
    "#Plot FFT\n",
    "step_x = 1 # step between consecutive labels\n",
    "x_positions = np.arange(0,N//2,step_x) # pixel count at label position\n",
    "x_labels = np.arange(N//4-N//2, N//4) # labels you want to see\n",
    "plt.xticks(x_positions, x_labels)\n",
    "y_tickcount = 10 # How many labels on y axis\n",
    "y_positions = np.arange(0,int(T/dt), int((T/dt)/y_tickcount)) # pixel count at label position\n",
    "y_labels = np.round(np.linspace(0,abs(T*m),y_tickcount), 3) # labels you want to see\n",
    "plt.yticks(y_positions, y_labels)\n",
    "plt.imshow(np.arctan2(np.imag(correlatorfft), np.real(correlatorfft)), aspect='auto', origin='lower')\n",
    "plt.show()\n",
    "\n",
    "Lt_from_Gkt = -np.sum(np.log(np.abs(Gkt)),axis=0)/N\n",
    "# np.savetxt(folder_save+'/rate_TwoTime',np.array(Lt_from_Gkt)/a)\n",
    "Nk, Nt = np.shape(Gkt)\n",
    "dphi_kt_k = np.zeros((Nk,Nt-1))\n",
    "dphi_kt_t = np.zeros((Nk,Nt-1))\n",
    "Fkt = np.zeros((Nk,Nt-2))\n",
    "for k in range(Nk):\n",
    "    for t in range(Nt-1):\n",
    "        dphi_kt_k[k,t] = np.angle(Gkt[(k+1)%Nk,t]/Gkt[k,t])\n",
    "        dphi_kt_t[k,t] = np.angle(Gkt[k,t+1]/Gkt[k,t])\n",
    "for k in range(Nk):\n",
    "    for t in range(Nt-2):\n",
    "        Fkt[k,t] = (dphi_kt_k[k,t] + dphi_kt_t[(k+1)%Nk,t]) - (dphi_kt_k[k,t+1] + dphi_kt_t[k,t])\n",
    "Fkt_ksum1 = np.zeros(Nt-2)\n",
    "Fkt_ksum2 = np.zeros(Nt-2)\n",
    "for k in range(Nk//2):\n",
    "    Fkt_ksum1 += Fkt[(k),:]/2/np.pi\n",
    "    Fkt_ksum2 += Fkt[(k+Nk//2),:]/2/np.pi\n",
    "n1 = []\n",
    "n2 = []\n",
    "for t in range(Nt-2):\n",
    "    ntau1 = 0\n",
    "    ntau2 = 0\n",
    "    for tau in range(0,t):\n",
    "        ntau1 += Fkt_ksum1[tau]\n",
    "        ntau2 += Fkt_ksum2[tau]\n",
    "    n1.append(ntau1)\n",
    "    n2.append(ntau2)\n",
    "n1 = np.array(n1)\n",
    "n2 = np.array(n2)\n",
    "print(n1)\n",
    "print(n2)"
   ]
  },
  {
   "cell_type": "code",
   "execution_count": 43,
   "metadata": {},
   "outputs": [
    {
     "data": {
      "image/png": "[encoded data removed]",
      "text/plain": [
       "<Figure size 720x576 with 1 Axes>"
      ]
     },
     "metadata": {
      "needs_background": "light"
     },
     "output_type": "display_data"
    },
    {
     "name": "stdout",
     "output_type": "stream",
     "text": [
      "Times where (n1,n2) jump: --------------------------------------------------------------------------\n",
      "(14, 14)\n",
      "----------------------------------------------------------------------------------------------------\n"
     ]
    }
   ],
   "source": [
    "diff_corr = np.array(Gnt_all) - correlators\n",
    "plt.plot(np.linspace(0, T * m, len(n1)), (n1-n2))\n",
    "plt.show()\n",
    "criticaltimes = (np.where(n1>.1)[0][0],np.where(n2< -.1)[0][0])\n",
    "print(stringbox(criticaltimes,\"Times where (n1,n2) jump: \"))"
   ]
  },
  {
   "cell_type": "code",
   "execution_count": 44,
   "metadata": {},
   "outputs": [
    {
     "data": {
      "text/plain": [
       "<matplotlib.image.AxesImage at 0x7fccc835b430>"
      ]
     },
     "execution_count": 44,
     "metadata": {},
     "output_type": "execute_result"
    },
    {
     "data": {
      "image/png": "[encoded data removed]",
      "text/plain": [
       "<Figure size 720x576 with 1 Axes>"
      ]
     },
     "metadata": {
      "needs_background": "light"
     },
     "output_type": "display_data"
    }
   ],
   "source": [
    "plt.imshow(np.abs(correlators - Gnt_all))"
   ]
  },
  {
   "cell_type": "code",
   "execution_count": null,
   "metadata": {},
   "outputs": [],
   "source": []
  }
 ],
 "metadata": {
  "kernelspec": {
   "display_name": "Python 3",
   "language": "python",
   "name": "python3"
  },
  "language_info": {
   "codemirror_mode": {
    "name": "ipython",
    "version": 3
   },
   "file_extension": ".py",
   "mimetype": "text/x-python",
   "name": "python",
   "nbconvert_exporter": "python",
   "pygments_lexer": "ipython3",
   "version": "3.8.5"
  }
 },
 "nbformat": 4,
 "nbformat_minor": 4
}
