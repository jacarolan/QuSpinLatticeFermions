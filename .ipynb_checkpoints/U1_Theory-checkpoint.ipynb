{
 "cells": [
  {
   "cell_type": "markdown",
   "metadata": {},
   "source": [
    "## Import Libraries"
   ]
  },
  {
   "cell_type": "code",
   "execution_count": 1,
   "metadata": {},
   "outputs": [],
   "source": [
    "from quspin.operators import hamiltonian\n",
    "from quspin.basis import spin_basis_1d\n",
    "from quspin.basis import spinless_fermion_basis_1d\n",
    "import numpy as np\n",
    "import matplotlib.pyplot as plt\n",
    "import itertools\n",
    "from quspin.tools.evolution import expm_multiply_parallel\n",
    "from quspin.operators import quantum_LinearOperator\n",
    "from quspin.operators import quantum_operator\n",
    "plt.rcParams['figure.figsize'] = [10, 8]"
   ]
  },
  {
   "cell_type": "markdown",
   "metadata": {},
   "source": [
    "## Define Constants/Helpers"
   ]
  },
  {
   "cell_type": "code",
   "execution_count": 2,
   "metadata": {},
   "outputs": [],
   "source": [
    "N = 8\n",
    "N_filled = N // 2\n",
    "E_neg1 = 0\n",
    "P_neg1 = np.exp(-1j * E_neg1)\n",
    "t = -0.5\n",
    "g = 0#1e-3\n",
    "m = -0.8\n",
    "PBC = True"
   ]
  },
  {
   "cell_type": "code",
   "execution_count": 3,
   "metadata": {},
   "outputs": [],
   "source": [
    "def stringbox(lst, caption):\n",
    "    return caption + \"-\" * (100 - len(caption))+\"\\n\" + str(lst) + \"\\n\" + \"-\" * 100"
   ]
  },
  {
   "cell_type": "markdown",
   "metadata": {},
   "source": [
    "## Spin Basis Simulation"
   ]
  },
  {
   "cell_type": "code",
   "execution_count": 4,
   "metadata": {},
   "outputs": [
    {
     "name": "stdout",
     "output_type": "stream",
     "text": [
      "Static couplings:-----------------------------------------------------------------------------------\n",
      "[['+-', [[0.5, 0, 1], [0.5, 1, 2], [0.5, 2, 3], [0.5, 3, 4], [0.5, 4, 5], [0.5, 5, 6], [0.5, 6, 7], [-0.5, 7, 0]]], ['+-', [[0.5, 1, 0], [0.5, 2, 1], [0.5, 3, 2], [0.5, 4, 3], [0.5, 5, 4], [0.5, 6, 5], [0.5, 7, 6], [-0.5, 0, 7]]], ['+-', [[-0.8, 0, 0], [0.8, 1, 1], [-0.8, 2, 2], [0.8, 3, 3], [-0.8, 4, 4], [0.8, 5, 5], [-0.8, 6, 6], [0.8, 7, 7]]], ['+-', [[0, 0, 0]]], ['+-+-', [[0, 0, 0, 0, 0]]], ['+-', [[0, 0, 0], [0, 1, 1]]], ['+-+-', [[0, 0, 0, 0, 0], [0, 0, 0, 1, 1], [0, 1, 1, 0, 0], [0, 1, 1, 1, 1]]], ['+-', [[0, 0, 0], [0, 1, 1], [0, 2, 2]]], ['+-+-', [[0, 0, 0, 0, 0], [0, 0, 0, 1, 1], [0, 0, 0, 2, 2], [0, 1, 1, 0, 0], [0, 1, 1, 1, 1], [0, 1, 1, 2, 2], [0, 2, 2, 0, 0], [0, 2, 2, 1, 1], [0, 2, 2, 2, 2]]], ['+-', [[0, 0, 0], [0, 1, 1], [0, 2, 2], [0, 3, 3]]], ['+-+-', [[0, 0, 0, 0, 0], [0, 0, 0, 1, 1], [0, 0, 0, 2, 2], [0, 0, 0, 3, 3], [0, 1, 1, 0, 0], [0, 1, 1, 1, 1], [0, 1, 1, 2, 2], [0, 1, 1, 3, 3], [0, 2, 2, 0, 0], [0, 2, 2, 1, 1], [0, 2, 2, 2, 2], [0, 2, 2, 3, 3], [0, 3, 3, 0, 0], [0, 3, 3, 1, 1], [0, 3, 3, 2, 2], [0, 3, 3, 3, 3]]], ['+-', [[0, 0, 0], [0, 1, 1], [0, 2, 2], [0, 3, 3], [0, 4, 4]]], ['+-+-', [[0, 0, 0, 0, 0], [0, 0, 0, 1, 1], [0, 0, 0, 2, 2], [0, 0, 0, 3, 3], [0, 0, 0, 4, 4], [0, 1, 1, 0, 0], [0, 1, 1, 1, 1], [0, 1, 1, 2, 2], [0, 1, 1, 3, 3], [0, 1, 1, 4, 4], [0, 2, 2, 0, 0], [0, 2, 2, 1, 1], [0, 2, 2, 2, 2], [0, 2, 2, 3, 3], [0, 2, 2, 4, 4], [0, 3, 3, 0, 0], [0, 3, 3, 1, 1], [0, 3, 3, 2, 2], [0, 3, 3, 3, 3], [0, 3, 3, 4, 4], [0, 4, 4, 0, 0], [0, 4, 4, 1, 1], [0, 4, 4, 2, 2], [0, 4, 4, 3, 3], [0, 4, 4, 4, 4]]], ['+-', [[0, 0, 0], [0, 1, 1], [0, 2, 2], [0, 3, 3], [0, 4, 4], [0, 5, 5]]], ['+-+-', [[0, 0, 0, 0, 0], [0, 0, 0, 1, 1], [0, 0, 0, 2, 2], [0, 0, 0, 3, 3], [0, 0, 0, 4, 4], [0, 0, 0, 5, 5], [0, 1, 1, 0, 0], [0, 1, 1, 1, 1], [0, 1, 1, 2, 2], [0, 1, 1, 3, 3], [0, 1, 1, 4, 4], [0, 1, 1, 5, 5], [0, 2, 2, 0, 0], [0, 2, 2, 1, 1], [0, 2, 2, 2, 2], [0, 2, 2, 3, 3], [0, 2, 2, 4, 4], [0, 2, 2, 5, 5], [0, 3, 3, 0, 0], [0, 3, 3, 1, 1], [0, 3, 3, 2, 2], [0, 3, 3, 3, 3], [0, 3, 3, 4, 4], [0, 3, 3, 5, 5], [0, 4, 4, 0, 0], [0, 4, 4, 1, 1], [0, 4, 4, 2, 2], [0, 4, 4, 3, 3], [0, 4, 4, 4, 4], [0, 4, 4, 5, 5], [0, 5, 5, 0, 0], [0, 5, 5, 1, 1], [0, 5, 5, 2, 2], [0, 5, 5, 3, 3], [0, 5, 5, 4, 4], [0, 5, 5, 5, 5]]], ['+-', [[0, 0, 0], [0, 1, 1], [0, 2, 2], [0, 3, 3], [0, 4, 4], [0, 5, 5], [0, 6, 6]]], ['+-+-', [[0, 0, 0, 0, 0], [0, 0, 0, 1, 1], [0, 0, 0, 2, 2], [0, 0, 0, 3, 3], [0, 0, 0, 4, 4], [0, 0, 0, 5, 5], [0, 0, 0, 6, 6], [0, 1, 1, 0, 0], [0, 1, 1, 1, 1], [0, 1, 1, 2, 2], [0, 1, 1, 3, 3], [0, 1, 1, 4, 4], [0, 1, 1, 5, 5], [0, 1, 1, 6, 6], [0, 2, 2, 0, 0], [0, 2, 2, 1, 1], [0, 2, 2, 2, 2], [0, 2, 2, 3, 3], [0, 2, 2, 4, 4], [0, 2, 2, 5, 5], [0, 2, 2, 6, 6], [0, 3, 3, 0, 0], [0, 3, 3, 1, 1], [0, 3, 3, 2, 2], [0, 3, 3, 3, 3], [0, 3, 3, 4, 4], [0, 3, 3, 5, 5], [0, 3, 3, 6, 6], [0, 4, 4, 0, 0], [0, 4, 4, 1, 1], [0, 4, 4, 2, 2], [0, 4, 4, 3, 3], [0, 4, 4, 4, 4], [0, 4, 4, 5, 5], [0, 4, 4, 6, 6], [0, 5, 5, 0, 0], [0, 5, 5, 1, 1], [0, 5, 5, 2, 2], [0, 5, 5, 3, 3], [0, 5, 5, 4, 4], [0, 5, 5, 5, 5], [0, 5, 5, 6, 6], [0, 6, 6, 0, 0], [0, 6, 6, 1, 1], [0, 6, 6, 2, 2], [0, 6, 6, 3, 3], [0, 6, 6, 4, 4], [0, 6, 6, 5, 5], [0, 6, 6, 6, 6]]], ['+-', [[0, 0, 0], [0, 1, 1], [0, 2, 2], [0, 3, 3], [0, 4, 4], [0, 5, 5], [0, 6, 6], [0, 7, 7]]], ['+-+-', [[0, 0, 0, 0, 0], [0, 0, 0, 1, 1], [0, 0, 0, 2, 2], [0, 0, 0, 3, 3], [0, 0, 0, 4, 4], [0, 0, 0, 5, 5], [0, 0, 0, 6, 6], [0, 0, 0, 7, 7], [0, 1, 1, 0, 0], [0, 1, 1, 1, 1], [0, 1, 1, 2, 2], [0, 1, 1, 3, 3], [0, 1, 1, 4, 4], [0, 1, 1, 5, 5], [0, 1, 1, 6, 6], [0, 1, 1, 7, 7], [0, 2, 2, 0, 0], [0, 2, 2, 1, 1], [0, 2, 2, 2, 2], [0, 2, 2, 3, 3], [0, 2, 2, 4, 4], [0, 2, 2, 5, 5], [0, 2, 2, 6, 6], [0, 2, 2, 7, 7], [0, 3, 3, 0, 0], [0, 3, 3, 1, 1], [0, 3, 3, 2, 2], [0, 3, 3, 3, 3], [0, 3, 3, 4, 4], [0, 3, 3, 5, 5], [0, 3, 3, 6, 6], [0, 3, 3, 7, 7], [0, 4, 4, 0, 0], [0, 4, 4, 1, 1], [0, 4, 4, 2, 2], [0, 4, 4, 3, 3], [0, 4, 4, 4, 4], [0, 4, 4, 5, 5], [0, 4, 4, 6, 6], [0, 4, 4, 7, 7], [0, 5, 5, 0, 0], [0, 5, 5, 1, 1], [0, 5, 5, 2, 2], [0, 5, 5, 3, 3], [0, 5, 5, 4, 4], [0, 5, 5, 5, 5], [0, 5, 5, 6, 6], [0, 5, 5, 7, 7], [0, 6, 6, 0, 0], [0, 6, 6, 1, 1], [0, 6, 6, 2, 2], [0, 6, 6, 3, 3], [0, 6, 6, 4, 4], [0, 6, 6, 5, 5], [0, 6, 6, 6, 6], [0, 6, 6, 7, 7], [0, 7, 7, 0, 0], [0, 7, 7, 1, 1], [0, 7, 7, 2, 2], [0, 7, 7, 3, 3], [0, 7, 7, 4, 4], [0, 7, 7, 5, 5], [0, 7, 7, 6, 6], [0, 7, 7, 7, 7]]]]\n",
      "----------------------------------------------------------------------------------------------------\n",
      "Hermiticity check passed!\n",
      "Symmetry checks passed!\n",
      "Particle conservation check passed!\n"
     ]
    },
    {
     "data": {
      "image/png": "[encoded data removed]",
      "text/plain": [
       "<Figure size 720x576 with 1 Axes>"
      ]
     },
     "metadata": {
      "needs_background": "light"
     },
     "output_type": "display_data"
    }
   ],
   "source": [
    "spin_basis = spin_basis_1d(N, pauli=-1, Nup=N_filled)\n",
    "static_terms = []\n",
    "dynamic_terms = []\n",
    "\n",
    "### Hopping term\n",
    "L = (N if PBC else N-1)\n",
    "hop_coupling = [[-t, i, (i+1) % N] for i in range(L)]\n",
    "hop_coupling_dag = [[-t, (i+1) % N, i] for i in range(L)]\n",
    "if PBC and N_filled % 2 == 0:\n",
    "    hop_coupling[-1][0] = -hop_coupling[-1][0]\n",
    "    hop_coupling_dag[-1][0] = -hop_coupling_dag[-1][0]\n",
    "static_terms += [[\"+-\", hop_coupling]]\n",
    "static_terms += [[\"+-\", hop_coupling_dag]]\n",
    "\n",
    "### Mass term\n",
    "mass_coupling = [[m * (-1) ** i, i, i] for i in range(N)]\n",
    "static_terms += [[\"+-\", mass_coupling]]\n",
    "\n",
    "### E-field term\n",
    "def E_squared(n):\n",
    "    E_const = E_neg1 + (n + 1) // 2\n",
    "    s_coupling = []\n",
    "    d_coupling = []\n",
    "    for i in range(n + 1):\n",
    "        s_coeff = 2 * E_const * -g\n",
    "        s_coupling += [[s_coeff, i, i]]\n",
    "        for j in range(n + 1):\n",
    "            d_coeff = -g\n",
    "            d_coupling += [[d_coeff, i, i, j, j]]\n",
    "    return [[\"+-\", s_coupling], [\"+-+-\", d_coupling]]\n",
    "for i in range(N):\n",
    "    static_terms += E_squared(i)\n",
    "\n",
    "print(stringbox(static_terms, \"Static couplings:\"))\n",
    "### Plotting spectrum\n",
    "H = hamiltonian(static_terms, dynamic_terms, basis=spin_basis, dtype=np.complex64)\n",
    "spin_eigvals = H.eigvalsh()\n",
    "plt.plot(spin_eigvals, \".\")\n",
    "plt.show()"
   ]
  },
  {
   "cell_type": "code",
   "execution_count": 5,
   "metadata": {},
   "outputs": [
    {
     "name": "stdout",
     "output_type": "stream",
     "text": [
      "Hermiticity check passed!\n",
      "Symmetry checks passed!\n",
      "Particle conservation check passed!\n"
     ]
    }
   ],
   "source": [
    "# This is used later in real time dynamics, so keep a copy\n",
    "H_init = hamiltonian(static_terms, dynamic_terms, basis=spin_basis, dtype=np.complex64)"
   ]
  },
  {
   "cell_type": "markdown",
   "metadata": {},
   "source": [
    "## Fermion Basis"
   ]
  },
  {
   "cell_type": "code",
   "execution_count": 6,
   "metadata": {},
   "outputs": [
    {
     "name": "stdout",
     "output_type": "stream",
     "text": [
      "Static couplings:-----------------------------------------------------------------------------------\n",
      "[['+-', [[0.5, 0, 1], [0.5, 1, 2], [0.5, 2, 3], [0.5, 3, 4], [0.5, 4, 5], [0.5, 5, 6], [0.5, 6, 7], [0.5, 7, 0]]], ['+-', [[0.5, 1, 0], [0.5, 2, 1], [0.5, 3, 2], [0.5, 4, 3], [0.5, 5, 4], [0.5, 6, 5], [0.5, 7, 6], [0.5, 0, 7]]], ['+-', [[-0.8, 0, 0], [0.8, 1, 1], [-0.8, 2, 2], [0.8, 3, 3], [-0.8, 4, 4], [0.8, 5, 5], [-0.8, 6, 6], [0.8, 7, 7]]], ['+-', [[0, 0, 0]]], ['+-+-', [[0, 0, 0, 0, 0]]], ['+-', [[0, 0, 0], [0, 1, 1]]], ['+-+-', [[0, 0, 0, 0, 0], [0, 0, 0, 1, 1], [0, 1, 1, 0, 0], [0, 1, 1, 1, 1]]], ['+-', [[0, 0, 0], [0, 1, 1], [0, 2, 2]]], ['+-+-', [[0, 0, 0, 0, 0], [0, 0, 0, 1, 1], [0, 0, 0, 2, 2], [0, 1, 1, 0, 0], [0, 1, 1, 1, 1], [0, 1, 1, 2, 2], [0, 2, 2, 0, 0], [0, 2, 2, 1, 1], [0, 2, 2, 2, 2]]], ['+-', [[0, 0, 0], [0, 1, 1], [0, 2, 2], [0, 3, 3]]], ['+-+-', [[0, 0, 0, 0, 0], [0, 0, 0, 1, 1], [0, 0, 0, 2, 2], [0, 0, 0, 3, 3], [0, 1, 1, 0, 0], [0, 1, 1, 1, 1], [0, 1, 1, 2, 2], [0, 1, 1, 3, 3], [0, 2, 2, 0, 0], [0, 2, 2, 1, 1], [0, 2, 2, 2, 2], [0, 2, 2, 3, 3], [0, 3, 3, 0, 0], [0, 3, 3, 1, 1], [0, 3, 3, 2, 2], [0, 3, 3, 3, 3]]], ['+-', [[0, 0, 0], [0, 1, 1], [0, 2, 2], [0, 3, 3], [0, 4, 4]]], ['+-+-', [[0, 0, 0, 0, 0], [0, 0, 0, 1, 1], [0, 0, 0, 2, 2], [0, 0, 0, 3, 3], [0, 0, 0, 4, 4], [0, 1, 1, 0, 0], [0, 1, 1, 1, 1], [0, 1, 1, 2, 2], [0, 1, 1, 3, 3], [0, 1, 1, 4, 4], [0, 2, 2, 0, 0], [0, 2, 2, 1, 1], [0, 2, 2, 2, 2], [0, 2, 2, 3, 3], [0, 2, 2, 4, 4], [0, 3, 3, 0, 0], [0, 3, 3, 1, 1], [0, 3, 3, 2, 2], [0, 3, 3, 3, 3], [0, 3, 3, 4, 4], [0, 4, 4, 0, 0], [0, 4, 4, 1, 1], [0, 4, 4, 2, 2], [0, 4, 4, 3, 3], [0, 4, 4, 4, 4]]], ['+-', [[0, 0, 0], [0, 1, 1], [0, 2, 2], [0, 3, 3], [0, 4, 4], [0, 5, 5]]], ['+-+-', [[0, 0, 0, 0, 0], [0, 0, 0, 1, 1], [0, 0, 0, 2, 2], [0, 0, 0, 3, 3], [0, 0, 0, 4, 4], [0, 0, 0, 5, 5], [0, 1, 1, 0, 0], [0, 1, 1, 1, 1], [0, 1, 1, 2, 2], [0, 1, 1, 3, 3], [0, 1, 1, 4, 4], [0, 1, 1, 5, 5], [0, 2, 2, 0, 0], [0, 2, 2, 1, 1], [0, 2, 2, 2, 2], [0, 2, 2, 3, 3], [0, 2, 2, 4, 4], [0, 2, 2, 5, 5], [0, 3, 3, 0, 0], [0, 3, 3, 1, 1], [0, 3, 3, 2, 2], [0, 3, 3, 3, 3], [0, 3, 3, 4, 4], [0, 3, 3, 5, 5], [0, 4, 4, 0, 0], [0, 4, 4, 1, 1], [0, 4, 4, 2, 2], [0, 4, 4, 3, 3], [0, 4, 4, 4, 4], [0, 4, 4, 5, 5], [0, 5, 5, 0, 0], [0, 5, 5, 1, 1], [0, 5, 5, 2, 2], [0, 5, 5, 3, 3], [0, 5, 5, 4, 4], [0, 5, 5, 5, 5]]], ['+-', [[0, 0, 0], [0, 1, 1], [0, 2, 2], [0, 3, 3], [0, 4, 4], [0, 5, 5], [0, 6, 6]]], ['+-+-', [[0, 0, 0, 0, 0], [0, 0, 0, 1, 1], [0, 0, 0, 2, 2], [0, 0, 0, 3, 3], [0, 0, 0, 4, 4], [0, 0, 0, 5, 5], [0, 0, 0, 6, 6], [0, 1, 1, 0, 0], [0, 1, 1, 1, 1], [0, 1, 1, 2, 2], [0, 1, 1, 3, 3], [0, 1, 1, 4, 4], [0, 1, 1, 5, 5], [0, 1, 1, 6, 6], [0, 2, 2, 0, 0], [0, 2, 2, 1, 1], [0, 2, 2, 2, 2], [0, 2, 2, 3, 3], [0, 2, 2, 4, 4], [0, 2, 2, 5, 5], [0, 2, 2, 6, 6], [0, 3, 3, 0, 0], [0, 3, 3, 1, 1], [0, 3, 3, 2, 2], [0, 3, 3, 3, 3], [0, 3, 3, 4, 4], [0, 3, 3, 5, 5], [0, 3, 3, 6, 6], [0, 4, 4, 0, 0], [0, 4, 4, 1, 1], [0, 4, 4, 2, 2], [0, 4, 4, 3, 3], [0, 4, 4, 4, 4], [0, 4, 4, 5, 5], [0, 4, 4, 6, 6], [0, 5, 5, 0, 0], [0, 5, 5, 1, 1], [0, 5, 5, 2, 2], [0, 5, 5, 3, 3], [0, 5, 5, 4, 4], [0, 5, 5, 5, 5], [0, 5, 5, 6, 6], [0, 6, 6, 0, 0], [0, 6, 6, 1, 1], [0, 6, 6, 2, 2], [0, 6, 6, 3, 3], [0, 6, 6, 4, 4], [0, 6, 6, 5, 5], [0, 6, 6, 6, 6]]], ['+-', [[0, 0, 0], [0, 1, 1], [0, 2, 2], [0, 3, 3], [0, 4, 4], [0, 5, 5], [0, 6, 6], [0, 7, 7]]], ['+-+-', [[0, 0, 0, 0, 0], [0, 0, 0, 1, 1], [0, 0, 0, 2, 2], [0, 0, 0, 3, 3], [0, 0, 0, 4, 4], [0, 0, 0, 5, 5], [0, 0, 0, 6, 6], [0, 0, 0, 7, 7], [0, 1, 1, 0, 0], [0, 1, 1, 1, 1], [0, 1, 1, 2, 2], [0, 1, 1, 3, 3], [0, 1, 1, 4, 4], [0, 1, 1, 5, 5], [0, 1, 1, 6, 6], [0, 1, 1, 7, 7], [0, 2, 2, 0, 0], [0, 2, 2, 1, 1], [0, 2, 2, 2, 2], [0, 2, 2, 3, 3], [0, 2, 2, 4, 4], [0, 2, 2, 5, 5], [0, 2, 2, 6, 6], [0, 2, 2, 7, 7], [0, 3, 3, 0, 0], [0, 3, 3, 1, 1], [0, 3, 3, 2, 2], [0, 3, 3, 3, 3], [0, 3, 3, 4, 4], [0, 3, 3, 5, 5], [0, 3, 3, 6, 6], [0, 3, 3, 7, 7], [0, 4, 4, 0, 0], [0, 4, 4, 1, 1], [0, 4, 4, 2, 2], [0, 4, 4, 3, 3], [0, 4, 4, 4, 4], [0, 4, 4, 5, 5], [0, 4, 4, 6, 6], [0, 4, 4, 7, 7], [0, 5, 5, 0, 0], [0, 5, 5, 1, 1], [0, 5, 5, 2, 2], [0, 5, 5, 3, 3], [0, 5, 5, 4, 4], [0, 5, 5, 5, 5], [0, 5, 5, 6, 6], [0, 5, 5, 7, 7], [0, 6, 6, 0, 0], [0, 6, 6, 1, 1], [0, 6, 6, 2, 2], [0, 6, 6, 3, 3], [0, 6, 6, 4, 4], [0, 6, 6, 5, 5], [0, 6, 6, 6, 6], [0, 6, 6, 7, 7], [0, 7, 7, 0, 0], [0, 7, 7, 1, 1], [0, 7, 7, 2, 2], [0, 7, 7, 3, 3], [0, 7, 7, 4, 4], [0, 7, 7, 5, 5], [0, 7, 7, 6, 6], [0, 7, 7, 7, 7]]]]\n",
      "----------------------------------------------------------------------------------------------------\n",
      "Hermiticity check passed!\n",
      "Symmetry checks passed!\n",
      "Particle conservation check passed!\n"
     ]
    },
    {
     "data": {
      "image/png": "[encoded data removed]",
      "text/plain": [
       "<Figure size 720x576 with 1 Axes>"
      ]
     },
     "metadata": {
      "needs_background": "light"
     },
     "output_type": "display_data"
    }
   ],
   "source": [
    "fermion_basis = spinless_fermion_basis_1d(L=N, Nf=N_filled)\n",
    "fermion_basis_m1 = spinless_fermion_basis_1d(L=N, Nf=N_filled-1)\n",
    "basis_full = spinless_fermion_basis_1d(L=N)\n",
    "static_terms = []\n",
    "dynamic_terms = []\n",
    "\n",
    "### Hopping term\n",
    "L = (N if PBC else N-1)\n",
    "hop_coupling = [[-t, i, (i+1) % N] for i in range(L)]\n",
    "hop_coupling_dag = [[-t, (i+1) % N, i] for i in range(L)]\n",
    "static_terms += [[\"+-\", hop_coupling]]\n",
    "static_terms += [[\"+-\", hop_coupling_dag]]\n",
    "\n",
    "### Mass term\n",
    "mass_coupling = [[m * (-1) ** i, i, i] for i in range(N)]\n",
    "static_terms += [[\"+-\", mass_coupling]]\n",
    "\n",
    "### E-field term\n",
    "# E_link_parity = lambda x : -1 if (x % 4) < 2 else 1\n",
    "# for i in range(N):\n",
    "#     E_coupling = [P_neg1 * -g * E_link_parity(i) * 2 ** (i+1)] + list(range(i+1))\n",
    "#     static_terms += [[\"z\" * (i+1), [E_coupling]]]\n",
    "def E_squared(n):\n",
    "    E_const = E_neg1 + (n + 1) // 2\n",
    "    s_coupling = []\n",
    "    d_coupling = []\n",
    "    for i in range(n + 1):\n",
    "        s_coeff = 2 * E_const * -g\n",
    "        s_coupling += [[s_coeff, i, i]]\n",
    "        for j in range(n + 1):\n",
    "            d_coeff = -g\n",
    "            d_coupling += [[d_coeff, i, i, j, j]]\n",
    "    return [[\"+-\", s_coupling], [\"+-+-\", d_coupling]]\n",
    "for i in range(N):\n",
    "    static_terms += E_squared(i)\n",
    "\n",
    "print(stringbox(static_terms, \"Static couplings:\"))\n",
    "### Plotting spectrum\n",
    "H = hamiltonian(static_terms, dynamic_terms, basis=fermion_basis, dtype=np.float64)\n",
    "fermion_eigvals = H.eigvalsh()\n",
    "plt.plot(fermion_eigvals, \".\")\n",
    "plt.show()"
   ]
  },
  {
   "cell_type": "markdown",
   "metadata": {},
   "source": [
    "## Comparison"
   ]
  },
  {
   "cell_type": "code",
   "execution_count": 7,
   "metadata": {
    "scrolled": true
   },
   "outputs": [
    {
     "name": "stdout",
     "output_type": "stream",
     "text": [
      "Fermion eigenvalues:--------------------------------------------------------------------------------\n",
      "[-4.21604050e+00 -2.61604050e+00 -2.34833267e+00 -2.34833267e+00\n",
      " -2.34833267e+00 -2.34833267e+00 -2.13541565e+00 -2.13541565e+00\n",
      " -2.08062485e+00 -2.08062485e+00 -2.08062485e+00 -2.08062485e+00\n",
      " -1.86770783e+00 -1.86770783e+00 -1.86770783e+00 -1.86770783e+00\n",
      " -1.65479080e+00 -4.80624847e-01 -4.80624847e-01 -4.80624847e-01\n",
      " -4.80624847e-01 -2.67707825e-01 -2.67707825e-01 -2.67707825e-01\n",
      " -2.67707825e-01 -2.12917022e-01 -2.12917022e-01 -2.12917022e-01\n",
      " -2.12917022e-01 -5.47908029e-02 -4.69993033e-16 -3.66135403e-16\n",
      " -2.23911207e-16 -1.75503006e-16 -1.19633166e-17  1.43818955e-16\n",
      "  2.22997232e-16  2.49233906e-16  4.24994382e-16  6.17496080e-16\n",
      "  5.47908029e-02  2.12917022e-01  2.12917022e-01  2.12917022e-01\n",
      "  2.12917022e-01  2.67707825e-01  2.67707825e-01  2.67707825e-01\n",
      "  2.67707825e-01  4.80624847e-01  4.80624847e-01  4.80624847e-01\n",
      "  4.80624847e-01  1.65479080e+00  1.86770783e+00  1.86770783e+00\n",
      "  1.86770783e+00  1.86770783e+00  2.08062485e+00  2.08062485e+00\n",
      "  2.08062485e+00  2.08062485e+00  2.13541565e+00  2.13541565e+00\n",
      "  2.34833267e+00  2.34833267e+00  2.34833267e+00  2.34833267e+00\n",
      "  2.61604050e+00  4.21604050e+00]\n",
      "----------------------------------------------------------------------------------------------------\n",
      "Spin eigenvalues:-----------------------------------------------------------------------------------\n",
      "[-4.21604013e+00 -2.61603928e+00 -2.34833431e+00 -2.34833360e+00\n",
      " -2.34833264e+00 -2.34833241e+00 -2.13541579e+00 -2.13541460e+00\n",
      " -2.08062553e+00 -2.08062363e+00 -2.08062363e+00 -2.08062315e+00\n",
      " -1.86770904e+00 -1.86770821e+00 -1.86770785e+00 -1.86770606e+00\n",
      " -1.65479040e+00 -4.80625302e-01 -4.80624855e-01 -4.80624676e-01\n",
      " -4.80624378e-01 -2.67708123e-01 -2.67707855e-01 -2.67707855e-01\n",
      " -2.67707825e-01 -2.12917313e-01 -2.12917134e-01 -2.12917015e-01\n",
      " -2.12916881e-01 -5.47907911e-02 -2.78983549e-07 -1.95130724e-07\n",
      " -1.10653829e-07 -6.04827477e-08 -3.45104780e-08  1.06682059e-08\n",
      "  8.78466153e-08  9.75127890e-08  1.17432116e-07  3.40890750e-07\n",
      "  5.47909923e-02  2.12917045e-01  2.12917179e-01  2.12917238e-01\n",
      "  2.12917313e-01  2.67707616e-01  2.67707825e-01  2.67707974e-01\n",
      "  2.67708093e-01  4.80624288e-01  4.80624735e-01  4.80624825e-01\n",
      "  4.80625093e-01  1.65479076e+00  1.86770630e+00  1.86770785e+00\n",
      "  1.86770809e+00  1.86770821e+00  2.08062363e+00  2.08062458e+00\n",
      "  2.08062482e+00  2.08062506e+00  2.13541532e+00  2.13541579e+00\n",
      "  2.34833241e+00  2.34833264e+00  2.34833288e+00  2.34833479e+00\n",
      "  2.61603999e+00  4.21603918e+00]\n",
      "----------------------------------------------------------------------------------------------------\n",
      "Maximum difference between eigenvalues: 2.1165864221295294e-06\n"
     ]
    }
   ],
   "source": [
    "mdiff = max(abs(fermion_eigvals - spin_eigvals))\n",
    "print(stringbox(fermion_eigvals, \"Fermion eigenvalues:\"))\n",
    "print(stringbox(spin_eigvals, \"Spin eigenvalues:\"))\n",
    "print(\"Maximum difference between eigenvalues:\", mdiff)"
   ]
  },
  {
   "cell_type": "markdown",
   "metadata": {},
   "source": [
    "## Real-time Dynamics"
   ]
  },
  {
   "cell_type": "code",
   "execution_count": 8,
   "metadata": {},
   "outputs": [
    {
     "name": "stdout",
     "output_type": "stream",
     "text": [
      "Hermiticity check passed!\n",
      "Symmetry checks passed!\n",
      "Particle conservation check passed!\n"
     ]
    }
   ],
   "source": [
    "### Defining time-evolution hamiltonian\n",
    "spin_basis = spin_basis_1d(N, pauli=-1, Nup=N_filled)\n",
    "static_terms = []\n",
    "dynamic_terms = []\n",
    "\n",
    "### Hopping term\n",
    "L = (N if PBC else N-1)\n",
    "hop_coupling = [[-t, i, (i+1) % N] for i in range(L)]\n",
    "hop_coupling_dag = [[-t, (i+1) % N, i] for i in range(L)]\n",
    "if PBC and N_filled % 2 == 0:\n",
    "    hop_coupling[-1][0] = -hop_coupling[-1][0]\n",
    "    hop_coupling_dag[-1][0] = -hop_coupling_dag[-1][0]\n",
    "static_terms += [[\"+-\", hop_coupling]]\n",
    "static_terms += [[\"+-\", hop_coupling_dag]]\n",
    "\n",
    "### Mass term\n",
    "mass_coupling = [[-m * (-1) ** i, i, i] for i in range(N)]\n",
    "static_terms += [[\"+-\", mass_coupling]]\n",
    "\n",
    "### E-field term\n",
    "for i in range(N):\n",
    "    static_terms += E_squared(i)\n",
    "\n",
    "H = hamiltonian(static_terms, dynamic_terms, basis=spin_basis, dtype=np.complex64)"
   ]
  },
  {
   "cell_type": "code",
   "execution_count": 9,
   "metadata": {},
   "outputs": [
    {
     "name": "stdout",
     "output_type": "stream",
     "text": [
      "static mat: \n",
      "  (0, 1)\t(0.5+0j)\n",
      "  (0, 38)\t(-0.5+0j)\n",
      "  (1, 0)\t(0.5+0j)\n",
      "  (1, 1)\t(1.6+0j)\n",
      "  (1, 2)\t(0.5+0j)\n",
      "  (1, 5)\t(0.5+0j)\n",
      "  (1, 41)\t(-0.5+0j)\n",
      "  (2, 1)\t(0.5+0j)\n",
      "  (2, 3)\t(0.5+0j)\n",
      "  (2, 6)\t(0.5+0j)\n",
      "  (2, 43)\t(-0.5+0j)\n",
      "  (3, 2)\t(0.5+0j)\n",
      "  (3, 3)\t(1.6+0j)\n",
      "  (3, 4)\t(0.5+0j)\n",
      "  (3, 7)\t(0.5+0j)\n",
      "  (3, 44)\t(-0.5+0j)\n",
      "  (4, 3)\t(0.5+0j)\n",
      "  (4, 8)\t(0.5+0j)\n",
      "  (5, 1)\t(0.5+0j)\n",
      "  (5, 6)\t(0.5+0j)\n",
      "  (5, 15)\t(0.5+0j)\n",
      "  (5, 47)\t(-0.5+0j)\n",
      "  (6, 2)\t(0.5+0j)\n",
      "  (6, 5)\t(0.5+0j)\n",
      "  (6, 6)\t(-1.6+0j)\n",
      "  :\t:\n",
      "  (63, 63)\t(1.6000001+0j)\n",
      "  (63, 64)\t(0.5+0j)\n",
      "  (63, 67)\t(0.5+0j)\n",
      "  (64, 22)\t(-0.5+0j)\n",
      "  (64, 54)\t(0.5+0j)\n",
      "  (64, 63)\t(0.5+0j)\n",
      "  (64, 68)\t(0.5+0j)\n",
      "  (65, 61)\t(0.5+0j)\n",
      "  (65, 66)\t(0.5+0j)\n",
      "  (66, 25)\t(-0.5+0j)\n",
      "  (66, 62)\t(0.5+0j)\n",
      "  (66, 65)\t(0.5+0j)\n",
      "  (66, 66)\t(-1.6+0j)\n",
      "  (66, 67)\t(0.5+0j)\n",
      "  (67, 26)\t(-0.5+0j)\n",
      "  (67, 63)\t(0.5+0j)\n",
      "  (67, 66)\t(0.5+0j)\n",
      "  (67, 68)\t(0.5+0j)\n",
      "  (68, 28)\t(-0.5+0j)\n",
      "  (68, 64)\t(0.5+0j)\n",
      "  (68, 67)\t(0.5+0j)\n",
      "  (68, 68)\t(-1.6+0j)\n",
      "  (68, 69)\t(0.5+0j)\n",
      "  (69, 31)\t(-0.5+0j)\n",
      "  (69, 68)\t(0.5+0j)\n",
      "\n",
      "\n",
      "dynamic:\n",
      "\n"
     ]
    }
   ],
   "source": [
    "print(H)"
   ]
  },
  {
   "cell_type": "code",
   "execution_count": 10,
   "metadata": {},
   "outputs": [],
   "source": [
    "E_init,V_init=H_init.eigsh(k=1,which='SA',maxiter=1e8)\n",
    "psi_i = V_init[:,0]\n",
    "psi_i = psi_i.reshape((-1,))\n",
    "del H_init"
   ]
  },
  {
   "cell_type": "code",
   "execution_count": 11,
   "metadata": {},
   "outputs": [
    {
     "name": "stdout",
     "output_type": "stream",
     "text": [
      "# T =  0.0\n",
      "0.0\t -3.682563780475481e-08\n",
      "0.1\t 0.002383923308991128\n",
      "0.2\t 0.009594633125442424\n",
      "# T =  0.30000000000000004\n",
      "0.30000000000000004\t 0.021814169468409042\n",
      "0.4\t 0.03936563325336605\n",
      "0.5\t 0.06274635142018224\n",
      "# T =  0.6000000000000001\n",
      "0.6000000000000001\t 0.09268247158087854\n",
      "0.7000000000000001\t 0.130213589308738\n",
      "0.8\t 0.17681317955673512\n",
      "# T =  0.9\n",
      "0.9\t 0.23451014643883494\n",
      "1.0\t 0.3057241019598238\n",
      "1.1\t 0.39123384351750273\n",
      "# T =  1.2000000000000002\n",
      "1.2000000000000002\t 0.4818728733951736\n",
      "1.3\t 0.5600722623058744\n",
      "1.4000000000000001\t 0.631875565335944\n",
      "# T =  1.5\n",
      "1.5\t 0.631260670161756\n",
      "1.6\t 0.510878493000626\n",
      "1.7000000000000002\t 0.39200324303010947\n",
      "# T =  1.8\n",
      "1.8\t 0.2999779406843989\n",
      "1.9000000000000001\t 0.22879914225460257\n",
      "2.0\t 0.172783618311502\n",
      "# T =  2.1\n",
      "2.1\t 0.12826144983388887\n",
      "2.2\t 0.0928891819264745\n",
      "2.3000000000000003\t 0.06513247341093288\n",
      "# T =  2.4000000000000004\n",
      "2.4000000000000004\t 0.043967612971935716\n",
      "2.5\t 0.028712089608915494\n",
      "2.6\t 0.018927424487052626\n",
      "# T =  2.7\n",
      "2.7\t 0.014364306265790936\n",
      "2.8000000000000003\t 0.014934838496756928\n",
      "2.9000000000000004\t 0.020704787204909324\n"
     ]
    }
   ],
   "source": [
    "T = 3#g ** (-1)\n",
    "dt = T / 30\n",
    "\n",
    "##### define data type for the simulation\n",
    "dtype_real = np.float64\n",
    "dtype_cmplx = np.result_type(dtype_real,np.complex64)\n",
    "# pre assign arrays\n",
    "times = np.arange(0,T,dt)                               # times\n",
    "Lt = np.zeros(len(times),dtype=dtype_real)              # Lohschmidt echo\n",
    "# construct piece-wise constant unitaries\n",
    "expH = expm_multiply_parallel(H.tocsr(),a=-1j*dt,dtype=dtype_cmplx)\n",
    "# auxiliary array for memory efficiency\n",
    "psi=psi_i.copy().astype(np.complex128)\n",
    "work_array=np.zeros((2*len(psi),), dtype=psi.dtype) # twice as long because complex_valued\n",
    "# prepare output\n",
    "loschmidt = []\n",
    "for i in range(len(times)):\n",
    "    if i % (len(times)//10) == 0:\n",
    "        print(\"# T = \",times[i])\n",
    "    Lt[i]=-np.log(np.abs(np.vdot(psi_i,psi)))/N\n",
    "    print(f\"{times[i]}\\t {Lt[i]}\")\n",
    "    loschmidt += [Lt[i]]\n",
    "    expH.dot(psi,work_array=work_array,overwrite_v=True)\n",
    "# END of time evolution"
   ]
  },
  {
   "cell_type": "code",
   "execution_count": 12,
   "metadata": {},
   "outputs": [
    {
     "data": {
      "image/png": "[encoded data removed]",
      "text/plain": [
       "<Figure size 720x576 with 1 Axes>"
      ]
     },
     "metadata": {
      "needs_background": "light"
     },
     "output_type": "display_data"
    }
   ],
   "source": [
    "plt.plot(times, loschmidt)\n",
    "other_lo = np.array([5.551115123125783935e-17,\n",
    "2.383960624939180772e-03,\n",
    "9.594671966069567154e-03,\n",
    "2.181421104303998826e-02,\n",
    "3.936567911556990845e-02,\n",
    "6.274640374652884489e-02,\n",
    "9.268253369496309846e-02,\n",
    "1.302136668009789278e-01,\n",
    "1.768132830506458364e-01,\n",
    "2.345102997029978042e-01,\n",
    "3.057243705082459684e-01,\n",
    "3.912344459831388344e-01,\n",
    "4.818744580195983840e-01,\n",
    "5.600755226031685075e-01,\n",
    "6.318780378552437682e-01,\n",
    "6.312543411204991628e-01,\n",
    "5.108766920734136852e-01,\n",
    "3.920030579428742112e-01,\n",
    "2.999780090385165132e-01,\n",
    "2.287992403759356308e-01,\n",
    "1.727837081739250213e-01,\n",
    "1.282615266840427259e-01,\n",
    "9.288924730312264622e-02,\n",
    "6.513252968768533380e-02,\n",
    "4.396766225437569869e-02,\n",
    "2.871213359977805094e-02,\n",
    "1.892746456180881276e-02,\n",
    "1.436434358204656189e-02,\n",
    "1.493487410384876195e-02,\n",
    "2.070482216075825513e-02\n",
    "])\n",
    "#plt.plot(times, other_lo)\n",
    "plt.show()"
   ]
  },
  {
   "cell_type": "markdown",
   "metadata": {},
   "source": [
    "## Correlator calculation"
   ]
  },
  {
   "cell_type": "code",
   "execution_count": 13,
   "metadata": {},
   "outputs": [],
   "source": [
    "def c_operator(n):\n",
    "    cdag_static = [[\"-\",[[1.0,n]]]]\n",
    "    cdagn = quantum_LinearOperator(cdag_static,basis=basis_full,dtype=np.complex128,check_herm=False,check_pcon=False,check_symm=False)\n",
    "    return(cdagn)\n",
    "annihilators = [c_operator(n) for n in range(N)]"
   ]
  },
  {
   "cell_type": "code",
   "execution_count": 14,
   "metadata": {},
   "outputs": [
    {
     "name": "stdout",
     "output_type": "stream",
     "text": [
      "Hermiticity check passed!\n",
      "Symmetry checks passed!\n",
      "Particle conservation check passed!\n"
     ]
    }
   ],
   "source": [
    "##### define data type for the simulation\n",
    "dtype_real = np.float64\n",
    "dtype_cmplx = np.result_type(dtype_real,np.complex64)\n",
    "# pre assign arrays\n",
    "times = np.arange(0,T,dt)                               # times\n",
    "H = hamiltonian(static_terms, dynamic_terms, basis=fermion_basis, dtype=np.float64)\n",
    "\n",
    "# array to store correlators expectations from psi(t,n) to psi(0,0)\n",
    "correlators = np.zeros((N,len(times)),dtype=np.complex128)\n",
    "\n",
    "P_Nhalf = fermion_basis.get_proj(dtype=np.float64)\n",
    "P_Nhalfminus1 = fermion_basis_m1.get_proj(dtype=np.float64)\n",
    "\n",
    "for n in range(0, N, 2): #loop over all site pairings\n",
    "    for i in range(len(times)): #loop over times (for annhilator location)\n",
    "        # Even Correlators\n",
    "        leftPsi=psi_i.copy().astype(np.complex128) #state for left-half of inner product\n",
    "        rightPsi=psi_i.copy().astype(np.complex128) #state for right-half\n",
    "\n",
    "        expmiH = expm_multiply_parallel((np.transpose(P_Nhalfminus1).dot(P_Nhalf.dot(H.tocsr().dot(np.transpose(P_Nhalf)))).dot(P_Nhalfminus1)),a=-1j*dt*i,dtype=dtype_cmplx)\n",
    "        expiH = expm_multiply_parallel(H.tocsr(),a=1j*dt*i,dtype=dtype_cmplx)\n",
    "\n",
    "        expiH.dot(leftPsi,overwrite_v=True) \n",
    "        tempLpsi = np.transpose(P_Nhalfminus1).dot(annihilators[n].dot(P_Nhalf.dot(leftPsi)))\n",
    "        expmiH.dot(tempLpsi,overwrite_v=True)\n",
    "\n",
    "        tempRpsi = np.transpose(P_Nhalfminus1).dot(annihilators[0].dot(P_Nhalf.dot(rightPsi)))\n",
    "\n",
    "        correlators[n,i] = np.vdot(tempLpsi, tempRpsi) # (<a|b>) <0| . e^(-iHt) . psi\\dagger_n . e^(iHt) . psi(0,0) . |0>\n",
    "        \n",
    "        # Odd Correlators\n",
    "        leftPsi=psi_i.copy().astype(np.complex128) #state for left-half of inner product\n",
    "        rightPsi=psi_i.copy().astype(np.complex128) #state for right-half\n",
    "\n",
    "        expiH.dot(leftPsi,overwrite_v=True) \n",
    "        tempLpsi = np.transpose(P_Nhalfminus1).dot(annihilators[n+1].dot(P_Nhalf.dot(leftPsi)))\n",
    "        expmiH.dot(tempLpsi,overwrite_v=True)\n",
    "\n",
    "        tempRpsi = np.transpose(P_Nhalfminus1).dot(annihilators[1].dot(P_Nhalf.dot(rightPsi)))\n",
    "\n",
    "        correlators[n+1,i] = np.vdot(tempLpsi, tempRpsi) # (<a|b>) <0| . e^(-iHt) . psi\\dagger_n . e^(iHt) . psi(0,0) . |0>\n",
    "    \n",
    "# correlators = correlators#/(len(times)/dt) # Averaging over N so that it is actually an expectation value\n",
    "# END of time evolution"
   ]
  },
  {
   "cell_type": "code",
   "execution_count": 15,
   "metadata": {},
   "outputs": [
    {
     "name": "stdout",
     "output_type": "stream",
     "text": [
      "[ 0.89040425+0.00000000e+00j  0.10959601+0.00000000e+00j\n",
      " -0.04691315+1.38792023e-09j  0.04691311+4.16168272e-09j\n",
      "  0.01576973+1.56996020e-08j -0.0157697 -5.65846280e-08j\n",
      " -0.04691315+5.74242115e-08j  0.04691318-3.77694101e-08j]\n"
     ]
    }
   ],
   "source": [
    "print(correlators[:,0])"
   ]
  },
  {
   "cell_type": "code",
   "execution_count": 16,
   "metadata": {},
   "outputs": [
    {
     "name": "stdout",
     "output_type": "stream",
     "text": [
      "[3 0 1 2]\n"
     ]
    }
   ],
   "source": [
    "correlatorfft = []\n",
    "for i in range(len(correlators[0, :])):\n",
    "    fftsum = np.fft.fft(correlators[::2,i]) + np.fft.fft(correlators[1::2,i])\n",
    "    correlatorfft.append(fftsum)\n",
    "    \n",
    "correlatorfft = np.array(correlatorfft)\n",
    "\n",
    "# Fix the correlatorFFT to be symmetric\n",
    "mode_count = correlatorfft.shape[1]\n",
    "BZ_edge = mode_count // 2 + 1\n",
    "wrap_order = (np.arange(mode_count) + BZ_edge) % mode_count\n",
    "print(wrap_order)\n",
    "correlatorfft = correlatorfft[:, wrap_order]"
   ]
  },
  {
   "cell_type": "code",
   "execution_count": 17,
   "metadata": {},
   "outputs": [
    {
     "data": {
      "text/plain": [
       "<matplotlib.image.AxesImage at 0x7f9b502fc1f0>"
      ]
     },
     "execution_count": 17,
     "metadata": {},
     "output_type": "execute_result"
    },
    {
     "data": {
      "image/png": "[encoded data removed]",
      "text/plain": [
       "<Figure size 720x576 with 1 Axes>"
      ]
     },
     "metadata": {
      "needs_background": "light"
     },
     "output_type": "display_data"
    }
   ],
   "source": [
    "# plt.plot(np.arctan2(np.imag(correlatorfft), np.real(correlatorfft)))\n",
    "plt.xlabel(\"momentum mode\")\n",
    "plt.ylabel(\"time\")\n",
    "plt.title(\"Time evolution of momentum phase\")\n",
    "step_x = 1 # step between consecutive labels\n",
    "x_positions = np.arange(0,N//2,step_x) # pixel count at label position\n",
    "x_labels = np.arange(N//4-N//2+1, N//4+1) # labels you want to see\n",
    "plt.xticks(x_positions, x_labels)\n",
    "y_tickcount = 10 # How many labels on y axis\n",
    "y_positions = np.arange(0,int(T/dt), int((T/dt)/y_tickcount)) # pixel count at label position\n",
    "y_labels = np.round(np.linspace(0,abs(T*m),y_tickcount), 3) # labels you want to see\n",
    "plt.yticks(y_positions, y_labels)\n",
    "plt.imshow(np.arctan2(np.imag(correlatorfft), np.real(correlatorfft)), aspect='auto', origin='lower')"
   ]
  },
  {
   "cell_type": "code",
   "execution_count": 18,
   "metadata": {},
   "outputs": [
    {
     "data": {
      "image/png": "[encoded data removed]",
      "text/plain": [
       "<Figure size 720x576 with 1 Axes>"
      ]
     },
     "metadata": {
      "needs_background": "light"
     },
     "output_type": "display_data"
    }
   ],
   "source": [
    "phases = np.arctan2(np.imag(correlatorfft), np.real(correlatorfft))\n",
    "plt.plot(phases[:,0])\n",
    "plt.show()"
   ]
  },
  {
   "cell_type": "code",
   "execution_count": 19,
   "metadata": {},
   "outputs": [
    {
     "data": {
      "text/plain": [
       "Text(0.5, 0, 'Time Slice')"
      ]
     },
     "execution_count": 19,
     "metadata": {},
     "output_type": "execute_result"
    },
    {
     "data": {
      "image/png": "[encoded data removed]",
      "text/plain": [
       "<Figure size 720x576 with 1 Axes>"
      ]
     },
     "metadata": {
      "needs_background": "light"
     },
     "output_type": "display_data"
    }
   ],
   "source": [
    "plt.plot(np.imag(correlators[2, :]),color='red',label=\"Imaginary Part\")\n",
    "plt.plot(np.real(correlators[2, :]),color='blue',label=\"Real Part\")\n",
    "plt.title(\"creation-annihilation correlator e-value\")\n",
    "plt.ylabel(\"correlator expectation value\")\n",
    "plt.xlabel(\"Time Slice\")\n",
    "# plt.figlegend()"
   ]
  },
  {
   "cell_type": "markdown",
   "metadata": {},
   "source": [
    "## Niklas Code"
   ]
  },
  {
   "cell_type": "code",
   "execution_count": 20,
   "metadata": {},
   "outputs": [
    {
     "name": "stdout",
     "output_type": "stream",
     "text": [
      "Symmetry checks passed!\n",
      "Symmetry checks passed!\n",
      "Hermiticity check passed!\n",
      "Symmetry checks passed!\n",
      "Particle conservation check passed!\n",
      "Hermiticity check passed!\n",
      "Symmetry checks passed!\n",
      "Particle conservation check passed!\n",
      "Symmetry checks passed!\n",
      "N8_Gt_n0_done\n",
      "Symmetry checks passed!\n",
      "N8_Gt_n1_done\n",
      "Symmetry checks passed!\n",
      "N8_Gt_n2_done\n",
      "Symmetry checks passed!\n",
      "N8_Gt_n3_done\n",
      "Symmetry checks passed!\n",
      "N8_Gt_n4_done\n",
      "Symmetry checks passed!\n",
      "N8_Gt_n5_done\n",
      "Symmetry checks passed!\n",
      "N8_Gt_n6_done\n",
      "Symmetry checks passed!\n",
      "N8_Gt_n7_done\n",
      "[ 0.89040425+0.00000000e+00j  0.10959601+0.00000000e+00j\n",
      " -0.04691315+1.38792023e-09j  0.04691311+4.16168271e-09j\n",
      "  0.01576973+1.56996020e-08j -0.0157697 -5.65846280e-08j\n",
      " -0.04691315+5.74242115e-08j  0.04691318-3.77694101e-08j]\n"
     ]
    },
    {
     "data": {
      "image/png": "[encoded data removed]",
      "text/plain": [
       "<Figure size 720x576 with 1 Axes>"
      ]
     },
     "metadata": {
      "needs_background": "light"
     },
     "output_type": "display_data"
    },
    {
     "name": "stdout",
     "output_type": "stream",
     "text": [
      "[ 0.00000000e+00  1.10435926e-18  3.31307779e-18  1.10435926e-18\n",
      " -3.31307779e-18 -7.73051485e-18  9.93923338e-18  9.93923338e-18\n",
      "  1.43566704e-17  9.93923338e-18 -1.43566704e-17  1.43566704e-17\n",
      "  5.52179632e-18 -3.31307779e-18  1.10435926e-18  1.10435926e-18\n",
      " -7.73051485e-18 -1.65653890e-17 -1.87741075e-17 -1.43566704e-17\n",
      " -9.93923338e-18 -1.43566704e-17 -5.52179632e-18 -2.31915446e-17\n",
      " -2.31915446e-17 -2.54002631e-17 -2.98177001e-17 -2.81611612e-17]\n",
      "[ 0.00000000e+00 -5.52179632e-19 -4.41743706e-18  2.76089816e-18\n",
      "  8.28269448e-18  1.10435926e-18 -5.52179632e-19 -9.93923338e-18\n",
      " -4.41743706e-18  3.53394965e-17 -6.16297582e-33  1.76697482e-17\n",
      "  8.83487412e-18  4.41743706e-17  4.41743706e-17  7.95138670e-17\n",
      "  8.83487412e-18  7.95138670e-17  7.95138670e-17  7.95138670e-17\n",
      "  1.14853363e-16  1.50192860e-16  1.32523112e-16  1.32523112e-16\n",
      "  1.14853363e-16  1.14853363e-16  1.14853363e-16  1.32523112e-16]\n"
     ]
    }
   ],
   "source": [
    "psi_init = psi_i.copy().astype(np.complex128)\n",
    "\n",
    "# apply c_0 & c_1 to initial state\n",
    "c0_static = [[\"-\",[[1.0,0]]]]\n",
    "c0 = quantum_LinearOperator(c0_static,basis=basis_full,dtype=np.float64,check_herm=False,check_pcon=False)\n",
    "psi_init_c0 = np.transpose(P_Nhalfminus1).dot(c0.dot(P_Nhalf.dot(psi_init)))\n",
    "# del c0\n",
    "c1_static = [[\"-\",[[1.0,1]]]]\n",
    "c1 = quantum_LinearOperator(c1_static,basis=basis_full,dtype=np.float64,check_herm=False,check_pcon=False)\n",
    "psi_init_c1 = np.transpose(P_Nhalfminus1).dot(c1.dot(P_Nhalf.dot(psi_init)))\n",
    "# del c1\n",
    "H_quenched = hamiltonian(static_terms, dynamic_terms, basis=fermion_basis_m1, dtype=np.float64)\n",
    "# evolving in time (forward)\n",
    "psi_t_c0 = H_quenched.evolve(psi_init_c0,0,times)#,solver_name='dopri5',atol=1e-16,rtol=1e-16)\n",
    "psi_t_c1 = H_quenched.evolve(psi_init_c1,0,times)#,solver_name='dopri5',atol=1e-16,rtol=1e-16)\n",
    "# del H_quenched\n",
    "#print(np.shape(psi_t))\n",
    "H_quenched_r =  -hamiltonian(static_terms,dynamic_terms,basis=fermion_basis,dtype=np.float64)\n",
    "Gnt_all = []\n",
    "for n in range(N):\n",
    "    Gnt = np.zeros(len(times),dtype=np.complex128)\n",
    "    # apply c_n^\\dagger to evolved states\n",
    "    psi_t_cn = []\n",
    "    cn_static = [[\"+\",[[1.0,n]]]]\n",
    "    cn = quantum_LinearOperator(cn_static,basis=basis_full,dtype=np.float64,check_herm=False,check_pcon=False)\n",
    "    for t in range(len(times)):\n",
    "        if n%2 == 0:\n",
    "            psi_t_cn.append( np.transpose(P_Nhalf).dot(cn.dot(P_Nhalfminus1.dot(psi_t_c0[:,t]))) )\n",
    "        if n%2 == 1:\n",
    "            psi_t_cn.append( np.transpose(P_Nhalf).dot(cn.dot(P_Nhalfminus1.dot(psi_t_c1[:,t]))) )\n",
    "    del cn\n",
    "    psi_t_cn = np.array(psi_t_cn)\n",
    "    #print(np.shape(psi_t_cn))\n",
    "    # evolve backwards in time & get the correlators\n",
    "    for t in range(len(times)):\n",
    "        psi_t_cn[t,:] = H_quenched_r.evolve(psi_t_cn[t,:],0,times[t])\n",
    "        Gnt[t] = np.vdot(psi_init,psi_t_cn[t,:])\n",
    "    print('N'+str(N)+'_Gt_n'+str(n)+'_done')\n",
    "    Gnt_all.append(Gnt)\n",
    "Gnt_all = np.array(Gnt_all)\n",
    "print(Gnt_all[:,0])\n",
    "#np.save(folder_save+'/TwoTime_correlators',Gnt_all)\n",
    "Nt = len(times)\n",
    "Gnt_half = np.zeros((N//2,Nt),dtype=np.complex128)\n",
    "for n in range(N//2):\n",
    "    Gnt_half[n,:] = Gnt_all[2*n,:] + Gnt_all[2*n+1,:]\n",
    "Gkt = np.fft.fft(Gnt_half,axis=0)\n",
    "\n",
    "# Fix the correlatorFFT to be symmetric\n",
    "diff = correlatorfft - Gkt.T\n",
    "correlatorfft = Gkt.T\n",
    "# mode_count = correlatorfft.shape[1]\n",
    "# BZ_edge = mode_count // 2 + 1\n",
    "# wrap_order = (np.arange(mode_count) + BZ_edge) % mode_count\n",
    "# print(wrap_order)\n",
    "# correlatorfft = correlatorfft[:, wrap_order]\n",
    "# plt.xlabel(\"momentum mode\")\n",
    "# plt.ylabel(\"time\")\n",
    "# plt.title(\"Time evolution of momentum phase\")\n",
    "\n",
    "#Plot FFT\n",
    "step_x = 1 # step between consecutive labels\n",
    "x_positions = np.arange(0,N//2,step_x) # pixel count at label position\n",
    "x_labels = np.arange(N//4-N//2, N//4) # labels you want to see\n",
    "plt.xticks(x_positions, x_labels)\n",
    "y_tickcount = 10 # How many labels on y axis\n",
    "y_positions = np.arange(0,int(T/dt), int((T/dt)/y_tickcount)) # pixel count at label position\n",
    "y_labels = np.round(np.linspace(0,abs(T*m),y_tickcount), 3) # labels you want to see\n",
    "plt.yticks(y_positions, y_labels)\n",
    "plt.imshow(np.arctan2(np.imag(correlatorfft), np.real(correlatorfft)), aspect='auto', origin='lower')\n",
    "plt.show()\n",
    "\n",
    "Lt_from_Gkt = -np.sum(np.log(np.abs(Gkt)),axis=0)/N\n",
    "# np.savetxt(folder_save+'/rate_TwoTime',np.array(Lt_from_Gkt)/a)\n",
    "Nk, Nt = np.shape(Gkt)\n",
    "dphi_kt_k = np.zeros((Nk,Nt-1))\n",
    "dphi_kt_t = np.zeros((Nk,Nt-1))\n",
    "Fkt = np.zeros((Nk,Nt-2))\n",
    "for k in range(Nk):\n",
    "    for t in range(Nt-1):\n",
    "        dphi_kt_k[k,t] = np.angle(Gkt[(k+1)%Nk,t]/Gkt[k,t])\n",
    "        dphi_kt_t[k,t] = np.angle(Gkt[k,t+1]/Gkt[k,t])\n",
    "for k in range(Nk):\n",
    "    for t in range(Nt-2):\n",
    "        Fkt[k,t] = (dphi_kt_k[k,t] + dphi_kt_t[(k+1)%Nk,t]) - (dphi_kt_k[k,t+1] + dphi_kt_t[k,t])\n",
    "Fkt_ksum1 = np.zeros(Nt-2)\n",
    "Fkt_ksum2 = np.zeros(Nt-2)\n",
    "for k in range(Nk//2):\n",
    "    Fkt_ksum1 += Fkt[(k),:]/2/np.pi\n",
    "    Fkt_ksum2 += Fkt[(k+Nk//2),:]/2/np.pi\n",
    "n1 = []\n",
    "n2 = []\n",
    "for t in range(Nt-2):\n",
    "    ntau1 = 0\n",
    "    ntau2 = 0\n",
    "    for tau in range(0,t):\n",
    "        ntau1 += Fkt_ksum1[tau]\n",
    "        ntau2 += Fkt_ksum2[tau]\n",
    "    n1.append(ntau1)\n",
    "    n2.append(ntau2)\n",
    "n1 = np.array(n1)\n",
    "n2 = np.array(n2)\n",
    "print(n1)\n",
    "print(n2)"
   ]
  },
  {
   "cell_type": "code",
   "execution_count": 21,
   "metadata": {},
   "outputs": [
    {
     "name": "stdout",
     "output_type": "stream",
     "text": [
      "static mat: \n",
      "  (0, 0)\t0.8\n",
      "  (0, 1)\t0.5\n",
      "  (0, 25)\t-0.5\n",
      "  (1, 0)\t0.5\n",
      "  (1, 1)\t-0.8\n",
      "  (1, 2)\t0.5\n",
      "  (1, 6)\t0.5\n",
      "  (1, 29)\t-0.5\n",
      "  (2, 1)\t0.5\n",
      "  (2, 2)\t0.8\n",
      "  (2, 3)\t0.5\n",
      "  (2, 7)\t0.5\n",
      "  (2, 32)\t-0.5\n",
      "  (3, 2)\t0.5\n",
      "  (3, 3)\t-0.8\n",
      "  (3, 4)\t0.5\n",
      "  (3, 8)\t0.5\n",
      "  (3, 34)\t-0.5\n",
      "  (4, 3)\t0.5\n",
      "  (4, 4)\t0.8\n",
      "  (4, 5)\t0.5\n",
      "  (4, 9)\t0.5\n",
      "  (4, 35)\t-0.5\n",
      "  (5, 4)\t0.5\n",
      "  (5, 5)\t-0.8\n",
      "  :\t:\n",
      "  (50, 49)\t0.5\n",
      "  (50, 50)\t-2.4000000000000004\n",
      "  (50, 51)\t0.5\n",
      "  (50, 53)\t0.5\n",
      "  (51, 13)\t-0.5\n",
      "  (51, 45)\t0.5\n",
      "  (51, 50)\t0.5\n",
      "  (51, 51)\t-0.8\n",
      "  (51, 54)\t0.5\n",
      "  (52, 49)\t0.5\n",
      "  (52, 52)\t0.8\n",
      "  (52, 53)\t0.5\n",
      "  (53, 15)\t-0.5\n",
      "  (53, 50)\t0.5\n",
      "  (53, 52)\t0.5\n",
      "  (53, 53)\t-0.8\n",
      "  (53, 54)\t0.5\n",
      "  (54, 16)\t-0.5\n",
      "  (54, 51)\t0.5\n",
      "  (54, 53)\t0.5\n",
      "  (54, 54)\t0.8\n",
      "  (54, 55)\t0.5\n",
      "  (55, 18)\t-0.5\n",
      "  (55, 54)\t0.5\n",
      "  (55, 55)\t-0.8\n",
      "\n",
      "\n",
      "dynamic:\n",
      "\n"
     ]
    }
   ],
   "source": [
    "print(H_quenched)"
   ]
  },
  {
   "cell_type": "code",
   "execution_count": 22,
   "metadata": {},
   "outputs": [
    {
     "name": "stdout",
     "output_type": "stream",
     "text": [
      "1.739655970822189\n",
      "1.2913068968947239\n"
     ]
    },
    {
     "data": {
      "image/png": "[encoded data removed]",
      "text/plain": [
       "<Figure size 720x576 with 1 Axes>"
      ]
     },
     "metadata": {
      "needs_background": "light"
     },
     "output_type": "display_data"
    }
   ],
   "source": [
    "print(np.max(np.abs(diff)))\n",
    "diff_corr = np.array(Gnt_all) - correlators\n",
    "print(np.max(np.abs(diff_corr)))\n",
    "plt.plot(np.linspace(0, T * -m, len(n1)), (n1-n2))\n",
    "plt.show()\n",
    "# plt.plot(np.linspace(0, T * -m, len(n1)), (n2))\n",
    "# plt.show()"
   ]
  },
  {
   "cell_type": "code",
   "execution_count": null,
   "metadata": {},
   "outputs": [],
   "source": []
  }
 ],
 "metadata": {
  "kernelspec": {
   "display_name": "Python 3",
   "language": "python",
   "name": "python3"
  },
  "language_info": {
   "codemirror_mode": {
    "name": "ipython",
    "version": 3
   },
   "file_extension": ".py",
   "mimetype": "text/x-python",
   "name": "python",
   "nbconvert_exporter": "python",
   "pygments_lexer": "ipython3",
   "version": "3.8.5"
  }
 },
 "nbformat": 4,
 "nbformat_minor": 4
}
