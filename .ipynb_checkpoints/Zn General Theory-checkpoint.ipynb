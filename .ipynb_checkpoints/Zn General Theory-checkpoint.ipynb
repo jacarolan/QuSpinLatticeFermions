{
 "cells": [
  {
   "cell_type": "code",
   "execution_count": 191,
   "metadata": {},
   "outputs": [],
   "source": [
    "from __future__ import print_function, division\n",
    "import sys,os\n",
    "from quspin.operators import hamiltonian # Hamiltonians and operators\n",
    "from quspin.basis import spin_basis_1d # Hilbert space spin basis\n",
    "from quspin.basis import spinless_fermion_basis_1d # fermion basis for comparison\n",
    "import numpy as np # generic math functions\n",
    "import matplotlib.pyplot as plt\n",
    "from itertools import chain, combinations\n",
    "plt.rcParams['figure.figsize'] = [10, 8] # changes default figure size in jupyter notebook"
   ]
  },
  {
   "cell_type": "markdown",
   "metadata": {},
   "source": [
    " ## Coupling & Option initialization"
   ]
  },
  {
   "cell_type": "code",
   "execution_count": 229,
   "metadata": {},
   "outputs": [],
   "source": [
    "NN = 4 #Z_NN model\n",
    "N=8 # number of sites (NOT STAGGERED SITES!!)\n",
    "Pinit=1 # P_{-1}\n",
    "g = 1 / (4 * np.pi ** 2) * NN ** 2 # E-field coupling constant\n",
    "t = -.5 # coupling constant for hopping term\n",
    "m = 1 # mass\n",
    "\n",
    "half_filling = 1 # options: 1 for half filling, 0 for not half-filling\n",
    "single_filling = 0 # options: 1 for single-filling, 0 else\n",
    "\n",
    "PBC = 1 # options: 1 for periodic boundary conditions, 0 for fixed\n",
    "\n",
    "if(N % 4 < 2): # Checks if N is even for anti- or periodic boundary conditions\n",
    "    Neven = 1\n",
    "else:\n",
    "    Neven = 0"
   ]
  },
  {
   "cell_type": "code",
   "execution_count": 230,
   "metadata": {},
   "outputs": [],
   "source": [
    "def arrayn(n): ## returns an array of length n with values 0,...,n-1\n",
    "    return([i for i in range(n)])\n",
    "\n",
    "if(half_filling): # sets filling to N//2 if half filling is turned on, else it does not specify\n",
    "    basis = spin_basis_1d(N,pauli=-1,Nup=N//2)\n",
    "elif(single_filling):\n",
    "    basis = spin_basis_1d(N,pauli=-1,Nup=1)\n",
    "else:\n",
    "    basis = spin_basis_1d(N,pauli=-1)"
   ]
  },
  {
   "cell_type": "code",
   "execution_count": 231,
   "metadata": {},
   "outputs": [
    {
     "name": "stdout",
     "output_type": "stream",
     "text": [
      "[[1.0, 0, 0], [-1.0, 1, 1], [1.0, 2, 2], [-1.0, 3, 3], [1.0, 4, 4], [-1.0, 5, 5], [1.0, 6, 6], [-1.0, 7, 7], [1.0, 8, 8], [-1.0, 9, 9], [1.0, 10, 10], [-1.0, 11, 11], [1.0, 12, 12], [-1.0, 13, 13], [1.0, 14, 14], [-1.0, 15, 15]]\n"
     ]
    }
   ],
   "source": [
    "###### Hopping terms\n",
    "if(PBC):\n",
    "    \n",
    "    if(Neven): # Anti-Periodic\n",
    "        J2 = [[-t,i,(i+1)%N] for i in range(N-1)] # The final boundary term must be added with negative coupling\n",
    "        J3 = [[-t,(i+1)%N,i] for i in range(N-1)] \n",
    "        J2.append([t,N-1,0]) # The negatively-coupled (anti-periodic) final boundary terms\n",
    "        J3.append([t,0,N-1])\n",
    "    \n",
    "    else: # Periodic \n",
    "        J2 = [[-t,i,(i+1)%N] for i in range(N)] # %N and range increased by 1 adds the final boundary term making it periodic\n",
    "        J3=[[-t,(i+1)%N,i] for i in range(N)]\n",
    "    \n",
    "else: # Fixed boundary conditions\n",
    "    J2 = [[-t,i,i+1] for i in range(N-1)] # we need to append \"+-\" for signs of sigmas\n",
    "    J3=[[-t,i+1,i] for i in range(N-1)] # append \"+-\" for signs of sigmas, i+1,i since this is h.c. term\n",
    "\n",
    "###### mass term (unchanged by PBC)\n",
    "J4 = [[m*(-1.0)**i,i,i] for i in range(N)] # append  \"+-\" for signs of sigmas\n",
    "print(J4)"
   ]
  },
  {
   "cell_type": "code",
   "execution_count": 232,
   "metadata": {},
   "outputs": [],
   "source": [
    "staticpart=[[\"+-\",J4],[\"+-\",J2],[\"+-\",J3]] # Defining static and dynamic parts of H and filling with hopping and mass terms\n",
    "dynamicpart=[]"
   ]
  },
  {
   "cell_type": "code",
   "execution_count": 233,
   "metadata": {},
   "outputs": [],
   "source": [
    "###### E-field interaction term\n",
    "def powerset(seq):\n",
    "    if len(seq) == 1:\n",
    "        yield seq\n",
    "    else:\n",
    "        for item in powerset(seq[1:]):\n",
    "            yield [seq[0]]+item\n",
    "            yield item"
   ]
  },
  {
   "cell_type": "code",
   "execution_count": 234,
   "metadata": {},
   "outputs": [],
   "source": [
    "def P(n, dag=False):\n",
    "    i_parity = (-1 if dag else 1)\n",
    "    prefactor = -Pinit * g * np.exp(1j * (1 - n % 2) * np.pi / NN * i_parity)\n",
    "    totalList = []\n",
    "    \n",
    "    #for k in range(n+1):\n",
    "     #   prefactor *= np.exp((-1 ** k) * 1j * np.pi / NN)\n",
    "        \n",
    "    for seq in powerset(list(range(n+1))):\n",
    "        seq = list(seq)\n",
    "        coupling = prefactor * (np.cos(np.pi / NN)) ** (n - len(seq) + 1) * (-1j * i_parity * np.sin(np.pi / NN)) **len(seq)\n",
    "        couple_list = [coupling] + seq\n",
    "        totalList += [[\"z\"*len(seq)] + [[couple_list]]]\n",
    "    return(totalList)"
   ]
  },
  {
   "cell_type": "code",
   "execution_count": 235,
   "metadata": {},
   "outputs": [],
   "source": [
    "for i in range(N):\n",
    "    staticpart += P(i, dag = False)\n",
    "    staticpart += P(i, dag = True)"
   ]
  },
  {
   "cell_type": "markdown",
   "metadata": {},
   "source": [
    "## Plot"
   ]
  },
  {
   "cell_type": "code",
   "execution_count": 236,
   "metadata": {},
   "outputs": [
    {
     "name": "stdout",
     "output_type": "stream",
     "text": [
      "Hermiticity check passed!\n",
      "Symmetry checks passed!\n",
      "Particle conservation check passed!\n",
      "# of eigenvalues: 12870\n"
     ]
    },
    {
     "data": {
      "image/png": "[encoded data removed]",
      "text/plain": [
       "<Figure size 720x576 with 1 Axes>"
      ]
     },
     "metadata": {
      "needs_background": "light"
     },
     "output_type": "display_data"
    }
   ],
   "source": [
    "H1 = hamiltonian(staticpart,dynamicpart,basis=basis,dtype=np.complex64) # Creating the hamiltonian with proper basis\n",
    "\n",
    "eigenvalues1 = H1.eigvalsh() # Getting and plotting eigenvalues\n",
    "plt.plot(eigenvalues1,'+')\n",
    "\n",
    "print(\"# of eigenvalues: \" + str(len(eigenvalues1))) # Printing number of eigenvalues for comparison"
   ]
  },
  {
   "cell_type": "code",
   "execution_count": null,
   "metadata": {},
   "outputs": [],
   "source": []
  }
 ],
 "metadata": {
  "kernelspec": {
   "display_name": "Python 3",
   "language": "python",
   "name": "python3"
  },
  "language_info": {
   "codemirror_mode": {
    "name": "ipython",
    "version": 3
   },
   "file_extension": ".py",
   "mimetype": "text/x-python",
   "name": "python",
   "nbconvert_exporter": "python",
   "pygments_lexer": "ipython3",
   "version": "3.7.4"
  }
 },
 "nbformat": 4,
 "nbformat_minor": 4
}
