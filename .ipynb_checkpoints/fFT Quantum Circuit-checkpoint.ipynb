{
 "cells": [
  {
   "cell_type": "code",
   "execution_count": 32,
   "metadata": {},
   "outputs": [
    {
     "name": "stderr",
     "output_type": "stream",
     "text": [
      "ibmqfactory.load_account:WARNING:2021-06-21 14:41:45,659: Credentials are already in use. The existing account in the session will be replaced.\n"
     ]
    },
    {
     "data": {
      "text/plain": [
       "[<IBMQBackend('ibmqx2') from IBMQ(hub='ibm-q', group='open', project='main')>,\n",
       " <IBMQBackend('ibmq_athens') from IBMQ(hub='ibm-q', group='open', project='main')>,\n",
       " <IBMQBackend('ibmq_santiago') from IBMQ(hub='ibm-q', group='open', project='main')>,\n",
       " <IBMQBackend('ibmq_lima') from IBMQ(hub='ibm-q', group='open', project='main')>,\n",
       " <IBMQBackend('ibmq_belem') from IBMQ(hub='ibm-q', group='open', project='main')>,\n",
       " <IBMQBackend('ibmq_quito') from IBMQ(hub='ibm-q', group='open', project='main')>,\n",
       " <IBMQBackend('ibmq_manila') from IBMQ(hub='ibm-q', group='open', project='main')>]"
      ]
     },
     "execution_count": 32,
     "metadata": {},
     "output_type": "execute_result"
    }
   ],
   "source": [
    "from qiskit import *\n",
    "from qiskit import Aer\n",
    "from qiskit.circuit.library.standard_gates import HGate\n",
    "import numpy as np\n",
    "import matplotlib.pyplot as plt\n",
    "import itertools\n",
    "import matplotlib.ticker as ticker\n",
    "from qiskit.visualization import plot_state_city\n",
    "from qiskit.providers.ibmq import least_busy\n",
    "%matplotlib inline\n",
    "plt.rcParams['figure.figsize'] = [10, 8]\n",
    "simulator = Aer.get_backend('statevector_simulator')\n",
    "from qiskit import IBMQ, assemble, transpile\n",
    "import qiskit.quantum_info as qi\n",
    "\n",
    "provider = IBMQ.load_account()\n",
    "provider.backends(simulator=False, operational=True)\n",
    "small_devices = provider.backends(filters=lambda x: x.configuration().n_qubits == 5\n",
    "                                   and not x.configuration().simulator)\n",
    "small_devices"
   ]
  },
  {
   "cell_type": "code",
   "execution_count": 33,
   "metadata": {},
   "outputs": [],
   "source": [
    "def Fgate(k):\n",
    "    qcirc = QuantumCircuit(2,name=\"F_{:}\".format(k))\n",
    "    qcirc.rz(2*np.pi*k/N,1)\n",
    "    qcirc.cx(1,0)\n",
    "    qcirc.ch(0,1)\n",
    "    qcirc.cx(1,0)\n",
    "    qcirc.cz(1,0)\n",
    "    return(qcirc.to_instruction())\n",
    "\n",
    "def Fdgate(k):\n",
    "    qcirc = QuantumCircuit(2,name=\"F+_{:}\".format(k))\n",
    "    qcirc.cz(1,0)\n",
    "    qcirc.cx(1,0)\n",
    "    qcirc.ch(0,1)\n",
    "    qcirc.cx(1,0)\n",
    "    qcirc.rz(-2*np.pi*k/N,1)\n",
    "    return(qcirc.to_instruction())\n",
    "\n",
    "def fSWAP():\n",
    "    qcirc = QuantumCircuit(2,name=\"fSWAP\")\n",
    "    qcirc.cx(0,1)\n",
    "    qcirc.cx(1,0)\n",
    "    qcirc.cx(0,1)\n",
    "    qcirc.h(1)\n",
    "    qcirc.cx(0,1)\n",
    "    qcirc.h(1)\n",
    "    return(qcirc.to_instruction())\n",
    "\n",
    "# fSWAP = [\"s\",q1,q2]\n",
    "# F-Gate = [\"f\",q1,q2,k]\n",
    "# Fdagger-Gate = [\"fd\",q1,q2,k]\n",
    "def listAppend(orderedlist,qc):\n",
    "    for i in orderedlist:\n",
    "        if(i[0] == \"s\" and len(i) == 3):\n",
    "            qc.append(fSWAP(),[i[1],i[2]])\n",
    "        elif(i[0] == \"f\" and len(i) == 4):\n",
    "            qc.append(Fgate(i[3]),[i[1],i[2]])\n",
    "        elif(i[0] == \"fd\" and len(i) == 4):\n",
    "            qc.append(Fdgate(i[3]),[i[1],i[2]])\n",
    "        else:\n",
    "            print(\"Failed circuit instruction: {:}\".format(i))\n",
    "\n",
    "# fFT methods assume qubits come in like ++-- (N=4) or ++++---- (N=8) and return qubits like +-+- (N=4) or +-+-+-+- (N=8). #\n",
    "def fFT4():\n",
    "    qcirc = QuantumCircuit(4,name=\"U+_fFT\")\n",
    "    list = [[\"fd\",0,1,0],[\"fd\",2,3,0],[\"s\",1,2]]\n",
    "    listAppend(list,qcirc)\n",
    "    qcirc.draw()\n",
    "    return(qcirc.to_instruction())\n",
    "\n",
    "def fFT8():\n",
    "    qcirc = QuantumCircuit(8,name=\"U+_fFT\")\n",
    "    list = [[\"fd\",0,1,1],[\"fd\",2,3,0],[\"s\",1,2],[\"fd\",0,1,0],[\"fd\",2,3,0],[\"fd\",4,5,1],[\"fd\",6,7,0],[\"s\",5,6],[\"fd\",4,5,0],[\"fd\",6,7,0],[\"s\",3,4],[\"s\",2,3],[\"s\",4,5],[\"s\",1,2],[\"s\",3,4],[\"s\",5,6]]\n",
    "    listAppend(list,qcirc)\n",
    "    qcirc.draw()\n",
    "    return(qcirc.to_instruction())\n"
   ]
  },
  {
   "cell_type": "code",
   "execution_count": 73,
   "metadata": {},
   "outputs": [],
   "source": [
    "def swapladder(qubits):\n",
    "    N = len(qubits)\n",
    "    qcirc = QuantumCircuit(N,name=\"SwapLadder({:})\".format(N))\n",
    "    for i in range(int(N/2)-1):\n",
    "        orderedlist = []\n",
    "        for k in range(i+1):\n",
    "            orderedlist = orderedlist + [[\"s\",int(N/2) - 1 + i - 2*k,int(N/2) + i - 2*k]]\n",
    "        listAppend(orderedlist,qcirc)\n",
    "    return(qcirc.to_instruction())\n",
    "\n",
    "def FFT(qubits,N):\n",
    "    n = len(qubits)\n",
    "    qcirc = QuantumCircuit(n,name=\"U+_fFT\")\n",
    "    if n % 2 > 0:\n",
    "        print(\"Number of particle or antiparticle qubits must be a power of 2\")\n",
    "    elif n==2: #IF N=2, DFT\n",
    "        qcirc.append(Fgate(0),qubits)\n",
    "    else:\n",
    "        \n",
    "    \n",
    "def fFT(circuit, qubits):\n",
    "    qcirc = QuantumCircuit(len(qubits),name=\"U+_fFT\")\n",
    "    N = len(qubits)\n",
    "    if N % 2 > 0:\n",
    "        print(\"N must be divisible by 2 for fFT\")\n",
    "    particles = qubits[:int(N/2)]\n",
    "    antiparticles = qubits[int(N/2):]\n",
    "    qcirc.append(FFT(particles),particles)\n",
    "    qcirc.append(FFT(antiparticles),antiparticles)\n",
    "    \n",
    "        "
   ]
  },
  {
   "cell_type": "markdown",
   "metadata": {},
   "source": [
    "## Check U_fFT Gate Compositions"
   ]
  },
  {
   "cell_type": "code",
   "execution_count": 74,
   "metadata": {},
   "outputs": [
    {
     "data": {
      "text/html": [
       "<pre style=\"word-wrap: normal;white-space: pre;background: #fff0;line-height: 1.1;font-family: &quot;Courier New&quot;,Courier,monospace\">     ┌────────────────┐\n",
       "q_0: ┤0               ├\n",
       "     │                │\n",
       "q_1: ┤1               ├\n",
       "     │  SwapLadder(4) │\n",
       "q_2: ┤2               ├\n",
       "     │                │\n",
       "q_3: ┤3               ├\n",
       "     └────────────────┘\n",
       "q_4: ──────────────────\n",
       "                       \n",
       "q_5: ──────────────────\n",
       "                       \n",
       "q_6: ──────────────────\n",
       "                       \n",
       "q_7: ──────────────────\n",
       "                       </pre>"
      ],
      "text/plain": [
       "     ┌────────────────┐\n",
       "q_0: ┤0               ├\n",
       "     │                │\n",
       "q_1: ┤1               ├\n",
       "     │  SwapLadder(4) │\n",
       "q_2: ┤2               ├\n",
       "     │                │\n",
       "q_3: ┤3               ├\n",
       "     └────────────────┘\n",
       "q_4: ──────────────────\n",
       "                       \n",
       "q_5: ──────────────────\n",
       "                       \n",
       "q_6: ──────────────────\n",
       "                       \n",
       "q_7: ──────────────────\n",
       "                       "
      ]
     },
     "execution_count": 74,
     "metadata": {},
     "output_type": "execute_result"
    }
   ],
   "source": [
    "qc = QuantumCircuit(8)\n",
    "qr = QuantumRegister(8)\n",
    "qc.append(swapladder([0,1,2,3]),[0,1,2,3])\n",
    "qc.draw()"
   ]
  },
  {
   "cell_type": "code",
   "execution_count": 4,
   "metadata": {},
   "outputs": [
    {
     "ename": "NameError",
     "evalue": "name 'QuantumCircuit' is not defined",
     "output_type": "error",
     "traceback": [
      "\u001b[0;31m---------------------------------------------------------------------------\u001b[0m",
      "\u001b[0;31mNameError\u001b[0m                                 Traceback (most recent call last)",
      "\u001b[0;32m<ipython-input-4-3cac167d5396>\u001b[0m in \u001b[0;36m<module>\u001b[0;34m\u001b[0m\n\u001b[0;32m----> 1\u001b[0;31m \u001b[0mqcirc\u001b[0m \u001b[0;34m=\u001b[0m \u001b[0mQuantumCircuit\u001b[0m\u001b[0;34m(\u001b[0m\u001b[0;36m4\u001b[0m\u001b[0;34m,\u001b[0m\u001b[0mname\u001b[0m\u001b[0;34m=\u001b[0m\u001b[0;34m\"U+_fFT\"\u001b[0m\u001b[0;34m)\u001b[0m\u001b[0;34m\u001b[0m\u001b[0;34m\u001b[0m\u001b[0m\n\u001b[0m\u001b[1;32m      2\u001b[0m \u001b[0mlist\u001b[0m \u001b[0;34m=\u001b[0m \u001b[0;34m[\u001b[0m\u001b[0;34m[\u001b[0m\u001b[0;34m\"fd\"\u001b[0m\u001b[0;34m,\u001b[0m\u001b[0;36m0\u001b[0m\u001b[0;34m,\u001b[0m\u001b[0;36m1\u001b[0m\u001b[0;34m,\u001b[0m\u001b[0;36m0\u001b[0m\u001b[0;34m]\u001b[0m\u001b[0;34m,\u001b[0m\u001b[0;34m[\u001b[0m\u001b[0;34m\"fd\"\u001b[0m\u001b[0;34m,\u001b[0m\u001b[0;36m2\u001b[0m\u001b[0;34m,\u001b[0m\u001b[0;36m3\u001b[0m\u001b[0;34m,\u001b[0m\u001b[0;36m0\u001b[0m\u001b[0;34m]\u001b[0m\u001b[0;34m,\u001b[0m\u001b[0;34m[\u001b[0m\u001b[0;34m\"s\"\u001b[0m\u001b[0;34m,\u001b[0m\u001b[0;36m1\u001b[0m\u001b[0;34m,\u001b[0m\u001b[0;36m2\u001b[0m\u001b[0;34m]\u001b[0m\u001b[0;34m]\u001b[0m\u001b[0;34m\u001b[0m\u001b[0;34m\u001b[0m\u001b[0m\n\u001b[1;32m      3\u001b[0m \u001b[0mlistAppend\u001b[0m\u001b[0;34m(\u001b[0m\u001b[0mlist\u001b[0m\u001b[0;34m,\u001b[0m\u001b[0mqcirc\u001b[0m\u001b[0;34m)\u001b[0m\u001b[0;34m\u001b[0m\u001b[0;34m\u001b[0m\u001b[0m\n\u001b[1;32m      4\u001b[0m \u001b[0mqcirc\u001b[0m\u001b[0;34m.\u001b[0m\u001b[0mdraw\u001b[0m\u001b[0;34m(\u001b[0m\u001b[0;34m)\u001b[0m\u001b[0;34m\u001b[0m\u001b[0;34m\u001b[0m\u001b[0m\n",
      "\u001b[0;31mNameError\u001b[0m: name 'QuantumCircuit' is not defined"
     ]
    }
   ],
   "source": [
    "qcirc = QuantumCircuit(4,name=\"U+_fFT\")\n",
    "list = [[\"fd\",0,1,0],[\"fd\",2,3,0],[\"s\",1,2]]\n",
    "listAppend(list,qcirc)\n",
    "qcirc.draw()"
   ]
  },
  {
   "cell_type": "code",
   "execution_count": 5,
   "metadata": {},
   "outputs": [
    {
     "data": {
      "text/html": [
       "<pre style=\"word-wrap: normal;white-space: pre;background: #fff0;line-height: 1.1;font-family: &quot;Courier New&quot;,Courier,monospace\">     ┌─────────┐\n",
       "q_0: ┤0        ├\n",
       "     │         │\n",
       "q_1: ┤1        ├\n",
       "     │         │\n",
       "q_2: ┤2        ├\n",
       "     │         │\n",
       "q_3: ┤3        ├\n",
       "     │  U+_fFT │\n",
       "q_4: ┤4        ├\n",
       "     │         │\n",
       "q_5: ┤5        ├\n",
       "     │         │\n",
       "q_6: ┤6        ├\n",
       "     │         │\n",
       "q_7: ┤7        ├\n",
       "     └─────────┘</pre>"
      ],
      "text/plain": [
       "     ┌─────────┐\n",
       "q_0: ┤0        ├\n",
       "     │         │\n",
       "q_1: ┤1        ├\n",
       "     │         │\n",
       "q_2: ┤2        ├\n",
       "     │         │\n",
       "q_3: ┤3        ├\n",
       "     │  U+_fFT │\n",
       "q_4: ┤4        ├\n",
       "     │         │\n",
       "q_5: ┤5        ├\n",
       "     │         │\n",
       "q_6: ┤6        ├\n",
       "     │         │\n",
       "q_7: ┤7        ├\n",
       "     └─────────┘"
      ]
     },
     "execution_count": 5,
     "metadata": {},
     "output_type": "execute_result"
    }
   ],
   "source": [
    "qc = QuantumCircuit(8)\n",
    "qr = QuantumRegister(8)\n",
    "qc.append(fFT8(),[0,1,2,3,4,5,6,7])\n",
    "qc.draw()"
   ]
  },
  {
   "cell_type": "code",
   "execution_count": null,
   "metadata": {},
   "outputs": [],
   "source": []
  }
 ],
 "metadata": {
  "interpreter": {
   "hash": "152cfe25893dc717ce9af840a4cd5b70e2db3512806c6eb4e5109030e55f5679"
  },
  "kernelspec": {
   "display_name": "Python 3",
   "language": "python",
   "name": "python3"
  },
  "language_info": {
   "codemirror_mode": {
    "name": "ipython",
    "version": 3
   },
   "file_extension": ".py",
   "mimetype": "text/x-python",
   "name": "python",
   "nbconvert_exporter": "python",
   "pygments_lexer": "ipython3",
   "version": "3.8.5"
  }
 },
 "nbformat": 4,
 "nbformat_minor": 4
}
