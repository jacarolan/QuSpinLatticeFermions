{
 "cells": [
  {
   "cell_type": "code",
   "execution_count": 10,
   "metadata": {},
   "outputs": [],
   "source": [
    "import numpy as np\n",
    "from qiskit import QuantumCircuit\n",
    "# Adding the transpiler to reduce the circuit to QASM instructions\n",
    "# supported by the backend\n",
    "from qiskit import transpile\n",
    "import qiskit.quantum_info as qi\n",
    "import numpy.linalg as la\n",
    "\n",
    "# Use Aer's qasm_simulator\n",
    "from qiskit.providers.aer import QasmSimulator\n",
    "from qiskit.visualization import plot_histogram\n",
    "%matplotlib inline\n",
    "np.set_printoptions(precision=4)"
   ]
  },
  {
   "cell_type": "code",
   "execution_count": 2,
   "metadata": {},
   "outputs": [
    {
     "data": {
      "image/png": "[encoded data removed]",
      "text/plain": [
       "<Figure size 628.252x144.48 with 1 Axes>"
      ]
     },
     "execution_count": 2,
     "metadata": {},
     "output_type": "execute_result"
    }
   ],
   "source": [
    "def bog_circ(theta, beta, phi):\n",
    "    circ = QuantumCircuit(2)\n",
    "    circ.cx(0, 1)\n",
    "    circ.x(0)\n",
    "    circ.crz(2 * -theta, 1, 0)\n",
    "    circ.h(0)\n",
    "    circ.crz(2 * -beta, 1, 0)\n",
    "    circ.h(0)\n",
    "    circ.crz(2 * -phi, 1, 0)\n",
    "    circ.x(0)\n",
    "    circ.p(theta + phi, 1)\n",
    "    circ.cx(0, 1)\n",
    "    return circ\n",
    "    \n",
    "theta = 0.3\n",
    "beta = 0.6\n",
    "phi = 0.9\n",
    "\n",
    "circ = bog_circ(theta, beta, phi)\n",
    "circ.draw('mpl')"
   ]
  },
  {
   "cell_type": "code",
   "execution_count": 3,
   "metadata": {},
   "outputs": [],
   "source": [
    "def B(theta, beta, phi):\n",
    "    B = np.zeros((4, 4), dtype=np.complex128)\n",
    "    B[0,0] = 1\n",
    "    B[3,3] = 1\n",
    "    B[1,1] = np.cos(beta) * np.exp(1j * (theta + phi)) * np.exp(1j * (theta + phi))\n",
    "    B[2,2] = np.cos(beta) * np.exp(1j * (-theta - phi)) * np.exp(1j * (theta + phi))\n",
    "    B[2,1] = np.sin(beta) * 1j * np.exp(1j * (theta - phi)) * np.exp(1j * (theta + phi))\n",
    "    B[1,2] = np.sin(beta) * 1j * np.exp(1j * (-theta + phi)) * np.exp(1j * (theta + phi))\n",
    "    return B"
   ]
  },
  {
   "cell_type": "code",
   "execution_count": 7,
   "metadata": {
    "scrolled": true
   },
   "outputs": [],
   "source": [
    "for theta in np.linspace(0, 20, 30):\n",
    "    for beta in np.linspace(0, 20, 30):\n",
    "        for phi in np.linspace(0, 20, 30):\n",
    "            circ_test = bog_circ(theta, beta, phi)\n",
    "            B_known = B(theta, beta, phi)\n",
    "            B_test = np.array(qi.Operator(circ_test))\n",
    "            diff = B_known - B_test\n",
    "            m_diff = np.max(np.abs(diff))\n",
    "            if m_diff > 1e-4:\n",
    "                print(m_diff)"
   ]
  },
  {
   "cell_type": "code",
   "execution_count": 14,
   "metadata": {},
   "outputs": [
    {
     "name": "stdout",
     "output_type": "stream",
     "text": [
      "2.220446049250313e-16\n",
      "2.220446049250313e-16\n"
     ]
    }
   ],
   "source": [
    "# Test that B is unitary\n",
    "B_test = np.matrix(B(theta, beta, phi))\n",
    "print(np.max(np.abs(np.eye(4) - B_test @ B_test.H)))\n",
    "print(np.max(np.abs(np.eye(4) - B_test.H @ B_test)))"
   ]
  }
 ],
 "metadata": {
  "kernelspec": {
   "display_name": "Python 3",
   "language": "python",
   "name": "python3"
  },
  "language_info": {
   "codemirror_mode": {
    "name": "ipython",
    "version": 3
   },
   "file_extension": ".py",
   "mimetype": "text/x-python",
   "name": "python",
   "nbconvert_exporter": "python",
   "pygments_lexer": "ipython3",
   "version": "3.7.4"
  }
 },
 "nbformat": 4,
 "nbformat_minor": 4
}
