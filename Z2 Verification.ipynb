{
 "cells": [
  {
   "cell_type": "markdown",
   "metadata": {},
   "source": [
    "## Import Libraries"
   ]
  },
  {
   "cell_type": "code",
   "execution_count": 1,
   "metadata": {},
   "outputs": [],
   "source": [
    "from quspin.operators import hamiltonian\n",
    "from quspin.basis import spin_basis_1d\n",
    "from quspin.basis import spinless_fermion_basis_1d\n",
    "import numpy as np\n",
    "import matplotlib.pyplot as plt\n",
    "import itertools\n",
    "plt.rcParams['figure.figsize'] = [10, 8]"
   ]
  },
  {
   "cell_type": "markdown",
   "metadata": {},
   "source": [
    "## Define Constants/Helpers"
   ]
  },
  {
   "cell_type": "code",
   "execution_count": 2,
   "metadata": {},
   "outputs": [],
   "source": [
    "N = 9\n",
    "N_filled = 3#N // 2\n",
    "P_neg1 = 1\n",
    "t = -1\n",
    "g = -1\n",
    "m = -1\n",
    "PBC = True"
   ]
  },
  {
   "cell_type": "code",
   "execution_count": 3,
   "metadata": {},
   "outputs": [],
   "source": [
    "def stringbox(lst, caption):\n",
    "    return caption + \"-\" * (100 - len(caption))+\"\\n\" + str(lst) + \"\\n\" + \"-\" * 100"
   ]
  },
  {
   "cell_type": "markdown",
   "metadata": {},
   "source": [
    "## Spin Basis Simulation"
   ]
  },
  {
   "cell_type": "code",
   "execution_count": 4,
   "metadata": {},
   "outputs": [
    {
     "name": "stdout",
     "output_type": "stream",
     "text": [
      "Static couplings:-----------------------------------------------------------------------------------\n",
      "[['+-', [[1, 0, 1], [1, 1, 2], [1, 2, 3], [1, 3, 4], [1, 4, 5], [1, 5, 6], [1, 6, 7], [1, 7, 8], [1, 8, 0]]], ['+-', [[1, 1, 0], [1, 2, 1], [1, 3, 2], [1, 4, 3], [1, 5, 4], [1, 6, 5], [1, 7, 6], [1, 8, 7], [1, 0, 8]]], ['+-', [[-1, 0, 0], [1, 1, 1], [-1, 2, 2], [1, 3, 3], [-1, 4, 4], [1, 5, 5], [-1, 6, 6], [1, 7, 7], [-1, 8, 8]]], ['z', [[-1, 0]]], ['zz', [[-1, 0, 1]]], ['zzz', [[1, 0, 1, 2]]], ['zzzz', [[1, 0, 1, 2, 3]]], ['zzzzz', [[-1, 0, 1, 2, 3, 4]]], ['zzzzzz', [[-1, 0, 1, 2, 3, 4, 5]]], ['zzzzzzz', [[1, 0, 1, 2, 3, 4, 5, 6]]], ['zzzzzzzz', [[1, 0, 1, 2, 3, 4, 5, 6, 7]]], ['zzzzzzzzz', [[-1, 0, 1, 2, 3, 4, 5, 6, 7, 8]]]]\n",
      "----------------------------------------------------------------------------------------------------\n",
      "Hermiticity check passed!\n",
      "Symmetry checks passed!\n",
      "Particle conservation check passed!\n"
     ]
    },
    {
     "data": {
      "image/png": "[encoded data removed]",
      "text/plain": [
       "<Figure size 720x576 with 1 Axes>"
      ]
     },
     "metadata": {
      "needs_background": "light"
     },
     "output_type": "display_data"
    }
   ],
   "source": [
    "spin_basis = spin_basis_1d(N, pauli=-1, Nup=N_filled)\n",
    "static_terms = []\n",
    "dynamic_terms = []\n",
    "\n",
    "### Hopping term\n",
    "L = (N if PBC else N-1)\n",
    "hop_coupling = [[-t, i, (i+1) % N] for i in range(L)]\n",
    "hop_coupling_dag = [[-t, (i+1) % N, i] for i in range(L)]\n",
    "if PBC and N_filled % 2 == 0:\n",
    "    hop_coupling[-1][0] = -hop_coupling[-1][0]\n",
    "    hop_coupling_dag[-1][0] = -hop_coupling_dag[-1][0]\n",
    "static_terms += [[\"+-\", hop_coupling]]\n",
    "static_terms += [[\"+-\", hop_coupling_dag]]\n",
    "\n",
    "### Mass term\n",
    "mass_coupling = [[m * (-1) ** i, i, i] for i in range(N)]\n",
    "static_terms += [[\"+-\", mass_coupling]]\n",
    "\n",
    "### E-field term\n",
    "E_link_parity = lambda x : -1 if (x % 4) < 2 else 1\n",
    "for i in range(N):\n",
    "    E_coupling = [P_neg1 * -g * E_link_parity(i)] + list(range(i+1))\n",
    "    static_terms += [[\"z\" * (i+1), [E_coupling]]]\n",
    "\n",
    "print(stringbox(static_terms, \"Static couplings:\"))\n",
    "### Plotting spectrum\n",
    "H = hamiltonian(static_terms, dynamic_terms, basis=spin_basis, dtype=np.float64)\n",
    "spin_eigvals = H.eigvalsh()\n",
    "plt.plot(spin_eigvals, \".\")\n",
    "plt.show()"
   ]
  },
  {
   "cell_type": "markdown",
   "metadata": {},
   "source": [
    "## Fermion Basis"
   ]
  },
  {
   "cell_type": "code",
   "execution_count": 5,
   "metadata": {},
   "outputs": [
    {
     "name": "stdout",
     "output_type": "stream",
     "text": [
      "Static couplings:-----------------------------------------------------------------------------------\n",
      "[['+-', [[1, 0, 1], [1, 1, 2], [1, 2, 3], [1, 3, 4], [1, 4, 5], [1, 5, 6], [1, 6, 7], [1, 7, 8], [1, 8, 0]]], ['+-', [[1, 1, 0], [1, 2, 1], [1, 3, 2], [1, 4, 3], [1, 5, 4], [1, 6, 5], [1, 7, 6], [1, 8, 7], [1, 0, 8]]], ['+-', [[-1, 0, 0], [1, 1, 1], [-1, 2, 2], [1, 3, 3], [-1, 4, 4], [1, 5, 5], [-1, 6, 6], [1, 7, 7], [-1, 8, 8]]], ['z', [[-2, 0]]], ['zz', [[-4, 0, 1]]], ['zzz', [[8, 0, 1, 2]]], ['zzzz', [[16, 0, 1, 2, 3]]], ['zzzzz', [[-32, 0, 1, 2, 3, 4]]], ['zzzzzz', [[-64, 0, 1, 2, 3, 4, 5]]], ['zzzzzzz', [[128, 0, 1, 2, 3, 4, 5, 6]]], ['zzzzzzzz', [[256, 0, 1, 2, 3, 4, 5, 6, 7]]], ['zzzzzzzzz', [[-512, 0, 1, 2, 3, 4, 5, 6, 7, 8]]]]\n",
      "----------------------------------------------------------------------------------------------------\n",
      "Hermiticity check passed!\n",
      "Symmetry checks passed!\n",
      "Particle conservation check passed!\n"
     ]
    },
    {
     "data": {
      "image/png": "[encoded data removed]",
      "text/plain": [
       "<Figure size 720x576 with 1 Axes>"
      ]
     },
     "metadata": {
      "needs_background": "light"
     },
     "output_type": "display_data"
    }
   ],
   "source": [
    "fermion_basis = spinless_fermion_basis_1d(L=N, Nf=N_filled)\n",
    "static_terms = []\n",
    "dynamic_terms = []\n",
    "\n",
    "### Hopping term\n",
    "L = (N if PBC else N-1)\n",
    "hop_coupling = [[-t, i, (i+1) % N] for i in range(L)]\n",
    "hop_coupling_dag = [[-t, (i+1) % N, i] for i in range(L)]\n",
    "static_terms += [[\"+-\", hop_coupling]]\n",
    "static_terms += [[\"+-\", hop_coupling_dag]]\n",
    "\n",
    "### Mass term\n",
    "mass_coupling = [[m * (-1) ** i, i, i] for i in range(N)]\n",
    "static_terms += [[\"+-\", mass_coupling]]\n",
    "\n",
    "### E-field term\n",
    "E_link_parity = lambda x : -1 if (x % 4) < 2 else 1\n",
    "for i in range(N):\n",
    "    E_coupling = [P_neg1 * -g * E_link_parity(i) * 2 ** (i+1)] + list(range(i+1))\n",
    "    static_terms += [[\"z\" * (i+1), [E_coupling]]]\n",
    "\n",
    "print(stringbox(static_terms, \"Static couplings:\"))\n",
    "### Plotting spectrum\n",
    "H = hamiltonian(static_terms, dynamic_terms, basis=fermion_basis, dtype=np.float64)\n",
    "fermion_eigvals = H.eigvalsh()\n",
    "plt.plot(fermion_eigvals, \".\")\n",
    "plt.show()"
   ]
  },
  {
   "cell_type": "markdown",
   "metadata": {},
   "source": [
    "## Comparison"
   ]
  },
  {
   "cell_type": "code",
   "execution_count": 6,
   "metadata": {},
   "outputs": [
    {
     "name": "stdout",
     "output_type": "stream",
     "text": [
      "Fermion eigenvalues:--------------------------------------------------------------------------------\n",
      "[-8.13674866 -7.43942223 -7.08800471 -6.87770005 -6.75535017 -6.31203046\n",
      " -6.08551068 -6.01584561 -5.64960736 -5.61498853 -5.48909857 -5.40729008\n",
      " -5.25715016 -5.16035121 -4.88250337 -4.82438333 -4.61698459 -4.5953694\n",
      " -4.49468464 -4.39322219 -4.31925267 -4.26242002 -4.0789757  -4.02075648\n",
      " -3.81163404 -3.73191997 -3.62788051 -3.39916052 -3.29905451 -3.15294822\n",
      " -3.08280573 -2.97816905 -2.85882668 -2.47860444 -2.3161629  -2.16407328\n",
      " -2.11378048 -2.02848753 -1.83651061 -1.75677912 -1.60033585 -1.40971516\n",
      " -1.18156035 -1.05057628 -0.99421683 -0.97146551 -0.85416758 -0.76460772\n",
      " -0.6702977  -0.52758439 -0.44078771 -0.31541907 -0.16088856 -0.13778955\n",
      " -0.03321024  0.08138836  0.09395727  0.23303772  0.30245919  0.37071919\n",
      "  0.46497726  0.47377866  0.92270137  0.98779683  1.0035986   1.05692837\n",
      "  1.25867213  1.31577247  1.46693525  1.71106199  1.92690234  2.33798901\n",
      "  3.0960626   3.4655561   4.18917623  4.30057664  4.51046479  4.75341965\n",
      "  4.81983757  4.86330398  4.92398536  4.98870293  6.27830525  9.32900384]\n",
      "----------------------------------------------------------------------------------------------------\n",
      "Spin eigenvalues:-----------------------------------------------------------------------------------\n",
      "[-8.13674866 -7.43942223 -7.08800471 -6.87770005 -6.75535017 -6.31203046\n",
      " -6.08551068 -6.01584561 -5.64960736 -5.61498853 -5.48909857 -5.40729008\n",
      " -5.25715016 -5.16035121 -4.88250337 -4.82438333 -4.61698459 -4.5953694\n",
      " -4.49468464 -4.39322219 -4.31925267 -4.26242002 -4.0789757  -4.02075648\n",
      " -3.81163404 -3.73191997 -3.62788051 -3.39916052 -3.29905451 -3.15294822\n",
      " -3.08280573 -2.97816905 -2.85882668 -2.47860444 -2.3161629  -2.16407328\n",
      " -2.11378048 -2.02848753 -1.83651061 -1.75677912 -1.60033585 -1.40971516\n",
      " -1.18156035 -1.05057628 -0.99421683 -0.97146551 -0.85416758 -0.76460772\n",
      " -0.6702977  -0.52758439 -0.44078771 -0.31541907 -0.16088856 -0.13778955\n",
      " -0.03321024  0.08138836  0.09395727  0.23303772  0.30245919  0.37071919\n",
      "  0.46497726  0.47377866  0.92270137  0.98779683  1.0035986   1.05692837\n",
      "  1.25867213  1.31577247  1.46693525  1.71106199  1.92690234  2.33798901\n",
      "  3.0960626   3.4655561   4.18917623  4.30057664  4.51046479  4.75341965\n",
      "  4.81983757  4.86330398  4.92398536  4.98870293  6.27830525  9.32900384]\n",
      "----------------------------------------------------------------------------------------------------\n",
      "Maximum difference between eigenvalues: 0.0\n"
     ]
    }
   ],
   "source": [
    "mdiff = max(fermion_eigvals - spin_eigvals)\n",
    "print(stringbox(fermion_eigvals, \"Fermion eigenvalues:\"))\n",
    "print(stringbox(spin_eigvals, \"Spin eigenvalues:\"))\n",
    "print(\"Maximum difference between eigenvalues:\", mdiff)"
   ]
  }
 ],
 "metadata": {
  "kernelspec": {
   "display_name": "Python 3",
   "language": "python",
   "name": "python3"
  },
  "language_info": {
   "codemirror_mode": {
    "name": "ipython",
    "version": 3
   },
   "file_extension": ".py",
   "mimetype": "text/x-python",
   "name": "python",
   "nbconvert_exporter": "python",
   "pygments_lexer": "ipython3",
   "version": "3.7.4"
  }
 },
 "nbformat": 4,
 "nbformat_minor": 4
}
