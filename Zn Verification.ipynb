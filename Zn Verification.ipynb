{
 "cells": [
  {
   "cell_type": "markdown",
   "metadata": {},
   "source": [
    "## Import Libraries"
   ]
  },
  {
   "cell_type": "code",
   "execution_count": 1,
   "metadata": {},
   "outputs": [],
   "source": [
    "from quspin.operators import hamiltonian\n",
    "from quspin.basis import spin_basis_1d\n",
    "from quspin.basis import spinless_fermion_basis_1d\n",
    "import numpy as np\n",
    "import matplotlib.pyplot as plt\n",
    "import itertools\n",
    "plt.rcParams['figure.figsize'] = [10, 8]"
   ]
  },
  {
   "cell_type": "markdown",
   "metadata": {},
   "source": [
    "## Define Constants/Helpers"
   ]
  },
  {
   "cell_type": "code",
   "execution_count": 2,
   "metadata": {},
   "outputs": [],
   "source": [
    "N_group = 2\n",
    "N = 4\n",
    "N_filled = N // 2\n",
    "P_neg1 = 1\n",
    "t = -0.5\n",
    "g = 1\n",
    "m = 1\n",
    "PBC = True"
   ]
  },
  {
   "cell_type": "code",
   "execution_count": 3,
   "metadata": {},
   "outputs": [],
   "source": [
    "def stringbox(lst, caption):\n",
    "    return caption + \"-\" * (100 - len(caption))+\"\\n\" + str(lst) + \"\\n\" + \"-\" * 100"
   ]
  },
  {
   "cell_type": "markdown",
   "metadata": {},
   "source": [
    "## Spin Basis Simulation"
   ]
  },
  {
   "cell_type": "code",
   "execution_count": 8,
   "metadata": {},
   "outputs": [
    {
     "name": "stdout",
     "output_type": "stream",
     "text": [
      "[['z', [[(-0-1j), 0]]]]\n",
      "[['z', [[1j, 0]]]]\n",
      "[['zz', [[(1-0j), 0, 1]]], ['z', [[(-0-6.123233995736766e-17j), 1]]]]\n",
      "[['zz', [[(1-0j), 0, 1]]], ['z', [[6.123233995736766e-17j, 1]]]]\n",
      "[['zzz', [[1j, 0, 1, 2]]], ['zz', [[(6.123233995736766e-17-0j), 1, 2]]], ['zz', [[(6.123233995736766e-17-0j), 0, 2]]], ['z', [[(-0-3.749399456654644e-33j), 2]]]]\n",
      "[['zzz', [[(-0-1j), 0, 1, 2]]], ['zz', [[(6.123233995736766e-17-0j), 1, 2]]], ['zz', [[(6.123233995736766e-17-0j), 0, 2]]], ['z', [[3.749399456654644e-33j, 2]]]]\n",
      "[['zzzz', [[(-1+0j), 0, 1, 2, 3]]], ['zzz', [[6.123233995736766e-17j, 1, 2, 3]]], ['zzz', [[6.123233995736766e-17j, 0, 2, 3]]], ['zz', [[(3.749399456654644e-33-0j), 2, 3]]], ['zzz', [[6.123233995736766e-17j, 0, 1, 3]]], ['zz', [[(3.749399456654644e-33-0j), 1, 3]]], ['zz', [[(3.749399456654644e-33-0j), 0, 3]]], ['z', [[(-0-2.2958450216584675e-49j), 3]]]]\n",
      "[['zzzz', [[(-1+0j), 0, 1, 2, 3]]], ['zzz', [[(-0-6.123233995736766e-17j), 1, 2, 3]]], ['zzz', [[(-0-6.123233995736766e-17j), 0, 2, 3]]], ['zz', [[(3.749399456654644e-33-0j), 2, 3]]], ['zzz', [[(-0-6.123233995736766e-17j), 0, 1, 3]]], ['zz', [[(3.749399456654644e-33-0j), 1, 3]]], ['zz', [[(3.749399456654644e-33-0j), 0, 3]]], ['z', [[2.2958450216584675e-49j, 3]]]]\n",
      "Static couplings:-----------------------------------------------------------------------------------\n",
      "[['+-', [[0.5, 0, 1], [0.5, 1, 2], [0.5, 2, 3], [-0.5, 3, 0]]], ['+-', [[0.5, 1, 0], [0.5, 2, 1], [0.5, 3, 2], [-0.5, 0, 3]]], ['+-', [[1, 0, 0], [-1, 1, 1], [1, 2, 2], [-1, 3, 3]]], [['z', [[(-0-1j), 0]]]], [['z', [[1j, 0]]]], [['zz', [[(1-0j), 0, 1]]], ['z', [[(-0-6.123233995736766e-17j), 1]]]], [['zz', [[(1-0j), 0, 1]]], ['z', [[6.123233995736766e-17j, 1]]]], [['zzz', [[1j, 0, 1, 2]]], ['zz', [[(6.123233995736766e-17-0j), 1, 2]]], ['zz', [[(6.123233995736766e-17-0j), 0, 2]]], ['z', [[(-0-3.749399456654644e-33j), 2]]]], [['zzz', [[(-0-1j), 0, 1, 2]]], ['zz', [[(6.123233995736766e-17-0j), 1, 2]]], ['zz', [[(6.123233995736766e-17-0j), 0, 2]]], ['z', [[3.749399456654644e-33j, 2]]]], [['zzzz', [[(-1+0j), 0, 1, 2, 3]]], ['zzz', [[6.123233995736766e-17j, 1, 2, 3]]], ['zzz', [[6.123233995736766e-17j, 0, 2, 3]]], ['zz', [[(3.749399456654644e-33-0j), 2, 3]]], ['zzz', [[6.123233995736766e-17j, 0, 1, 3]]], ['zz', [[(3.749399456654644e-33-0j), 1, 3]]], ['zz', [[(3.749399456654644e-33-0j), 0, 3]]], ['z', [[(-0-2.2958450216584675e-49j), 3]]]], [['zzzz', [[(-1+0j), 0, 1, 2, 3]]], ['zzz', [[(-0-6.123233995736766e-17j), 1, 2, 3]]], ['zzz', [[(-0-6.123233995736766e-17j), 0, 2, 3]]], ['zz', [[(3.749399456654644e-33-0j), 2, 3]]], ['zzz', [[(-0-6.123233995736766e-17j), 0, 1, 3]]], ['zz', [[(3.749399456654644e-33-0j), 1, 3]]], ['zz', [[(3.749399456654644e-33-0j), 0, 3]]], ['z', [[2.2958450216584675e-49j, 3]]]]]\n",
      "----------------------------------------------------------------------------------------------------\n"
     ]
    },
    {
     "ename": "TypeError",
     "evalue": "expecting string type for opstr",
     "output_type": "error",
     "traceback": [
      "\u001b[1;31m---------------------------------------------------------------------------\u001b[0m",
      "\u001b[1;31mTypeError\u001b[0m                                 Traceback (most recent call last)",
      "\u001b[1;32m<ipython-input-8-5d40468e1f18>\u001b[0m in \u001b[0;36m<module>\u001b[1;34m\u001b[0m\n\u001b[0;32m     44\u001b[0m \u001b[0mprint\u001b[0m\u001b[1;33m(\u001b[0m\u001b[0mstringbox\u001b[0m\u001b[1;33m(\u001b[0m\u001b[0mstatic_terms\u001b[0m\u001b[1;33m,\u001b[0m \u001b[1;34m\"Static couplings:\"\u001b[0m\u001b[1;33m)\u001b[0m\u001b[1;33m)\u001b[0m\u001b[1;33m\u001b[0m\u001b[1;33m\u001b[0m\u001b[0m\n\u001b[0;32m     45\u001b[0m \u001b[1;31m### Plotting spectrum\u001b[0m\u001b[1;33m\u001b[0m\u001b[1;33m\u001b[0m\u001b[1;33m\u001b[0m\u001b[0m\n\u001b[1;32m---> 46\u001b[1;33m \u001b[0mH\u001b[0m \u001b[1;33m=\u001b[0m \u001b[0mhamiltonian\u001b[0m\u001b[1;33m(\u001b[0m\u001b[0mstatic_terms\u001b[0m\u001b[1;33m,\u001b[0m \u001b[0mdynamic_terms\u001b[0m\u001b[1;33m,\u001b[0m \u001b[0mbasis\u001b[0m\u001b[1;33m=\u001b[0m\u001b[0mspin_basis\u001b[0m\u001b[1;33m,\u001b[0m \u001b[0mdtype\u001b[0m\u001b[1;33m=\u001b[0m\u001b[0mnp\u001b[0m\u001b[1;33m.\u001b[0m\u001b[0mfloat64\u001b[0m\u001b[1;33m)\u001b[0m\u001b[1;33m\u001b[0m\u001b[1;33m\u001b[0m\u001b[0m\n\u001b[0m\u001b[0;32m     47\u001b[0m \u001b[0mspin_eigvals\u001b[0m \u001b[1;33m=\u001b[0m \u001b[0mH\u001b[0m\u001b[1;33m.\u001b[0m\u001b[0meigvalsh\u001b[0m\u001b[1;33m(\u001b[0m\u001b[1;33m)\u001b[0m\u001b[1;33m\u001b[0m\u001b[1;33m\u001b[0m\u001b[0m\n\u001b[0;32m     48\u001b[0m \u001b[0mplt\u001b[0m\u001b[1;33m.\u001b[0m\u001b[0mplot\u001b[0m\u001b[1;33m(\u001b[0m\u001b[0mspin_eigvals\u001b[0m\u001b[1;33m,\u001b[0m \u001b[1;34m\".\"\u001b[0m\u001b[1;33m)\u001b[0m\u001b[1;33m\u001b[0m\u001b[1;33m\u001b[0m\u001b[0m\n",
      "\u001b[1;32m~\\Anaconda3\\lib\\site-packages\\quspin\\operators\\hamiltonian_core.py\u001b[0m in \u001b[0;36m__init__\u001b[1;34m(self, static_list, dynamic_list, N, basis, shape, dtype, static_fmt, dynamic_fmt, copy, check_symm, check_herm, check_pcon, **basis_kwargs)\u001b[0m\n\u001b[0;32m    265\u001b[0m                         \u001b[0mstatic_other_list\u001b[0m\u001b[1;33m=\u001b[0m\u001b[1;33m[\u001b[0m\u001b[1;33m]\u001b[0m\u001b[1;33m\u001b[0m\u001b[1;33m\u001b[0m\u001b[0m\n\u001b[0;32m    266\u001b[0m                         \u001b[1;32mfor\u001b[0m \u001b[0mele\u001b[0m \u001b[1;32min\u001b[0m \u001b[0mstatic_list\u001b[0m\u001b[1;33m:\u001b[0m\u001b[1;33m\u001b[0m\u001b[1;33m\u001b[0m\u001b[0m\n\u001b[1;32m--> 267\u001b[1;33m                                 \u001b[1;32mif\u001b[0m \u001b[0m_check_static\u001b[0m\u001b[1;33m(\u001b[0m\u001b[0mele\u001b[0m\u001b[1;33m)\u001b[0m\u001b[1;33m:\u001b[0m\u001b[1;33m\u001b[0m\u001b[1;33m\u001b[0m\u001b[0m\n\u001b[0m\u001b[0;32m    268\u001b[0m                                         \u001b[0mstatic_opstr_list\u001b[0m\u001b[1;33m.\u001b[0m\u001b[0mappend\u001b[0m\u001b[1;33m(\u001b[0m\u001b[0mele\u001b[0m\u001b[1;33m)\u001b[0m\u001b[1;33m\u001b[0m\u001b[1;33m\u001b[0m\u001b[0m\n\u001b[0;32m    269\u001b[0m                                 \u001b[1;32melse\u001b[0m\u001b[1;33m:\u001b[0m\u001b[1;33m\u001b[0m\u001b[1;33m\u001b[0m\u001b[0m\n",
      "\u001b[1;32m~\\Anaconda3\\lib\\site-packages\\quspin\\operators\\hamiltonian_core.py\u001b[0m in \u001b[0;36m_check_static\u001b[1;34m(sub_list)\u001b[0m\n\u001b[0;32m    122\u001b[0m         \u001b[1;34m\"\"\"Checks format of static list. \"\"\"\u001b[0m\u001b[1;33m\u001b[0m\u001b[1;33m\u001b[0m\u001b[0m\n\u001b[0;32m    123\u001b[0m         \u001b[1;32mif\u001b[0m \u001b[1;33m(\u001b[0m\u001b[0mtype\u001b[0m\u001b[1;33m(\u001b[0m\u001b[0msub_list\u001b[0m\u001b[1;33m)\u001b[0m \u001b[1;32min\u001b[0m \u001b[1;33m[\u001b[0m\u001b[0mlist\u001b[0m\u001b[1;33m,\u001b[0m\u001b[0mtuple\u001b[0m\u001b[1;33m]\u001b[0m\u001b[1;33m)\u001b[0m \u001b[1;32mand\u001b[0m \u001b[1;33m(\u001b[0m\u001b[0mlen\u001b[0m\u001b[1;33m(\u001b[0m\u001b[0msub_list\u001b[0m\u001b[1;33m)\u001b[0m \u001b[1;33m==\u001b[0m \u001b[1;36m2\u001b[0m\u001b[1;33m)\u001b[0m\u001b[1;33m:\u001b[0m\u001b[1;33m\u001b[0m\u001b[1;33m\u001b[0m\u001b[0m\n\u001b[1;32m--> 124\u001b[1;33m                 \u001b[1;32mif\u001b[0m \u001b[0mtype\u001b[0m\u001b[1;33m(\u001b[0m\u001b[0msub_list\u001b[0m\u001b[1;33m[\u001b[0m\u001b[1;36m0\u001b[0m\u001b[1;33m]\u001b[0m\u001b[1;33m)\u001b[0m \u001b[1;32mis\u001b[0m \u001b[1;32mnot\u001b[0m \u001b[0mstr\u001b[0m\u001b[1;33m:\u001b[0m \u001b[1;32mraise\u001b[0m \u001b[0mTypeError\u001b[0m\u001b[1;33m(\u001b[0m\u001b[1;34m'expecting string type for opstr'\u001b[0m\u001b[1;33m)\u001b[0m\u001b[1;33m\u001b[0m\u001b[1;33m\u001b[0m\u001b[0m\n\u001b[0m\u001b[0;32m    125\u001b[0m                 \u001b[1;32mif\u001b[0m \u001b[0mtype\u001b[0m\u001b[1;33m(\u001b[0m\u001b[0msub_list\u001b[0m\u001b[1;33m[\u001b[0m\u001b[1;36m1\u001b[0m\u001b[1;33m]\u001b[0m\u001b[1;33m)\u001b[0m \u001b[1;32min\u001b[0m \u001b[1;33m[\u001b[0m\u001b[0mlist\u001b[0m\u001b[1;33m,\u001b[0m\u001b[0mtuple\u001b[0m\u001b[1;33m]\u001b[0m\u001b[1;33m:\u001b[0m\u001b[1;33m\u001b[0m\u001b[1;33m\u001b[0m\u001b[0m\n\u001b[0;32m    126\u001b[0m                         \u001b[1;32mfor\u001b[0m \u001b[0msub_sub_list\u001b[0m \u001b[1;32min\u001b[0m \u001b[0msub_list\u001b[0m\u001b[1;33m[\u001b[0m\u001b[1;36m1\u001b[0m\u001b[1;33m]\u001b[0m\u001b[1;33m:\u001b[0m\u001b[1;33m\u001b[0m\u001b[1;33m\u001b[0m\u001b[0m\n",
      "\u001b[1;31mTypeError\u001b[0m: expecting string type for opstr"
     ]
    }
   ],
   "source": [
    "spin_basis = spin_basis_1d(N, pauli=-1, Nup=N_filled)\n",
    "static_terms = []\n",
    "dynamic_terms = []\n",
    "\n",
    "### Hopping term\n",
    "L = (N if PBC else N-1)\n",
    "hop_coupling = [[-t, i, (i+1) % N] for i in range(L)]\n",
    "hop_coupling_dag = [[-t, (i+1) % N, i] for i in range(L)]\n",
    "if PBC and N_filled % 2 == 0:\n",
    "    hop_coupling[-1][0] = -hop_coupling[-1][0]\n",
    "    hop_coupling_dag[-1][0] = -hop_coupling_dag[-1][0]\n",
    "static_terms += [[\"+-\", hop_coupling]]\n",
    "static_terms += [[\"+-\", hop_coupling_dag]]\n",
    "\n",
    "### Mass term\n",
    "mass_coupling = [[m * (-1) ** i, i, i] for i in range(N)]\n",
    "static_terms += [[\"+-\", mass_coupling]]\n",
    "\n",
    "### E-field term\n",
    "def powerset(seq):\n",
    "    if len(seq) == 1:\n",
    "        yield seq\n",
    "    else:\n",
    "        for item in powerset(seq[1:]):\n",
    "            yield [seq[0]]+item\n",
    "            yield item\n",
    "def P(n, dag=False):\n",
    "    i_parity = (-1 if dag else 1)\n",
    "    phase = np.exp(1j * (1 - n % 2) * np.pi / N_group * i_parity)\n",
    "    P_coupling = []\n",
    "    for seq in powerset(list(range(n + 1))):\n",
    "        seq = list(seq)\n",
    "        coupling = np.cos(np.pi / N_group)**(n - len(seq) + 1) * (np.sin(np.pi / N_group) * i_parity * 1j)**len(seq)\n",
    "        coupling *= P_neg1 * -g\n",
    "        couple_list = [coupling] + seq\n",
    "        P_coupling += [[\"z\" * len(seq)] + [[couple_list]]]\n",
    "    return P_coupling\n",
    "    \n",
    "for i in range(N):\n",
    "    static_terms += P(i, dag=False)\n",
    "    static_terms += P(i, dag=True)\n",
    "\n",
    "print(stringbox(static_terms, \"Static couplings:\"))\n",
    "### Plotting spectrum\n",
    "H = hamiltonian(static_terms, dynamic_terms, basis=spin_basis, dtype=np.float64)\n",
    "spin_eigvals = H.eigvalsh()\n",
    "plt.plot(spin_eigvals, \".\")\n",
    "plt.show()"
   ]
  },
  {
   "cell_type": "markdown",
   "metadata": {},
   "source": [
    "## Fermion Basis"
   ]
  },
  {
   "cell_type": "code",
   "execution_count": null,
   "metadata": {},
   "outputs": [],
   "source": [
    "fermion_basis = spinless_fermion_basis_1d(L=N, Nf=N_filled)\n",
    "static_terms = []\n",
    "dynamic_terms = []\n",
    "\n",
    "### Hopping term\n",
    "L = (N if PBC else N-1)\n",
    "hop_coupling = [[-t, i, (i+1) % N] for i in range(L)]\n",
    "hop_coupling_dag = [[-t, (i+1) % N, i] for i in range(L)]\n",
    "static_terms += [[\"+-\", hop_coupling]]\n",
    "static_terms += [[\"+-\", hop_coupling_dag]]\n",
    "\n",
    "### Mass term\n",
    "mass_coupling = [[m * (-1) ** i, i, i] for i in range(N)]\n",
    "static_terms += [[\"+-\", mass_coupling]]\n",
    "\n",
    "### E-field term\n",
    "E_link_parity = lambda x : -1 if (x % 4) < 2 else 1\n",
    "for i in range(N):\n",
    "    E_coupling = [P_neg1 * -g * E_link_parity(i) * 2 ** (i+1)] + list(range(i+1))\n",
    "    static_terms += [[\"z\" * (i+1), [E_coupling]]]\n",
    "\n",
    "print(stringbox(static_terms, \"Static couplings:\"))\n",
    "### Plotting spectrum\n",
    "H = hamiltonian(static_terms, dynamic_terms, basis=fermion_basis, dtype=np.float64)\n",
    "fermion_eigvals = H.eigvalsh()\n",
    "plt.plot(fermion_eigvals, \".\")\n",
    "plt.show()"
   ]
  },
  {
   "cell_type": "markdown",
   "metadata": {},
   "source": [
    "## Comparison"
   ]
  },
  {
   "cell_type": "code",
   "execution_count": null,
   "metadata": {
    "scrolled": true
   },
   "outputs": [],
   "source": [
    "mdiff = max(fermion_eigvals - spin_eigvals)\n",
    "print(stringbox(fermion_eigvals, \"Fermion eigenvalues:\"))\n",
    "print(stringbox(spin_eigvals, \"Spin eigenvalues:\"))\n",
    "print(\"Maximum difference between eigenvalues:\", mdiff)"
   ]
  }
 ],
 "metadata": {
  "kernelspec": {
   "display_name": "Python 3",
   "language": "python",
   "name": "python3"
  },
  "language_info": {
   "codemirror_mode": {
    "name": "ipython",
    "version": 3
   },
   "file_extension": ".py",
   "mimetype": "text/x-python",
   "name": "python",
   "nbconvert_exporter": "python",
   "pygments_lexer": "ipython3",
   "version": "3.7.4"
  }
 },
 "nbformat": 4,
 "nbformat_minor": 4
}
