{
 "cells": [
  {
   "cell_type": "markdown",
   "metadata": {},
   "source": [
    "## Import Libraries"
   ]
  },
  {
   "cell_type": "code",
   "execution_count": 1,
   "metadata": {},
   "outputs": [],
   "source": [
    "from quspin.operators import hamiltonian\n",
    "from quspin.basis import spin_basis_1d\n",
    "from quspin.basis import spinless_fermion_basis_1d\n",
    "import numpy as np\n",
    "import matplotlib.pyplot as plt\n",
    "import itertools\n",
    "plt.rcParams['figure.figsize'] = [10, 8]"
   ]
  },
  {
   "cell_type": "markdown",
   "metadata": {},
   "source": [
    "## Define Constants/Helpers"
   ]
  },
  {
   "cell_type": "code",
   "execution_count": 2,
   "metadata": {},
   "outputs": [],
   "source": [
    "N_group = 2\n",
    "N = 10\n",
    "N_filled = N // 2\n",
    "P_neg1 = 1\n",
    "t = -0.5\n",
    "g = 1\n",
    "m = 1\n",
    "PBC = True"
   ]
  },
  {
   "cell_type": "code",
   "execution_count": 3,
   "metadata": {},
   "outputs": [],
   "source": [
    "def stringbox(lst, caption):\n",
    "    return caption + \"-\" * (100 - len(caption))+\"\\n\" + str(lst) + \"\\n\" + \"-\" * 100"
   ]
  },
  {
   "cell_type": "markdown",
   "metadata": {},
   "source": [
    "## Spin Basis Simulation"
   ]
  },
  {
   "cell_type": "code",
   "execution_count": 7,
   "metadata": {},
   "outputs": [
    {
     "name": "stdout",
     "output_type": "stream",
     "text": [
      "Hermiticity check passed!\n",
      "Symmetry checks passed!\n",
      "Particle conservation check passed!\n"
     ]
    },
    {
     "data": {
      "image/png": "[encoded data removed]",
      "text/plain": [
       "<Figure size 720x576 with 1 Axes>"
      ]
     },
     "metadata": {
      "needs_background": "light"
     },
     "output_type": "display_data"
    }
   ],
   "source": [
    "spin_basis = spin_basis_1d(N, pauli=-1, Nup=N_filled)\n",
    "static_terms = []\n",
    "dynamic_terms = []\n",
    "\n",
    "### Hopping term\n",
    "L = (N if PBC else N-1)\n",
    "hop_coupling = [[-t, i, (i+1) % N] for i in range(L)]\n",
    "hop_coupling_dag = [[-t, (i+1) % N, i] for i in range(L)]\n",
    "if PBC and N_filled % 2 == 0:\n",
    "    hop_coupling[-1][0] = -hop_coupling[-1][0]\n",
    "    hop_coupling_dag[-1][0] = -hop_coupling_dag[-1][0]\n",
    "static_terms += [[\"+-\", hop_coupling]]\n",
    "static_terms += [[\"+-\", hop_coupling_dag]]\n",
    "\n",
    "### Mass term\n",
    "mass_coupling = [[m * (-1) ** i, i, i] for i in range(N)]\n",
    "static_terms += [[\"+-\", mass_coupling]]\n",
    "\n",
    "### E-field term\n",
    "def powerset(seq):\n",
    "    if len(seq) == 1:\n",
    "        yield seq\n",
    "    else:\n",
    "        for item in powerset(seq[1:]):\n",
    "            yield [seq[0]]+item\n",
    "            yield item\n",
    "def P(n, dag=False):\n",
    "    i_parity = (-1 if dag else 1)\n",
    "    phase = np.exp(1j * (1 - n % 2) * np.pi / N_group * i_parity)\n",
    "    P_coupling = []\n",
    "    for seq in powerset(list(range(n + 1))):\n",
    "        seq = list(seq)\n",
    "        coupling = np.cos(np.pi / N_group)**(n - len(seq) + 1) * (np.sin(np.pi / N_group) * i_parity * 1j)**len(seq)\n",
    "        coupling *= P_neg1 * -g * phase * 0.5\n",
    "        couple_list = [coupling] + seq\n",
    "        P_coupling += [[\"z\" * len(seq)] + [[couple_list]]]\n",
    "    return P_coupling\n",
    "    \n",
    "for i in range(N):\n",
    "    static_terms += P(i, dag=False)\n",
    "    static_terms += P(i, dag=True)\n",
    "\n",
    "# This list is annoyingly long\n",
    "# print(stringbox(static_terms, \"Static couplings:\"))\n",
    "### Plotting spectrum\n",
    "H = hamiltonian(static_terms, dynamic_terms, basis=spin_basis, dtype=np.complex64)\n",
    "spin_eigvals = H.eigvalsh()\n",
    "plt.plot(spin_eigvals, \".\")\n",
    "plt.show()"
   ]
  },
  {
   "cell_type": "markdown",
   "metadata": {},
   "source": [
    "## Fermion Basis"
   ]
  },
  {
   "cell_type": "code",
   "execution_count": 5,
   "metadata": {},
   "outputs": [
    {
     "name": "stdout",
     "output_type": "stream",
     "text": [
      "Static couplings:-----------------------------------------------------------------------------------\n",
      "[['+-', [[0.5, 0, 1], [0.5, 1, 2], [0.5, 2, 3], [0.5, 3, 4], [0.5, 4, 5], [0.5, 5, 6], [0.5, 6, 7], [0.5, 7, 8], [0.5, 8, 9], [0.5, 9, 0]]], ['+-', [[0.5, 1, 0], [0.5, 2, 1], [0.5, 3, 2], [0.5, 4, 3], [0.5, 5, 4], [0.5, 6, 5], [0.5, 7, 6], [0.5, 8, 7], [0.5, 9, 8], [0.5, 0, 9]]], ['+-', [[1, 0, 0], [-1, 1, 1], [1, 2, 2], [-1, 3, 3], [1, 4, 4], [-1, 5, 5], [1, 6, 6], [-1, 7, 7], [1, 8, 8], [-1, 9, 9]]], ['z', [[2, 0]]], ['zz', [[4, 0, 1]]], ['zzz', [[-8, 0, 1, 2]]], ['zzzz', [[-16, 0, 1, 2, 3]]], ['zzzzz', [[32, 0, 1, 2, 3, 4]]], ['zzzzzz', [[64, 0, 1, 2, 3, 4, 5]]], ['zzzzzzz', [[-128, 0, 1, 2, 3, 4, 5, 6]]], ['zzzzzzzz', [[-256, 0, 1, 2, 3, 4, 5, 6, 7]]], ['zzzzzzzzz', [[512, 0, 1, 2, 3, 4, 5, 6, 7, 8]]], ['zzzzzzzzzz', [[1024, 0, 1, 2, 3, 4, 5, 6, 7, 8, 9]]]]\n",
      "----------------------------------------------------------------------------------------------------\n",
      "Hermiticity check passed!\n",
      "Symmetry checks passed!\n",
      "Particle conservation check passed!\n"
     ]
    },
    {
     "data": {
      "image/png": "[encoded data removed]",
      "text/plain": [
       "<Figure size 720x576 with 1 Axes>"
      ]
     },
     "metadata": {
      "needs_background": "light"
     },
     "output_type": "display_data"
    }
   ],
   "source": [
    "fermion_basis = spinless_fermion_basis_1d(L=N, Nf=N_filled)\n",
    "static_terms = []\n",
    "dynamic_terms = []\n",
    "\n",
    "### Hopping term\n",
    "L = (N if PBC else N-1)\n",
    "hop_coupling = [[-t, i, (i+1) % N] for i in range(L)]\n",
    "hop_coupling_dag = [[-t, (i+1) % N, i] for i in range(L)]\n",
    "static_terms += [[\"+-\", hop_coupling]]\n",
    "static_terms += [[\"+-\", hop_coupling_dag]]\n",
    "\n",
    "### Mass term\n",
    "mass_coupling = [[m * (-1) ** i, i, i] for i in range(N)]\n",
    "static_terms += [[\"+-\", mass_coupling]]\n",
    "\n",
    "### E-field term\n",
    "E_link_parity = lambda x : -1 if (x % 4) < 2 else 1\n",
    "for i in range(N):\n",
    "    E_coupling = [P_neg1 * -g * E_link_parity(i) * 2 ** (i+1)] + list(range(i+1))\n",
    "    static_terms += [[\"z\" * (i+1), [E_coupling]]]\n",
    "\n",
    "print(stringbox(static_terms, \"Static couplings:\"))\n",
    "### Plotting spectrum\n",
    "H = hamiltonian(static_terms, dynamic_terms, basis=fermion_basis, dtype=np.float64)\n",
    "fermion_eigvals = H.eigvalsh()\n",
    "plt.plot(fermion_eigvals, \".\")\n",
    "plt.show()"
   ]
  },
  {
   "cell_type": "markdown",
   "metadata": {},
   "source": [
    "## Comparison"
   ]
  },
  {
   "cell_type": "code",
   "execution_count": 6,
   "metadata": {
    "scrolled": true
   },
   "outputs": [
    {
     "name": "stdout",
     "output_type": "stream",
     "text": [
      "Fermion eigenvalues:--------------------------------------------------------------------------------\n",
      "[-1.55525120e+01 -1.14373781e+01 -1.14248802e+01 -1.14028044e+01\n",
      " -1.13702047e+01 -1.13321515e+01 -1.12920591e+01 -1.12563252e+01\n",
      " -1.12283446e+01 -1.12110591e+01 -7.74050377e+00 -7.73977636e+00\n",
      " -7.71547815e+00 -7.71167202e+00 -7.71007497e+00 -7.70874715e+00\n",
      " -7.70524303e+00 -7.30628296e+00 -7.26466020e+00 -7.26083871e+00\n",
      " -7.22194662e+00 -7.19916627e+00 -7.17713480e+00 -7.16803576e+00\n",
      " -7.15281107e+00 -7.12535610e+00 -7.11630198e+00 -7.10603527e+00\n",
      " -7.09465132e+00 -7.08119335e+00 -7.07717986e+00 -7.07244435e+00\n",
      " -7.04441969e+00 -7.02773928e+00 -7.00084750e+00 -6.98060284e+00\n",
      " -6.95102534e+00 -6.90879398e+00 -6.74042055e+00 -6.73996706e+00\n",
      " -6.71014969e+00 -6.70622371e+00 -6.69991491e+00 -6.69416511e+00\n",
      " -6.69172091e+00 -4.30165395e+00 -4.29875729e+00 -4.27351173e+00\n",
      " -4.18521388e+00 -4.18519169e+00 -3.64688368e+00 -3.63486471e+00\n",
      " -3.59979185e+00 -3.59776791e+00 -3.59275913e+00 -3.59186950e+00\n",
      " -3.58368922e+00 -3.56403372e+00 -3.53253655e+00 -3.50905368e+00\n",
      " -3.50643863e+00 -3.50387806e+00 -3.50208761e+00 -3.48292462e+00\n",
      " -3.47545306e+00 -3.44470272e+00 -3.44180358e+00 -3.42889646e+00\n",
      " -3.41756799e+00 -3.41225241e+00 -3.41217655e+00 -3.40007073e+00\n",
      " -3.39976649e+00 -3.33827688e+00 -3.32852402e+00 -3.15103095e+00\n",
      " -3.14421116e+00 -3.13488806e+00 -3.12462366e+00 -3.12331333e+00\n",
      " -3.12074471e+00 -3.11648481e+00 -3.10416355e+00 -3.08894898e+00\n",
      " -3.08359276e+00 -3.04256951e+00 -2.97607009e+00 -2.95615106e+00\n",
      " -2.94438787e+00 -2.89419516e+00 -2.88827134e+00 -2.83232301e+00\n",
      " -2.81952862e+00 -2.81529267e+00 -2.79280725e+00 -2.79217980e+00\n",
      " -2.79065516e+00 -2.75964244e+00 -2.67787361e+00 -2.59544217e+00\n",
      " -2.59506524e+00 -2.57560002e+00 -2.57480313e+00 -2.55463658e+00\n",
      " -2.55344260e+00 -2.55001871e+00 -2.53667498e+00 -2.51841446e+00\n",
      " -2.49736833e+00 -2.48714657e+00 -2.48200057e+00 -2.46767724e+00\n",
      " -2.44578436e+00 -2.42364930e+00 -2.42238563e+00 -2.41318978e+00\n",
      " -2.40605697e+00 -2.39729920e+00 -2.38857025e+00 -2.05559746e+00\n",
      " -2.05533375e+00 -2.01060802e+00 -1.99938365e+00 -1.99753220e+00\n",
      " -6.50117401e-01 -6.49378837e-01 -5.49921599e-01 -5.66253544e-02\n",
      " -3.35387140e-02 -1.04137080e-02  9.90939188e-04  1.80351745e-02\n",
      "  4.42507151e-02  5.58573668e-02  8.50396216e-02  9.09143803e-02\n",
      "  1.19760130e-01  1.40595029e-01  1.44899323e-01  1.98424959e-01\n",
      "  1.98814152e-01  2.31193728e-01  3.09073512e-01  3.10094683e-01\n",
      "  4.06077143e-01  4.45903311e-01  4.46521044e-01  5.21509964e-01\n",
      "  5.34560828e-01  6.18791351e-01  6.78734677e-01  6.80024119e-01\n",
      "  6.89538526e-01  6.91144603e-01  7.23015727e-01  7.40447614e-01\n",
      "  7.88551933e-01  8.00455755e-01  8.01680042e-01  8.05074753e-01\n",
      "  8.67961164e-01  8.85456790e-01  9.69679990e-01  9.86513128e-01\n",
      "  9.86961040e-01  1.03782411e+00  1.05003497e+00  1.06371698e+00\n",
      "  1.06475764e+00  1.07738653e+00  1.08119182e+00  1.11476482e+00\n",
      "  1.12289100e+00  1.12562399e+00  1.14629546e+00  1.16337198e+00\n",
      "  1.16585152e+00  1.17780731e+00  1.19055184e+00  1.20131413e+00\n",
      "  1.23778294e+00  1.31131669e+00  1.31190931e+00  1.33456561e+00\n",
      "  1.36647763e+00  1.37818776e+00  1.39219343e+00  1.43314700e+00\n",
      "  1.44982911e+00  1.45456116e+00  1.48329483e+00  1.49676042e+00\n",
      "  1.55917947e+00  1.56137246e+00  1.65597944e+00  1.69763413e+00\n",
      "  1.71749589e+00  1.72214598e+00  1.74522205e+00  1.80785558e+00\n",
      "  1.81360288e+00  1.89755366e+00  2.03792221e+00  2.04001004e+00\n",
      "  2.06620439e+00  2.07063580e+00  2.10589686e+00  2.11356208e+00\n",
      "  2.17954350e+00  2.18069161e+00  2.19984499e+00  2.21221730e+00\n",
      "  2.25064320e+00  2.31560716e+00  2.33078113e+00  2.65788514e+00\n",
      "  2.65921253e+00  2.81914414e+00  2.85004416e+00  3.45450997e+00\n",
      "  3.59109014e+00  3.75615484e+00  3.95605838e+00  4.11266102e+00\n",
      "  4.16526913e+00  4.18427704e+00  4.35399265e+00  4.48856406e+00\n",
      "  4.64310452e+00  4.70810742e+00  4.81044364e+00  4.82817220e+00\n",
      "  4.87880530e+00  4.95879100e+00  5.08659722e+00  5.11420031e+00\n",
      "  5.27021761e+00  5.29149204e+00  5.44635281e+00  5.46796530e+00\n",
      "  5.51809209e+00  5.54280049e+00  5.72101861e+00  5.86753306e+00\n",
      "  6.02293027e+00  6.05180831e+00  6.18337156e+00  6.22298782e+00\n",
      "  6.42101801e+00  6.60713006e+00  6.79487698e+00  7.34102933e+00]\n",
      "----------------------------------------------------------------------------------------------------\n",
      "Spin eigenvalues:-----------------------------------------------------------------------------------\n",
      "[-1.55525255e+01 -1.14373789e+01 -1.14248857e+01 -1.14028063e+01\n",
      " -1.13702173e+01 -1.13321514e+01 -1.12920666e+01 -1.12563238e+01\n",
      " -1.12283430e+01 -1.12110624e+01 -7.74050570e+00 -7.73977184e+00\n",
      " -7.71547461e+00 -7.71167135e+00 -7.71007395e+00 -7.70874786e+00\n",
      " -7.70523977e+00 -7.30628300e+00 -7.26465654e+00 -7.26084137e+00\n",
      " -7.22194624e+00 -7.19917107e+00 -7.17713547e+00 -7.16802835e+00\n",
      " -7.15281057e+00 -7.12535715e+00 -7.11629295e+00 -7.10604191e+00\n",
      " -7.09465551e+00 -7.08119154e+00 -7.07718182e+00 -7.07244349e+00\n",
      " -7.04441309e+00 -7.02774096e+00 -7.00084734e+00 -6.98060369e+00\n",
      " -6.95103359e+00 -6.90879440e+00 -6.74042368e+00 -6.73997021e+00\n",
      " -6.71014833e+00 -6.70622492e+00 -6.69991541e+00 -6.69416237e+00\n",
      " -6.69172049e+00 -4.30165100e+00 -4.29876232e+00 -4.27351475e+00\n",
      " -4.18521166e+00 -4.18519211e+00 -3.64688230e+00 -3.63486218e+00\n",
      " -3.59979010e+00 -3.59776664e+00 -3.59275889e+00 -3.59187174e+00\n",
      " -3.58368921e+00 -3.56403470e+00 -3.53253531e+00 -3.50905371e+00\n",
      " -3.50643849e+00 -3.50387692e+00 -3.50208807e+00 -3.48292494e+00\n",
      " -3.47545218e+00 -3.44470310e+00 -3.44180369e+00 -3.42889690e+00\n",
      " -3.41756821e+00 -3.41225290e+00 -3.41217685e+00 -3.40006924e+00\n",
      " -3.39976573e+00 -3.33827710e+00 -3.32852244e+00 -3.15102983e+00\n",
      " -3.14421272e+00 -3.13488531e+00 -3.12462330e+00 -3.12331533e+00\n",
      " -3.12074327e+00 -3.11648726e+00 -3.10415840e+00 -3.08895063e+00\n",
      " -3.08359265e+00 -3.04256892e+00 -2.97606921e+00 -2.95615029e+00\n",
      " -2.94438577e+00 -2.89419436e+00 -2.88826919e+00 -2.83232355e+00\n",
      " -2.81952667e+00 -2.81529140e+00 -2.79280806e+00 -2.79217911e+00\n",
      " -2.79065537e+00 -2.75964212e+00 -2.67787147e+00 -2.59544253e+00\n",
      " -2.59506679e+00 -2.57559824e+00 -2.57480192e+00 -2.55463219e+00\n",
      " -2.55344224e+00 -2.55001330e+00 -2.53667426e+00 -2.51841378e+00\n",
      " -2.49736452e+00 -2.48714590e+00 -2.48199964e+00 -2.46767640e+00\n",
      " -2.44578528e+00 -2.42364860e+00 -2.42238736e+00 -2.41318917e+00\n",
      " -2.40605021e+00 -2.39730310e+00 -2.38857174e+00 -2.05559635e+00\n",
      " -2.05533481e+00 -2.01060963e+00 -1.99938405e+00 -1.99752998e+00\n",
      " -6.50117636e-01 -6.49378300e-01 -5.49921513e-01 -5.66255078e-02\n",
      " -3.35409194e-02 -1.04134651e-02  9.90400440e-04  1.80348158e-02\n",
      "  4.42530774e-02  5.58579601e-02  8.50390419e-02  9.09157470e-02\n",
      "  1.19760171e-01  1.40595958e-01  1.44899845e-01  1.98425382e-01\n",
      "  1.98814452e-01  2.31194198e-01  3.09074998e-01  3.10094446e-01\n",
      "  4.06076998e-01  4.45903003e-01  4.46520954e-01  5.21510482e-01\n",
      "  5.34560680e-01  6.18791044e-01  6.78734601e-01  6.80023909e-01\n",
      "  6.89538240e-01  6.91143870e-01  7.23016024e-01  7.40446985e-01\n",
      "  7.88551271e-01  8.00455868e-01  8.01678658e-01  8.05074632e-01\n",
      "  8.67961049e-01  8.85457397e-01  9.69679356e-01  9.86512899e-01\n",
      "  9.86960828e-01  1.03782380e+00  1.05003476e+00  1.06371677e+00\n",
      "  1.06475759e+00  1.07738709e+00  1.08119178e+00  1.11476457e+00\n",
      "  1.12289047e+00  1.12562406e+00  1.14629555e+00  1.16337180e+00\n",
      "  1.16585124e+00  1.17780757e+00  1.19055188e+00  1.20131445e+00\n",
      "  1.23778260e+00  1.31131768e+00  1.31190908e+00  1.33456552e+00\n",
      "  1.36647820e+00  1.37818789e+00  1.39219332e+00  1.43314695e+00\n",
      "  1.44982827e+00  1.45456111e+00  1.48329461e+00  1.49676108e+00\n",
      "  1.55918002e+00  1.56137276e+00  1.65598023e+00  1.69763315e+00\n",
      "  1.71749651e+00  1.72214592e+00  1.74522161e+00  1.80785608e+00\n",
      "  1.81360340e+00  1.89755309e+00  2.03792262e+00  2.04000950e+00\n",
      "  2.06620336e+00  2.07063460e+00  2.10589504e+00  2.11356068e+00\n",
      "  2.17954302e+00  2.18069053e+00  2.19984555e+00  2.21221685e+00\n",
      "  2.25064254e+00  2.31560516e+00  2.33078098e+00  2.65788436e+00\n",
      "  2.65921330e+00  2.81914425e+00  2.85004497e+00  3.45451021e+00\n",
      "  3.59109211e+00  3.75615382e+00  3.95606160e+00  4.11266470e+00\n",
      "  4.16526508e+00  4.18428135e+00  4.35398817e+00  4.48856544e+00\n",
      "  4.64310646e+00  4.70810556e+00  4.81044054e+00  4.82816982e+00\n",
      "  4.87879896e+00  4.95879459e+00  5.08659601e+00  5.11420012e+00\n",
      "  5.27021742e+00  5.29149294e+00  5.44634485e+00  5.46796894e+00\n",
      "  5.51809072e+00  5.54280329e+00  5.72101593e+00  5.86753559e+00\n",
      "  6.02293205e+00  6.05180979e+00  6.18337345e+00  6.22298574e+00\n",
      "  6.42102194e+00  6.60712337e+00  6.79487514e+00  7.34103203e+00]\n",
      "----------------------------------------------------------------------------------------------------\n",
      "Maximum difference between eigenvalues: 1.3533784823493988e-05\n"
     ]
    }
   ],
   "source": [
    "mdiff = max(abs(fermion_eigvals - spin_eigvals))\n",
    "print(stringbox(fermion_eigvals, \"Fermion eigenvalues:\"))\n",
    "print(stringbox(spin_eigvals, \"Spin eigenvalues:\"))\n",
    "print(\"Maximum difference between eigenvalues:\", mdiff)"
   ]
  }
 ],
 "metadata": {
  "kernelspec": {
   "display_name": "Python 3",
   "language": "python",
   "name": "python3"
  },
  "language_info": {
   "codemirror_mode": {
    "name": "ipython",
    "version": 3
   },
   "file_extension": ".py",
   "mimetype": "text/x-python",
   "name": "python",
   "nbconvert_exporter": "python",
   "pygments_lexer": "ipython3",
   "version": "3.7.4"
  }
 },
 "nbformat": 4,
 "nbformat_minor": 4
}
