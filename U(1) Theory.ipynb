{
 "cells": [
  {
   "cell_type": "markdown",
   "metadata": {},
   "source": [
    "## Import Libraries"
   ]
  },
  {
   "cell_type": "code",
   "execution_count": 1,
   "metadata": {},
   "outputs": [],
   "source": [
    "from quspin.operators import hamiltonian\n",
    "from quspin.basis import spin_basis_1d\n",
    "from quspin.basis import spinless_fermion_basis_1d\n",
    "import numpy as np\n",
    "import matplotlib.pyplot as plt\n",
    "import itertools\n",
    "plt.rcParams['figure.figsize'] = [10, 8]"
   ]
  },
  {
   "cell_type": "markdown",
   "metadata": {},
   "source": [
    "## Define Constants/Helpers"
   ]
  },
  {
   "cell_type": "code",
   "execution_count": 2,
   "metadata": {},
   "outputs": [],
   "source": [
    "N = 4\n",
    "N_filled = N // 2\n",
    "E_neg1 = 0\n",
    "P_neg1 = np.exp(-1j * E_neg1)\n",
    "t = -0.5\n",
    "g = 1\n",
    "m = 1\n",
    "PBC = True"
   ]
  },
  {
   "cell_type": "code",
   "execution_count": 3,
   "metadata": {},
   "outputs": [],
   "source": [
    "def stringbox(lst, caption):\n",
    "    return caption + \"-\" * (100 - len(caption))+\"\\n\" + str(lst) + \"\\n\" + \"-\" * 100"
   ]
  },
  {
   "cell_type": "markdown",
   "metadata": {},
   "source": [
    "## Spin Basis Simulation"
   ]
  },
  {
   "cell_type": "code",
   "execution_count": 4,
   "metadata": {},
   "outputs": [
    {
     "name": "stdout",
     "output_type": "stream",
     "text": [
      "Static couplings:-----------------------------------------------------------------------------------\n",
      "[['+-', [[0.5, 0, 1], [0.5, 1, 2], [0.5, 2, 3], [-0.5, 3, 0]]], ['+-', [[0.5, 1, 0], [0.5, 2, 1], [0.5, 3, 2], [-0.5, 0, 3]]], ['+-', [[1, 0, 0], [-1, 1, 1], [1, 2, 2], [-1, 3, 3]]], ['+-', [[0, 0, 0]]], ['+-+-', [[0, 0, 0, 0, 0]]], ['+-', [[0, 0, 0], [0, 1, 1]]], ['+-+-', [[0, 0, 0, 0, 0], [0, 0, 0, 1, 1], [0, 1, 1, 0, 0], [0, 1, 1, 1, 1]]], ['+-', [[0, 0, 0], [0, 1, 1], [0, 2, 2]]], ['+-+-', [[0, 0, 0, 0, 0], [0, 0, 0, 1, 1], [0, 0, 0, 2, 2], [0, 1, 1, 0, 0], [0, 1, 1, 1, 1], [0, 1, 1, 2, 2], [0, 2, 2, 0, 0], [0, 2, 2, 1, 1], [0, 2, 2, 2, 2]]], ['+-', [[0, 0, 0], [0, 1, 1], [0, 2, 2], [0, 3, 3]]], ['+-+-', [[0, 0, 0, 0, 0], [0, 0, 0, 1, 1], [0, 0, 0, 2, 2], [0, 0, 0, 3, 3], [0, 1, 1, 0, 0], [0, 1, 1, 1, 1], [0, 1, 1, 2, 2], [0, 1, 1, 3, 3], [0, 2, 2, 0, 0], [0, 2, 2, 1, 1], [0, 2, 2, 2, 2], [0, 2, 2, 3, 3], [0, 3, 3, 0, 0], [0, 3, 3, 1, 1], [0, 3, 3, 2, 2], [0, 3, 3, 3, 3]]]]\n",
      "----------------------------------------------------------------------------------------------------\n",
      "Hermiticity check passed!\n",
      "Symmetry checks passed!\n",
      "Particle conservation check passed!\n"
     ]
    },
    {
     "data": {
      "image/png": "[encoded data removed]",
      "text/plain": [
       "<Figure size 720x576 with 1 Axes>"
      ]
     },
     "metadata": {
      "needs_background": "light"
     },
     "output_type": "display_data"
    }
   ],
   "source": [
    "spin_basis = spin_basis_1d(N, pauli=-1, Nup=N_filled)\n",
    "static_terms = []\n",
    "dynamic_terms = []\n",
    "\n",
    "### Hopping term\n",
    "L = (N if PBC else N-1)\n",
    "hop_coupling = [[-t, i, (i+1) % N] for i in range(L)]\n",
    "hop_coupling_dag = [[-t, (i+1) % N, i] for i in range(L)]\n",
    "if PBC and N_filled % 2 == 0:\n",
    "    hop_coupling[-1][0] = -hop_coupling[-1][0]\n",
    "    hop_coupling_dag[-1][0] = -hop_coupling_dag[-1][0]\n",
    "static_terms += [[\"+-\", hop_coupling]]\n",
    "static_terms += [[\"+-\", hop_coupling_dag]]\n",
    "\n",
    "### Mass term\n",
    "mass_coupling = [[m * (-1) ** i, i, i] for i in range(N)]\n",
    "static_terms += [[\"+-\", mass_coupling]]\n",
    "\n",
    "### E-field term\n",
    "def E_squared(n):\n",
    "    E_const = E_neg1 - (n + 1) // 2\n",
    "    s_coupling = []\n",
    "    d_coupling = []\n",
    "    for i in range(n + 1):\n",
    "        s_coeff = 2 * E_const * -g\n",
    "        s_coupling += [[s_coeff, i, i]]\n",
    "        for j in range(n + 1):\n",
    "            d_coeff = -g\n",
    "            d_coupling += [[d_coeff, i, i, j, j]]\n",
    "    return [[\"+-\", s_coupling], [\"+-+-\", d_coupling]]\n",
    "for i in range(N):\n",
    "    static_terms += E_squared(i)\n",
    "\n",
    "print(stringbox(static_terms, \"Static couplings:\"))\n",
    "### Plotting spectrum\n",
    "H = hamiltonian(static_terms, dynamic_terms, basis=spin_basis, dtype=np.complex64)\n",
    "spin_eigvals = H.eigvalsh()\n",
    "plt.plot(spin_eigvals, \".\")\n",
    "plt.show()"
   ]
  },
  {
   "cell_type": "markdown",
   "metadata": {},
   "source": [
    "## Fermion Basis"
   ]
  },
  {
   "cell_type": "code",
   "execution_count": 5,
   "metadata": {},
   "outputs": [
    {
     "name": "stdout",
     "output_type": "stream",
     "text": [
      "Static couplings:-----------------------------------------------------------------------------------\n",
      "[['+-', [[0.5, 0, 1], [0.5, 1, 2], [0.5, 2, 3], [0.5, 3, 0]]], ['+-', [[0.5, 1, 0], [0.5, 2, 1], [0.5, 3, 2], [0.5, 0, 3]]], ['+-', [[1, 0, 0], [-1, 1, 1], [1, 2, 2], [-1, 3, 3]]], ['z', [[(2+0j), 0]]], ['zz', [[(4+0j), 0, 1]]], ['zzz', [[(-8+0j), 0, 1, 2]]], ['zzzz', [[(-16+0j), 0, 1, 2, 3]]]]\n",
      "----------------------------------------------------------------------------------------------------\n",
      "Hermiticity check passed!\n",
      "Symmetry checks passed!\n",
      "Particle conservation check passed!\n"
     ]
    },
    {
     "data": {
      "image/png": "[encoded data removed]",
      "text/plain": [
       "<Figure size 720x576 with 1 Axes>"
      ]
     },
     "metadata": {
      "needs_background": "light"
     },
     "output_type": "display_data"
    }
   ],
   "source": [
    "fermion_basis = spinless_fermion_basis_1d(L=N, Nf=N_filled)\n",
    "static_terms = []\n",
    "dynamic_terms = []\n",
    "\n",
    "### Hopping term\n",
    "L = (N if PBC else N-1)\n",
    "hop_coupling = [[-t, i, (i+1) % N] for i in range(L)]\n",
    "hop_coupling_dag = [[-t, (i+1) % N, i] for i in range(L)]\n",
    "static_terms += [[\"+-\", hop_coupling]]\n",
    "static_terms += [[\"+-\", hop_coupling_dag]]\n",
    "\n",
    "### Mass term\n",
    "mass_coupling = [[m * (-1) ** i, i, i] for i in range(N)]\n",
    "static_terms += [[\"+-\", mass_coupling]]\n",
    "\n",
    "### E-field term\n",
    "E_link_parity = lambda x : -1 if (x % 4) < 2 else 1\n",
    "for i in range(N):\n",
    "    E_coupling = [P_neg1 * -g * E_link_parity(i) * 2 ** (i+1)] + list(range(i+1))\n",
    "    static_terms += [[\"z\" * (i+1), [E_coupling]]]\n",
    "\n",
    "print(stringbox(static_terms, \"Static couplings:\"))\n",
    "### Plotting spectrum\n",
    "H = hamiltonian(static_terms, dynamic_terms, basis=fermion_basis, dtype=np.float64)\n",
    "fermion_eigvals = H.eigvalsh()\n",
    "plt.plot(fermion_eigvals, \".\")\n",
    "plt.show()"
   ]
  },
  {
   "cell_type": "markdown",
   "metadata": {},
   "source": [
    "## Comparison"
   ]
  },
  {
   "cell_type": "code",
   "execution_count": 6,
   "metadata": {
    "scrolled": true
   },
   "outputs": [
    {
     "name": "stdout",
     "output_type": "stream",
     "text": [
      "Fermion eigenvalues:--------------------------------------------------------------------------------\n",
      "[-6.20875976 -2.17253501 -2.         -1.83442686  1.6179029   2.59781873]\n",
      "----------------------------------------------------------------------------------------------------\n",
      "Spin eigenvalues:-----------------------------------------------------------------------------------\n",
      "[-2.4142139e+00 -4.1421366e-01 -2.8450222e-08 -1.7031356e-08\n",
      "  4.1421354e-01  2.4142146e+00]\n",
      "----------------------------------------------------------------------------------------------------\n",
      "Maximum difference between eigenvalues: 3.794545862593923\n"
     ]
    }
   ],
   "source": [
    "mdiff = max(abs(fermion_eigvals - spin_eigvals))\n",
    "print(stringbox(fermion_eigvals, \"Fermion eigenvalues:\"))\n",
    "print(stringbox(spin_eigvals, \"Spin eigenvalues:\"))\n",
    "print(\"Maximum difference between eigenvalues:\", mdiff)"
   ]
  }
 ],
 "metadata": {
  "kernelspec": {
   "display_name": "Python 3",
   "language": "python",
   "name": "python3"
  },
  "language_info": {
   "codemirror_mode": {
    "name": "ipython",
    "version": 3
   },
   "file_extension": ".py",
   "mimetype": "text/x-python",
   "name": "python",
   "nbconvert_exporter": "python",
   "pygments_lexer": "ipython3",
   "version": "3.7.4"
  }
 },
 "nbformat": 4,
 "nbformat_minor": 4
}
