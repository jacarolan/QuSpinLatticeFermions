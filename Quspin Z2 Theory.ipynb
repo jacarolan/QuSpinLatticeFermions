{
 "cells": [
  {
   "cell_type": "code",
   "execution_count": 1,
   "metadata": {},
   "outputs": [],
   "source": [
    "from __future__ import print_function, division\n",
    "import sys,os\n",
    "from quspin.operators import hamiltonian # Hamiltonians and operators\n",
    "from quspin.basis import spin_basis_1d # Hilbert space spin basis\n",
    "from quspin.basis import spinless_fermion_basis_1d # fermion basis for comparison\n",
    "import numpy as np # generic math functions\n",
    "import matplotlib.pyplot as plt\n",
    "import itertools\n",
    "plt.rcParams['figure.figsize'] = [10, 8] # changes default figure size in jupyter notebook"
   ]
  },
  {
   "cell_type": "markdown",
   "metadata": {},
   "source": [
    "## Coupling and option initialization"
   ]
  },
  {
   "cell_type": "code",
   "execution_count": 2,
   "metadata": {},
   "outputs": [],
   "source": [
    "N=6 # number of sites (NOT STAGGERED SITES!!)\n",
    "Pinit=1 # P_{-1}\n",
    "g = 1 # E-field coupling constant\n",
    "t = -.5 # coupling constant for hopping term\n",
    "m = 1 # mass\n",
    "\n",
    "half_filling = 1 # options: 1 for half filling, 0 for not half-filling\n",
    "single_filling = 0 # options: 1 for single-filling, 0 else\n",
    "\n",
    "PBC = 1 # options: 1 for periodic boundary conditions, 0 for fixed\n",
    "\n",
    "if(N//4 - N/4 == 0.0): # Checks if N is even for anti- or periodic boundary conditions\n",
    "    Neven = 1\n",
    "else:\n",
    "    Neven = 0"
   ]
  },
  {
   "cell_type": "code",
   "execution_count": 3,
   "metadata": {},
   "outputs": [],
   "source": [
    "def arrayn(n): ## returns an array of length n with values 0,...,n-1\n",
    "    return([i for i in range(n)])\n",
    "\n",
    "if(half_filling): # sets filling to N//2 if half filling is turned on, else it does not specify\n",
    "    basis1 = spin_basis_1d(N,pauli=-1,Nup=N//2)\n",
    "elif(single_filling):\n",
    "    basis1 = spin_basis_1d(N,pauli=-1,Nup=1)\n",
    "else:\n",
    "    basis1 = spin_basis_1d(N,pauli=-1)"
   ]
  },
  {
   "cell_type": "code",
   "execution_count": 4,
   "metadata": {},
   "outputs": [],
   "source": [
    "###### Hopping terms\n",
    "if(PBC):\n",
    "    \n",
    "    if(Neven): # Anti-Periodic\n",
    "        J12 = [[-t,i,(i+1)%N] for i in range(N-1)] # The final boundary term must be added with negative coupling\n",
    "        J13 = [[-t,(i+1)%N,i] for i in range(N-1)] \n",
    "        J12.append([t,N-1,0]) # The negatively-coupled (anti-periodic) final boundary terms\n",
    "        J13.append([t,0,N-1])\n",
    "    \n",
    "    else: # Periodic \n",
    "        J12 = [[-t,i,(i+1)%N] for i in range(N)] # the %N and range increased by 1 adds the final boundary term making it periodic\n",
    "        J13=[[-t,(i+1)%N,i] for i in range(N)]\n",
    "    \n",
    "else: # Fixed boundary conditions\n",
    "    J12 = [[-t,i,i+1] for i in range(N-1)] # we need to append \"+-\" for signs of sigmas\n",
    "    J13=[[-t,i+1,i] for i in range(N-1)] # append \"+-\" for signs of sigmas, i+1,i since this is h.c. term\n",
    "\n",
    "###### mass term (unchanged by PBC)\n",
    "J14 = [[m*(-1.0)**i,i,i] for i in range(N)] # append  \"+-\" for signs of sigmas"
   ]
  },
  {
   "cell_type": "code",
   "execution_count": 5,
   "metadata": {},
   "outputs": [],
   "source": [
    "staticpart1=[[\"+-\",J14],[\"+-\",J12],[\"+-\",J13]] # Defining static and dynamic parts of H and filling with hopping and mass terms\n",
    "dynamicpart1=[]"
   ]
  },
  {
   "cell_type": "code",
   "execution_count": 6,
   "metadata": {},
   "outputs": [],
   "source": [
    "###### E-field interaction term\n",
    "\n",
    "zstring = \"z\"\n",
    "def upperindices(n): # Creating a function to make the right length string of \"z\"\n",
    "    a = \"\"\n",
    "    for i in range(n):\n",
    "        a = a + zstring\n",
    "    return(a)\n",
    "\n",
    "def summandJ1(n): # Creating a function to generate coupling lists for the E-field product term\n",
    "    indices=[i for i in range(n+1)]\n",
    "    indices.insert(0,-Pinit*g*(-1.0)**(n*(n+1.0)*.5)*(-1.0)**(n+1.0))\n",
    "    indices=[upperindices(n+1),[indices]]\n",
    "    return(indices)\n",
    "\n",
    "for i in range(0,N): # Piecemeal inserting the E-field product term into the hamiltonian\n",
    "        staticpart1.insert(0,summandJ1(int(i)))"
   ]
  },
  {
   "cell_type": "code",
   "execution_count": 7,
   "metadata": {},
   "outputs": [
    {
     "name": "stdout",
     "output_type": "stream",
     "text": [
      "Hermiticity check passed!\n",
      "Symmetry checks passed!\n",
      "Particle conservation check passed!\n",
      "Static couplings spin: [['zzzzzz', [[1.0, 0, 1, 2, 3, 4, 5]]], ['zzzzz', [[1.0, 0, 1, 2, 3, 4]]], ['zzzz', [[-1.0, 0, 1, 2, 3]]], ['zzz', [[-1.0, 0, 1, 2]]], ['zz', [[1.0, 0, 1]]], ['z', [[1.0, 0]]], ['+-', [[1.0, 0, 0], [-1.0, 1, 1], [1.0, 2, 2], [-1.0, 3, 3], [1.0, 4, 4], [-1.0, 5, 5]]], ['+-', [[0.5, 0, 1], [0.5, 1, 2], [0.5, 2, 3], [0.5, 3, 4], [0.5, 4, 5], [0.5, 5, 0]]], ['+-', [[0.5, 1, 0], [0.5, 2, 1], [0.5, 3, 2], [0.5, 4, 3], [0.5, 5, 4], [0.5, 0, 5]]]]\n",
      "# of eigenvalues: 20\n"
     ]
    },
    {
     "data": {
      "image/png": "[encoded data removed]",
      "text/plain": [
       "<Figure size 720x576 with 1 Axes>"
      ]
     },
     "metadata": {
      "needs_background": "light"
     },
     "output_type": "display_data"
    }
   ],
   "source": [
    "H1 = hamiltonian(staticpart1,dynamicpart1,basis=basis1,dtype=np.float64) # Creating the hamiltonian with proper basis\n",
    "\n",
    "eigenvalues1 = H1.eigvalsh() # Getting and plotting eigenvalues\n",
    "plt.plot(eigenvalues1,'+')\n",
    "\n",
    "print(\"Static couplings spin:\", staticpart1)\n",
    "\n",
    "print(\"# of eigenvalues: \" + str(len(eigenvalues1))) # Printing number of eigenvalues for comparison\n",
    "#x=np.linspace(0,50,500)\n",
    "#plt.plot(x,np.sqrt(1+np.sin(2*np.pi*(x-25.0)/100.0)**2))"
   ]
  },
  {
   "cell_type": "markdown",
   "metadata": {},
   "source": [
    "Note: Disagrees with Niklas's code for PBC = 1 and N is EVEN"
   ]
  },
  {
   "cell_type": "markdown",
   "metadata": {},
   "source": [
    "## Do it again with Fermion basis to test"
   ]
  },
  {
   "cell_type": "code",
   "execution_count": 8,
   "metadata": {},
   "outputs": [],
   "source": [
    "# Define basis\n",
    "if(half_filling): # sets filling to N//2 if half filling is turned on, else it does not specify\n",
    "    basis = spinless_fermion_basis_1d (L=N,Nf=N//2)\n",
    "elif(single_filling):\n",
    "    basis = spinless_fermion_basis_1d (L=N,Nf=1)\n",
    "else:\n",
    "    basis = spinless_fermion_basis_1d (L=N)\n",
    "\n",
    "###### Hopping terms\n",
    "if(PBC):\n",
    "    \n",
    "    J2 = [[-t,i,(i+1)%N] for i in range(N)] # fermionic basis in quspin gets rid of need for manual anti-periodicity adjustment\n",
    "    J3=[[-t,(i+1)%N,i] for i in range(N)]\n",
    "    \n",
    "else: # Fixed boundary conditions\n",
    "    J2 = [[-t,i,i+1] for i in range(N-1)] # we need to append \"+-\" for daggers of psis\n",
    "    J3=[[-t,i+1,i] for i in range(N-1)] # append \"+-\" for daggers of psis, i+1,i since this is h.c. term\n",
    "\n",
    "###### mass term (unchanged by PBC)\n",
    "J4 = [[m*(-1.0)**i,i,i] for i in range(N)] # append  \"+-\" for daggers of psis"
   ]
  },
  {
   "cell_type": "code",
   "execution_count": 9,
   "metadata": {},
   "outputs": [],
   "source": [
    "staticpart=[[\"+-\",J4],[\"+-\",J2],[\"+-\",J3]] # Defining static and dynamic parts of H and filling with hopping and mass terms\n",
    "dynamicpart=[]"
   ]
  },
  {
   "cell_type": "code",
   "execution_count": 10,
   "metadata": {},
   "outputs": [],
   "source": [
    "###### E-field interaction term\n",
    "\n",
    "zstring = \"z\"\n",
    "def upperindices(n): # Creating a function to make the right length string of \"z\"\n",
    "    a = \"\"\n",
    "    for i in range(n):\n",
    "        a = a + zstring\n",
    "    return(a)\n",
    "\n",
    "def summandJ(n): # Creating a function to generate coupling lists for the E-field product term\n",
    "    indices=[i for i in range(n+1)]\n",
    "    indices.insert(0,-Pinit*g*(-1.0)**(n*(n+1.0)*.5)*(-2.0)**(n+1.0)) # The extra -2^n is due to the fermion basis \"z\" defn.\n",
    "    indices=[upperindices(n+1),[indices]]\n",
    "    return(indices)\n",
    "\n",
    "for i in range(N): # Piecemeal inserting the E-field product term into the hamiltonian\n",
    "        staticpart.insert(0,summandJ(int(i)))"
   ]
  },
  {
   "cell_type": "code",
   "execution_count": 11,
   "metadata": {
    "scrolled": false
   },
   "outputs": [
    {
     "name": "stdout",
     "output_type": "stream",
     "text": [
      "Hermiticity check passed!\n",
      "Symmetry checks passed!\n",
      "Particle conservation check passed!\n",
      "Static couplings fermion: [['zzzzzz', [[64.0, 0, 1, 2, 3, 4, 5]]], ['zzzzz', [[32.0, 0, 1, 2, 3, 4]]], ['zzzz', [[-16.0, 0, 1, 2, 3]]], ['zzz', [[-8.0, 0, 1, 2]]], ['zz', [[4.0, 0, 1]]], ['z', [[2.0, 0]]], ['+-', [[1.0, 0, 0], [-1.0, 1, 1], [1.0, 2, 2], [-1.0, 3, 3], [1.0, 4, 4], [-1.0, 5, 5]]], ['+-', [[0.5, 0, 1], [0.5, 1, 2], [0.5, 2, 3], [0.5, 3, 4], [0.5, 4, 5], [0.5, 5, 0]]], ['+-', [[0.5, 1, 0], [0.5, 2, 1], [0.5, 3, 2], [0.5, 4, 3], [0.5, 5, 4], [0.5, 0, 5]]]]\n",
      "# of eigenvalues: 20\n"
     ]
    },
    {
     "data": {
      "image/png": "[encoded data removed]",
      "text/plain": [
       "<Figure size 576x576 with 1 Axes>"
      ]
     },
     "metadata": {
      "needs_background": "light"
     },
     "output_type": "display_data"
    }
   ],
   "source": [
    "H = hamiltonian(staticpart,dynamicpart,basis=basis,dtype=np.float64) # Creating the hamiltonian with proper basis\n",
    "\n",
    "eigenvalues = H.eigvalsh() # Getting and plotting eigenvalues0\n",
    "f = plt.figure(figsize=(8,8))\n",
    "\n",
    "print(\"Static couplings fermion:\", staticpart)\n",
    "\n",
    "ax = plt.subplot(111)\n",
    "\n",
    "ax.plot(eigenvalues,'o')\n",
    "ax.plot(eigenvalues1,'+')\n",
    "\n",
    "\n",
    "print(\"# of eigenvalues: \" + str(len(eigenvalues))) # Printing number of eigenvalues for comparison"
   ]
  },
  {
   "cell_type": "markdown",
   "metadata": {},
   "source": [
    "Note: Agreeing! :) "
   ]
  },
  {
   "cell_type": "code",
   "execution_count": 12,
   "metadata": {},
   "outputs": [
    {
     "name": "stdout",
     "output_type": "stream",
     "text": [
      "Eigenvalues:\n",
      " [-9.32128005 -5.20004173 -5.16809514 -5.11233798 -5.04460842 -5.00188954\n",
      " -1.69859487 -1.50002778 -1.5        -0.88483415 -0.88044086 -0.87996231\n",
      " -0.5        -0.49975575 -0.29605718  2.03101119  2.77659798  3.09314442\n",
      "  3.42525622  4.16191592]\n"
     ]
    }
   ],
   "source": [
    "print(\"Eigenvalues:\\n\", eigenvalues1)"
   ]
  }
 ],
 "metadata": {
  "kernelspec": {
   "display_name": "Python 3",
   "language": "python",
   "name": "python3"
  },
  "language_info": {
   "codemirror_mode": {
    "name": "ipython",
    "version": 3
   },
   "file_extension": ".py",
   "mimetype": "text/x-python",
   "name": "python",
   "nbconvert_exporter": "python",
   "pygments_lexer": "ipython3",
   "version": "3.7.4"
  }
 },
 "nbformat": 4,
 "nbformat_minor": 2
}
